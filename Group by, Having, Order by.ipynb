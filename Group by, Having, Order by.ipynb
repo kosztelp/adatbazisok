{
    "metadata": {
        "kernelspec": {
            "name": "SQL",
            "display_name": "SQL",
            "language": "sql"
        },
        "language_info": {
            "name": "sql",
            "version": ""
        }
    },
    "nbformat_minor": 2,
    "nbformat": 4,
    "cells": [
        {
            "cell_type": "code",
            "source": [
                "SELECT ki_datum AS 'dátum', COUNT(ID) AS 'kölcsönzések száma'\r\n",
                "FROM kolcsonzesek\r\n",
                "GROUP BY ki_datum\r\n",
                "ORDER BY ki_datum DESC -- ASC növekvő "
            ],
            "metadata": {
                "azdata_cell_guid": "99b66ef7-9c79-4392-b859-55bcab48b578",
                "language": "sql"
            },
            "outputs": [
                {
                    "output_type": "display_data",
                    "data": {
                        "text/html": "(3 rows affected)"
                    },
                    "metadata": {}
                },
                {
                    "output_type": "display_data",
                    "data": {
                        "text/html": "Total execution time: 00:00:00.010"
                    },
                    "metadata": {}
                },
                {
                    "output_type": "execute_result",
                    "execution_count": 3,
                    "data": {
                        "application/vnd.dataresource+json": {
                            "schema": {
                                "fields": [
                                    {
                                        "name": "dátum"
                                    },
                                    {
                                        "name": "kölcsönzések száma"
                                    }
                                ]
                            },
                            "data": [
                                {
                                    "dátum": "2006-10-02",
                                    "kölcsönzések száma": "1"
                                },
                                {
                                    "dátum": "2006-10-01",
                                    "kölcsönzések száma": "1"
                                },
                                {
                                    "dátum": "2003-12-11",
                                    "kölcsönzések száma": "3"
                                }
                            ]
                        },
                        "text/html": "<table><tr><th>dátum</th><th>kölcsönzések száma</th></tr><tr><td>2006-10-02</td><td>1</td></tr><tr><td>2006-10-01</td><td>1</td></tr><tr><td>2003-12-11</td><td>3</td></tr></table>"
                    },
                    "metadata": {}
                }
            ],
            "execution_count": 3
        },
        {
            "cell_type": "code",
            "source": [
                "SELECT stilus, AVG(nettoar) AS 'átlagos ár' -- atlagos ár\r\n",
                "FROM dvd\r\n",
                "GROUP BY stilus\r\n",
                "HAVING AVG(nettoar) > 4500\r\n",
                "ORDER BY [átlagos ár] DESC"
            ],
            "metadata": {
                "azdata_cell_guid": "31a49cc9-ecc0-486f-b756-1bafc6072f5d",
                "language": "sql"
            },
            "outputs": [
                {
                    "output_type": "display_data",
                    "data": {
                        "text/html": "(30 rows affected)"
                    },
                    "metadata": {}
                },
                {
                    "output_type": "display_data",
                    "data": {
                        "text/html": "Total execution time: 00:00:00.014"
                    },
                    "metadata": {}
                },
                {
                    "output_type": "execute_result",
                    "execution_count": 7,
                    "data": {
                        "application/vnd.dataresource+json": {
                            "schema": {
                                "fields": [
                                    {
                                        "name": "stilus"
                                    },
                                    {
                                        "name": "átlagos ár"
                                    }
                                ]
                            },
                            "data": [
                                {
                                    "stilus": "ásványtan",
                                    "átlagos ár": "5624"
                                },
                                {
                                    "stilus": "játék (rodeó)",
                                    "átlagos ár": "5591"
                                },
                                {
                                    "stilus": "humor",
                                    "átlagos ár": "5573"
                                },
                                {
                                    "stilus": "környezetvédelem",
                                    "átlagos ár": "5508"
                                },
                                {
                                    "stilus": "kresz",
                                    "átlagos ár": "5476"
                                },
                                {
                                    "stilus": "játék (jégkorong)",
                                    "átlagos ár": "5242"
                                },
                                {
                                    "stilus": "színház",
                                    "átlagos ár": "5158"
                                },
                                {
                                    "stilus": "múvészet",
                                    "átlagos ár": "5118"
                                },
                                {
                                    "stilus": "kémia",
                                    "átlagos ár": "5094"
                                },
                                {
                                    "stilus": "fordító program",
                                    "átlagos ár": "5036"
                                },
                                {
                                    "stilus": "kerttervező",
                                    "átlagos ár": "4951"
                                },
                                {
                                    "stilus": "művészet",
                                    "átlagos ár": "4939,25"
                                },
                                {
                                    "stilus": "festészet",
                                    "átlagos ár": "4901"
                                },
                                {
                                    "stilus": "zene",
                                    "átlagos ár": "4855,333333333333"
                                },
                                {
                                    "stilus": "játék",
                                    "átlagos ár": "4850,466666666666"
                                },
                                {
                                    "stilus": "játék (labdarúgás)",
                                    "átlagos ár": "4817,333333333333"
                                },
                                {
                                    "stilus": "állattan",
                                    "átlagos ár": "4783,666666666667"
                                },
                                {
                                    "stilus": "nyelvtan",
                                    "átlagos ár": "4770,666666666667"
                                },
                                {
                                    "stilus": "fizika",
                                    "átlagos ár": "4769"
                                },
                                {
                                    "stilus": "nyelvtanító",
                                    "átlagos ár": "4759,476190476191"
                                },
                                {
                                    "stilus": "csillagászat",
                                    "átlagos ár": "4733,571428571428"
                                },
                                {
                                    "stilus": "ismeretterjesztő",
                                    "átlagos ár": "4726,673913043478"
                                },
                                {
                                    "stilus": "irodalom, nyelv",
                                    "átlagos ár": "4704"
                                },
                                {
                                    "stilus": "gasztronómia",
                                    "átlagos ár": "4691"
                                },
                                {
                                    "stilus": "történelem",
                                    "átlagos ár": "4655,731707317073"
                                },
                                {
                                    "stilus": "szótár",
                                    "átlagos ár": "4624,428571428572"
                                },
                                {
                                    "stilus": "sport",
                                    "átlagos ár": "4607"
                                },
                                {
                                    "stilus": "földrajz",
                                    "átlagos ár": "4580,0625"
                                },
                                {
                                    "stilus": "matematika",
                                    "átlagos ár": "4520,777777777777"
                                },
                                {
                                    "stilus": "felvételi",
                                    "átlagos ár": "4501,333333333333"
                                }
                            ]
                        },
                        "text/html": "<table><tr><th>stilus</th><th>átlagos ár</th></tr><tr><td>ásványtan</td><td>5624</td></tr><tr><td>játék (rodeó)</td><td>5591</td></tr><tr><td>humor</td><td>5573</td></tr><tr><td>környezetvédelem</td><td>5508</td></tr><tr><td>kresz</td><td>5476</td></tr><tr><td>játék (jégkorong)</td><td>5242</td></tr><tr><td>színház</td><td>5158</td></tr><tr><td>múvészet</td><td>5118</td></tr><tr><td>kémia</td><td>5094</td></tr><tr><td>fordító program</td><td>5036</td></tr><tr><td>kerttervező</td><td>4951</td></tr><tr><td>művészet</td><td>4939,25</td></tr><tr><td>festészet</td><td>4901</td></tr><tr><td>zene</td><td>4855,333333333333</td></tr><tr><td>játék</td><td>4850,466666666666</td></tr><tr><td>játék (labdarúgás)</td><td>4817,333333333333</td></tr><tr><td>állattan</td><td>4783,666666666667</td></tr><tr><td>nyelvtan</td><td>4770,666666666667</td></tr><tr><td>fizika</td><td>4769</td></tr><tr><td>nyelvtanító</td><td>4759,476190476191</td></tr><tr><td>csillagászat</td><td>4733,571428571428</td></tr><tr><td>ismeretterjesztő</td><td>4726,673913043478</td></tr><tr><td>irodalom, nyelv</td><td>4704</td></tr><tr><td>gasztronómia</td><td>4691</td></tr><tr><td>történelem</td><td>4655,731707317073</td></tr><tr><td>szótár</td><td>4624,428571428572</td></tr><tr><td>sport</td><td>4607</td></tr><tr><td>földrajz</td><td>4580,0625</td></tr><tr><td>matematika</td><td>4520,777777777777</td></tr><tr><td>felvételi</td><td>4501,333333333333</td></tr></table>"
                    },
                    "metadata": {}
                }
            ],
            "execution_count": 7
        },
        {
            "cell_type": "code",
            "source": [
                "SELECT terem, COUNT(ora_id) AS 'órák száma'\r\n",
                "    -- órák száma COUNT()\r\n",
                "    -- COUNT(*) >= 3\r\n",
                "FROM Orak\r\n",
                "GROUP BY terem\r\n",
                "HAVING COUNT(ora_id) >= 3"
            ],
            "metadata": {
                "azdata_cell_guid": "b05a8709-a3a2-4b2e-af8b-fc923c898396",
                "language": "sql"
            },
            "outputs": [
                {
                    "output_type": "display_data",
                    "data": {
                        "text/html": "(11 rows affected)"
                    },
                    "metadata": {}
                },
                {
                    "output_type": "display_data",
                    "data": {
                        "text/html": "Total execution time: 00:00:00.005"
                    },
                    "metadata": {}
                },
                {
                    "output_type": "execute_result",
                    "metadata": {},
                    "execution_count": 3,
                    "data": {
                        "application/vnd.dataresource+json": {
                            "schema": {
                                "fields": [
                                    {
                                        "name": "terem"
                                    },
                                    {
                                        "name": "órák száma"
                                    }
                                ]
                            },
                            "data": [
                                {
                                    "terem": "2",
                                    "órák száma": "5"
                                },
                                {
                                    "terem": "3",
                                    "órák száma": "11"
                                },
                                {
                                    "terem": "4",
                                    "órák száma": "8"
                                },
                                {
                                    "terem": "5",
                                    "órák száma": "5"
                                },
                                {
                                    "terem": "6",
                                    "órák száma": "6"
                                },
                                {
                                    "terem": "7",
                                    "órák száma": "6"
                                },
                                {
                                    "terem": "8",
                                    "órák száma": "6"
                                },
                                {
                                    "terem": "10",
                                    "órák száma": "3"
                                },
                                {
                                    "terem": "12",
                                    "órák száma": "3"
                                },
                                {
                                    "terem": "13",
                                    "órák száma": "5"
                                },
                                {
                                    "terem": "14",
                                    "órák száma": "3"
                                }
                            ]
                        },
                        "text/html": [
                            "<table>",
                            "<tr><th>terem</th><th>órák száma</th></tr>",
                            "<tr><td>2</td><td>5</td></tr>",
                            "<tr><td>3</td><td>11</td></tr>",
                            "<tr><td>4</td><td>8</td></tr>",
                            "<tr><td>5</td><td>5</td></tr>",
                            "<tr><td>6</td><td>6</td></tr>",
                            "<tr><td>7</td><td>6</td></tr>",
                            "<tr><td>8</td><td>6</td></tr>",
                            "<tr><td>10</td><td>3</td></tr>",
                            "<tr><td>12</td><td>3</td></tr>",
                            "<tr><td>13</td><td>5</td></tr>",
                            "<tr><td>14</td><td>3</td></tr>",
                            "</table>"
                        ]
                    }
                }
            ],
            "execution_count": 3
        },
        {
            "cell_type": "code",
            "source": [
                "SELECT o.ora_id, okt.nev, t.Tantárgynév, tm.Terem, s.Időpont\r\n",
                "FROM Orak o\r\n",
                "JOIN Oktatok okt ON o.tanar = okt.oktato_id \r\n",
                "JOIN Tantárgyak t ON o.targy = t.Tkód \r\n",
                "JOIN Termek tm ON o.terem = tm.Tkód\r\n",
                "JOIN Savok s ON o.Sav = s.Sav_id\r\n",
                "-- INNER JOIN"
            ],
            "metadata": {
                "azdata_cell_guid": "62599f92-d16c-4096-b646-5223b387cedc",
                "language": "sql",
                "tags": []
            },
            "outputs": [
                {
                    "output_type": "display_data",
                    "data": {
                        "text/html": "(67 rows affected)"
                    },
                    "metadata": {}
                },
                {
                    "output_type": "display_data",
                    "data": {
                        "text/html": "Total execution time: 00:00:00.021"
                    },
                    "metadata": {}
                },
                {
                    "output_type": "execute_result",
                    "metadata": {},
                    "execution_count": 5,
                    "data": {
                        "application/vnd.dataresource+json": {
                            "schema": {
                                "fields": [
                                    {
                                        "name": "ora_id"
                                    },
                                    {
                                        "name": "nev"
                                    }
                                ]
                            },
                            "data": [
                                {
                                    "ora_id": "159",
                                    "nev": "Ujfalussi István"
                                },
                                {
                                    "ora_id": "160",
                                    "nev": "Pelikán József"
                                },
                                {
                                    "ora_id": "161",
                                    "nev": "Pelikán József"
                                },
                                {
                                    "ora_id": "162",
                                    "nev": "Kovács András"
                                },
                                {
                                    "ora_id": "163",
                                    "nev": "Szerb László"
                                },
                                {
                                    "ora_id": "164",
                                    "nev": "Kiss János"
                                },
                                {
                                    "ora_id": "165",
                                    "nev": "Szerb László"
                                },
                                {
                                    "ora_id": "166",
                                    "nev": "Szerb László"
                                },
                                {
                                    "ora_id": "167",
                                    "nev": "Szentágotai Istvás"
                                },
                                {
                                    "ora_id": "168",
                                    "nev": "Ujfalussi István"
                                },
                                {
                                    "ora_id": "169",
                                    "nev": "Kovács András"
                                },
                                {
                                    "ora_id": "170",
                                    "nev": "Ludas Mátyás"
                                },
                                {
                                    "ora_id": "171",
                                    "nev": "Szénási ászló"
                                },
                                {
                                    "ora_id": "172",
                                    "nev": "Kiss János"
                                },
                                {
                                    "ora_id": "173",
                                    "nev": "Kovács András"
                                },
                                {
                                    "ora_id": "174",
                                    "nev": "Ludas Mátyás"
                                },
                                {
                                    "ora_id": "175",
                                    "nev": "Szénási ászló"
                                },
                                {
                                    "ora_id": "176",
                                    "nev": "Kovács András"
                                },
                                {
                                    "ora_id": "177",
                                    "nev": "Szentágotai Istvás"
                                },
                                {
                                    "ora_id": "178",
                                    "nev": "Vitéz János"
                                },
                                {
                                    "ora_id": "179",
                                    "nev": "Szentágotai Istvás"
                                },
                                {
                                    "ora_id": "180",
                                    "nev": "Vitéz János"
                                },
                                {
                                    "ora_id": "181",
                                    "nev": "Szentágotai Istvás"
                                },
                                {
                                    "ora_id": "182",
                                    "nev": "Vitéz János"
                                },
                                {
                                    "ora_id": "183",
                                    "nev": "Szentágotai Istvás"
                                },
                                {
                                    "ora_id": "184",
                                    "nev": "Vitéz János"
                                },
                                {
                                    "ora_id": "185",
                                    "nev": "Szentágotai Istvás"
                                },
                                {
                                    "ora_id": "186",
                                    "nev": "Nógrádi Kata"
                                },
                                {
                                    "ora_id": "187",
                                    "nev": "Balkán András"
                                },
                                {
                                    "ora_id": "188",
                                    "nev": "Farkasos Piroska"
                                },
                                {
                                    "ora_id": "189",
                                    "nev": "Farkasos Piroska"
                                },
                                {
                                    "ora_id": "190",
                                    "nev": "Farkasos Piroska"
                                },
                                {
                                    "ora_id": "191",
                                    "nev": "Varga Kata"
                                },
                                {
                                    "ora_id": "192",
                                    "nev": "Varga Kata"
                                },
                                {
                                    "ora_id": "193",
                                    "nev": "Farkasos Piroska"
                                },
                                {
                                    "ora_id": "194",
                                    "nev": "Farkasos Piroska"
                                },
                                {
                                    "ora_id": "195",
                                    "nev": "Balkán András"
                                },
                                {
                                    "ora_id": "196",
                                    "nev": "Balkán András"
                                },
                                {
                                    "ora_id": "197",
                                    "nev": "Farkasos Piroska"
                                },
                                {
                                    "ora_id": "198",
                                    "nev": "Farkasos Piroska"
                                },
                                {
                                    "ora_id": "199",
                                    "nev": "Szabó Andrera"
                                },
                                {
                                    "ora_id": "200",
                                    "nev": "Szabó Andrera"
                                },
                                {
                                    "ora_id": "201",
                                    "nev": "Juhász András"
                                },
                                {
                                    "ora_id": "202",
                                    "nev": "Juhász András"
                                },
                                {
                                    "ora_id": "203",
                                    "nev": "Aranyi Mária"
                                },
                                {
                                    "ora_id": "204",
                                    "nev": "Róbert Gida"
                                },
                                {
                                    "ora_id": "205",
                                    "nev": "Ujfalussi István"
                                },
                                {
                                    "ora_id": "206",
                                    "nev": "Varga Kata"
                                },
                                {
                                    "ora_id": "207",
                                    "nev": "Varga Kata"
                                },
                                {
                                    "ora_id": "208",
                                    "nev": "Jogrerős Pál"
                                },
                                {
                                    "ora_id": "209",
                                    "nev": "Jogrerős Pál"
                                },
                                {
                                    "ora_id": "210",
                                    "nev": "Szép llonka"
                                },
                                {
                                    "ora_id": "211",
                                    "nev": "Szép llonka"
                                },
                                {
                                    "ora_id": "212",
                                    "nev": "Kiss János"
                                },
                                {
                                    "ora_id": "213",
                                    "nev": "Kiss János"
                                },
                                {
                                    "ora_id": "214",
                                    "nev": "Pelikán József"
                                },
                                {
                                    "ora_id": "215",
                                    "nev": "Pelikán József"
                                },
                                {
                                    "ora_id": "216",
                                    "nev": "Szép llonka"
                                },
                                {
                                    "ora_id": "217",
                                    "nev": "Szép llonka"
                                },
                                {
                                    "ora_id": "218",
                                    "nev": "Pelikán József"
                                },
                                {
                                    "ora_id": "219",
                                    "nev": "Pelikán József"
                                },
                                {
                                    "ora_id": "220",
                                    "nev": "Kovács László"
                                },
                                {
                                    "ora_id": "221",
                                    "nev": "Kovács László"
                                },
                                {
                                    "ora_id": "222",
                                    "nev": "Kovács László"
                                },
                                {
                                    "ora_id": "223",
                                    "nev": "Kovács László"
                                },
                                {
                                    "ora_id": "226",
                                    "nev": "Szentágotai Istvás"
                                },
                                {
                                    "ora_id": "227",
                                    "nev": "Szentágotai Istvás"
                                }
                            ]
                        },
                        "text/html": [
                            "<table>",
                            "<tr><th>ora_id</th><th>nev</th></tr>",
                            "<tr><td>159</td><td>Ujfalussi István</td></tr>",
                            "<tr><td>160</td><td>Pelikán József</td></tr>",
                            "<tr><td>161</td><td>Pelikán József</td></tr>",
                            "<tr><td>162</td><td>Kovács András</td></tr>",
                            "<tr><td>163</td><td>Szerb László</td></tr>",
                            "<tr><td>164</td><td>Kiss János</td></tr>",
                            "<tr><td>165</td><td>Szerb László</td></tr>",
                            "<tr><td>166</td><td>Szerb László</td></tr>",
                            "<tr><td>167</td><td>Szentágotai Istvás</td></tr>",
                            "<tr><td>168</td><td>Ujfalussi István</td></tr>",
                            "<tr><td>169</td><td>Kovács András</td></tr>",
                            "<tr><td>170</td><td>Ludas Mátyás</td></tr>",
                            "<tr><td>171</td><td>Szénási ászló</td></tr>",
                            "<tr><td>172</td><td>Kiss János</td></tr>",
                            "<tr><td>173</td><td>Kovács András</td></tr>",
                            "<tr><td>174</td><td>Ludas Mátyás</td></tr>",
                            "<tr><td>175</td><td>Szénási ászló</td></tr>",
                            "<tr><td>176</td><td>Kovács András</td></tr>",
                            "<tr><td>177</td><td>Szentágotai Istvás</td></tr>",
                            "<tr><td>178</td><td>Vitéz János</td></tr>",
                            "<tr><td>179</td><td>Szentágotai Istvás</td></tr>",
                            "<tr><td>180</td><td>Vitéz János</td></tr>",
                            "<tr><td>181</td><td>Szentágotai Istvás</td></tr>",
                            "<tr><td>182</td><td>Vitéz János</td></tr>",
                            "<tr><td>183</td><td>Szentágotai Istvás</td></tr>",
                            "<tr><td>184</td><td>Vitéz János</td></tr>",
                            "<tr><td>185</td><td>Szentágotai Istvás</td></tr>",
                            "<tr><td>186</td><td>Nógrádi Kata</td></tr>",
                            "<tr><td>187</td><td>Balkán András</td></tr>",
                            "<tr><td>188</td><td>Farkasos Piroska</td></tr>",
                            "<tr><td>189</td><td>Farkasos Piroska</td></tr>",
                            "<tr><td>190</td><td>Farkasos Piroska</td></tr>",
                            "<tr><td>191</td><td>Varga Kata</td></tr>",
                            "<tr><td>192</td><td>Varga Kata</td></tr>",
                            "<tr><td>193</td><td>Farkasos Piroska</td></tr>",
                            "<tr><td>194</td><td>Farkasos Piroska</td></tr>",
                            "<tr><td>195</td><td>Balkán András</td></tr>",
                            "<tr><td>196</td><td>Balkán András</td></tr>",
                            "<tr><td>197</td><td>Farkasos Piroska</td></tr>",
                            "<tr><td>198</td><td>Farkasos Piroska</td></tr>",
                            "<tr><td>199</td><td>Szabó Andrera</td></tr>",
                            "<tr><td>200</td><td>Szabó Andrera</td></tr>",
                            "<tr><td>201</td><td>Juhász András</td></tr>",
                            "<tr><td>202</td><td>Juhász András</td></tr>",
                            "<tr><td>203</td><td>Aranyi Mária</td></tr>",
                            "<tr><td>204</td><td>Róbert Gida</td></tr>",
                            "<tr><td>205</td><td>Ujfalussi István</td></tr>",
                            "<tr><td>206</td><td>Varga Kata</td></tr>",
                            "<tr><td>207</td><td>Varga Kata</td></tr>",
                            "<tr><td>208</td><td>Jogrerős Pál</td></tr>",
                            "<tr><td>209</td><td>Jogrerős Pál</td></tr>",
                            "<tr><td>210</td><td>Szép llonka</td></tr>",
                            "<tr><td>211</td><td>Szép llonka</td></tr>",
                            "<tr><td>212</td><td>Kiss János</td></tr>",
                            "<tr><td>213</td><td>Kiss János</td></tr>",
                            "<tr><td>214</td><td>Pelikán József</td></tr>",
                            "<tr><td>215</td><td>Pelikán József</td></tr>",
                            "<tr><td>216</td><td>Szép llonka</td></tr>",
                            "<tr><td>217</td><td>Szép llonka</td></tr>",
                            "<tr><td>218</td><td>Pelikán József</td></tr>",
                            "<tr><td>219</td><td>Pelikán József</td></tr>",
                            "<tr><td>220</td><td>Kovács László</td></tr>",
                            "<tr><td>221</td><td>Kovács László</td></tr>",
                            "<tr><td>222</td><td>Kovács László</td></tr>",
                            "<tr><td>223</td><td>Kovács László</td></tr>",
                            "<tr><td>226</td><td>Szentágotai Istvás</td></tr>",
                            "<tr><td>227</td><td>Szentágotai Istvás</td></tr>",
                            "</table>"
                        ]
                    }
                }
            ],
            "execution_count": 5
        },
        {
            "cell_type": "code",
            "source": [
                "SELECT IIF(okt.titulus ='Dr.', 'doktor', 'nem doktor'), \r\n",
                "    COUNT(*)\r\n",
                "FROM Orak o \r\n",
                "JOIN Oktatok okt ON o.tanar = okt.oktato_id\r\n",
                "GROUP BY IIF(okt.titulus ='Dr.', 'doktor', 'nem doktor')"
            ],
            "metadata": {
                "azdata_cell_guid": "4a9a5f9d-a286-4cdd-bf9d-1e14f9a9c10d",
                "language": "sql"
            },
            "outputs": [
                {
                    "output_type": "display_data",
                    "data": {
                        "text/html": "(2 rows affected)"
                    },
                    "metadata": {}
                },
                {
                    "output_type": "display_data",
                    "data": {
                        "text/html": "Total execution time: 00:00:00.028"
                    },
                    "metadata": {}
                },
                {
                    "output_type": "execute_result",
                    "metadata": {},
                    "execution_count": 7,
                    "data": {
                        "application/vnd.dataresource+json": {
                            "schema": {
                                "fields": [
                                    {
                                        "name": "(No column name)"
                                    },
                                    {
                                        "name": "(No column name)"
                                    }
                                ]
                            },
                            "data": [
                                {
                                    "(No column name)": "25"
                                },
                                {
                                    "(No column name)": "42"
                                }
                            ]
                        },
                        "text/html": [
                            "<table>",
                            "<tr><th>(No column name)</th><th>(No column name)</th></tr>",
                            "<tr><td>doktor</td><td>25</td></tr>",
                            "<tr><td>nem doktor</td><td>42</td></tr>",
                            "</table>"
                        ]
                    }
                }
            ],
            "execution_count": 7
        }
    ]
}