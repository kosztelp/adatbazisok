{
    "cells": [
        {
            "cell_type": "code",
            "execution_count": 21,
            "metadata": {
                "azdata_cell_guid": "e19da10c-a682-4dbb-8357-4fea70c8d0a0",
                "language": "sql",
                "vscode": {
                    "languageId": "sql"
                }
            },
            "outputs": [
                {
                    "data": {
                        "text/html": [
                            "Warning: Null value is eliminated by an aggregate or other SET operation."
                        ]
                    },
                    "metadata": {},
                    "output_type": "display_data"
                },
                {
                    "data": {
                        "text/html": [
                            "(142 rows affected)"
                        ]
                    },
                    "metadata": {},
                    "output_type": "display_data"
                },
                {
                    "data": {
                        "text/html": [
                            "Total execution time: 00:00:00.138"
                        ]
                    },
                    "metadata": {},
                    "output_type": "display_data"
                },
                {
                    "data": {
                        "application/vnd.dataresource+json": {
                            "data": [
                                {
                                    "KAT_NEV": "könyv",
                                    "Maximum ár": "1089",
                                    "Minimum ár": "194",
                                    "Átlag ár": "603,73"
                                },
                                {
                                    "KAT_NEV": "ajándék tárgy",
                                    "Maximum ár": "129",
                                    "Minimum ár": "21",
                                    "Átlag ár": "73,58"
                                },
                                {
                                    "KAT_NEV": "ajándék tasak",
                                    "Maximum ár": "290",
                                    "Minimum ár": "10",
                                    "Átlag ár": "120,7"
                                },
                                {
                                    "KAT_NEV": "álarc",
                                    "Maximum ár": "144",
                                    "Minimum ár": "80",
                                    "Átlag ár": "120,91"
                                },
                                {
                                    "KAT_NEV": "alkalmi",
                                    "Maximum ár": "32000",
                                    "Minimum ár": "245",
                                    "Átlag ár": "21366,01"
                                },
                                {
                                    "KAT_NEV": "alufólia",
                                    "Maximum ár": "214",
                                    "Minimum ár": "107",
                                    "Átlag ár": "160,2"
                                },
                                {
                                    "KAT_NEV": "árazószalag",
                                    "Maximum ár": "106",
                                    "Minimum ár": "96",
                                    "Átlag ár": "101,98"
                                },
                                {
                                    "KAT_NEV": "átírótömb",
                                    "Maximum ár": "115",
                                    "Minimum ár": "104",
                                    "Átlag ár": "111,56"
                                },
                                {
                                    "KAT_NEV": "beíró",
                                    "Maximum ár": "228",
                                    "Minimum ár": "207",
                                    "Átlag ár": "220,83"
                                },
                                {
                                    "KAT_NEV": "beírókönyv",
                                    "Maximum ár": "328",
                                    "Minimum ár": "120",
                                    "Átlag ár": "221,39"
                                },
                                {
                                    "KAT_NEV": "bélyegző",
                                    "Maximum ár": "1377",
                                    "Minimum ár": "590",
                                    "Átlag ár": "959,07"
                                },
                                {
                                    "KAT_NEV": "bélyegzőfesték",
                                    "Maximum ár": "297",
                                    "Minimum ár": "270",
                                    "Átlag ár": "287,01"
                                },
                                {
                                    "KAT_NEV": "boríték",
                                    "Maximum ár": "39",
                                    "Minimum ár": "2",
                                    "Átlag ár": "13,74"
                                },
                                {
                                    "KAT_NEV": "cd tok",
                                    "Maximum ár": "30",
                                    "Minimum ár": "27",
                                    "Átlag ár": "28,91"
                                },
                                {
                                    "KAT_NEV": "celofán",
                                    "Maximum ár": "73",
                                    "Minimum ár": "41",
                                    "Átlag ár": "57,45"
                                },
                                {
                                    "KAT_NEV": "ceruza",
                                    "Maximum ár": "146",
                                    "Minimum ár": "10",
                                    "Átlag ár": "46,3"
                                },
                                {
                                    "KAT_NEV": "címke",
                                    "Maximum ár": "31",
                                    "Minimum ár": "18",
                                    "Átlag ár": "24,97"
                                },
                                {
                                    "KAT_NEV": "color copy",
                                    "Maximum ár": "1500",
                                    "Minimum ár": "9",
                                    "Átlag ár": "289,76"
                                },
                                {
                                    "KAT_NEV": "csomagoló",
                                    "Maximum ár": "110",
                                    "Minimum ár": "80",
                                    "Átlag ár": "95,62"
                                },
                                {
                                    "KAT_NEV": "csomagoló papír",
                                    "Maximum ár": "220",
                                    "Minimum ár": "20",
                                    "Átlag ár": "99,27"
                                },
                                {
                                    "KAT_NEV": "dekor",
                                    "Maximum ár": "44",
                                    "Minimum ár": "2",
                                    "Átlag ár": "20,76"
                                },
                                {
                                    "KAT_NEV": "dipa",
                                    "Maximum ár": "9",
                                    "Minimum ár": "8",
                                    "Átlag ár": "8,68"
                                },
                                {
                                    "KAT_NEV": "díszdoboz",
                                    "Maximum ár": "66",
                                    "Minimum ár": "40",
                                    "Átlag ár": "55,2"
                                },
                                {
                                    "KAT_NEV": "díszkötöző",
                                    "Maximum ár": "81",
                                    "Minimum ár": "13",
                                    "Átlag ár": "36,78"
                                },
                                {
                                    "KAT_NEV": "dvd",
                                    "Maximum ár": "133",
                                    "Minimum ár": "120",
                                    "Átlag ár": "128,23"
                                },
                                {
                                    "KAT_NEV": "ecset",
                                    "Maximum ár": "180",
                                    "Minimum ár": "30",
                                    "Átlag ár": "67,55"
                                },
                                {
                                    "KAT_NEV": "előlap",
                                    "Maximum ár": "25",
                                    "Minimum ár": "22",
                                    "Átlag ár": "23,91"
                                },
                                {
                                    "KAT_NEV": "emlékkönyv",
                                    "Maximum ár": "526",
                                    "Minimum ár": "287",
                                    "Átlag ár": "417,61"
                                },
                                {
                                    "KAT_NEV": "emléklap",
                                    "Maximum ár": "26",
                                    "Minimum ár": "23",
                                    "Átlag ár": "24,84"
                                },
                                {
                                    "KAT_NEV": "fax papír",
                                    "Maximum ár": "161",
                                    "Minimum ár": "146",
                                    "Átlag ár": "155,62"
                                },
                                {
                                    "KAT_NEV": "fehérnemű",
                                    "Maximum ár": "990",
                                    "Minimum ár": "216",
                                    "Átlag ár": "540,92"
                                },
                                {
                                    "KAT_NEV": "fénymásoló papír",
                                    "Maximum ár": "1488",
                                    "Minimum ár": "623",
                                    "Átlag ár": "859,34"
                                },
                                {
                                    "KAT_NEV": "férfi ing",
                                    "Maximum ár": "6490",
                                    "Minimum ár": "245",
                                    "Átlag ár": "6287,78"
                                },
                                {
                                    "KAT_NEV": "férfi kabát",
                                    "Maximum ár": "22000",
                                    "Minimum ár": "20000",
                                    "Átlag ár": "21315,18"
                                },
                                {
                                    "KAT_NEV": "férfi nadrág",
                                    "Maximum ár": "11900",
                                    "Minimum ár": "245",
                                    "Átlag ár": "9538,64"
                                },
                                {
                                    "KAT_NEV": "festékpatron",
                                    "Maximum ár": "625",
                                    "Minimum ár": "568",
                                    "Átlag ár": "607,5"
                                },
                                {
                                    "KAT_NEV": "filctoll",
                                    "Maximum ár": "434",
                                    "Minimum ár": "0",
                                    "Átlag ár": "180,07"
                                },
                                {
                                    "KAT_NEV": "floppy",
                                    "Maximum ár": "51",
                                    "Minimum ár": "46",
                                    "Átlag ár": "49,05"
                                },
                                {
                                    "KAT_NEV": "fólia",
                                    "Maximum ár": "44",
                                    "Minimum ár": "36",
                                    "Átlag ár": "41,21"
                                },
                                {
                                    "KAT_NEV": "fotópapír",
                                    "Maximum ár": "30",
                                    "Minimum ár": "27",
                                    "Átlag ár": "28,96"
                                },
                                {
                                    "KAT_NEV": "füzet",
                                    "Maximum ár": "206",
                                    "Minimum ár": "27",
                                    "Átlag ár": "91,81"
                                },
                                {
                                    "KAT_NEV": "füzetborító",
                                    "Maximum ár": "195",
                                    "Minimum ár": "7",
                                    "Átlag ár": "45,3"
                                },
                                {
                                    "KAT_NEV": "füzettartó",
                                    "Maximum ár": "551",
                                    "Minimum ár": "184",
                                    "Átlag ár": "405,71"
                                },
                                {
                                    "KAT_NEV": "gemkapocs",
                                    "Maximum ár": "48",
                                    "Minimum ár": "27",
                                    "Átlag ár": "37,43"
                                },
                                {
                                    "KAT_NEV": "gémkapocs",
                                    "Maximum ár": "103",
                                    "Minimum ár": "40",
                                    "Átlag ár": "72,54"
                                },
                                {
                                    "KAT_NEV": "genoterm",
                                    "Maximum ár": "89",
                                    "Minimum ár": "80",
                                    "Átlag ár": "85,92"
                                },
                                {
                                    "KAT_NEV": "genotherm",
                                    "Maximum ár": "110",
                                    "Minimum ár": "7",
                                    "Átlag ár": "58,26"
                                },
                                {
                                    "KAT_NEV": "golyóstoll",
                                    "Maximum ár": "1019",
                                    "Minimum ár": "20",
                                    "Átlag ár": "252,91"
                                },
                                {
                                    "KAT_NEV": "gumigyűrű",
                                    "Maximum ár": "19",
                                    "Minimum ár": "17",
                                    "Átlag ár": "18,32"
                                },
                                {
                                    "KAT_NEV": "gyermek cipő",
                                    "Maximum ár": "8000",
                                    "Minimum ár": "245",
                                    "Átlag ár": "7356,85"
                                },
                                {
                                    "KAT_NEV": "gyermek kabát",
                                    "Maximum ár": "8900",
                                    "Minimum ár": "245",
                                    "Átlag ár": "8583,5"
                                },
                                {
                                    "KAT_NEV": "gyermek nadrág",
                                    "Maximum ár": "4990",
                                    "Minimum ár": "245",
                                    "Átlag ár": "3092,19"
                                },
                                {
                                    "KAT_NEV": "gyermek póló",
                                    "Maximum ár": "3900",
                                    "Minimum ár": "245",
                                    "Átlag ár": "3768,37"
                                },
                                {
                                    "KAT_NEV": "gyorsfűző",
                                    "Maximum ár": "35",
                                    "Minimum ár": "16",
                                    "Átlag ár": "26,57"
                                },
                                {
                                    "KAT_NEV": "gyurma",
                                    "Maximum ár": "228",
                                    "Minimum ár": "110",
                                    "Átlag ár": "166"
                                },
                                {
                                    "KAT_NEV": "gyűrűskönyv",
                                    "Maximum ár": "699",
                                    "Minimum ár": "86",
                                    "Átlag ár": "341,79"
                                },
                                {
                                    "KAT_NEV": "hajgumi",
                                    "Maximum ár": "66",
                                    "Minimum ár": "60",
                                    "Átlag ár": "64,29"
                                },
                                {
                                    "KAT_NEV": "határidő napló",
                                    "Maximum ár": "728",
                                    "Minimum ár": "421",
                                    "Átlag ár": "570,96"
                                },
                                {
                                    "KAT_NEV": "hegyező",
                                    "Maximum ár": "875",
                                    "Minimum ár": "20",
                                    "Átlag ár": "237,93"
                                },
                                {
                                    "KAT_NEV": "hegyző",
                                    "Maximum ár": "180",
                                    "Minimum ár": "63",
                                    "Átlag ár": "124,06"
                                },
                                {
                                    "KAT_NEV": "hibajavító",
                                    "Maximum ár": "794",
                                    "Minimum ár": "73",
                                    "Átlag ár": "275,62"
                                },
                                {
                                    "KAT_NEV": "hűtőmágnes",
                                    "Maximum ár": "169",
                                    "Minimum ár": "21",
                                    "Átlag ár": "91,9"
                                },
                                {
                                    "KAT_NEV": "iratgyűjtő",
                                    "Maximum ár": "133",
                                    "Minimum ár": "17",
                                    "Átlag ár": "55,99"
                                },
                                {
                                    "KAT_NEV": "iratrendező",
                                    "Maximum ár": "259",
                                    "Minimum ár": "220",
                                    "Átlag ár": "242,57"
                                },
                                {
                                    "KAT_NEV": "iratsín",
                                    "Maximum ár": "89",
                                    "Minimum ár": "40",
                                    "Átlag ár": "64,19"
                                },
                                {
                                    "KAT_NEV": "irattartó",
                                    "Maximum ár": "214",
                                    "Minimum ár": "60",
                                    "Átlag ár": "130,94"
                                },
                                {
                                    "KAT_NEV": "irodaszer",
                                    "Maximum ár": "59",
                                    "Minimum ár": "53",
                                    "Átlag ár": "57,08"
                                },
                                {
                                    "KAT_NEV": "írólap",
                                    "Maximum ár": "34",
                                    "Minimum ár": "26",
                                    "Átlag ár": "30,36"
                                },
                                {
                                    "KAT_NEV": "ironbél",
                                    "Maximum ár": "78",
                                    "Minimum ár": "20",
                                    "Átlag ár": "52,15"
                                },
                                {
                                    "KAT_NEV": "iskolaszer",
                                    "Maximum ár": "511",
                                    "Minimum ár": "4",
                                    "Átlag ár": "82,2"
                                },
                                {
                                    "KAT_NEV": "játékautó",
                                    "Maximum ár": "165",
                                    "Minimum ár": "59",
                                    "Átlag ár": "106,08"
                                },
                                {
                                    "KAT_NEV": "jelzőkréta",
                                    "Maximum ár": "48",
                                    "Minimum ár": "43",
                                    "Átlag ár": "46,29"
                                },
                                {
                                    "KAT_NEV": "kapocskiszedő",
                                    "Maximum ár": "106",
                                    "Minimum ár": "96",
                                    "Átlag ár": "102,26"
                                },
                                {
                                    "KAT_NEV": "karton",
                                    "Maximum ár": "89",
                                    "Minimum ár": "10",
                                    "Átlag ár": "44,38"
                                },
                                {
                                    "KAT_NEV": "kártya",
                                    "Maximum ár": "131",
                                    "Minimum ár": "119",
                                    "Átlag ár": "126,92"
                                },
                                {
                                    "KAT_NEV": "képeslap",
                                    "Maximum ár": "184",
                                    "Minimum ár": "12",
                                    "Átlag ár": "56,71"
                                },
                                {
                                    "KAT_NEV": "képkirakó",
                                    "Maximum ár": "195",
                                    "Minimum ár": "177",
                                    "Átlag ár": "188,19"
                                },
                                {
                                    "KAT_NEV": "kosztüm",
                                    "Maximum ár": "46000",
                                    "Minimum ár": "245",
                                    "Átlag ár": "41222,07"
                                },
                                {
                                    "KAT_NEV": "körző",
                                    "Maximum ár": "243",
                                    "Minimum ár": "27",
                                    "Átlag ár": "140,98"
                                },
                                {
                                    "KAT_NEV": "kreatív",
                                    "Maximum ár": "13",
                                    "Minimum ár": "3",
                                    "Átlag ár": "8,06"
                                },
                                {
                                    "KAT_NEV": "kulcstartó",
                                    "Maximum ár": "155",
                                    "Minimum ár": "32",
                                    "Átlag ár": "112,34"
                                },
                                {
                                    "KAT_NEV": "labda",
                                    "Maximum ár": "110",
                                    "Minimum ár": "73",
                                    "Átlag ár": "92,71"
                                },
                                {
                                    "KAT_NEV": "levélpapír",
                                    "Maximum ár": "169",
                                    "Minimum ár": "13",
                                    "Átlag ár": "89,86"
                                },
                                {
                                    "KAT_NEV": "lufi",
                                    "Maximum ár": "15",
                                    "Minimum ár": "10",
                                    "Átlag ár": "12,43"
                                },
                                {
                                    "KAT_NEV": "lyukasztó",
                                    "Maximum ár": "765",
                                    "Minimum ár": "478",
                                    "Átlag ár": "616,09"
                                },
                                {
                                    "KAT_NEV": "mappa",
                                    "Maximum ár": "1765",
                                    "Minimum ár": "134",
                                    "Átlag ár": "389,05"
                                },
                                {
                                    "KAT_NEV": "matrica",
                                    "Maximum ár": "175",
                                    "Minimum ár": "44",
                                    "Átlag ár": "103,76"
                                },
                                {
                                    "KAT_NEV": "meghívó",
                                    "Maximum ár": "169",
                                    "Minimum ár": "53",
                                    "Átlag ár": "107,05"
                                },
                                {
                                    "KAT_NEV": "miliméterpapír",
                                    "Maximum ár": "8",
                                    "Minimum ár": "7",
                                    "Átlag ár": "7,7"
                                },
                                {
                                    "KAT_NEV": "munkafüzet",
                                    "Maximum ár": "785",
                                    "Minimum ár": "172",
                                    "Átlag ár": "378,63"
                                },
                                {
                                    "KAT_NEV": "műnyomó",
                                    "Maximum ár": "3",
                                    "Minimum ár": "2",
                                    "Átlag ár": "2,68"
                                },
                                {
                                    "KAT_NEV": "naptár",
                                    "Maximum ár": "89",
                                    "Minimum ár": "80",
                                    "Átlag ár": "86,02"
                                },
                                {
                                    "KAT_NEV": "naptárhát",
                                    "Maximum ár": "78",
                                    "Minimum ár": "13",
                                    "Átlag ár": "44,79"
                                },
                                {
                                    "KAT_NEV": "névjegytartó",
                                    "Maximum ár": "310",
                                    "Minimum ár": "281",
                                    "Átlag ár": "299,64"
                                },
                                {
                                    "KAT_NEV": "notesz",
                                    "Maximum ár": "103",
                                    "Minimum ár": "40",
                                    "Átlag ár": "76,77"
                                },
                                {
                                    "KAT_NEV": "női kabát",
                                    "Maximum ár": "24000",
                                    "Minimum ár": "21600",
                                    "Átlag ár": "23248,89"
                                },
                                {
                                    "KAT_NEV": "női nadrág",
                                    "Maximum ár": "8290",
                                    "Minimum ár": "245",
                                    "Átlag ár": "8013,29"
                                },
                                {
                                    "KAT_NEV": "ofszet",
                                    "Maximum ár": "4",
                                    "Minimum ár": "3",
                                    "Átlag ár": "3,62"
                                },
                                {
                                    "KAT_NEV": "oklevél",
                                    "Maximum ár": "55",
                                    "Minimum ár": "43",
                                    "Átlag ár": "49,83"
                                },
                                {
                                    "KAT_NEV": "olló",
                                    "Maximum ár": "176",
                                    "Minimum ár": "120",
                                    "Átlag ár": "151,01"
                                },
                                {
                                    "KAT_NEV": "öntapadó",
                                    "Maximum ár": "4575",
                                    "Minimum ár": "53",
                                    "Átlag ár": "2328,19"
                                },
                                {
                                    "KAT_NEV": "papízsebkendő",
                                    "Maximum ár": "20",
                                    "Minimum ár": "18",
                                    "Átlag ár": "19,34"
                                },
                                {
                                    "KAT_NEV": "pausz",
                                    "Maximum ár": "15",
                                    "Minimum ár": "13",
                                    "Átlag ár": "14,36"
                                },
                                {
                                    "KAT_NEV": "pénztárbizonylat",
                                    "Maximum ár": "144",
                                    "Minimum ár": "93",
                                    "Átlag ár": "120,29"
                                },
                                {
                                    "KAT_NEV": "pénztárgépszalag",
                                    "Maximum ár": "93",
                                    "Minimum ár": "73",
                                    "Átlag ár": "83,68"
                                },
                                {
                                    "KAT_NEV": "pixiron",
                                    "Maximum ár": "468",
                                    "Minimum ár": "53",
                                    "Átlag ár": "190,71"
                                },
                                {
                                    "KAT_NEV": "plüss",
                                    "Maximum ár": "314",
                                    "Minimum ár": "146",
                                    "Átlag ár": "209,76"
                                },
                                {
                                    "KAT_NEV": "post-it",
                                    "Maximum ár": "89",
                                    "Minimum ár": "32",
                                    "Átlag ár": "56,76"
                                },
                                {
                                    "KAT_NEV": "radír",
                                    "Maximum ár": "50",
                                    "Minimum ár": "17",
                                    "Átlag ár": "38,75"
                                },
                                {
                                    "KAT_NEV": "radírtoll",
                                    "Maximum ár": "119",
                                    "Minimum ár": "67",
                                    "Átlag ár": "94,24"
                                },
                                {
                                    "KAT_NEV": "ragasztó",
                                    "Maximum ár": "426",
                                    "Minimum ár": "73",
                                    "Átlag ár": "159,85"
                                },
                                {
                                    "KAT_NEV": "ragasztószalag",
                                    "Maximum ár": "166",
                                    "Minimum ár": "13",
                                    "Átlag ár": "71,6"
                                },
                                {
                                    "KAT_NEV": "rágógumi",
                                    "Maximum ár": "89",
                                    "Minimum ár": "80",
                                    "Átlag ár": "86,25"
                                },
                                {
                                    "KAT_NEV": "rajzlap",
                                    "Maximum ár": "342",
                                    "Minimum ár": "25",
                                    "Átlag ár": "182,93"
                                },
                                {
                                    "KAT_NEV": "rajzszeg",
                                    "Maximum ár": "106",
                                    "Minimum ár": "57",
                                    "Átlag ár": "83,48"
                                },
                                {
                                    "KAT_NEV": "regiszteres füzet",
                                    "Maximum ár": "256",
                                    "Minimum ár": "184",
                                    "Átlag ár": "221,2"
                                },
                                {
                                    "KAT_NEV": "sál",
                                    "Maximum ár": "1990",
                                    "Minimum ár": "245",
                                    "Átlag ár": "1923,73"
                                },
                                {
                                    "KAT_NEV": "spirál",
                                    "Maximum ár": "45",
                                    "Minimum ár": "40",
                                    "Átlag ár": "43,27"
                                },
                                {
                                    "KAT_NEV": "strandlabda",
                                    "Maximum ár": "356",
                                    "Minimum ár": "323",
                                    "Átlag ár": "344,21"
                                },
                                {
                                    "KAT_NEV": "szalvéta",
                                    "Maximum ár": "183",
                                    "Minimum ár": "107",
                                    "Átlag ár": "152,28"
                                },
                                {
                                    "KAT_NEV": "számológép",
                                    "Maximum ár": "1173",
                                    "Minimum ár": "461",
                                    "Átlag ár": "795,74"
                                },
                                {
                                    "KAT_NEV": "szemetes",
                                    "Maximum ár": "129",
                                    "Minimum ár": "117",
                                    "Átlag ár": "124,85"
                                },
                                {
                                    "KAT_NEV": "színes",
                                    "Maximum ár": "161",
                                    "Minimum ár": "90",
                                    "Átlag ár": "125,57"
                                },
                                {
                                    "KAT_NEV": "szögmérő",
                                    "Maximum ár": "24",
                                    "Minimum ár": "7",
                                    "Átlag ár": "14,23"
                                },
                                {
                                    "KAT_NEV": "szövegkiemelő",
                                    "Maximum ár": "140",
                                    "Minimum ár": "70",
                                    "Átlag ár": "96,81"
                                },
                                {
                                    "KAT_NEV": "táblafilc",
                                    "Maximum ár": "633",
                                    "Minimum ár": "575",
                                    "Átlag ár": "613,28"
                                },
                                {
                                    "KAT_NEV": "tapétavágó",
                                    "Maximum ár": "40",
                                    "Minimum ár": "36",
                                    "Átlag ár": "38,35"
                                },
                                {
                                    "KAT_NEV": "tempera",
                                    "Maximum ár": "96",
                                    "Minimum ár": "43",
                                    "Átlag ár": "70,36"
                                },
                                {
                                    "KAT_NEV": "térképtű",
                                    "Maximum ár": "103",
                                    "Minimum ár": "93",
                                    "Átlag ár": "99,81"
                                },
                                {
                                    "KAT_NEV": "tintapatron",
                                    "Maximum ár": "360",
                                    "Minimum ár": "8",
                                    "Átlag ár": "115,24"
                                },
                                {
                                    "KAT_NEV": "toll",
                                    "Maximum ár": "80",
                                    "Minimum ár": "67",
                                    "Átlag ár": "74,61"
                                },
                                {
                                    "KAT_NEV": "tollbetét",
                                    "Maximum ár": "684",
                                    "Minimum ár": "13",
                                    "Átlag ár": "96,98"
                                },
                                {
                                    "KAT_NEV": "tolltartó",
                                    "Maximum ár": "765",
                                    "Minimum ár": "294",
                                    "Átlag ár": "552,5"
                                },
                                {
                                    "KAT_NEV": "toner",
                                    "Maximum ár": "14250",
                                    "Minimum ár": "12954",
                                    "Átlag ár": "13767,89"
                                },
                                {
                                    "KAT_NEV": "töltőtoll",
                                    "Maximum ár": "493",
                                    "Minimum ár": "448",
                                    "Átlag ár": "476,81"
                                },
                                {
                                    "KAT_NEV": "tűzőgép",
                                    "Maximum ár": "2100",
                                    "Minimum ár": "260",
                                    "Átlag ár": "798,19"
                                },
                                {
                                    "KAT_NEV": "tűzőkapocs",
                                    "Maximum ár": "44",
                                    "Minimum ár": "30",
                                    "Átlag ár": "37,14"
                                },
                                {
                                    "KAT_NEV": "vízfesték",
                                    "Maximum ár": "249",
                                    "Minimum ár": "160",
                                    "Átlag ár": "197,34"
                                },
                                {
                                    "KAT_NEV": "vonalzó",
                                    "Maximum ár": "58",
                                    "Minimum ár": "27",
                                    "Átlag ár": "34,08"
                                },
                                {
                                    "KAT_NEV": "zászló",
                                    "Maximum ár": "20",
                                    "Minimum ár": "18",
                                    "Átlag ár": "19,29"
                                },
                                {
                                    "KAT_NEV": "zseléstoll",
                                    "Maximum ár": "228",
                                    "Minimum ár": "60",
                                    "Átlag ár": "132,15"
                                },
                                {
                                    "KAT_NEV": "írásvetítő fólia",
                                    "Maximum ár": "81",
                                    "Minimum ár": "73",
                                    "Átlag ár": "77,98"
                                }
                            ],
                            "schema": {
                                "fields": [
                                    {
                                        "name": "KAT_NEV"
                                    },
                                    {
                                        "name": "Maximum ár"
                                    },
                                    {
                                        "name": "Minimum ár"
                                    },
                                    {
                                        "name": "Átlag ár"
                                    }
                                ]
                            }
                        },
                        "text/html": [
                            "<table>\n",
                            "<tr><th>KAT_NEV</th><th>Maximum ár</th><th>Minimum ár</th><th>Átlag ár</th></tr>\n",
                            "<tr><td>könyv</td><td>1089</td><td>194</td><td>603,73</td></tr>\n",
                            "<tr><td>ajándék tárgy</td><td>129</td><td>21</td><td>73,58</td></tr>\n",
                            "<tr><td>ajándék tasak</td><td>290</td><td>10</td><td>120,7</td></tr>\n",
                            "<tr><td>álarc</td><td>144</td><td>80</td><td>120,91</td></tr>\n",
                            "<tr><td>alkalmi</td><td>32000</td><td>245</td><td>21366,01</td></tr>\n",
                            "<tr><td>alufólia</td><td>214</td><td>107</td><td>160,2</td></tr>\n",
                            "<tr><td>árazószalag</td><td>106</td><td>96</td><td>101,98</td></tr>\n",
                            "<tr><td>átírótömb</td><td>115</td><td>104</td><td>111,56</td></tr>\n",
                            "<tr><td>beíró</td><td>228</td><td>207</td><td>220,83</td></tr>\n",
                            "<tr><td>beírókönyv</td><td>328</td><td>120</td><td>221,39</td></tr>\n",
                            "<tr><td>bélyegző</td><td>1377</td><td>590</td><td>959,07</td></tr>\n",
                            "<tr><td>bélyegzőfesték</td><td>297</td><td>270</td><td>287,01</td></tr>\n",
                            "<tr><td>boríték</td><td>39</td><td>2</td><td>13,74</td></tr>\n",
                            "<tr><td>cd tok</td><td>30</td><td>27</td><td>28,91</td></tr>\n",
                            "<tr><td>celofán</td><td>73</td><td>41</td><td>57,45</td></tr>\n",
                            "<tr><td>ceruza</td><td>146</td><td>10</td><td>46,3</td></tr>\n",
                            "<tr><td>címke</td><td>31</td><td>18</td><td>24,97</td></tr>\n",
                            "<tr><td>color copy</td><td>1500</td><td>9</td><td>289,76</td></tr>\n",
                            "<tr><td>csomagoló</td><td>110</td><td>80</td><td>95,62</td></tr>\n",
                            "<tr><td>csomagoló papír</td><td>220</td><td>20</td><td>99,27</td></tr>\n",
                            "<tr><td>dekor</td><td>44</td><td>2</td><td>20,76</td></tr>\n",
                            "<tr><td>dipa</td><td>9</td><td>8</td><td>8,68</td></tr>\n",
                            "<tr><td>díszdoboz</td><td>66</td><td>40</td><td>55,2</td></tr>\n",
                            "<tr><td>díszkötöző</td><td>81</td><td>13</td><td>36,78</td></tr>\n",
                            "<tr><td>dvd</td><td>133</td><td>120</td><td>128,23</td></tr>\n",
                            "<tr><td>ecset</td><td>180</td><td>30</td><td>67,55</td></tr>\n",
                            "<tr><td>előlap</td><td>25</td><td>22</td><td>23,91</td></tr>\n",
                            "<tr><td>emlékkönyv</td><td>526</td><td>287</td><td>417,61</td></tr>\n",
                            "<tr><td>emléklap</td><td>26</td><td>23</td><td>24,84</td></tr>\n",
                            "<tr><td>fax papír</td><td>161</td><td>146</td><td>155,62</td></tr>\n",
                            "<tr><td>fehérnemű</td><td>990</td><td>216</td><td>540,92</td></tr>\n",
                            "<tr><td>fénymásoló papír</td><td>1488</td><td>623</td><td>859,34</td></tr>\n",
                            "<tr><td>férfi ing</td><td>6490</td><td>245</td><td>6287,78</td></tr>\n",
                            "<tr><td>férfi kabát</td><td>22000</td><td>20000</td><td>21315,18</td></tr>\n",
                            "<tr><td>férfi nadrág</td><td>11900</td><td>245</td><td>9538,64</td></tr>\n",
                            "<tr><td>festékpatron</td><td>625</td><td>568</td><td>607,5</td></tr>\n",
                            "<tr><td>filctoll</td><td>434</td><td>0</td><td>180,07</td></tr>\n",
                            "<tr><td>floppy</td><td>51</td><td>46</td><td>49,05</td></tr>\n",
                            "<tr><td>fólia</td><td>44</td><td>36</td><td>41,21</td></tr>\n",
                            "<tr><td>fotópapír</td><td>30</td><td>27</td><td>28,96</td></tr>\n",
                            "<tr><td>füzet</td><td>206</td><td>27</td><td>91,81</td></tr>\n",
                            "<tr><td>füzetborító</td><td>195</td><td>7</td><td>45,3</td></tr>\n",
                            "<tr><td>füzettartó</td><td>551</td><td>184</td><td>405,71</td></tr>\n",
                            "<tr><td>gemkapocs</td><td>48</td><td>27</td><td>37,43</td></tr>\n",
                            "<tr><td>gémkapocs</td><td>103</td><td>40</td><td>72,54</td></tr>\n",
                            "<tr><td>genoterm</td><td>89</td><td>80</td><td>85,92</td></tr>\n",
                            "<tr><td>genotherm</td><td>110</td><td>7</td><td>58,26</td></tr>\n",
                            "<tr><td>golyóstoll</td><td>1019</td><td>20</td><td>252,91</td></tr>\n",
                            "<tr><td>gumigyűrű</td><td>19</td><td>17</td><td>18,32</td></tr>\n",
                            "<tr><td>gyermek cipő</td><td>8000</td><td>245</td><td>7356,85</td></tr>\n",
                            "<tr><td>gyermek kabát</td><td>8900</td><td>245</td><td>8583,5</td></tr>\n",
                            "<tr><td>gyermek nadrág</td><td>4990</td><td>245</td><td>3092,19</td></tr>\n",
                            "<tr><td>gyermek póló</td><td>3900</td><td>245</td><td>3768,37</td></tr>\n",
                            "<tr><td>gyorsfűző</td><td>35</td><td>16</td><td>26,57</td></tr>\n",
                            "<tr><td>gyurma</td><td>228</td><td>110</td><td>166</td></tr>\n",
                            "<tr><td>gyűrűskönyv</td><td>699</td><td>86</td><td>341,79</td></tr>\n",
                            "<tr><td>hajgumi</td><td>66</td><td>60</td><td>64,29</td></tr>\n",
                            "<tr><td>határidő napló</td><td>728</td><td>421</td><td>570,96</td></tr>\n",
                            "<tr><td>hegyező</td><td>875</td><td>20</td><td>237,93</td></tr>\n",
                            "<tr><td>hegyző</td><td>180</td><td>63</td><td>124,06</td></tr>\n",
                            "<tr><td>hibajavító</td><td>794</td><td>73</td><td>275,62</td></tr>\n",
                            "<tr><td>hűtőmágnes</td><td>169</td><td>21</td><td>91,9</td></tr>\n",
                            "<tr><td>iratgyűjtő</td><td>133</td><td>17</td><td>55,99</td></tr>\n",
                            "<tr><td>iratrendező</td><td>259</td><td>220</td><td>242,57</td></tr>\n",
                            "<tr><td>iratsín</td><td>89</td><td>40</td><td>64,19</td></tr>\n",
                            "<tr><td>irattartó</td><td>214</td><td>60</td><td>130,94</td></tr>\n",
                            "<tr><td>irodaszer</td><td>59</td><td>53</td><td>57,08</td></tr>\n",
                            "<tr><td>írólap</td><td>34</td><td>26</td><td>30,36</td></tr>\n",
                            "<tr><td>ironbél</td><td>78</td><td>20</td><td>52,15</td></tr>\n",
                            "<tr><td>iskolaszer</td><td>511</td><td>4</td><td>82,2</td></tr>\n",
                            "<tr><td>játékautó</td><td>165</td><td>59</td><td>106,08</td></tr>\n",
                            "<tr><td>jelzőkréta</td><td>48</td><td>43</td><td>46,29</td></tr>\n",
                            "<tr><td>kapocskiszedő</td><td>106</td><td>96</td><td>102,26</td></tr>\n",
                            "<tr><td>karton</td><td>89</td><td>10</td><td>44,38</td></tr>\n",
                            "<tr><td>kártya</td><td>131</td><td>119</td><td>126,92</td></tr>\n",
                            "<tr><td>képeslap</td><td>184</td><td>12</td><td>56,71</td></tr>\n",
                            "<tr><td>képkirakó</td><td>195</td><td>177</td><td>188,19</td></tr>\n",
                            "<tr><td>kosztüm</td><td>46000</td><td>245</td><td>41222,07</td></tr>\n",
                            "<tr><td>körző</td><td>243</td><td>27</td><td>140,98</td></tr>\n",
                            "<tr><td>kreatív</td><td>13</td><td>3</td><td>8,06</td></tr>\n",
                            "<tr><td>kulcstartó</td><td>155</td><td>32</td><td>112,34</td></tr>\n",
                            "<tr><td>labda</td><td>110</td><td>73</td><td>92,71</td></tr>\n",
                            "<tr><td>levélpapír</td><td>169</td><td>13</td><td>89,86</td></tr>\n",
                            "<tr><td>lufi</td><td>15</td><td>10</td><td>12,43</td></tr>\n",
                            "<tr><td>lyukasztó</td><td>765</td><td>478</td><td>616,09</td></tr>\n",
                            "<tr><td>mappa</td><td>1765</td><td>134</td><td>389,05</td></tr>\n",
                            "<tr><td>matrica</td><td>175</td><td>44</td><td>103,76</td></tr>\n",
                            "<tr><td>meghívó</td><td>169</td><td>53</td><td>107,05</td></tr>\n",
                            "<tr><td>miliméterpapír</td><td>8</td><td>7</td><td>7,7</td></tr>\n",
                            "<tr><td>munkafüzet</td><td>785</td><td>172</td><td>378,63</td></tr>\n",
                            "<tr><td>műnyomó</td><td>3</td><td>2</td><td>2,68</td></tr>\n",
                            "<tr><td>naptár</td><td>89</td><td>80</td><td>86,02</td></tr>\n",
                            "<tr><td>naptárhát</td><td>78</td><td>13</td><td>44,79</td></tr>\n",
                            "<tr><td>névjegytartó</td><td>310</td><td>281</td><td>299,64</td></tr>\n",
                            "<tr><td>notesz</td><td>103</td><td>40</td><td>76,77</td></tr>\n",
                            "<tr><td>női kabát</td><td>24000</td><td>21600</td><td>23248,89</td></tr>\n",
                            "<tr><td>női nadrág</td><td>8290</td><td>245</td><td>8013,29</td></tr>\n",
                            "<tr><td>ofszet</td><td>4</td><td>3</td><td>3,62</td></tr>\n",
                            "<tr><td>oklevél</td><td>55</td><td>43</td><td>49,83</td></tr>\n",
                            "<tr><td>olló</td><td>176</td><td>120</td><td>151,01</td></tr>\n",
                            "<tr><td>öntapadó</td><td>4575</td><td>53</td><td>2328,19</td></tr>\n",
                            "<tr><td>papízsebkendő</td><td>20</td><td>18</td><td>19,34</td></tr>\n",
                            "<tr><td>pausz</td><td>15</td><td>13</td><td>14,36</td></tr>\n",
                            "<tr><td>pénztárbizonylat</td><td>144</td><td>93</td><td>120,29</td></tr>\n",
                            "<tr><td>pénztárgépszalag</td><td>93</td><td>73</td><td>83,68</td></tr>\n",
                            "<tr><td>pixiron</td><td>468</td><td>53</td><td>190,71</td></tr>\n",
                            "<tr><td>plüss</td><td>314</td><td>146</td><td>209,76</td></tr>\n",
                            "<tr><td>post-it</td><td>89</td><td>32</td><td>56,76</td></tr>\n",
                            "<tr><td>radír</td><td>50</td><td>17</td><td>38,75</td></tr>\n",
                            "<tr><td>radírtoll</td><td>119</td><td>67</td><td>94,24</td></tr>\n",
                            "<tr><td>ragasztó</td><td>426</td><td>73</td><td>159,85</td></tr>\n",
                            "<tr><td>ragasztószalag</td><td>166</td><td>13</td><td>71,6</td></tr>\n",
                            "<tr><td>rágógumi</td><td>89</td><td>80</td><td>86,25</td></tr>\n",
                            "<tr><td>rajzlap</td><td>342</td><td>25</td><td>182,93</td></tr>\n",
                            "<tr><td>rajzszeg</td><td>106</td><td>57</td><td>83,48</td></tr>\n",
                            "<tr><td>regiszteres füzet</td><td>256</td><td>184</td><td>221,2</td></tr>\n",
                            "<tr><td>sál</td><td>1990</td><td>245</td><td>1923,73</td></tr>\n",
                            "<tr><td>spirál</td><td>45</td><td>40</td><td>43,27</td></tr>\n",
                            "<tr><td>strandlabda</td><td>356</td><td>323</td><td>344,21</td></tr>\n",
                            "<tr><td>szalvéta</td><td>183</td><td>107</td><td>152,28</td></tr>\n",
                            "<tr><td>számológép</td><td>1173</td><td>461</td><td>795,74</td></tr>\n",
                            "<tr><td>szemetes</td><td>129</td><td>117</td><td>124,85</td></tr>\n",
                            "<tr><td>színes</td><td>161</td><td>90</td><td>125,57</td></tr>\n",
                            "<tr><td>szögmérő</td><td>24</td><td>7</td><td>14,23</td></tr>\n",
                            "<tr><td>szövegkiemelő</td><td>140</td><td>70</td><td>96,81</td></tr>\n",
                            "<tr><td>táblafilc</td><td>633</td><td>575</td><td>613,28</td></tr>\n",
                            "<tr><td>tapétavágó</td><td>40</td><td>36</td><td>38,35</td></tr>\n",
                            "<tr><td>tempera</td><td>96</td><td>43</td><td>70,36</td></tr>\n",
                            "<tr><td>térképtű</td><td>103</td><td>93</td><td>99,81</td></tr>\n",
                            "<tr><td>tintapatron</td><td>360</td><td>8</td><td>115,24</td></tr>\n",
                            "<tr><td>toll</td><td>80</td><td>67</td><td>74,61</td></tr>\n",
                            "<tr><td>tollbetét</td><td>684</td><td>13</td><td>96,98</td></tr>\n",
                            "<tr><td>tolltartó</td><td>765</td><td>294</td><td>552,5</td></tr>\n",
                            "<tr><td>toner</td><td>14250</td><td>12954</td><td>13767,89</td></tr>\n",
                            "<tr><td>töltőtoll</td><td>493</td><td>448</td><td>476,81</td></tr>\n",
                            "<tr><td>tűzőgép</td><td>2100</td><td>260</td><td>798,19</td></tr>\n",
                            "<tr><td>tűzőkapocs</td><td>44</td><td>30</td><td>37,14</td></tr>\n",
                            "<tr><td>vízfesték</td><td>249</td><td>160</td><td>197,34</td></tr>\n",
                            "<tr><td>vonalzó</td><td>58</td><td>27</td><td>34,08</td></tr>\n",
                            "<tr><td>zászló</td><td>20</td><td>18</td><td>19,29</td></tr>\n",
                            "<tr><td>zseléstoll</td><td>228</td><td>60</td><td>132,15</td></tr>\n",
                            "<tr><td>írásvetítő fólia</td><td>81</td><td>73</td><td>77,98</td></tr>\n",
                            "</table>"
                        ]
                    },
                    "execution_count": 21,
                    "metadata": {},
                    "output_type": "execute_result"
                }
            ],
            "source": [
                "SELECT k.KAT_NEV, MAX(rt.EGYSEGAR) AS 'Maximum ár', MIN(rt.EGYSEGAR) AS 'Minimum ár', ROUND(AVG(rt.EGYSEGAR), 2) AS 'Átlag ár'\n",
                "FROM Termek t JOIN Rendeles_tetel rt ON t.TERMEKKOD = rt.TERMEKKOD\n",
                "JOIN Termekkategoria k ON t.KAT_ID = k.KAT_ID\n",
                "GROUP BY k.KAT_NEV"
            ]
        },
        {
            "cell_type": "code",
            "execution_count": 60,
            "metadata": {
                "azdata_cell_guid": "01f0a710-5546-4daa-9d30-1fa6b0dbe4f1",
                "language": "sql",
                "vscode": {
                    "languageId": "sql"
                }
            },
            "outputs": [
                {
                    "ename": "",
                    "evalue": "Msg 208, Level 16, State 1, Line 1\r\nInvalid object name 'RENDELESI_TETEL'.",
                    "output_type": "error",
                    "traceback": []
                },
                {
                    "data": {
                        "text/html": [
                            "Total execution time: 00:00:00.021"
                        ]
                    },
                    "metadata": {},
                    "output_type": "display_data"
                }
            ],
            "source": [
                "SELECT \n",
                "    CASE\n",
                "        WHEN MONTH(FELVITEL) = 6 THEN 'Június'\n",
                "        WHEN MONTH(FELVITEL) = 7 THEN 'Július'\n",
                "        WHEN MONTH(FELVITEL) = 8 THEN 'Augusztus'\n",
                "        WHEN MONTH(FELVITEL) = 9 THEN 'Szeptember'\n",
                "        ELSE 'Nem egyetemi nyári szünet'\n",
                "    END AS 'Hónap', SUM(rt.EGYSEGAR * rt.MENNYISEG) AS 'Havi bevétel'\n",
                "FROM Termek t JOIN Rendeles_tetel rt ON t.TERMEKKOD = rt.TERMEKKOD\n",
                "GROUP BY MONTH(FELVITEL)"
            ]
        },
        {
            "cell_type": "code",
            "execution_count": 1,
            "metadata": {
                "azdata_cell_guid": "a6a57b5a-04f0-4b46-8c5c-d5e83169b798",
                "language": "sql",
                "vscode": {
                    "languageId": "sql"
                }
            },
            "outputs": [
                {
                    "ename": "IndentationError",
                    "evalue": "unexpected indent (3512181132.py, line 2)",
                    "output_type": "error",
                    "traceback": [
                        "\u001b[1;36m  Cell \u001b[1;32mIn[1], line 2\u001b[1;36m\u001b[0m\n\u001b[1;33m    CASE\u001b[0m\n\u001b[1;37m    ^\u001b[0m\n\u001b[1;31mIndentationError\u001b[0m\u001b[1;31m:\u001b[0m unexpected indent\n"
                    ]
                }
            ],
            "source": [
                "SELECT\n",
                "    CASE\n",
                "        WHEN MONTH(t.FELVITEL) = 6 THEN 'Június'\n",
                "        WHEN MONTH(t.FELVITEL) = 7 THEN 'Július'\n",
                "        WHEN MONTH(t.FELVITEL) = 8 THEN 'Augusztus'\n",
                "        WHEN MONTH(t.FELVITEL) = 9 THEN 'Szeptember'\n",
                "        ELSE 'Nem egyetemi nyári szünet'\n",
                "    END AS 'Hónap',\n",
                "    SUM(rt.EGYSEGAR * rt.MENNYISEG) AS 'Havi bevétel',\n",
                "    ROUND((SUM(rt.EGYSEGAR * rt.MENNYISEG) * 100.0 / (SELECT SUM(EGYSEGAR * MENNYISEG) FROM Rendeles_tetel)), 2) AS 'Százalékos arány'\n",
                "FROM\n",
                "    Termek t\n",
                "JOIN\n",
                "    Rendeles_tetel rt ON t.TERMEKKOD = rt.TERMEKKOD\n",
                "GROUP BY\n",
                "    MONTH(t.FELVITEL);"
            ]
        },
        {
            "cell_type": "code",
            "execution_count": 7,
            "metadata": {
                "vscode": {
                    "languageId": "sql"
                }
            },
            "outputs": [
                {
                    "data": {
                        "image/png": "[encoded data removed]",
                        "text/plain": [
                            "<Figure size 1000x600 with 1 Axes>"
                        ]
                    },
                    "metadata": {},
                    "output_type": "display_data"
                }
            ],
            "source": [
                "#Diagram a havi bevételek alakulásáról\n",
                "import matplotlib.pyplot as plt\n",
                "\n",
                "honapok = ['Július', 'Augusztus', 'Szeptember']\n",
                "bevetel = [1714547930, 1094036913, 4515330]\n",
                "szazalekok = [60.95, 38.89, 0.16]\n",
                "\n",
                "plt.figure(figsize=(10, 6))\n",
                "plt.bar(honapok, bevetel, color='skyblue', label='Havi bevétel')\n",
                "plt.xlabel('Hónapok')\n",
                "plt.ylabel('Havi bevétel (milliárd)')\n",
                "plt.title('Havi bevételek')\n",
                "plt.legend(loc='upper left')\n",
                "plt.tight_layout()\n",
                "plt.show()"
            ]
        },
        {
            "cell_type": "code",
            "execution_count": 51,
            "metadata": {
                "azdata_cell_guid": "09dfcdd1-f121-4243-a03b-5b8ebe93e6a4",
                "language": "sql",
                "vscode": {
                    "languageId": "sql"
                }
            },
            "outputs": [
                {
                    "data": {
                        "text/html": [
                            "(548 rows affected)"
                        ]
                    },
                    "metadata": {},
                    "output_type": "display_data"
                },
                {
                    "data": {
                        "text/html": [
                            "Total execution time: 00:00:00.203"
                        ]
                    },
                    "metadata": {},
                    "output_type": "display_data"
                },
                {
                    "data": {
                        "application/vnd.dataresource+json": {
                            "data": [
                                {
                                    "KAT_NEV": "könyv",
                                    "LISTAAR": "1089",
                                    "MEGNEVEZES": "A föld amelyen élünk - Európa földrajza",
                                    "Átlaghoz visszonyított ár": "Átlagon felüli ár"
                                },
                                {
                                    "KAT_NEV": "könyv",
                                    "LISTAAR": "1089",
                                    "MEGNEVEZES": "A föld amelyen élünk - Hazánk földrajza",
                                    "Átlaghoz visszonyított ár": "Átlagon felüli ár"
                                },
                                {
                                    "KAT_NEV": "könyv",
                                    "LISTAAR": "1089",
                                    "MEGNEVEZES": "A föld amelyen élünk - Távoli földrészek",
                                    "Átlaghoz visszonyított ár": "Átlagon felüli ár"
                                },
                                {
                                    "KAT_NEV": "könyv",
                                    "LISTAAR": "440",
                                    "MEGNEVEZES": "Érettségi felv. fel. Biológia",
                                    "Átlaghoz visszonyított ár": "Átlagon aluli ár"
                                },
                                {
                                    "KAT_NEV": "könyv",
                                    "LISTAAR": "440",
                                    "MEGNEVEZES": "Érettségi felv. fel. Fizika",
                                    "Átlaghoz visszonyított ár": "Átlagon aluli ár"
                                },
                                {
                                    "KAT_NEV": "könyv",
                                    "LISTAAR": "720",
                                    "MEGNEVEZES": "Érettségi felv. fel. Matematika",
                                    "Átlaghoz visszonyított ár": "Átlagon felüli ár"
                                },
                                {
                                    "KAT_NEV": "könyv",
                                    "LISTAAR": "674",
                                    "MEGNEVEZES": "Fizika",
                                    "Átlaghoz visszonyított ár": "Átlagon felüli ár"
                                },
                                {
                                    "KAT_NEV": "könyv",
                                    "LISTAAR": "308",
                                    "MEGNEVEZES": "Fizika 13 éveseknek",
                                    "Átlaghoz visszonyított ár": "Átlagon aluli ár"
                                },
                                {
                                    "KAT_NEV": "könyv",
                                    "LISTAAR": "324",
                                    "MEGNEVEZES": "Fizikai feladatok és tévedések",
                                    "Átlaghoz visszonyított ár": "Átlagon aluli ár"
                                },
                                {
                                    "KAT_NEV": "könyv",
                                    "LISTAAR": "345",
                                    "MEGNEVEZES": "Fogalmazás lépésről lépésre",
                                    "Átlaghoz visszonyított ár": "Átlagon aluli ár"
                                },
                                {
                                    "KAT_NEV": "könyv",
                                    "LISTAAR": "735",
                                    "MEGNEVEZES": "Informatika",
                                    "Átlaghoz visszonyított ár": "Átlagon felüli ár"
                                },
                                {
                                    "KAT_NEV": "könyv",
                                    "LISTAAR": "291",
                                    "MEGNEVEZES": "Jól felkészültem-e - Fizika",
                                    "Átlaghoz visszonyított ár": "Átlagon aluli ár"
                                },
                                {
                                    "KAT_NEV": "könyv",
                                    "LISTAAR": "868",
                                    "MEGNEVEZES": "RAMba zárt világ",
                                    "Átlaghoz visszonyított ár": "Átlagon felüli ár"
                                },
                                {
                                    "KAT_NEV": "könyv",
                                    "LISTAAR": "214",
                                    "MEGNEVEZES": "Szám.tech. kicsiknek",
                                    "Átlaghoz visszonyított ár": "Átlagon aluli ár"
                                },
                                {
                                    "KAT_NEV": "könyv",
                                    "LISTAAR": "691",
                                    "MEGNEVEZES": "Szövegszerkesztés",
                                    "Átlaghoz visszonyított ár": "Átlagon felüli ár"
                                },
                                {
                                    "KAT_NEV": "ajándék tárgy",
                                    "LISTAAR": "24",
                                    "MEGNEVEZES": "Bérlet tok",
                                    "Átlaghoz visszonyított ár": "Átlagon aluli ár"
                                },
                                {
                                    "KAT_NEV": "ajándék tárgy",
                                    "LISTAAR": "73",
                                    "MEGNEVEZES": "Lampion",
                                    "Átlaghoz visszonyított ár": "Átlagon aluli ár"
                                },
                                {
                                    "KAT_NEV": "ajándék tárgy",
                                    "LISTAAR": "129",
                                    "MEGNEVEZES": "Logikai készlet",
                                    "Átlaghoz visszonyított ár": "Átlagon felüli ár"
                                },
                                {
                                    "KAT_NEV": "ajándék tasak",
                                    "LISTAAR": "148",
                                    "MEGNEVEZES": "Ajándék cs. 2×100×70",
                                    "Átlaghoz visszonyított ár": "Átlagon felüli ár"
                                },
                                {
                                    "KAT_NEV": "ajándék tasak",
                                    "LISTAAR": "185",
                                    "MEGNEVEZES": "Ajándék cs. tasak italos",
                                    "Átlaghoz visszonyított ár": "Átlagon felüli ár"
                                },
                                {
                                    "KAT_NEV": "ajándék tasak",
                                    "LISTAAR": "19",
                                    "MEGNEVEZES": "Ajándék cs. tasak italos, fólia",
                                    "Átlaghoz visszonyított ár": "Átlagon aluli ár"
                                },
                                {
                                    "KAT_NEV": "ajándék tasak",
                                    "LISTAAR": "26",
                                    "MEGNEVEZES": "Ajándék cs. tasak kicsi",
                                    "Átlaghoz visszonyított ár": "Átlagon aluli ár"
                                },
                                {
                                    "KAT_NEV": "ajándék tasak",
                                    "LISTAAR": "103",
                                    "MEGNEVEZES": "Ajándék cs. tasak kicsi",
                                    "Átlaghoz visszonyított ár": "Átlagon aluli ár"
                                },
                                {
                                    "KAT_NEV": "ajándék tasak",
                                    "LISTAAR": "148",
                                    "MEGNEVEZES": "Ajándék cs. tasak közepes",
                                    "Átlaghoz visszonyított ár": "Átlagon felüli ár"
                                },
                                {
                                    "KAT_NEV": "ajándék tasak",
                                    "LISTAAR": "26",
                                    "MEGNEVEZES": "Ajándék cs. tasak mintás kicsi",
                                    "Átlaghoz visszonyított ár": "Átlagon aluli ár"
                                },
                                {
                                    "KAT_NEV": "ajándék tasak",
                                    "LISTAAR": "206",
                                    "MEGNEVEZES": "Ajándék cs. tasak mintás nagy",
                                    "Átlaghoz visszonyított ár": "Átlagon felüli ár"
                                },
                                {
                                    "KAT_NEV": "ajándék tasak",
                                    "LISTAAR": "290",
                                    "MEGNEVEZES": "Ajándék cs. tasak virágos nagy",
                                    "Átlaghoz visszonyított ár": "Átlagon felüli ár"
                                },
                                {
                                    "KAT_NEV": "ajándék tasak",
                                    "LISTAAR": "148",
                                    "MEGNEVEZES": "Ajándék csom. 100x70 metál",
                                    "Átlaghoz visszonyított ár": "Átlagon felüli ár"
                                },
                                {
                                    "KAT_NEV": "ajándék tasak",
                                    "LISTAAR": "206",
                                    "MEGNEVEZES": "Ajándék csom. 150x70",
                                    "Átlaghoz visszonyított ár": "Átlagon felüli ár"
                                },
                                {
                                    "KAT_NEV": "ajándék tasak",
                                    "LISTAAR": "125",
                                    "MEGNEVEZES": "Ajándék csom. 200x70",
                                    "Átlaghoz visszonyított ár": "Átlagon aluli ár"
                                },
                                {
                                    "KAT_NEV": "ajándék tasak",
                                    "LISTAAR": "64",
                                    "MEGNEVEZES": "Ajándék csom. 50x70 húsvéti",
                                    "Átlaghoz visszonyított ár": "Átlagon aluli ár"
                                },
                                {
                                    "KAT_NEV": "ajándék tasak",
                                    "LISTAAR": "81",
                                    "MEGNEVEZES": "Ajándék csom. 70x50 metál",
                                    "Átlaghoz visszonyított ár": "Átlagon aluli ár"
                                },
                                {
                                    "KAT_NEV": "ajándék tasak",
                                    "LISTAAR": "169",
                                    "MEGNEVEZES": "Ajándék csom. gyűrt",
                                    "Átlaghoz visszonyított ár": "Átlagon felüli ár"
                                },
                                {
                                    "KAT_NEV": "ajándék tasak",
                                    "LISTAAR": "185",
                                    "MEGNEVEZES": "Ajándék csomagoló tasak",
                                    "Átlaghoz visszonyított ár": "Átlagon felüli ár"
                                },
                                {
                                    "KAT_NEV": "ajándék tasak",
                                    "LISTAAR": "214",
                                    "MEGNEVEZES": "Ajándék csomagoló tasak lézeres",
                                    "Átlaghoz visszonyított ár": "Átlagon felüli ár"
                                },
                                {
                                    "KAT_NEV": "ajándék tasak",
                                    "LISTAAR": "114",
                                    "MEGNEVEZES": "Italtartó doboz",
                                    "Átlaghoz visszonyított ár": "Átlagon aluli ár"
                                },
                                {
                                    "KAT_NEV": "ajándék tasak",
                                    "LISTAAR": "11",
                                    "MEGNEVEZES": "Mikulás zacskó",
                                    "Átlaghoz visszonyított ár": "Átlagon aluli ár"
                                },
                                {
                                    "KAT_NEV": "ajándék tasak",
                                    "LISTAAR": "40",
                                    "MEGNEVEZES": "Talpas tasak",
                                    "Átlaghoz visszonyított ár": "Átlagon aluli ár"
                                },
                                {
                                    "KAT_NEV": "álarc",
                                    "LISTAAR": "89",
                                    "MEGNEVEZES": "Álarc",
                                    "Átlaghoz visszonyított ár": "Átlagon aluli ár"
                                },
                                {
                                    "KAT_NEV": "álarc",
                                    "LISTAAR": "144",
                                    "MEGNEVEZES": "Álarc fejdísz",
                                    "Átlaghoz visszonyított ár": "Átlagon felüli ár"
                                },
                                {
                                    "KAT_NEV": "álarc",
                                    "LISTAAR": "144",
                                    "MEGNEVEZES": "Álarc szemüveg",
                                    "Átlaghoz visszonyított ár": "Átlagon felüli ár"
                                },
                                {
                                    "KAT_NEV": "alkalmi",
                                    "LISTAAR": "16900",
                                    "MEGNEVEZES": "fiú ünneplős ruha",
                                    "Átlaghoz visszonyított ár": "Átlagon aluli ár"
                                },
                                {
                                    "KAT_NEV": "alkalmi",
                                    "LISTAAR": "16900",
                                    "MEGNEVEZES": "lány ünneplős ruha",
                                    "Átlaghoz visszonyított ár": "Átlagon aluli ár"
                                },
                                {
                                    "KAT_NEV": "alkalmi",
                                    "LISTAAR": "32000",
                                    "MEGNEVEZES": "női koktélruha",
                                    "Átlaghoz visszonyított ár": "Átlagon felüli ár"
                                },
                                {
                                    "KAT_NEV": "alufólia",
                                    "LISTAAR": "118",
                                    "MEGNEVEZES": "Alufólia 10 m-es",
                                    "Átlaghoz visszonyított ár": "Átlagon aluli ár"
                                },
                                {
                                    "KAT_NEV": "alufólia",
                                    "LISTAAR": "214",
                                    "MEGNEVEZES": "Alufólia 20 m-es",
                                    "Átlaghoz visszonyított ár": "Átlagon felüli ár"
                                },
                                {
                                    "KAT_NEV": "árazószalag",
                                    "LISTAAR": "106",
                                    "MEGNEVEZES": "Árazószalag ",
                                    "Átlaghoz visszonyított ár": "Átlagon aluli ár"
                                },
                                {
                                    "KAT_NEV": "átírótömb",
                                    "LISTAAR": "115",
                                    "MEGNEVEZES": "Átírótömb A/6",
                                    "Átlaghoz visszonyított ár": "Átlagon aluli ár"
                                },
                                {
                                    "KAT_NEV": "beíró",
                                    "LISTAAR": "228",
                                    "MEGNEVEZES": "Beíró A/5 kockás",
                                    "Átlaghoz visszonyított ár": "Átlagon aluli ár"
                                },
                                {
                                    "KAT_NEV": "beírókönyv",
                                    "LISTAAR": "328",
                                    "MEGNEVEZES": "Beírókönyv A4",
                                    "Átlaghoz visszonyított ár": "Átlagon felüli ár"
                                },
                                {
                                    "KAT_NEV": "beírókönyv",
                                    "LISTAAR": "133",
                                    "MEGNEVEZES": "Beírókönyv A5 ",
                                    "Átlaghoz visszonyított ár": "Átlagon aluli ár"
                                },
                                {
                                    "KAT_NEV": "bélyegző",
                                    "LISTAAR": "780",
                                    "MEGNEVEZES": "Bélyegző IDEAL 50",
                                    "Átlaghoz visszonyított ár": "Átlagon aluli ár"
                                },
                                {
                                    "KAT_NEV": "bélyegző",
                                    "LISTAAR": "650",
                                    "MEGNEVEZES": "Bélyegző párna",
                                    "Átlaghoz visszonyított ár": "Átlagon aluli ár"
                                },
                                {
                                    "KAT_NEV": "bélyegző",
                                    "LISTAAR": "1377",
                                    "MEGNEVEZES": "Bélyegző pocket",
                                    "Átlaghoz visszonyított ár": "Átlagon felüli ár"
                                },
                                {
                                    "KAT_NEV": "bélyegző",
                                    "LISTAAR": "1147",
                                    "MEGNEVEZES": "Bélyegző RP 18-47",
                                    "Átlaghoz visszonyított ár": "Átlagon felüli ár"
                                },
                                {
                                    "KAT_NEV": "bélyegzőfesték",
                                    "LISTAAR": "297",
                                    "MEGNEVEZES": "Bélyegzőfesték ",
                                    "Átlaghoz visszonyított ár": "Átlagon aluli ár"
                                },
                                {
                                    "KAT_NEV": "boríték",
                                    "LISTAAR": "18",
                                    "MEGNEVEZES": "Boríték B/4-es",
                                    "Átlaghoz visszonyított ár": "Átlagon felüli ár"
                                },
                                {
                                    "KAT_NEV": "boríték",
                                    "LISTAAR": "15",
                                    "MEGNEVEZES": "Boríték C/4-es",
                                    "Átlaghoz visszonyított ár": "Átlagon felüli ár"
                                },
                                {
                                    "KAT_NEV": "boríték",
                                    "LISTAAR": "6",
                                    "MEGNEVEZES": "Boríték LA 4 francia",
                                    "Átlaghoz visszonyított ár": "Átlagon aluli ár"
                                },
                                {
                                    "KAT_NEV": "boríték",
                                    "LISTAAR": "6",
                                    "MEGNEVEZES": "Boríték LC 5",
                                    "Átlaghoz visszonyított ár": "Átlagon aluli ár"
                                },
                                {
                                    "KAT_NEV": "boríték",
                                    "LISTAAR": "3",
                                    "MEGNEVEZES": "Boríték LC 6",
                                    "Átlaghoz visszonyított ár": "Átlagon aluli ár"
                                },
                                {
                                    "KAT_NEV": "boríték",
                                    "LISTAAR": "39",
                                    "MEGNEVEZES": "Boríték légp. kicsi",
                                    "Átlaghoz visszonyított ár": "Átlagon felüli ár"
                                },
                                {
                                    "KAT_NEV": "boríték",
                                    "LISTAAR": "15",
                                    "MEGNEVEZES": "Boríték mintás",
                                    "Átlaghoz visszonyított ár": "Átlagon felüli ár"
                                },
                                {
                                    "KAT_NEV": "cd tok",
                                    "LISTAAR": "30",
                                    "MEGNEVEZES": "CD tartó tok",
                                    "Átlaghoz visszonyított ár": "Átlagon aluli ár"
                                },
                                {
                                    "KAT_NEV": "celofán",
                                    "LISTAAR": "46",
                                    "MEGNEVEZES": "Celofán",
                                    "Átlaghoz visszonyított ár": "Átlagon aluli ár"
                                },
                                {
                                    "KAT_NEV": "celofán",
                                    "LISTAAR": "73",
                                    "MEGNEVEZES": "Celofán 50 db-os",
                                    "Átlaghoz visszonyított ár": "Átlagon felüli ár"
                                },
                                {
                                    "KAT_NEV": "ceruza",
                                    "LISTAAR": "53",
                                    "MEGNEVEZES": "Ceruza 2H-3B Koh-i-nor",
                                    "Átlaghoz visszonyított ár": "Átlagon felüli ár"
                                },
                                {
                                    "KAT_NEV": "ceruza",
                                    "LISTAAR": "39",
                                    "MEGNEVEZES": "Ceruza 2H-4B",
                                    "Átlaghoz visszonyított ár": "Átlagon aluli ár"
                                },
                                {
                                    "KAT_NEV": "ceruza",
                                    "LISTAAR": "55",
                                    "MEGNEVEZES": "Ceruza arany, ezüst",
                                    "Átlaghoz visszonyított ár": "Átlagon felüli ár"
                                },
                                {
                                    "KAT_NEV": "ceruza",
                                    "LISTAAR": "40",
                                    "MEGNEVEZES": "Ceruza Conté zöld",
                                    "Átlaghoz visszonyított ár": "Átlagon aluli ár"
                                },
                                {
                                    "KAT_NEV": "ceruza",
                                    "LISTAAR": "30",
                                    "MEGNEVEZES": "Ceruza Cseh",
                                    "Átlaghoz visszonyított ár": "Átlagon aluli ár"
                                },
                                {
                                    "KAT_NEV": "ceruza",
                                    "LISTAAR": "39",
                                    "MEGNEVEZES": "Ceruza háromszög ",
                                    "Átlaghoz visszonyított ár": "Átlagon aluli ár"
                                },
                                {
                                    "KAT_NEV": "ceruza",
                                    "LISTAAR": "23",
                                    "MEGNEVEZES": "Ceruza HB radiros",
                                    "Átlaghoz visszonyított ár": "Átlagon aluli ár"
                                },
                                {
                                    "KAT_NEV": "ceruza",
                                    "LISTAAR": "55",
                                    "MEGNEVEZES": "Ceruza kártyás",
                                    "Átlaghoz visszonyított ár": "Átlagon felüli ár"
                                },
                                {
                                    "KAT_NEV": "ceruza",
                                    "LISTAAR": "11",
                                    "MEGNEVEZES": "Ceruza kínai",
                                    "Átlaghoz visszonyított ár": "Átlagon aluli ár"
                                },
                                {
                                    "KAT_NEV": "ceruza",
                                    "LISTAAR": "59",
                                    "MEGNEVEZES": "Ceruza piros-kék",
                                    "Átlaghoz visszonyított ár": "Átlagon felüli ár"
                                },
                                {
                                    "KAT_NEV": "ceruza",
                                    "LISTAAR": "40",
                                    "MEGNEVEZES": "Ceruza piros-kék vékony",
                                    "Átlaghoz visszonyított ár": "Átlagon aluli ár"
                                },
                                {
                                    "KAT_NEV": "ceruza",
                                    "LISTAAR": "106",
                                    "MEGNEVEZES": "Ceruza Progresso",
                                    "Átlaghoz visszonyított ár": "Átlagon felüli ár"
                                },
                                {
                                    "KAT_NEV": "ceruza",
                                    "LISTAAR": "11",
                                    "MEGNEVEZES": "Ceruza radíros kínai",
                                    "Átlaghoz visszonyított ár": "Átlagon aluli ár"
                                },
                                {
                                    "KAT_NEV": "ceruza",
                                    "LISTAAR": "58",
                                    "MEGNEVEZES": "Ceruza smaragd",
                                    "Átlaghoz visszonyított ár": "Átlagon felüli ár"
                                },
                                {
                                    "KAT_NEV": "ceruza",
                                    "LISTAAR": "44",
                                    "MEGNEVEZES": "Ceruza stabilo opera",
                                    "Átlaghoz visszonyított ár": "Átlagon aluli ár"
                                },
                                {
                                    "KAT_NEV": "ceruza",
                                    "LISTAAR": "36",
                                    "MEGNEVEZES": "Ceruza stabilo swano",
                                    "Átlaghoz visszonyított ár": "Átlagon aluli ár"
                                },
                                {
                                    "KAT_NEV": "ceruza",
                                    "LISTAAR": "146",
                                    "MEGNEVEZES": "Ceruza szén",
                                    "Átlaghoz visszonyított ár": "Átlagon felüli ár"
                                },
                                {
                                    "KAT_NEV": "ceruza",
                                    "LISTAAR": "35",
                                    "MEGNEVEZES": "Ceruza szorzótáblás",
                                    "Átlaghoz visszonyított ár": "Átlagon aluli ár"
                                },
                                {
                                    "KAT_NEV": "ceruza",
                                    "LISTAAR": "40",
                                    "MEGNEVEZES": "Ceruza zöld színű",
                                    "Átlaghoz visszonyított ár": "Átlagon aluli ár"
                                },
                                {
                                    "KAT_NEV": "címke",
                                    "LISTAAR": "26",
                                    "MEGNEVEZES": "Címke 8 db-os",
                                    "Átlaghoz visszonyított ár": "Átlagon felüli ár"
                                },
                                {
                                    "KAT_NEV": "címke",
                                    "LISTAAR": "20",
                                    "MEGNEVEZES": "Címke egyszínű",
                                    "Átlaghoz visszonyított ár": "Átlagon aluli ár"
                                },
                                {
                                    "KAT_NEV": "címke",
                                    "LISTAAR": "31",
                                    "MEGNEVEZES": "Címke WD. állat",
                                    "Átlaghoz visszonyított ár": "Átlagon felüli ár"
                                },
                                {
                                    "KAT_NEV": "color copy",
                                    "LISTAAR": "14",
                                    "MEGNEVEZES": "Color Copy 160 g-os ",
                                    "Átlaghoz visszonyított ár": "Átlagon aluli ár"
                                },
                                {
                                    "KAT_NEV": "color copy",
                                    "LISTAAR": "15",
                                    "MEGNEVEZES": "Color Copy A/4 250 g",
                                    "Átlaghoz visszonyított ár": "Átlagon aluli ár"
                                },
                                {
                                    "KAT_NEV": "color copy",
                                    "LISTAAR": "10",
                                    "MEGNEVEZES": "Color Copy A4 120 g",
                                    "Átlaghoz visszonyított ár": "Átlagon aluli ár"
                                },
                                {
                                    "KAT_NEV": "color copy",
                                    "LISTAAR": "14",
                                    "MEGNEVEZES": "Color Copy A4 200 g",
                                    "Átlaghoz visszonyított ár": "Átlagon aluli ár"
                                },
                                {
                                    "KAT_NEV": "color copy",
                                    "LISTAAR": "1500",
                                    "MEGNEVEZES": "Színes másoló a/4 80g",
                                    "Átlaghoz visszonyított ár": "Átlagon felüli ár"
                                },
                                {
                                    "KAT_NEV": "csomagoló",
                                    "LISTAAR": "110",
                                    "MEGNEVEZES": "házt.csom.  5 ív",
                                    "Átlaghoz visszonyított ár": "Átlagon felüli ár"
                                },
                                {
                                    "KAT_NEV": "csomagoló",
                                    "LISTAAR": "89",
                                    "MEGNEVEZES": "Szilvia csomagoló",
                                    "Átlaghoz visszonyított ár": "Átlagon aluli ár"
                                },
                                {
                                    "KAT_NEV": "csomagoló papír",
                                    "LISTAAR": "106",
                                    "MEGNEVEZES": "Ajándék cs. húsvéti",
                                    "Átlaghoz visszonyított ár": "Átlagon felüli ár"
                                },
                                {
                                    "KAT_NEV": "csomagoló papír",
                                    "LISTAAR": "220",
                                    "MEGNEVEZES": "Ajándék cs. húsvéti 200x70",
                                    "Átlaghoz visszonyított ár": "Átlagon felüli ár"
                                },
                                {
                                    "KAT_NEV": "csomagoló papír",
                                    "LISTAAR": "121",
                                    "MEGNEVEZES": "Ajándék csom. gyűrt 50x70 ",
                                    "Átlaghoz visszonyított ár": "Átlagon felüli ár"
                                },
                                {
                                    "KAT_NEV": "csomagoló papír",
                                    "LISTAAR": "56",
                                    "MEGNEVEZES": "Ajándék csom. Krepp",
                                    "Átlaghoz visszonyított ár": "Átlagon aluli ár"
                                },
                                {
                                    "KAT_NEV": "csomagoló papír",
                                    "LISTAAR": "44",
                                    "MEGNEVEZES": "Ajándék csom. nagy  ",
                                    "Átlaghoz visszonyított ár": "Átlagon aluli ár"
                                },
                                {
                                    "KAT_NEV": "csomagoló papír",
                                    "LISTAAR": "23",
                                    "MEGNEVEZES": "Ajándék csom. vékony",
                                    "Átlaghoz visszonyított ár": "Átlagon aluli ár"
                                },
                                {
                                    "KAT_NEV": "csomagoló papír",
                                    "LISTAAR": "148",
                                    "MEGNEVEZES": "iskolai csomagoló papír",
                                    "Átlaghoz visszonyított ár": "Átlagon felüli ár"
                                },
                                {
                                    "KAT_NEV": "dekor",
                                    "LISTAAR": "44",
                                    "MEGNEVEZES": "Műanyag állatok",
                                    "Átlaghoz visszonyított ár": "Átlagon felüli ár"
                                },
                                {
                                    "KAT_NEV": "dekor",
                                    "LISTAAR": "23",
                                    "MEGNEVEZES": "Műanyag foszforeszkáló állat",
                                    "Átlaghoz visszonyított ár": "Átlagon felüli ár"
                                },
                                {
                                    "KAT_NEV": "dekor",
                                    "LISTAAR": "3",
                                    "MEGNEVEZES": "Műanyag pohár 1 dl-es",
                                    "Átlaghoz visszonyított ár": "Átlagon aluli ár"
                                },
                                {
                                    "KAT_NEV": "dekor",
                                    "LISTAAR": "15",
                                    "MEGNEVEZES": "Műanyag pohár 5 cl-es",
                                    "Átlaghoz visszonyított ár": "Átlagon aluli ár"
                                },
                                {
                                    "KAT_NEV": "dipa",
                                    "LISTAAR": "9",
                                    "MEGNEVEZES": "Dipa A/4 keretezett",
                                    "Átlaghoz visszonyított ár": "Átlagon aluli ár"
                                },
                                {
                                    "KAT_NEV": "díszdoboz",
                                    "LISTAAR": "61",
                                    "MEGNEVEZES": "Díszdoboz kar.",
                                    "Átlaghoz visszonyított ár": "Átlagon felüli ár"
                                },
                                {
                                    "KAT_NEV": "díszdoboz",
                                    "LISTAAR": "66",
                                    "MEGNEVEZES": "Díszdoboz tollnak 2 db-os",
                                    "Átlaghoz visszonyított ár": "Átlagon felüli ár"
                                },
                                {
                                    "KAT_NEV": "díszdoboz",
                                    "LISTAAR": "44",
                                    "MEGNEVEZES": "Díszdoboz tollnak 2 db-os keskeny",
                                    "Átlaghoz visszonyított ár": "Átlagon aluli ár"
                                },
                                {
                                    "KAT_NEV": "díszkötöző",
                                    "LISTAAR": "44",
                                    "MEGNEVEZES": "Diszkötöző szalag arany",
                                    "Átlaghoz visszonyított ár": "Átlagon felüli ár"
                                },
                                {
                                    "KAT_NEV": "díszkötöző",
                                    "LISTAAR": "15",
                                    "MEGNEVEZES": "Díszkötöző szalag metál kicsi",
                                    "Átlaghoz visszonyított ár": "Átlagon aluli ár"
                                },
                                {
                                    "KAT_NEV": "díszkötöző",
                                    "LISTAAR": "26",
                                    "MEGNEVEZES": "Díszkötöző szalag metál nagy",
                                    "Átlaghoz visszonyított ár": "Átlagon aluli ár"
                                },
                                {
                                    "KAT_NEV": "díszkötöző",
                                    "LISTAAR": "15",
                                    "MEGNEVEZES": "Díszkötöző szalag vékony",
                                    "Átlaghoz visszonyított ár": "Átlagon aluli ár"
                                },
                                {
                                    "KAT_NEV": "díszkötöző",
                                    "LISTAAR": "81",
                                    "MEGNEVEZES": "Diszkötöző széles szalag",
                                    "Átlaghoz visszonyított ár": "Átlagon felüli ár"
                                },
                                {
                                    "KAT_NEV": "dvd",
                                    "LISTAAR": "133",
                                    "MEGNEVEZES": "Dvd",
                                    "Átlaghoz visszonyított ár": "Átlagon aluli ár"
                                },
                                {
                                    "KAT_NEV": "ecset",
                                    "LISTAAR": "40",
                                    "MEGNEVEZES": "Ecset Centrum 10,11,12",
                                    "Átlaghoz visszonyított ár": "Átlagon aluli ár"
                                },
                                {
                                    "KAT_NEV": "ecset",
                                    "LISTAAR": "33",
                                    "MEGNEVEZES": "Ecset Centrum 7,8,9",
                                    "Átlaghoz visszonyított ár": "Átlagon aluli ár"
                                },
                                {
                                    "KAT_NEV": "ecset",
                                    "LISTAAR": "60",
                                    "MEGNEVEZES": "Ecset Deák 2-es",
                                    "Átlaghoz visszonyított ár": "Átlagon aluli ár"
                                },
                                {
                                    "KAT_NEV": "ecset",
                                    "LISTAAR": "65",
                                    "MEGNEVEZES": "Ecset Lizzy 10-es",
                                    "Átlaghoz visszonyított ár": "Átlagon aluli ár"
                                },
                                {
                                    "KAT_NEV": "ecset",
                                    "LISTAAR": "79",
                                    "MEGNEVEZES": "Ecset Nebuló 10-es",
                                    "Átlaghoz visszonyított ár": "Átlagon felüli ár"
                                },
                                {
                                    "KAT_NEV": "ecset",
                                    "LISTAAR": "36",
                                    "MEGNEVEZES": "Ecset Nebulo 4-es",
                                    "Átlaghoz visszonyított ár": "Átlagon aluli ár"
                                },
                                {
                                    "KAT_NEV": "ecset",
                                    "LISTAAR": "180",
                                    "MEGNEVEZES": "Ecsetkészlet",
                                    "Átlaghoz visszonyított ár": "Átlagon felüli ár"
                                },
                                {
                                    "KAT_NEV": "előlap",
                                    "LISTAAR": "25",
                                    "MEGNEVEZES": "Előlap spirálhoz",
                                    "Átlaghoz visszonyított ár": "Átlagon aluli ár"
                                },
                                {
                                    "KAT_NEV": "emlékkönyv",
                                    "LISTAAR": "316",
                                    "MEGNEVEZES": "Emlékkönyv",
                                    "Átlaghoz visszonyított ár": "Átlagon aluli ár"
                                },
                                {
                                    "KAT_NEV": "emlékkönyv",
                                    "LISTAAR": "526",
                                    "MEGNEVEZES": "Emlékkönyv",
                                    "Átlaghoz visszonyított ár": "Átlagon felüli ár"
                                },
                                {
                                    "KAT_NEV": "emlékkönyv",
                                    "LISTAAR": "449",
                                    "MEGNEVEZES": "Emlékkönyv lakatos",
                                    "Átlaghoz visszonyított ár": "Átlagon felüli ár"
                                },
                                {
                                    "KAT_NEV": "emléklap",
                                    "LISTAAR": "26",
                                    "MEGNEVEZES": "Emléklap A/5",
                                    "Átlaghoz visszonyított ár": "Átlagon aluli ár"
                                },
                                {
                                    "KAT_NEV": "fax papír",
                                    "LISTAAR": "161",
                                    "MEGNEVEZES": "Fax papír 15 m",
                                    "Átlaghoz visszonyított ár": "Átlagon aluli ár"
                                },
                                {
                                    "KAT_NEV": "fehérnemű",
                                    "LISTAAR": "390",
                                    "MEGNEVEZES": "fiú alsó",
                                    "Átlaghoz visszonyított ár": "Átlagon aluli ár"
                                },
                                {
                                    "KAT_NEV": "fehérnemű",
                                    "LISTAAR": "990",
                                    "MEGNEVEZES": "fiú harisnya",
                                    "Átlaghoz visszonyított ár": "Átlagon felüli ár"
                                },
                                {
                                    "KAT_NEV": "fehérnemű",
                                    "LISTAAR": "240",
                                    "MEGNEVEZES": "fiú zokni",
                                    "Átlaghoz visszonyított ár": "Átlagon aluli ár"
                                },
                                {
                                    "KAT_NEV": "fehérnemű",
                                    "LISTAAR": "390",
                                    "MEGNEVEZES": "lány alsó",
                                    "Átlaghoz visszonyított ár": "Átlagon aluli ár"
                                },
                                {
                                    "KAT_NEV": "fehérnemű",
                                    "LISTAAR": "990",
                                    "MEGNEVEZES": "lány harisnya",
                                    "Átlaghoz visszonyított ár": "Átlagon felüli ár"
                                },
                                {
                                    "KAT_NEV": "fehérnemű",
                                    "LISTAAR": "240",
                                    "MEGNEVEZES": "lány zokni",
                                    "Átlaghoz visszonyított ár": "Átlagon aluli ár"
                                },
                                {
                                    "KAT_NEV": "fehérnemű",
                                    "LISTAAR": "690",
                                    "MEGNEVEZES": "női alsó",
                                    "Átlaghoz visszonyított ár": "Átlagon felüli ár"
                                },
                                {
                                    "KAT_NEV": "fénymásoló papír",
                                    "LISTAAR": "1488",
                                    "MEGNEVEZES": "Fehér másoló A/3",
                                    "Átlaghoz visszonyított ár": "Átlagon felüli ár"
                                },
                                {
                                    "KAT_NEV": "fénymásoló papír",
                                    "LISTAAR": "686",
                                    "MEGNEVEZES": "Fehér másoló A/4",
                                    "Átlaghoz visszonyított ár": "Átlagon aluli ár"
                                },
                                {
                                    "KAT_NEV": "fénymásoló papír",
                                    "LISTAAR": "845",
                                    "MEGNEVEZES": "Fénymásoló papír DataCopy",
                                    "Átlaghoz visszonyított ár": "Átlagon aluli ár"
                                },
                                {
                                    "KAT_NEV": "fénymásoló papír",
                                    "LISTAAR": "728",
                                    "MEGNEVEZES": "Fénymásoló papír GetCopy",
                                    "Átlaghoz visszonyított ár": "Átlagon aluli ár"
                                },
                                {
                                    "KAT_NEV": "fénymásoló papír",
                                    "LISTAAR": "728",
                                    "MEGNEVEZES": "Fénymásoló papír Qconnect",
                                    "Átlaghoz visszonyított ár": "Átlagon aluli ár"
                                },
                                {
                                    "KAT_NEV": "férfi ing",
                                    "LISTAAR": "6490",
                                    "MEGNEVEZES": "férfi ing",
                                    "Átlaghoz visszonyított ár": "Átlagon aluli ár"
                                },
                                {
                                    "KAT_NEV": "férfi kabát",
                                    "LISTAAR": "22000",
                                    "MEGNEVEZES": "férfi szövet kabát",
                                    "Átlaghoz visszonyított ár": "Átlagon aluli ár"
                                },
                                {
                                    "KAT_NEV": "férfi nadrág",
                                    "LISTAAR": "7890",
                                    "MEGNEVEZES": "férfi farmer nadrág",
                                    "Átlaghoz visszonyított ár": "Átlagon aluli ár"
                                },
                                {
                                    "KAT_NEV": "férfi nadrág",
                                    "LISTAAR": "11900",
                                    "MEGNEVEZES": "férfi szövet nadrág",
                                    "Átlaghoz visszonyított ár": "Átlagon felüli ár"
                                },
                                {
                                    "KAT_NEV": "festékpatron",
                                    "LISTAAR": "625",
                                    "MEGNEVEZES": "Festékpatron BCI-3BK",
                                    "Átlaghoz visszonyított ár": "Átlagon aluli ár"
                                },
                                {
                                    "KAT_NEV": "filctoll",
                                    "LISTAAR": "26",
                                    "MEGNEVEZES": "Filctoll ",
                                    "Átlaghoz visszonyított ár": "Átlagon aluli ár"
                                },
                                {
                                    "KAT_NEV": "filctoll",
                                    "LISTAAR": "0",
                                    "MEGNEVEZES": "Filctoll CD író",
                                    "Átlaghoz visszonyított ár": "Átlagon aluli ár"
                                },
                                {
                                    "KAT_NEV": "filctoll",
                                    "LISTAAR": "278",
                                    "MEGNEVEZES": "Filctoll document pen",
                                    "Átlaghoz visszonyított ár": "Átlagon felüli ár"
                                },
                                {
                                    "KAT_NEV": "filctoll",
                                    "LISTAAR": "434",
                                    "MEGNEVEZES": "Filctoll Edding 750",
                                    "Átlaghoz visszonyított ár": "Átlagon felüli ár"
                                },
                                {
                                    "KAT_NEV": "filctoll",
                                    "LISTAAR": "390",
                                    "MEGNEVEZES": "Filctoll Marvy alkoholos",
                                    "Átlaghoz visszonyított ár": "Átlagon felüli ár"
                                },
                                {
                                    "KAT_NEV": "filctoll",
                                    "LISTAAR": "140",
                                    "MEGNEVEZES": "Filctoll permanent vastag",
                                    "Átlaghoz visszonyított ár": "Átlagon aluli ár"
                                },
                                {
                                    "KAT_NEV": "filctoll",
                                    "LISTAAR": "46",
                                    "MEGNEVEZES": "Filctoll supra fine",
                                    "Átlaghoz visszonyított ár": "Átlagon aluli ár"
                                },
                                {
                                    "KAT_NEV": "filctoll",
                                    "LISTAAR": "53",
                                    "MEGNEVEZES": "Filctoll TINTEN PEN",
                                    "Átlaghoz visszonyított ár": "Átlagon aluli ár"
                                },
                                {
                                    "KAT_NEV": "filctoll",
                                    "LISTAAR": "76",
                                    "MEGNEVEZES": "Filctoll vastag ARTIP",
                                    "Átlaghoz visszonyított ár": "Átlagon aluli ár"
                                },
                                {
                                    "KAT_NEV": "filctoll",
                                    "LISTAAR": "114",
                                    "MEGNEVEZES": "Filctoll, alkoholos Centropen",
                                    "Átlaghoz visszonyított ár": "Átlagon aluli ár"
                                },
                                {
                                    "KAT_NEV": "filctoll",
                                    "LISTAAR": "103",
                                    "MEGNEVEZES": "Filctoll, alkoholosOHP F-M-C",
                                    "Átlaghoz visszonyított ár": "Átlagon aluli ár"
                                },
                                {
                                    "KAT_NEV": "filctoll",
                                    "LISTAAR": "276",
                                    "MEGNEVEZES": "Filctoll, textil Edding 4500",
                                    "Átlaghoz visszonyított ár": "Átlagon felüli ár"
                                },
                                {
                                    "KAT_NEV": "filctoll",
                                    "LISTAAR": "434",
                                    "MEGNEVEZES": "Lakk filc Edding 750",
                                    "Átlaghoz visszonyított ár": "Átlagon felüli ár"
                                },
                                {
                                    "KAT_NEV": "floppy",
                                    "LISTAAR": "51",
                                    "MEGNEVEZES": "Floppy lemez",
                                    "Átlaghoz visszonyított ár": "Átlagon aluli ár"
                                },
                                {
                                    "KAT_NEV": "fólia",
                                    "LISTAAR": "44",
                                    "MEGNEVEZES": "Fólia tasakos A4 125 mik.",
                                    "Átlaghoz visszonyított ár": "Átlagon felüli ár"
                                },
                                {
                                    "KAT_NEV": "fólia",
                                    "LISTAAR": "40",
                                    "MEGNEVEZES": "Fólia tasakos A4 80 mik.",
                                    "Átlaghoz visszonyított ár": "Átlagon aluli ár"
                                },
                                {
                                    "KAT_NEV": "fólia",
                                    "LISTAAR": "44",
                                    "MEGNEVEZES": "Fólia tasakos A4100 mik.",
                                    "Átlaghoz visszonyított ár": "Átlagon felüli ár"
                                },
                                {
                                    "KAT_NEV": "fotópapír",
                                    "LISTAAR": "30",
                                    "MEGNEVEZES": "Fotópapír A/4 fényes",
                                    "Átlaghoz visszonyított ár": "Átlagon aluli ár"
                                },
                                {
                                    "KAT_NEV": "füzet",
                                    "LISTAAR": "68",
                                    "MEGNEVEZES": "Füzet  A/4 ",
                                    "Átlaghoz visszonyított ár": "Átlagon aluli ár"
                                },
                                {
                                    "KAT_NEV": "füzet",
                                    "LISTAAR": "78",
                                    "MEGNEVEZES": "Füzet  A4 mintás",
                                    "Átlaghoz visszonyított ár": "Átlagon aluli ár"
                                },
                                {
                                    "KAT_NEV": "füzet",
                                    "LISTAAR": "34",
                                    "MEGNEVEZES": "Füzet 31-32 szótár",
                                    "Átlaghoz visszonyított ár": "Átlagon aluli ár"
                                },
                                {
                                    "KAT_NEV": "füzet",
                                    "LISTAAR": "30",
                                    "MEGNEVEZES": "Füzet A/5 hangjegy 36/16",
                                    "Átlaghoz visszonyított ár": "Átlagon aluli ár"
                                },
                                {
                                    "KAT_NEV": "füzet",
                                    "LISTAAR": "48",
                                    "MEGNEVEZES": "Füzet A/5, mintás",
                                    "Átlaghoz visszonyított ár": "Átlagon aluli ár"
                                },
                                {
                                    "KAT_NEV": "füzet",
                                    "LISTAAR": "34",
                                    "MEGNEVEZES": "Füzet A5 1-8 osz.-ig",
                                    "Átlaghoz visszonyított ár": "Átlagon aluli ár"
                                },
                                {
                                    "KAT_NEV": "füzet",
                                    "LISTAAR": "144",
                                    "MEGNEVEZES": "Sp.Füzet A/4  70es",
                                    "Átlaghoz visszonyított ár": "Átlagon felüli ár"
                                },
                                {
                                    "KAT_NEV": "füzet",
                                    "LISTAAR": "206",
                                    "MEGNEVEZES": "Sp.Füzet A/4  perforált, lyuk.",
                                    "Átlaghoz visszonyított ár": "Átlagon felüli ár"
                                },
                                {
                                    "KAT_NEV": "füzet",
                                    "LISTAAR": "155",
                                    "MEGNEVEZES": "Sp.Füzet A/4 70-as",
                                    "Átlaghoz visszonyított ár": "Átlagon felüli ár"
                                },
                                {
                                    "KAT_NEV": "füzet",
                                    "LISTAAR": "89",
                                    "MEGNEVEZES": "Sp.Füzet A/5 70-es",
                                    "Átlaghoz visszonyított ár": "Átlagon aluli ár"
                                },
                                {
                                    "KAT_NEV": "füzet",
                                    "LISTAAR": "161",
                                    "MEGNEVEZES": "Szótárfüzet Lizzy",
                                    "Átlaghoz visszonyított ár": "Átlagon felüli ár"
                                },
                                {
                                    "KAT_NEV": "füzetborító",
                                    "LISTAAR": "10",
                                    "MEGNEVEZES": "Füzetborító A/4 átlátszó",
                                    "Átlaghoz visszonyított ár": "Átlagon aluli ár"
                                },
                                {
                                    "KAT_NEV": "füzetborító",
                                    "LISTAAR": "24",
                                    "MEGNEVEZES": "Füzetborító A/4 mintás",
                                    "Átlaghoz visszonyított ár": "Átlagon aluli ár"
                                },
                                {
                                    "KAT_NEV": "füzetborító",
                                    "LISTAAR": "8",
                                    "MEGNEVEZES": "Füzetborító átlátszó A5",
                                    "Átlaghoz visszonyított ár": "Átlagon aluli ár"
                                },
                                {
                                    "KAT_NEV": "füzetborító",
                                    "LISTAAR": "23",
                                    "MEGNEVEZES": "Füzetborító öntapadó kicsi",
                                    "Átlaghoz visszonyított ár": "Átlagon aluli ár"
                                },
                                {
                                    "KAT_NEV": "füzetborító",
                                    "LISTAAR": "195",
                                    "MEGNEVEZES": "Füzetborító öntapadó tekercses",
                                    "Átlaghoz visszonyított ár": "Átlagon felüli ár"
                                },
                                {
                                    "KAT_NEV": "füzetborító",
                                    "LISTAAR": "19",
                                    "MEGNEVEZES": "Füzetborító öntapadós nagy",
                                    "Átlaghoz visszonyított ár": "Átlagon aluli ár"
                                },
                                {
                                    "KAT_NEV": "füzettartó",
                                    "LISTAAR": "508",
                                    "MEGNEVEZES": "Füzettartó A/4 keménytáblás",
                                    "Átlaghoz visszonyított ár": "Átlagon felüli ár"
                                },
                                {
                                    "KAT_NEV": "füzettartó",
                                    "LISTAAR": "551",
                                    "MEGNEVEZES": "Füzettartó A/4 keménytáblás",
                                    "Átlaghoz visszonyított ár": "Átlagon felüli ár"
                                },
                                {
                                    "KAT_NEV": "füzettartó",
                                    "LISTAAR": "203",
                                    "MEGNEVEZES": "Füzettartó A/5  ",
                                    "Átlaghoz visszonyított ár": "Átlagon aluli ár"
                                },
                                {
                                    "KAT_NEV": "füzettartó",
                                    "LISTAAR": "411",
                                    "MEGNEVEZES": "Füzettartó A/5 vastag",
                                    "Átlaghoz visszonyított ár": "Átlagon aluli ár"
                                },
                                {
                                    "KAT_NEV": "gemkapocs",
                                    "LISTAAR": "30",
                                    "MEGNEVEZES": "Gemkapocs 28 mm",
                                    "Átlaghoz visszonyított ár": "Átlagon aluli ár"
                                },
                                {
                                    "KAT_NEV": "gemkapocs",
                                    "LISTAAR": "48",
                                    "MEGNEVEZES": "Gemkapocs ICO",
                                    "Átlaghoz visszonyított ár": "Átlagon felüli ár"
                                },
                                {
                                    "KAT_NEV": "gémkapocs",
                                    "LISTAAR": "44",
                                    "MEGNEVEZES": "Gémkapocs 28-as színes",
                                    "Átlaghoz visszonyított ár": "Átlagon aluli ár"
                                },
                                {
                                    "KAT_NEV": "gémkapocs",
                                    "LISTAAR": "103",
                                    "MEGNEVEZES": "Gémkapocs 50-es",
                                    "Átlaghoz visszonyított ár": "Átlagon felüli ár"
                                },
                                {
                                    "KAT_NEV": "genoterm",
                                    "LISTAAR": "89",
                                    "MEGNEVEZES": "Genoterm HERLITZ 10-es",
                                    "Átlaghoz visszonyított ár": "Átlagon aluli ár"
                                },
                                {
                                    "KAT_NEV": "genotherm",
                                    "LISTAAR": "110",
                                    "MEGNEVEZES": "Genotherm A4 10db-os",
                                    "Átlaghoz visszonyított ár": "Átlagon felüli ár"
                                },
                                {
                                    "KAT_NEV": "genotherm",
                                    "LISTAAR": "8",
                                    "MEGNEVEZES": "Genotherm lefűzhető A/5",
                                    "Átlaghoz visszonyított ár": "Átlagon aluli ár"
                                },
                                {
                                    "KAT_NEV": "genotherm",
                                    "LISTAAR": "63",
                                    "MEGNEVEZES": "Genotherm lefűzhető A4 10db-os",
                                    "Átlaghoz visszonyított ár": "Átlagon felüli ár"
                                },
                                {
                                    "KAT_NEV": "golyóstoll",
                                    "LISTAAR": "33",
                                    "MEGNEVEZES": "Golyóstoll",
                                    "Átlaghoz visszonyított ár": "Átlagon aluli ár"
                                },
                                {
                                    "KAT_NEV": "golyóstoll",
                                    "LISTAAR": "51",
                                    "MEGNEVEZES": "Golyóstoll",
                                    "Átlaghoz visszonyított ár": "Átlagon aluli ár"
                                },
                                {
                                    "KAT_NEV": "golyóstoll",
                                    "LISTAAR": "390",
                                    "MEGNEVEZES": "Golyóstoll + ceruza Twister 2in1",
                                    "Átlaghoz visszonyított ár": "Átlagon felüli ár"
                                },
                                {
                                    "KAT_NEV": "golyóstoll",
                                    "LISTAAR": "1019",
                                    "MEGNEVEZES": "Golyóstoll 3 funkciós ",
                                    "Átlaghoz visszonyított ár": "Átlagon felüli ár"
                                },
                                {
                                    "KAT_NEV": "golyóstoll",
                                    "LISTAAR": "110",
                                    "MEGNEVEZES": "Golyóstoll háromfunkciós",
                                    "Átlaghoz visszonyított ár": "Átlagon aluli ár"
                                },
                                {
                                    "KAT_NEV": "golyóstoll",
                                    "LISTAAR": "188",
                                    "MEGNEVEZES": "Golyóstoll háromszög",
                                    "Átlaghoz visszonyított ár": "Átlagon aluli ár"
                                },
                                {
                                    "KAT_NEV": "golyóstoll",
                                    "LISTAAR": "41",
                                    "MEGNEVEZES": "Golyóstoll illatos ICO",
                                    "Átlaghoz visszonyított ár": "Átlagon aluli ár"
                                },
                                {
                                    "KAT_NEV": "golyóstoll",
                                    "LISTAAR": "401",
                                    "MEGNEVEZES": "Golyóstoll INOXCROM",
                                    "Átlaghoz visszonyított ár": "Átlagon felüli ár"
                                },
                                {
                                    "KAT_NEV": "golyóstoll",
                                    "LISTAAR": "273",
                                    "MEGNEVEZES": "Golyóstoll kétfunkciós ICO",
                                    "Átlaghoz visszonyított ár": "Átlagon felüli ár"
                                },
                                {
                                    "KAT_NEV": "golyóstoll",
                                    "LISTAAR": "44",
                                    "MEGNEVEZES": "Golyóstoll kétszínű",
                                    "Átlaghoz visszonyított ár": "Átlagon aluli ár"
                                },
                                {
                                    "KAT_NEV": "golyóstoll",
                                    "LISTAAR": "23",
                                    "MEGNEVEZES": "Golyóstoll kupakos piros",
                                    "Átlaghoz visszonyított ár": "Átlagon aluli ár"
                                },
                                {
                                    "KAT_NEV": "golyóstoll",
                                    "LISTAAR": "294",
                                    "MEGNEVEZES": "Golyóstoll levélbontós",
                                    "Átlaghoz visszonyított ár": "Átlagon felüli ár"
                                },
                                {
                                    "KAT_NEV": "golyóstoll",
                                    "LISTAAR": "93",
                                    "MEGNEVEZES": "Golyóstoll Montex Hytone",
                                    "Átlaghoz visszonyított ár": "Átlagon aluli ár"
                                },
                                {
                                    "KAT_NEV": "golyóstoll",
                                    "LISTAAR": "773",
                                    "MEGNEVEZES": "Golyóstoll Parker tokban",
                                    "Átlaghoz visszonyított ár": "Átlagon felüli ár"
                                },
                                {
                                    "KAT_NEV": "golyóstoll",
                                    "LISTAAR": "63",
                                    "MEGNEVEZES": "Golyóstoll Pax tip.",
                                    "Átlaghoz visszonyított ár": "Átlagon aluli ár"
                                },
                                {
                                    "KAT_NEV": "golyóstoll",
                                    "LISTAAR": "239",
                                    "MEGNEVEZES": "Golyóstoll penac",
                                    "Átlaghoz visszonyított ár": "Átlagon aluli ár"
                                },
                                {
                                    "KAT_NEV": "golyóstoll",
                                    "LISTAAR": "81",
                                    "MEGNEVEZES": "Golyóstoll Stabiló 308",
                                    "Átlaghoz visszonyított ár": "Átlagon aluli ár"
                                },
                                {
                                    "KAT_NEV": "golyóstoll",
                                    "LISTAAR": "101",
                                    "MEGNEVEZES": "Golyóstoll Stabilo piros",
                                    "Átlaghoz visszonyított ár": "Átlagon aluli ár"
                                },
                                {
                                    "KAT_NEV": "golyóstoll",
                                    "LISTAAR": "230",
                                    "MEGNEVEZES": "Golyóstoll UNI átlátszó",
                                    "Átlaghoz visszonyított ár": "Átlagon aluli ár"
                                },
                                {
                                    "KAT_NEV": "golyóstoll",
                                    "LISTAAR": "231",
                                    "MEGNEVEZES": "Golyóstoll UNI gumis",
                                    "Átlaghoz visszonyított ár": "Átlagon aluli ár"
                                },
                                {
                                    "KAT_NEV": "golyóstoll",
                                    "LISTAAR": "218",
                                    "MEGNEVEZES": "Golyóstoll UNI laknock",
                                    "Átlaghoz visszonyított ár": "Átlagon aluli ár"
                                },
                                {
                                    "KAT_NEV": "golyóstoll",
                                    "LISTAAR": "364",
                                    "MEGNEVEZES": "Golyóstoll UNIBALL 07",
                                    "Átlaghoz visszonyított ár": "Átlagon felüli ár"
                                },
                                {
                                    "KAT_NEV": "golyóstoll",
                                    "LISTAAR": "455",
                                    "MEGNEVEZES": "Golyóstoll Zebra 301",
                                    "Átlaghoz visszonyított ár": "Átlagon felüli ár"
                                },
                                {
                                    "KAT_NEV": "golyóstoll",
                                    "LISTAAR": "655",
                                    "MEGNEVEZES": "Golyóstoll Zebra mini",
                                    "Átlaghoz visszonyított ár": "Átlagon felüli ár"
                                },
                                {
                                    "KAT_NEV": "golyóstoll",
                                    "LISTAAR": "189",
                                    "MEGNEVEZES": "Golyóstoll Zebra new hard",
                                    "Átlaghoz visszonyított ár": "Átlagon aluli ár"
                                },
                                {
                                    "KAT_NEV": "golyóstoll",
                                    "LISTAAR": "94",
                                    "MEGNEVEZES": "Golyóstoll Zodiák",
                                    "Átlaghoz visszonyított ár": "Átlagon aluli ár"
                                },
                                {
                                    "KAT_NEV": "gumigyűrű",
                                    "LISTAAR": "19",
                                    "MEGNEVEZES": "Gumigyűrű",
                                    "Átlaghoz visszonyított ár": "Átlagon aluli ár"
                                },
                                {
                                    "KAT_NEV": "gyermek cipő",
                                    "LISTAAR": "7900",
                                    "MEGNEVEZES": "gyermek cipő (fiú)",
                                    "Átlaghoz visszonyított ár": "Átlagon felüli ár"
                                },
                                {
                                    "KAT_NEV": "gyermek cipő",
                                    "LISTAAR": "7900",
                                    "MEGNEVEZES": "gyermek cipő (lány)",
                                    "Átlaghoz visszonyított ár": "Átlagon felüli ár"
                                },
                                {
                                    "KAT_NEV": "gyermek cipő",
                                    "LISTAAR": "8000",
                                    "MEGNEVEZES": "gyermek csizma (fiú)",
                                    "Átlaghoz visszonyított ár": "Átlagon felüli ár"
                                },
                                {
                                    "KAT_NEV": "gyermek cipő",
                                    "LISTAAR": "8000",
                                    "MEGNEVEZES": "gyermek csizma (lány)",
                                    "Átlaghoz visszonyított ár": "Átlagon felüli ár"
                                },
                                {
                                    "KAT_NEV": "gyermek cipő",
                                    "LISTAAR": "6900",
                                    "MEGNEVEZES": "gyermek szandál (fiú)",
                                    "Átlaghoz visszonyított ár": "Átlagon aluli ár"
                                },
                                {
                                    "KAT_NEV": "gyermek cipő",
                                    "LISTAAR": "6900",
                                    "MEGNEVEZES": "gyermek szandál (lány)",
                                    "Átlaghoz visszonyított ár": "Átlagon aluli ár"
                                },
                                {
                                    "KAT_NEV": "gyermek kabát",
                                    "LISTAAR": "8900",
                                    "MEGNEVEZES": "gyermek kabát (fiú)",
                                    "Átlaghoz visszonyított ár": "Átlagon aluli ár"
                                },
                                {
                                    "KAT_NEV": "gyermek kabát",
                                    "LISTAAR": "8900",
                                    "MEGNEVEZES": "gyermek kabát (lány)",
                                    "Átlaghoz visszonyított ár": "Átlagon aluli ár"
                                },
                                {
                                    "KAT_NEV": "gyermek nadrág",
                                    "LISTAAR": "4990",
                                    "MEGNEVEZES": "gyermek farmer nadrág (fiú)",
                                    "Átlaghoz visszonyított ár": "Átlagon felüli ár"
                                },
                                {
                                    "KAT_NEV": "gyermek nadrág",
                                    "LISTAAR": "4990",
                                    "MEGNEVEZES": "gyermek farmer nadrág (lány)",
                                    "Átlaghoz visszonyított ár": "Átlagon felüli ár"
                                },
                                {
                                    "KAT_NEV": "gyermek nadrág",
                                    "LISTAAR": "1290",
                                    "MEGNEVEZES": "gyermek pamut nadrág (fiú)",
                                    "Átlaghoz visszonyított ár": "Átlagon aluli ár"
                                },
                                {
                                    "KAT_NEV": "gyermek nadrág",
                                    "LISTAAR": "1290",
                                    "MEGNEVEZES": "gyermek pamut nadrág (lány)",
                                    "Átlaghoz visszonyított ár": "Átlagon aluli ár"
                                },
                                {
                                    "KAT_NEV": "gyermek póló",
                                    "LISTAAR": "3900",
                                    "MEGNEVEZES": "gyermek póló (fiú)",
                                    "Átlaghoz visszonyított ár": "Átlagon aluli ár"
                                },
                                {
                                    "KAT_NEV": "gyermek póló",
                                    "LISTAAR": "3900",
                                    "MEGNEVEZES": "gyermek póló (lány)",
                                    "Átlaghoz visszonyított ár": "Átlagon aluli ár"
                                },
                                {
                                    "KAT_NEV": "gyorsfűző",
                                    "LISTAAR": "18",
                                    "MEGNEVEZES": "Gyorsfűző dosszié fehér",
                                    "Átlaghoz visszonyított ár": "Átlagon aluli ár"
                                },
                                {
                                    "KAT_NEV": "gyorsfűző",
                                    "LISTAAR": "30",
                                    "MEGNEVEZES": "Gyorsfűző műa.",
                                    "Átlaghoz visszonyított ár": "Átlagon felüli ár"
                                },
                                {
                                    "KAT_NEV": "gyorsfűző",
                                    "LISTAAR": "35",
                                    "MEGNEVEZES": "Gyorsfűző műa.",
                                    "Átlaghoz visszonyított ár": "Átlagon felüli ár"
                                },
                                {
                                    "KAT_NEV": "gyurma",
                                    "LISTAAR": "161",
                                    "MEGNEVEZES": "Gyurma 12 szinű",
                                    "Átlaghoz visszonyított ár": "Átlagon aluli ár"
                                },
                                {
                                    "KAT_NEV": "gyurma",
                                    "LISTAAR": "180",
                                    "MEGNEVEZES": "Gyurma színes 200 g-os",
                                    "Átlaghoz visszonyított ár": "Átlagon felüli ár"
                                },
                                {
                                    "KAT_NEV": "gyurma",
                                    "LISTAAR": "228",
                                    "MEGNEVEZES": "Gyurma színes natúr",
                                    "Átlaghoz visszonyított ár": "Átlagon felüli ár"
                                },
                                {
                                    "KAT_NEV": "gyurma",
                                    "LISTAAR": "121",
                                    "MEGNEVEZES": "Gyurmakés",
                                    "Átlaghoz visszonyított ár": "Átlagon aluli ár"
                                },
                                {
                                    "KAT_NEV": "gyűrűskönyv",
                                    "LISTAAR": "581",
                                    "MEGNEVEZES": "Gyűrűskönyv",
                                    "Átlaghoz visszonyított ár": "Átlagon felüli ár"
                                },
                                {
                                    "KAT_NEV": "gyűrűskönyv",
                                    "LISTAAR": "184",
                                    "MEGNEVEZES": "Gyűrűskönyv bet. A/4",
                                    "Átlaghoz visszonyított ár": "Átlagon aluli ár"
                                },
                                {
                                    "KAT_NEV": "gyűrűskönyv",
                                    "LISTAAR": "95",
                                    "MEGNEVEZES": "Gyűrűskönyv bet. A/5",
                                    "Átlaghoz visszonyított ár": "Átlagon aluli ár"
                                },
                                {
                                    "KAT_NEV": "gyűrűskönyv",
                                    "LISTAAR": "218",
                                    "MEGNEVEZES": "Gyűrűskönyv betét A/5",
                                    "Átlaghoz visszonyított ár": "Átlagon aluli ár"
                                },
                                {
                                    "KAT_NEV": "gyűrűskönyv",
                                    "LISTAAR": "699",
                                    "MEGNEVEZES": "Gyűrűskönyv színes",
                                    "Átlaghoz visszonyított ár": "Átlagon felüli ár"
                                },
                                {
                                    "KAT_NEV": "hajgumi",
                                    "LISTAAR": "66",
                                    "MEGNEVEZES": "Hajgumi macis",
                                    "Átlaghoz visszonyított ár": "Átlagon aluli ár"
                                },
                                {
                                    "KAT_NEV": "határidő napló",
                                    "LISTAAR": "728",
                                    "MEGNEVEZES": "Határidő napló 2010-s",
                                    "Átlaghoz visszonyított ár": "Átlagon felüli ár"
                                },
                                {
                                    "KAT_NEV": "határidő napló",
                                    "LISTAAR": "464",
                                    "MEGNEVEZES": "Határidő napló A/6",
                                    "Átlaghoz visszonyított ár": "Átlagon aluli ár"
                                },
                                {
                                    "KAT_NEV": "hegyező",
                                    "LISTAAR": "875",
                                    "MEGNEVEZES": "Hegyező gép",
                                    "Átlaghoz visszonyított ár": "Átlagon felüli ár"
                                },
                                {
                                    "KAT_NEV": "hegyező",
                                    "LISTAAR": "30",
                                    "MEGNEVEZES": "Hegyező műanyag dupla",
                                    "Átlaghoz visszonyított ár": "Átlagon aluli ár"
                                },
                                {
                                    "KAT_NEV": "hegyező",
                                    "LISTAAR": "23",
                                    "MEGNEVEZES": "Hegyező műanyag egyes",
                                    "Átlaghoz visszonyított ár": "Átlagon aluli ár"
                                },
                                {
                                    "KAT_NEV": "hegyező",
                                    "LISTAAR": "30",
                                    "MEGNEVEZES": "Hegyező tartályos egyes",
                                    "Átlaghoz visszonyított ár": "Átlagon aluli ár"
                                },
                                {
                                    "KAT_NEV": "hegyző",
                                    "LISTAAR": "70",
                                    "MEGNEVEZES": "Hegyző fém 1 lyukú",
                                    "Átlaghoz visszonyított ár": "Átlagon aluli ár"
                                },
                                {
                                    "KAT_NEV": "hegyző",
                                    "LISTAAR": "180",
                                    "MEGNEVEZES": "Hegyző fém 2 lyukú",
                                    "Átlaghoz visszonyított ár": "Átlagon felüli ár"
                                },
                                {
                                    "KAT_NEV": "hibajavító",
                                    "LISTAAR": "794",
                                    "MEGNEVEZES": "Hibajav.roll.Pritt 4,2mm",
                                    "Átlaghoz visszonyított ár": "Átlagon felüli ár"
                                },
                                {
                                    "KAT_NEV": "hibajavító",
                                    "LISTAAR": "185",
                                    "MEGNEVEZES": "Hibajavító ecsetes Aqua",
                                    "Átlaghoz visszonyított ár": "Átlagon aluli ár"
                                },
                                {
                                    "KAT_NEV": "hibajavító",
                                    "LISTAAR": "273",
                                    "MEGNEVEZES": "Hibajavító készlet Blanco",
                                    "Átlaghoz visszonyított ár": "Átlagon aluli ár"
                                },
                                {
                                    "KAT_NEV": "hibajavító",
                                    "LISTAAR": "278",
                                    "MEGNEVEZES": "Hibajavító Kores mini pen",
                                    "Átlaghoz visszonyított ár": "Átlagon aluli ár"
                                },
                                {
                                    "KAT_NEV": "hibajavító",
                                    "LISTAAR": "81",
                                    "MEGNEVEZES": "Hibajavító lap ",
                                    "Átlaghoz visszonyított ár": "Átlagon aluli ár"
                                },
                                {
                                    "KAT_NEV": "hibajavító",
                                    "LISTAAR": "133",
                                    "MEGNEVEZES": "Hibajavító roller 5 mm",
                                    "Átlaghoz visszonyított ár": "Átlagon aluli ár"
                                },
                                {
                                    "KAT_NEV": "hibajavító",
                                    "LISTAAR": "286",
                                    "MEGNEVEZES": "Hibajavító roller Pax",
                                    "Átlaghoz visszonyított ár": "Átlagon aluli ár"
                                },
                                {
                                    "KAT_NEV": "hűtőmágnes",
                                    "LISTAAR": "24",
                                    "MEGNEVEZES": "Hűtőmágnes",
                                    "Átlaghoz visszonyított ár": "Átlagon aluli ár"
                                },
                                {
                                    "KAT_NEV": "hűtőmágnes",
                                    "LISTAAR": "169",
                                    "MEGNEVEZES": "Hűtőmágnes WD",
                                    "Átlaghoz visszonyított ár": "Átlagon felüli ár"
                                },
                                {
                                    "KAT_NEV": "iratgyűjtő",
                                    "LISTAAR": "133",
                                    "MEGNEVEZES": "Álló irattartó karton",
                                    "Átlaghoz visszonyított ár": "Átlagon felüli ár"
                                },
                                {
                                    "KAT_NEV": "iratgyűjtő",
                                    "LISTAAR": "19",
                                    "MEGNEVEZES": "Iratgyűjtő ESSELTE ablakos",
                                    "Átlaghoz visszonyított ár": "Átlagon aluli ár"
                                },
                                {
                                    "KAT_NEV": "iratgyűjtő",
                                    "LISTAAR": "19",
                                    "MEGNEVEZES": "Iratgyűjtő fehér",
                                    "Átlaghoz visszonyított ár": "Átlagon aluli ár"
                                },
                                {
                                    "KAT_NEV": "iratrendező",
                                    "LISTAAR": "243",
                                    "MEGNEVEZES": "Iratrendező ESSELTE",
                                    "Átlaghoz visszonyított ár": "Átlagon aluli ár"
                                },
                                {
                                    "KAT_NEV": "iratrendező",
                                    "LISTAAR": "259",
                                    "MEGNEVEZES": "Tokos iratrendező",
                                    "Átlaghoz visszonyított ár": "Átlagon felüli ár"
                                },
                                {
                                    "KAT_NEV": "iratsín",
                                    "LISTAAR": "44",
                                    "MEGNEVEZES": "Iratsín fehér",
                                    "Átlaghoz visszonyított ár": "Átlagon aluli ár"
                                },
                                {
                                    "KAT_NEV": "iratsín",
                                    "LISTAAR": "89",
                                    "MEGNEVEZES": "Iratsín kék",
                                    "Átlaghoz visszonyított ár": "Átlagon felüli ár"
                                },
                                {
                                    "KAT_NEV": "irattartó",
                                    "LISTAAR": "214",
                                    "MEGNEVEZES": "Álló irattartó",
                                    "Átlaghoz visszonyított ár": "Átlagon felüli ár"
                                },
                                {
                                    "KAT_NEV": "irattartó",
                                    "LISTAAR": "66",
                                    "MEGNEVEZES": "Irattartó müa. boríték A/4",
                                    "Átlaghoz visszonyított ár": "Átlagon aluli ár"
                                },
                                {
                                    "KAT_NEV": "irodaszer",
                                    "LISTAAR": "59",
                                    "MEGNEVEZES": "Iromány fedél feles",
                                    "Átlaghoz visszonyított ár": "Átlagon aluli ár"
                                },
                                {
                                    "KAT_NEV": "írólap",
                                    "LISTAAR": "29",
                                    "MEGNEVEZES": "Írólap 10-50 ffam.",
                                    "Átlaghoz visszonyított ár": "Átlagon aluli ár"
                                },
                                {
                                    "KAT_NEV": "írólap",
                                    "LISTAAR": "34",
                                    "MEGNEVEZES": "Írólap 20-50 ",
                                    "Átlaghoz visszonyított ár": "Átlagon felüli ár"
                                },
                                {
                                    "KAT_NEV": "ironbél",
                                    "LISTAAR": "74",
                                    "MEGNEVEZES": "Ironbél  2B ICO",
                                    "Átlaghoz visszonyított ár": "Átlagon felüli ár"
                                },
                                {
                                    "KAT_NEV": "ironbél",
                                    "LISTAAR": "36",
                                    "MEGNEVEZES": "Ironbél B 0,5",
                                    "Átlaghoz visszonyított ár": "Átlagon aluli ár"
                                },
                                {
                                    "KAT_NEV": "ironbél",
                                    "LISTAAR": "59",
                                    "MEGNEVEZES": "Ironbél H 0,5",
                                    "Átlaghoz visszonyított ár": "Átlagon felüli ár"
                                },
                                {
                                    "KAT_NEV": "ironbél",
                                    "LISTAAR": "23",
                                    "MEGNEVEZES": "Ironbél HB 0,5",
                                    "Átlaghoz visszonyított ár": "Átlagon aluli ár"
                                },
                                {
                                    "KAT_NEV": "ironbél",
                                    "LISTAAR": "78",
                                    "MEGNEVEZES": "Ironbél HI-POLIMER HB 0,7",
                                    "Átlaghoz visszonyított ár": "Átlagon felüli ár"
                                },
                                {
                                    "KAT_NEV": "iskolaszer",
                                    "LISTAAR": "161",
                                    "MEGNEVEZES": "Ablakkréta",
                                    "Átlaghoz visszonyított ár": "Átlagon felüli ár"
                                },
                                {
                                    "KAT_NEV": "iskolaszer",
                                    "LISTAAR": "33",
                                    "MEGNEVEZES": "Betűtartó sin",
                                    "Átlaghoz visszonyított ár": "Átlagon aluli ár"
                                },
                                {
                                    "KAT_NEV": "iskolaszer",
                                    "LISTAAR": "36",
                                    "MEGNEVEZES": "Ceruzafogó",
                                    "Átlaghoz visszonyított ár": "Átlagon aluli ár"
                                },
                                {
                                    "KAT_NEV": "iskolaszer",
                                    "LISTAAR": "51",
                                    "MEGNEVEZES": "Egészségügyi könyv",
                                    "Átlaghoz visszonyított ár": "Átlagon aluli ár"
                                },
                                {
                                    "KAT_NEV": "iskolaszer",
                                    "LISTAAR": "5",
                                    "MEGNEVEZES": "Ellenőrzőborító",
                                    "Átlaghoz visszonyított ár": "Átlagon aluli ár"
                                },
                                {
                                    "KAT_NEV": "iskolaszer",
                                    "LISTAAR": "324",
                                    "MEGNEVEZES": "Füzettartó A/4",
                                    "Átlaghoz visszonyított ár": "Átlagon felüli ár"
                                },
                                {
                                    "KAT_NEV": "iskolaszer",
                                    "LISTAAR": "8",
                                    "MEGNEVEZES": "Gyűjtőlap A/4",
                                    "Átlaghoz visszonyított ár": "Átlagon aluli ár"
                                },
                                {
                                    "KAT_NEV": "iskolaszer",
                                    "LISTAAR": "36",
                                    "MEGNEVEZES": "Hőmérő, műa.",
                                    "Átlaghoz visszonyított ár": "Átlagon aluli ár"
                                },
                                {
                                    "KAT_NEV": "iskolaszer",
                                    "LISTAAR": "23",
                                    "MEGNEVEZES": "Hurkapálca 10 db-os",
                                    "Átlaghoz visszonyított ár": "Átlagon aluli ár"
                                },
                                {
                                    "KAT_NEV": "iskolaszer",
                                    "LISTAAR": "73",
                                    "MEGNEVEZES": "Krepp papír",
                                    "Átlaghoz visszonyított ár": "Átlagon aluli ár"
                                },
                                {
                                    "KAT_NEV": "iskolaszer",
                                    "LISTAAR": "161",
                                    "MEGNEVEZES": "Leckefüzet",
                                    "Átlaghoz visszonyított ár": "Átlagon felüli ár"
                                },
                                {
                                    "KAT_NEV": "iskolaszer",
                                    "LISTAAR": "74",
                                    "MEGNEVEZES": "Öntapadős betűk",
                                    "Átlaghoz visszonyított ár": "Átlagon aluli ár"
                                },
                                {
                                    "KAT_NEV": "iskolaszer",
                                    "LISTAAR": "9",
                                    "MEGNEVEZES": "Papírcenti 100 cm-es",
                                    "Átlaghoz visszonyított ár": "Átlagon aluli ár"
                                },
                                {
                                    "KAT_NEV": "iskolaszer",
                                    "LISTAAR": "103",
                                    "MEGNEVEZES": "Rovatolt papír 20 íves",
                                    "Átlaghoz visszonyított ár": "Átlagon felüli ár"
                                },
                                {
                                    "KAT_NEV": "iskolaszer",
                                    "LISTAAR": "8",
                                    "MEGNEVEZES": "Sorvezető",
                                    "Átlaghoz visszonyított ár": "Átlagon aluli ár"
                                },
                                {
                                    "KAT_NEV": "iskolaszer",
                                    "LISTAAR": "36",
                                    "MEGNEVEZES": "Számegyenes",
                                    "Átlaghoz visszonyított ár": "Átlagon aluli ár"
                                },
                                {
                                    "KAT_NEV": "iskolaszer",
                                    "LISTAAR": "35",
                                    "MEGNEVEZES": "Számolókorong",
                                    "Átlaghoz visszonyított ár": "Átlagon aluli ár"
                                },
                                {
                                    "KAT_NEV": "iskolaszer",
                                    "LISTAAR": "61",
                                    "MEGNEVEZES": "Számolópálca",
                                    "Átlaghoz visszonyított ár": "Átlagon aluli ár"
                                },
                                {
                                    "KAT_NEV": "iskolaszer",
                                    "LISTAAR": "43",
                                    "MEGNEVEZES": "Színes papír I.II-IV.V-VIII-ig",
                                    "Átlaghoz visszonyított ár": "Átlagon aluli ár"
                                },
                                {
                                    "KAT_NEV": "iskolaszer",
                                    "LISTAAR": "45",
                                    "MEGNEVEZES": "Szorzótábla műanyag",
                                    "Átlaghoz visszonyított ár": "Átlagon aluli ár"
                                },
                                {
                                    "KAT_NEV": "iskolaszer",
                                    "LISTAAR": "19",
                                    "MEGNEVEZES": "Taffet papír",
                                    "Átlaghoz visszonyított ár": "Átlagon aluli ár"
                                },
                                {
                                    "KAT_NEV": "iskolaszer",
                                    "LISTAAR": "58",
                                    "MEGNEVEZES": "Technika cs. I-II-III-IV",
                                    "Átlaghoz visszonyított ár": "Átlagon aluli ár"
                                },
                                {
                                    "KAT_NEV": "iskolaszer",
                                    "LISTAAR": "125",
                                    "MEGNEVEZES": "Tombola tömb",
                                    "Átlaghoz visszonyított ár": "Átlagon felüli ár"
                                },
                                {
                                    "KAT_NEV": "iskolaszer",
                                    "LISTAAR": "511",
                                    "MEGNEVEZES": "Tornazsák",
                                    "Átlaghoz visszonyított ár": "Átlagon felüli ár"
                                },
                                {
                                    "KAT_NEV": "játékautó",
                                    "LISTAAR": "65",
                                    "MEGNEVEZES": "Játék autó",
                                    "Átlaghoz visszonyított ár": "Átlagon aluli ár"
                                },
                                {
                                    "KAT_NEV": "játékautó",
                                    "LISTAAR": "133",
                                    "MEGNEVEZES": "Játékautó Blisteres",
                                    "Átlaghoz visszonyított ár": "Átlagon felüli ár"
                                },
                                {
                                    "KAT_NEV": "játékautó",
                                    "LISTAAR": "165",
                                    "MEGNEVEZES": "Játékautó elemes",
                                    "Átlaghoz visszonyított ár": "Átlagon felüli ár"
                                },
                                {
                                    "KAT_NEV": "játékautó",
                                    "LISTAAR": "73",
                                    "MEGNEVEZES": "Játékautó mini",
                                    "Átlaghoz visszonyított ár": "Átlagon aluli ár"
                                },
                                {
                                    "KAT_NEV": "jelzőkréta",
                                    "LISTAAR": "48",
                                    "MEGNEVEZES": "Jelzőkréta",
                                    "Átlaghoz visszonyított ár": "Átlagon aluli ár"
                                },
                                {
                                    "KAT_NEV": "kapocskiszedő",
                                    "LISTAAR": "106",
                                    "MEGNEVEZES": "Kapocskiszedő",
                                    "Átlaghoz visszonyított ár": "Átlagon aluli ár"
                                },
                                {
                                    "KAT_NEV": "karton",
                                    "LISTAAR": "73",
                                    "MEGNEVEZES": "Dekorációs karton",
                                    "Átlaghoz visszonyított ár": "Átlagon felüli ár"
                                },
                                {
                                    "KAT_NEV": "karton",
                                    "LISTAAR": "89",
                                    "MEGNEVEZES": "Dekorációs karton arany, ezüst",
                                    "Átlaghoz visszonyított ár": "Átlagon felüli ár"
                                },
                                {
                                    "KAT_NEV": "karton",
                                    "LISTAAR": "40",
                                    "MEGNEVEZES": "Márványos A/4",
                                    "Átlaghoz visszonyított ár": "Átlagon aluli ár"
                                },
                                {
                                    "KAT_NEV": "karton",
                                    "LISTAAR": "38",
                                    "MEGNEVEZES": "Selyemfényű karton A/4",
                                    "Átlaghoz visszonyított ár": "Átlagon aluli ár"
                                },
                                {
                                    "KAT_NEV": "karton",
                                    "LISTAAR": "11",
                                    "MEGNEVEZES": "Színes A/3 160 gr IQ",
                                    "Átlaghoz visszonyított ár": "Átlagon aluli ár"
                                },
                                {
                                    "KAT_NEV": "karton",
                                    "LISTAAR": "25",
                                    "MEGNEVEZES": "Színes karton A4",
                                    "Átlaghoz visszonyított ár": "Átlagon aluli ár"
                                },
                                {
                                    "KAT_NEV": "kártya",
                                    "LISTAAR": "131",
                                    "MEGNEVEZES": "Kártya mini Magyar",
                                    "Átlaghoz visszonyított ár": "Átlagon aluli ár"
                                },
                                {
                                    "KAT_NEV": "képeslap",
                                    "LISTAAR": "33",
                                    "MEGNEVEZES": "Képeslap  borítékos",
                                    "Átlaghoz visszonyított ár": "Átlagon aluli ár"
                                },
                                {
                                    "KAT_NEV": "képeslap",
                                    "LISTAAR": "184",
                                    "MEGNEVEZES": "Képeslap \"Nászajándék\"",
                                    "Átlaghoz visszonyított ár": "Átlagon felüli ár"
                                },
                                {
                                    "KAT_NEV": "képeslap",
                                    "LISTAAR": "33",
                                    "MEGNEVEZES": "Képeslap \"Részvét\"",
                                    "Átlaghoz visszonyított ár": "Átlagon aluli ár"
                                },
                                {
                                    "KAT_NEV": "képeslap",
                                    "LISTAAR": "55",
                                    "MEGNEVEZES": "Képeslap humoros ",
                                    "Átlaghoz visszonyított ár": "Átlagon aluli ár"
                                },
                                {
                                    "KAT_NEV": "képeslap",
                                    "LISTAAR": "89",
                                    "MEGNEVEZES": "Képeslap humoros",
                                    "Átlaghoz visszonyított ár": "Átlagon felüli ár"
                                },
                                {
                                    "KAT_NEV": "képeslap",
                                    "LISTAAR": "81",
                                    "MEGNEVEZES": "Képeslap humoros borítékos",
                                    "Átlaghoz visszonyított ár": "Átlagon felüli ár"
                                },
                                {
                                    "KAT_NEV": "képeslap",
                                    "LISTAAR": "51",
                                    "MEGNEVEZES": "Képeslap humoros kaparós",
                                    "Átlaghoz visszonyított ár": "Átlagon aluli ár"
                                },
                                {
                                    "KAT_NEV": "képeslap",
                                    "LISTAAR": "30",
                                    "MEGNEVEZES": "Képeslap karácsonyi",
                                    "Átlaghoz visszonyított ár": "Átlagon aluli ár"
                                },
                                {
                                    "KAT_NEV": "képeslap",
                                    "LISTAAR": "73",
                                    "MEGNEVEZES": "Képeslap karácsonyi borítékos",
                                    "Átlaghoz visszonyított ár": "Átlagon felüli ár"
                                },
                                {
                                    "KAT_NEV": "képeslap",
                                    "LISTAAR": "15",
                                    "MEGNEVEZES": "Képeslap karácsonyi WD",
                                    "Átlaghoz visszonyított ár": "Átlagon aluli ár"
                                },
                                {
                                    "KAT_NEV": "képeslap",
                                    "LISTAAR": "36",
                                    "MEGNEVEZES": "Képeslap kerek",
                                    "Átlaghoz visszonyított ár": "Átlagon aluli ár"
                                },
                                {
                                    "KAT_NEV": "képeslap",
                                    "LISTAAR": "59",
                                    "MEGNEVEZES": "Képeslap stancolt",
                                    "Átlaghoz visszonyított ár": "Átlagon aluli ár"
                                },
                                {
                                    "KAT_NEV": "képeslap",
                                    "LISTAAR": "48",
                                    "MEGNEVEZES": "Képeslap stancolt szív",
                                    "Átlaghoz visszonyított ár": "Átlagon aluli ár"
                                },
                                {
                                    "KAT_NEV": "képeslap",
                                    "LISTAAR": "14",
                                    "MEGNEVEZES": "Képeslap virágos",
                                    "Átlaghoz visszonyított ár": "Átlagon aluli ár"
                                },
                                {
                                    "KAT_NEV": "képeslap",
                                    "LISTAAR": "44",
                                    "MEGNEVEZES": "Képeslap virágos +boríték",
                                    "Átlaghoz visszonyított ár": "Átlagon aluli ár"
                                },
                                {
                                    "KAT_NEV": "képeslap",
                                    "LISTAAR": "118",
                                    "MEGNEVEZES": "Képeslap WD +boríték",
                                    "Átlaghoz visszonyított ár": "Átlagon felüli ár"
                                },
                                {
                                    "KAT_NEV": "képkirakó",
                                    "LISTAAR": "195",
                                    "MEGNEVEZES": "Képkirakó Dirib-darab",
                                    "Átlaghoz visszonyított ár": "Átlagon aluli ár"
                                },
                                {
                                    "KAT_NEV": "kosztüm",
                                    "LISTAAR": "46000",
                                    "MEGNEVEZES": "kosztüm (hosszú)",
                                    "Átlaghoz visszonyított ár": "Átlagon felüli ár"
                                },
                                {
                                    "KAT_NEV": "kosztüm",
                                    "LISTAAR": "39000",
                                    "MEGNEVEZES": "kosztüm (rövid)",
                                    "Átlaghoz visszonyított ár": "Átlagon aluli ár"
                                },
                                {
                                    "KAT_NEV": "körző",
                                    "LISTAAR": "161",
                                    "MEGNEVEZES": "Körző",
                                    "Átlaghoz visszonyított ár": "Átlagon felüli ár"
                                },
                                {
                                    "KAT_NEV": "körző",
                                    "LISTAAR": "243",
                                    "MEGNEVEZES": "Körző maped",
                                    "Átlaghoz visszonyított ár": "Átlagon felüli ár"
                                },
                                {
                                    "KAT_NEV": "körző",
                                    "LISTAAR": "30",
                                    "MEGNEVEZES": "Körzőhegy grafit",
                                    "Átlaghoz visszonyított ár": "Átlagon aluli ár"
                                },
                                {
                                    "KAT_NEV": "kreatív",
                                    "LISTAAR": "13",
                                    "MEGNEVEZES": "Kreatív A/4 120g ",
                                    "Átlaghoz visszonyított ár": "Átlagon felüli ár"
                                },
                                {
                                    "KAT_NEV": "kreatív",
                                    "LISTAAR": "4",
                                    "MEGNEVEZES": "Kreatív A/4 300g ",
                                    "Átlaghoz visszonyított ár": "Átlagon aluli ár"
                                },
                                {
                                    "KAT_NEV": "kulcstartó",
                                    "LISTAAR": "115",
                                    "MEGNEVEZES": "Kulcstartó autós",
                                    "Átlaghoz visszonyított ár": "Átlagon aluli ár"
                                },
                                {
                                    "KAT_NEV": "kulcstartó",
                                    "LISTAAR": "148",
                                    "MEGNEVEZES": "Kulcstartó billiárd golyós",
                                    "Átlaghoz visszonyított ár": "Átlagon felüli ár"
                                },
                                {
                                    "KAT_NEV": "kulcstartó",
                                    "LISTAAR": "124",
                                    "MEGNEVEZES": "Kulcstartó Csőrikés",
                                    "Átlaghoz visszonyított ár": "Átlagon felüli ár"
                                },
                                {
                                    "KAT_NEV": "kulcstartó",
                                    "LISTAAR": "103",
                                    "MEGNEVEZES": "Kulcstartó figurás",
                                    "Átlaghoz visszonyított ár": "Átlagon aluli ár"
                                },
                                {
                                    "KAT_NEV": "kulcstartó",
                                    "LISTAAR": "155",
                                    "MEGNEVEZES": "Kulcstartó intarziás állatos",
                                    "Átlaghoz visszonyított ár": "Átlagon felüli ár"
                                },
                                {
                                    "KAT_NEV": "kulcstartó",
                                    "LISTAAR": "36",
                                    "MEGNEVEZES": "Kulcstartó mesefigurás",
                                    "Átlaghoz visszonyított ár": "Átlagon aluli ár"
                                },
                                {
                                    "KAT_NEV": "kulcstartó",
                                    "LISTAAR": "129",
                                    "MEGNEVEZES": "Kulcstartó nagyítós",
                                    "Átlaghoz visszonyított ár": "Átlagon felüli ár"
                                },
                                {
                                    "KAT_NEV": "labda",
                                    "LISTAAR": "110",
                                    "MEGNEVEZES": "Gumilabda közepes",
                                    "Átlaghoz visszonyított ár": "Átlagon felüli ár"
                                },
                                {
                                    "KAT_NEV": "labda",
                                    "LISTAAR": "81",
                                    "MEGNEVEZES": "Tenisz labda",
                                    "Átlaghoz visszonyított ár": "Átlagon aluli ár"
                                },
                                {
                                    "KAT_NEV": "levélpapír",
                                    "LISTAAR": "15",
                                    "MEGNEVEZES": "Levélpapír A/4",
                                    "Átlaghoz visszonyított ár": "Átlagon aluli ár"
                                },
                                {
                                    "KAT_NEV": "levélpapír",
                                    "LISTAAR": "140",
                                    "MEGNEVEZES": "Levélpapír állatos",
                                    "Átlaghoz visszonyított ár": "Átlagon felüli ár"
                                },
                                {
                                    "KAT_NEV": "levélpapír",
                                    "LISTAAR": "56",
                                    "MEGNEVEZES": "Levélpapír sima",
                                    "Átlaghoz visszonyított ár": "Átlagon aluli ár"
                                },
                                {
                                    "KAT_NEV": "levélpapír",
                                    "LISTAAR": "74",
                                    "MEGNEVEZES": "Levélpapír szett ",
                                    "Átlaghoz visszonyított ár": "Átlagon aluli ár"
                                },
                                {
                                    "KAT_NEV": "levélpapír",
                                    "LISTAAR": "89",
                                    "MEGNEVEZES": "Levélpapír szett",
                                    "Átlaghoz visszonyított ár": "Átlagon aluli ár"
                                },
                                {
                                    "KAT_NEV": "levélpapír",
                                    "LISTAAR": "103",
                                    "MEGNEVEZES": "Levélpapír szett natur, mintás",
                                    "Átlaghoz visszonyított ár": "Átlagon felüli ár"
                                },
                                {
                                    "KAT_NEV": "levélpapír",
                                    "LISTAAR": "169",
                                    "MEGNEVEZES": "Levélpapír szett virágos",
                                    "Átlaghoz visszonyított ár": "Átlagon felüli ár"
                                },
                                {
                                    "KAT_NEV": "lufi",
                                    "LISTAAR": "15",
                                    "MEGNEVEZES": "Lufi formázható",
                                    "Átlaghoz visszonyított ár": "Átlagon felüli ár"
                                },
                                {
                                    "KAT_NEV": "lufi",
                                    "LISTAAR": "11",
                                    "MEGNEVEZES": "Lufi hullámos",
                                    "Átlaghoz visszonyított ár": "Átlagon aluli ár"
                                },
                                {
                                    "KAT_NEV": "lyukasztó",
                                    "LISTAAR": "765",
                                    "MEGNEVEZES": "Lyukasztó BOXER",
                                    "Átlaghoz visszonyított ár": "Átlagon felüli ár"
                                },
                                {
                                    "KAT_NEV": "lyukasztó",
                                    "LISTAAR": "526",
                                    "MEGNEVEZES": "Lyukasztó EAGLE",
                                    "Átlaghoz visszonyított ár": "Átlagon aluli ár"
                                },
                                {
                                    "KAT_NEV": "mappa",
                                    "LISTAAR": "148",
                                    "MEGNEVEZES": "Gumis mappa ",
                                    "Átlaghoz visszonyított ár": "Átlagon aluli ár"
                                },
                                {
                                    "KAT_NEV": "mappa",
                                    "LISTAAR": "195",
                                    "MEGNEVEZES": "Gumis mappa csomagolt",
                                    "Átlaghoz visszonyított ár": "Átlagon aluli ár"
                                },
                                {
                                    "KAT_NEV": "mappa",
                                    "LISTAAR": "211",
                                    "MEGNEVEZES": "Gumis mappa fóliázott állatos",
                                    "Átlaghoz visszonyított ár": "Átlagon aluli ár"
                                },
                                {
                                    "KAT_NEV": "mappa",
                                    "LISTAAR": "191",
                                    "MEGNEVEZES": "Gumis mappa Köbüki",
                                    "Átlaghoz visszonyított ár": "Átlagon aluli ár"
                                },
                                {
                                    "KAT_NEV": "mappa",
                                    "LISTAAR": "184",
                                    "MEGNEVEZES": "Mappa bemutató",
                                    "Átlaghoz visszonyított ár": "Átlagon aluli ár"
                                },
                                {
                                    "KAT_NEV": "mappa",
                                    "LISTAAR": "1765",
                                    "MEGNEVEZES": "Mappa bőr A5",
                                    "Átlaghoz visszonyított ár": "Átlagon felüli ár"
                                },
                                {
                                    "KAT_NEV": "mappa",
                                    "LISTAAR": "210",
                                    "MEGNEVEZES": "Mappa müa A/4",
                                    "Átlaghoz visszonyított ár": "Átlagon aluli ár"
                                },
                                {
                                    "KAT_NEV": "mappa",
                                    "LISTAAR": "264",
                                    "MEGNEVEZES": "Mappa PVC villámzáras",
                                    "Átlaghoz visszonyított ár": "Átlagon aluli ár"
                                },
                                {
                                    "KAT_NEV": "mappa",
                                    "LISTAAR": "360",
                                    "MEGNEVEZES": "Mappa PVC villámzáras  képes",
                                    "Átlaghoz visszonyított ár": "Átlagon aluli ár"
                                },
                                {
                                    "KAT_NEV": "matrica",
                                    "LISTAAR": "55",
                                    "MEGNEVEZES": "Matrica állatos",
                                    "Átlaghoz visszonyított ár": "Átlagon aluli ár"
                                },
                                {
                                    "KAT_NEV": "matrica",
                                    "LISTAAR": "49",
                                    "MEGNEVEZES": "Matrica autóra H",
                                    "Átlaghoz visszonyított ár": "Átlagon aluli ár"
                                },
                                {
                                    "KAT_NEV": "matrica",
                                    "LISTAAR": "49",
                                    "MEGNEVEZES": "Matrica motoros kicsi",
                                    "Átlaghoz visszonyított ár": "Átlagon aluli ár"
                                },
                                {
                                    "KAT_NEV": "matrica",
                                    "LISTAAR": "109",
                                    "MEGNEVEZES": "Matrica Stickers nagy állatos",
                                    "Átlaghoz visszonyított ár": "Átlagon felüli ár"
                                },
                                {
                                    "KAT_NEV": "matrica",
                                    "LISTAAR": "93",
                                    "MEGNEVEZES": "Matrica Stickers szíves",
                                    "Átlaghoz visszonyított ár": "Átlagon aluli ár"
                                },
                                {
                                    "KAT_NEV": "matrica",
                                    "LISTAAR": "161",
                                    "MEGNEVEZES": "Matrica Test ékszer tattoo",
                                    "Átlaghoz visszonyított ár": "Átlagon felüli ár"
                                },
                                {
                                    "KAT_NEV": "matrica",
                                    "LISTAAR": "168",
                                    "MEGNEVEZES": "Matrica tetoválás",
                                    "Átlaghoz visszonyított ár": "Átlagon felüli ár"
                                },
                                {
                                    "KAT_NEV": "matrica",
                                    "LISTAAR": "148",
                                    "MEGNEVEZES": "Matrica tetoválós kicsi",
                                    "Átlaghoz visszonyított ár": "Átlagon felüli ár"
                                },
                                {
                                    "KAT_NEV": "matrica",
                                    "LISTAAR": "175",
                                    "MEGNEVEZES": "Matrica világítós ",
                                    "Átlaghoz visszonyított ár": "Átlagon felüli ár"
                                },
                                {
                                    "KAT_NEV": "matrica",
                                    "LISTAAR": "56",
                                    "MEGNEVEZES": "Matrica WD kicsi",
                                    "Átlaghoz visszonyított ár": "Átlagon aluli ár"
                                },
                                {
                                    "KAT_NEV": "meghívó",
                                    "LISTAAR": "59",
                                    "MEGNEVEZES": "Esküvői meghívó",
                                    "Átlaghoz visszonyított ár": "Átlagon aluli ár"
                                },
                                {
                                    "KAT_NEV": "meghívó",
                                    "LISTAAR": "155",
                                    "MEGNEVEZES": "Meghívó állatos",
                                    "Átlaghoz visszonyított ár": "Átlagon felüli ár"
                                },
                                {
                                    "KAT_NEV": "meghívó",
                                    "LISTAAR": "63",
                                    "MEGNEVEZES": "Meghívó ballagási",
                                    "Átlaghoz visszonyított ár": "Átlagon aluli ár"
                                },
                                {
                                    "KAT_NEV": "meghívó",
                                    "LISTAAR": "169",
                                    "MEGNEVEZES": "Meghívó borítékos",
                                    "Átlaghoz visszonyított ár": "Átlagon felüli ár"
                                },
                                {
                                    "KAT_NEV": "miliméterpapír",
                                    "LISTAAR": "8",
                                    "MEGNEVEZES": "Miliméterpapír",
                                    "Átlaghoz visszonyított ár": "Átlagon aluli ár"
                                },
                                {
                                    "KAT_NEV": "munkafüzet",
                                    "LISTAAR": "440",
                                    "MEGNEVEZES": "A föld amelyen élünk - munkafüzet",
                                    "Átlaghoz visszonyított ár": "Átlagon felüli ár"
                                },
                                {
                                    "KAT_NEV": "munkafüzet",
                                    "LISTAAR": "293",
                                    "MEGNEVEZES": "Anyanyelvi gyakorló 2",
                                    "Átlaghoz visszonyított ár": "Átlagon aluli ár"
                                },
                                {
                                    "KAT_NEV": "munkafüzet",
                                    "LISTAAR": "353",
                                    "MEGNEVEZES": "Anyanyelvi gyakorló 3",
                                    "Átlaghoz visszonyított ár": "Átlagon aluli ár"
                                },
                                {
                                    "KAT_NEV": "munkafüzet",
                                    "LISTAAR": "198",
                                    "MEGNEVEZES": "Fizika munkafüzet 13 év.",
                                    "Átlaghoz visszonyított ár": "Átlagon aluli ár"
                                },
                                {
                                    "KAT_NEV": "munkafüzet",
                                    "LISTAAR": "190",
                                    "MEGNEVEZES": "Fizika munkafüzet 14 év.",
                                    "Átlaghoz visszonyított ár": "Átlagon aluli ár"
                                },
                                {
                                    "KAT_NEV": "munkafüzet",
                                    "LISTAAR": "403",
                                    "MEGNEVEZES": "Matematika gyakorló 2",
                                    "Átlaghoz visszonyított ár": "Átlagon felüli ár"
                                },
                                {
                                    "KAT_NEV": "munkafüzet",
                                    "LISTAAR": "403",
                                    "MEGNEVEZES": "Matematika gyakorló 3",
                                    "Átlaghoz visszonyított ár": "Átlagon felüli ár"
                                },
                                {
                                    "KAT_NEV": "munkafüzet",
                                    "LISTAAR": "403",
                                    "MEGNEVEZES": "Matematika gyakorló 4",
                                    "Átlaghoz visszonyított ár": "Átlagon felüli ár"
                                },
                                {
                                    "KAT_NEV": "munkafüzet",
                                    "LISTAAR": "785",
                                    "MEGNEVEZES": "Összefoglaló feladatgyüjtemény számtech.",
                                    "Átlaghoz visszonyított ár": "Átlagon felüli ár"
                                },
                                {
                                    "KAT_NEV": "műnyomó",
                                    "LISTAAR": "3",
                                    "MEGNEVEZES": "Műnyomó 300g 17,5*20",
                                    "Átlaghoz visszonyított ár": "Átlagon aluli ár"
                                },
                                {
                                    "KAT_NEV": "naptár",
                                    "LISTAAR": "89",
                                    "MEGNEVEZES": "Naptár 24-es",
                                    "Átlaghoz visszonyított ár": "Átlagon aluli ár"
                                },
                                {
                                    "KAT_NEV": "naptárhát",
                                    "LISTAAR": "15",
                                    "MEGNEVEZES": "Naptárhát kicsi",
                                    "Átlaghoz visszonyított ár": "Átlagon aluli ár"
                                },
                                {
                                    "KAT_NEV": "naptárhát",
                                    "LISTAAR": "78",
                                    "MEGNEVEZES": "Naptárhát nagy",
                                    "Átlaghoz visszonyított ár": "Átlagon felüli ár"
                                },
                                {
                                    "KAT_NEV": "névjegytartó",
                                    "LISTAAR": "310",
                                    "MEGNEVEZES": "Névjegytartó kicsi",
                                    "Átlaghoz visszonyított ár": "Átlagon aluli ár"
                                },
                                {
                                    "KAT_NEV": "notesz",
                                    "LISTAAR": "103",
                                    "MEGNEVEZES": "Notesz A/5 sima",
                                    "Átlaghoz visszonyított ár": "Átlagon felüli ár"
                                },
                                {
                                    "KAT_NEV": "notesz",
                                    "LISTAAR": "89",
                                    "MEGNEVEZES": "Notesz A/5 sima spirál",
                                    "Átlaghoz visszonyított ár": "Átlagon felüli ár"
                                },
                                {
                                    "KAT_NEV": "notesz",
                                    "LISTAAR": "56",
                                    "MEGNEVEZES": "Notesz A/6 College",
                                    "Átlaghoz visszonyított ár": "Átlagon aluli ár"
                                },
                                {
                                    "KAT_NEV": "notesz",
                                    "LISTAAR": "44",
                                    "MEGNEVEZES": "Notesz mintás",
                                    "Átlaghoz visszonyított ár": "Átlagon aluli ár"
                                },
                                {
                                    "KAT_NEV": "notesz",
                                    "LISTAAR": "103",
                                    "MEGNEVEZES": "Notesz sima spirál College",
                                    "Átlaghoz visszonyított ár": "Átlagon felüli ár"
                                },
                                {
                                    "KAT_NEV": "női kabát",
                                    "LISTAAR": "24000",
                                    "MEGNEVEZES": "női szövet kabát",
                                    "Átlaghoz visszonyított ár": "Átlagon aluli ár"
                                },
                                {
                                    "KAT_NEV": "női nadrág",
                                    "LISTAAR": "8290",
                                    "MEGNEVEZES": "női farmer nadrág",
                                    "Átlaghoz visszonyított ár": "Átlagon aluli ár"
                                },
                                {
                                    "KAT_NEV": "ofszet",
                                    "LISTAAR": "4",
                                    "MEGNEVEZES": "Színes ofszet B/4",
                                    "Átlaghoz visszonyított ár": "Átlagon aluli ár"
                                },
                                {
                                    "KAT_NEV": "oklevél",
                                    "LISTAAR": "48",
                                    "MEGNEVEZES": "Oklevél A/4 egyszínű",
                                    "Átlaghoz visszonyított ár": "Átlagon aluli ár"
                                },
                                {
                                    "KAT_NEV": "oklevél",
                                    "LISTAAR": "55",
                                    "MEGNEVEZES": "Oklevél A/4 színes",
                                    "Átlaghoz visszonyított ár": "Átlagon felüli ár"
                                },
                                {
                                    "KAT_NEV": "olló",
                                    "LISTAAR": "133",
                                    "MEGNEVEZES": "Olló gyerek ",
                                    "Átlaghoz visszonyított ár": "Átlagon aluli ár"
                                },
                                {
                                    "KAT_NEV": "olló",
                                    "LISTAAR": "176",
                                    "MEGNEVEZES": "Olló Tagit 18 cm-es",
                                    "Átlaghoz visszonyított ár": "Átlagon felüli ár"
                                },
                                {
                                    "KAT_NEV": "olló",
                                    "LISTAAR": "161",
                                    "MEGNEVEZES": "Olló, iskolai",
                                    "Átlaghoz visszonyított ár": "Átlagon felüli ár"
                                },
                                {
                                    "KAT_NEV": "öntapadó",
                                    "LISTAAR": "4575",
                                    "MEGNEVEZES": "Öntapadó A/4",
                                    "Átlaghoz visszonyított ár": "Átlagon felüli ár"
                                },
                                {
                                    "KAT_NEV": "öntapadó",
                                    "LISTAAR": "59",
                                    "MEGNEVEZES": "Öntapadós hologramos papír A/4",
                                    "Átlaghoz visszonyított ár": "Átlagon aluli ár"
                                },
                                {
                                    "KAT_NEV": "papízsebkendő",
                                    "LISTAAR": "20",
                                    "MEGNEVEZES": "Papízsebkendő,10db Szindy",
                                    "Átlaghoz visszonyított ár": "Átlagon aluli ár"
                                },
                                {
                                    "KAT_NEV": "pausz",
                                    "LISTAAR": "15",
                                    "MEGNEVEZES": "Pausz papír A/4",
                                    "Átlaghoz visszonyított ár": "Átlagon aluli ár"
                                },
                                {
                                    "KAT_NEV": "pénztárbizonylat",
                                    "LISTAAR": "144",
                                    "MEGNEVEZES": "Bevételi pénztárbizonylat 3×25",
                                    "Átlaghoz visszonyított ár": "Átlagon felüli ár"
                                },
                                {
                                    "KAT_NEV": "pénztárbizonylat",
                                    "LISTAAR": "103",
                                    "MEGNEVEZES": "Kiadási pénztárbizonylat 2×25",
                                    "Átlaghoz visszonyított ár": "Átlagon aluli ár"
                                },
                                {
                                    "KAT_NEV": "pénztárgépszalag",
                                    "LISTAAR": "81",
                                    "MEGNEVEZES": "Pénztárgépsz. 2 pl. nem öníró",
                                    "Átlaghoz visszonyított ár": "Átlagon aluli ár"
                                },
                                {
                                    "KAT_NEV": "pénztárgépszalag",
                                    "LISTAAR": "93",
                                    "MEGNEVEZES": "Pénztárgépszalag 2pl SC 57.5/60",
                                    "Átlaghoz visszonyított ár": "Átlagon felüli ár"
                                },
                                {
                                    "KAT_NEV": "pixiron",
                                    "LISTAAR": "276",
                                    "MEGNEVEZES": "Pixiron  UNI",
                                    "Átlaghoz visszonyított ár": "Átlagon felüli ár"
                                },
                                {
                                    "KAT_NEV": "pixiron",
                                    "LISTAAR": "125",
                                    "MEGNEVEZES": "Pixiron 0,7 Handy",
                                    "Átlaghoz visszonyított ár": "Átlagon aluli ár"
                                },
                                {
                                    "KAT_NEV": "pixiron",
                                    "LISTAAR": "59",
                                    "MEGNEVEZES": "Pixiron Centrum",
                                    "Átlaghoz visszonyított ár": "Átlagon aluli ár"
                                },
                                {
                                    "KAT_NEV": "pixiron",
                                    "LISTAAR": "133",
                                    "MEGNEVEZES": "Pixiron Handy fém",
                                    "Átlaghoz visszonyított ár": "Átlagon aluli ár"
                                },
                                {
                                    "KAT_NEV": "pixiron",
                                    "LISTAAR": "94",
                                    "MEGNEVEZES": "Pixiron Handy műanyag",
                                    "Átlaghoz visszonyított ár": "Átlagon aluli ár"
                                },
                                {
                                    "KAT_NEV": "pixiron",
                                    "LISTAAR": "468",
                                    "MEGNEVEZES": "Pixiron KOH-I-NOOR",
                                    "Átlaghoz visszonyított ár": "Átlagon felüli ár"
                                },
                                {
                                    "KAT_NEV": "pixiron",
                                    "LISTAAR": "59",
                                    "MEGNEVEZES": "Pixiron mini ",
                                    "Átlaghoz visszonyított ár": "Átlagon aluli ár"
                                },
                                {
                                    "KAT_NEV": "pixiron",
                                    "LISTAAR": "235",
                                    "MEGNEVEZES": "Pixiron Penac",
                                    "Átlaghoz visszonyított ár": "Átlagon felüli ár"
                                },
                                {
                                    "KAT_NEV": "pixiron",
                                    "LISTAAR": "299",
                                    "MEGNEVEZES": "Pixiron Pentel színes",
                                    "Átlaghoz visszonyított ár": "Átlagon felüli ár"
                                },
                                {
                                    "KAT_NEV": "plüss",
                                    "LISTAAR": "173",
                                    "MEGNEVEZES": "Plüss  QX állatok",
                                    "Átlaghoz visszonyított ár": "Átlagon aluli ár"
                                },
                                {
                                    "KAT_NEV": "plüss",
                                    "LISTAAR": "161",
                                    "MEGNEVEZES": "Plüss kicsi",
                                    "Átlaghoz visszonyított ár": "Átlagon aluli ár"
                                },
                                {
                                    "KAT_NEV": "plüss",
                                    "LISTAAR": "314",
                                    "MEGNEVEZES": "Plüss sárkány",
                                    "Átlaghoz visszonyított ár": "Átlagon felüli ár"
                                },
                                {
                                    "KAT_NEV": "post-it",
                                    "LISTAAR": "36",
                                    "MEGNEVEZES": "Post-it 51×38 100 lapos",
                                    "Átlaghoz visszonyított ár": "Átlagon aluli ár"
                                },
                                {
                                    "KAT_NEV": "post-it",
                                    "LISTAAR": "89",
                                    "MEGNEVEZES": "Post-it 75×75 100 lapos",
                                    "Átlaghoz visszonyított ár": "Átlagon felüli ár"
                                },
                                {
                                    "KAT_NEV": "radír",
                                    "LISTAAR": "40",
                                    "MEGNEVEZES": "Radír gyümölcsös",
                                    "Átlaghoz visszonyított ár": "Átlagon aluli ár"
                                },
                                {
                                    "KAT_NEV": "radír",
                                    "LISTAAR": "36",
                                    "MEGNEVEZES": "Radír Koh-i-nor 40",
                                    "Átlaghoz visszonyított ár": "Átlagon aluli ár"
                                },
                                {
                                    "KAT_NEV": "radír",
                                    "LISTAAR": "19",
                                    "MEGNEVEZES": "Radír KOH-I-NOR 80",
                                    "Átlaghoz visszonyított ár": "Átlagon aluli ár"
                                },
                                {
                                    "KAT_NEV": "radír",
                                    "LISTAAR": "44",
                                    "MEGNEVEZES": "Radír Maped",
                                    "Átlaghoz visszonyított ár": "Átlagon felüli ár"
                                },
                                {
                                    "KAT_NEV": "radír",
                                    "LISTAAR": "44",
                                    "MEGNEVEZES": "Radír stabilo",
                                    "Átlaghoz visszonyított ár": "Átlagon felüli ár"
                                },
                                {
                                    "KAT_NEV": "radír",
                                    "LISTAAR": "50",
                                    "MEGNEVEZES": "Radír Tikky 30 ",
                                    "Átlaghoz visszonyított ár": "Átlagon felüli ár"
                                },
                                {
                                    "KAT_NEV": "radír",
                                    "LISTAAR": "49",
                                    "MEGNEVEZES": "Radír Tikky 40 ",
                                    "Átlaghoz visszonyított ár": "Átlagon felüli ár"
                                },
                                {
                                    "KAT_NEV": "radírtoll",
                                    "LISTAAR": "74",
                                    "MEGNEVEZES": "Radírtoll betét ER100",
                                    "Átlaghoz visszonyított ár": "Átlagon aluli ár"
                                },
                                {
                                    "KAT_NEV": "radírtoll",
                                    "LISTAAR": "119",
                                    "MEGNEVEZES": "Radírtoll betét vastag",
                                    "Átlaghoz visszonyított ár": "Átlagon felüli ár"
                                },
                                {
                                    "KAT_NEV": "ragasztó",
                                    "LISTAAR": "103",
                                    "MEGNEVEZES": "Pill.ragasztó",
                                    "Átlaghoz visszonyított ár": "Átlagon aluli ár"
                                },
                                {
                                    "KAT_NEV": "ragasztó",
                                    "LISTAAR": "81",
                                    "MEGNEVEZES": "Ragasztó 8 g Pritt",
                                    "Átlaghoz visszonyított ár": "Átlagon aluli ár"
                                },
                                {
                                    "KAT_NEV": "ragasztó",
                                    "LISTAAR": "110",
                                    "MEGNEVEZES": "Ragasztó 9 g Pax",
                                    "Átlaghoz visszonyított ár": "Átlagon aluli ár"
                                },
                                {
                                    "KAT_NEV": "ragasztó",
                                    "LISTAAR": "293",
                                    "MEGNEVEZES": "Ragasztó Gyurma",
                                    "Átlaghoz visszonyított ár": "Átlagon felüli ár"
                                },
                                {
                                    "KAT_NEV": "ragasztó",
                                    "LISTAAR": "101",
                                    "MEGNEVEZES": "Ragasztó kenőfejes Nebuló",
                                    "Átlaghoz visszonyított ár": "Átlagon aluli ár"
                                },
                                {
                                    "KAT_NEV": "ragasztó",
                                    "LISTAAR": "89",
                                    "MEGNEVEZES": "Ragasztó kores",
                                    "Átlaghoz visszonyított ár": "Átlagon aluli ár"
                                },
                                {
                                    "KAT_NEV": "ragasztó",
                                    "LISTAAR": "133",
                                    "MEGNEVEZES": "Ragasztó szalag KORES ",
                                    "Átlaghoz visszonyított ár": "Átlagon aluli ár"
                                },
                                {
                                    "KAT_NEV": "ragasztó",
                                    "LISTAAR": "144",
                                    "MEGNEVEZES": "Ragasztó, Technokol 35g kék",
                                    "Átlaghoz visszonyított ár": "Átlagon aluli ár"
                                },
                                {
                                    "KAT_NEV": "ragasztó",
                                    "LISTAAR": "144",
                                    "MEGNEVEZES": "Ragasztó, Technokol 35g piros",
                                    "Átlaghoz visszonyított ár": "Átlagon aluli ár"
                                },
                                {
                                    "KAT_NEV": "ragasztó",
                                    "LISTAAR": "426",
                                    "MEGNEVEZES": "Ragasztószalag 19 mm-es SCOTCH+ tépő",
                                    "Átlaghoz visszonyított ár": "Átlagon felüli ár"
                                },
                                {
                                    "KAT_NEV": "ragasztószalag",
                                    "LISTAAR": "15",
                                    "MEGNEVEZES": "Ragasztószalag  TIXO",
                                    "Átlaghoz visszonyított ár": "Átlagon aluli ár"
                                },
                                {
                                    "KAT_NEV": "ragasztószalag",
                                    "LISTAAR": "55",
                                    "MEGNEVEZES": "Ragasztószalag 19 mm-es",
                                    "Átlaghoz visszonyított ár": "Átlagon aluli ár"
                                },
                                {
                                    "KAT_NEV": "ragasztószalag",
                                    "LISTAAR": "63",
                                    "MEGNEVEZES": "Ragasztószalag nagy 12 mm",
                                    "Átlaghoz visszonyított ár": "Átlagon aluli ár"
                                },
                                {
                                    "KAT_NEV": "ragasztószalag",
                                    "LISTAAR": "166",
                                    "MEGNEVEZES": "Ragasztószalag széles barna",
                                    "Átlaghoz visszonyított ár": "Átlagon felüli ár"
                                },
                                {
                                    "KAT_NEV": "rágógumi",
                                    "LISTAAR": "89",
                                    "MEGNEVEZES": "Rágógumi Orbit",
                                    "Átlaghoz visszonyított ár": "Átlagon aluli ár"
                                },
                                {
                                    "KAT_NEV": "rajzlap",
                                    "LISTAAR": "342",
                                    "MEGNEVEZES": "félfamentes rajzlap A4 (10 lap)",
                                    "Átlaghoz visszonyított ár": "Átlagon felüli ár"
                                },
                                {
                                    "KAT_NEV": "rajzlap",
                                    "LISTAAR": "28",
                                    "MEGNEVEZES": "Rajzlap A/4 10db ffam.",
                                    "Átlaghoz visszonyított ár": "Átlagon aluli ár"
                                },
                                {
                                    "KAT_NEV": "rajzszeg",
                                    "LISTAAR": "63",
                                    "MEGNEVEZES": "Rajzszeg",
                                    "Átlaghoz visszonyított ár": "Átlagon aluli ár"
                                },
                                {
                                    "KAT_NEV": "rajzszeg",
                                    "LISTAAR": "106",
                                    "MEGNEVEZES": "Rajzszeg színes",
                                    "Átlaghoz visszonyított ár": "Átlagon felüli ár"
                                },
                                {
                                    "KAT_NEV": "regiszteres füzet",
                                    "LISTAAR": "256",
                                    "MEGNEVEZES": "Regiszteres füzet A4",
                                    "Átlaghoz visszonyított ár": "Átlagon felüli ár"
                                },
                                {
                                    "KAT_NEV": "regiszteres füzet",
                                    "LISTAAR": "203",
                                    "MEGNEVEZES": "Regiszteres füzet A5 Hightech",
                                    "Átlaghoz visszonyított ár": "Átlagon aluli ár"
                                },
                                {
                                    "KAT_NEV": "sál",
                                    "LISTAAR": "1990",
                                    "MEGNEVEZES": "sál",
                                    "Átlaghoz visszonyított ár": "Átlagon aluli ár"
                                },
                                {
                                    "KAT_NEV": "spirál",
                                    "LISTAAR": "45",
                                    "MEGNEVEZES": "Spirál 1/4 ",
                                    "Átlaghoz visszonyított ár": "Átlagon aluli ár"
                                },
                                {
                                    "KAT_NEV": "strandlabda",
                                    "LISTAAR": "356",
                                    "MEGNEVEZES": "Strandlabda ",
                                    "Átlaghoz visszonyított ár": "Átlagon aluli ár"
                                },
                                {
                                    "KAT_NEV": "szalvéta",
                                    "LISTAAR": "176",
                                    "MEGNEVEZES": "Szalvéta ",
                                    "Átlaghoz visszonyított ár": "Átlagon felüli ár"
                                },
                                {
                                    "KAT_NEV": "szalvéta",
                                    "LISTAAR": "133",
                                    "MEGNEVEZES": "Szalvéta dekor",
                                    "Átlaghoz visszonyított ár": "Átlagon aluli ár"
                                },
                                {
                                    "KAT_NEV": "szalvéta",
                                    "LISTAAR": "118",
                                    "MEGNEVEZES": "Szalvéta egyszínű",
                                    "Átlaghoz visszonyított ár": "Átlagon aluli ár"
                                },
                                {
                                    "KAT_NEV": "szalvéta",
                                    "LISTAAR": "175",
                                    "MEGNEVEZES": "Szalvéta Goma húsvéti",
                                    "Átlaghoz visszonyított ár": "Átlagon felüli ár"
                                },
                                {
                                    "KAT_NEV": "szalvéta",
                                    "LISTAAR": "183",
                                    "MEGNEVEZES": "Szalvéta gyűjtőknek",
                                    "Átlaghoz visszonyított ár": "Átlagon felüli ár"
                                },
                                {
                                    "KAT_NEV": "szalvéta",
                                    "LISTAAR": "161",
                                    "MEGNEVEZES": "Szalvéta kicsi virágos",
                                    "Átlaghoz visszonyított ár": "Átlagon felüli ár"
                                },
                                {
                                    "KAT_NEV": "számológép",
                                    "LISTAAR": "508",
                                    "MEGNEVEZES": "Számológép Roxin",
                                    "Átlaghoz visszonyított ár": "Átlagon aluli ár"
                                },
                                {
                                    "KAT_NEV": "számológép",
                                    "LISTAAR": "1173",
                                    "MEGNEVEZES": "Számológép tudományos",
                                    "Átlaghoz visszonyított ár": "Átlagon felüli ár"
                                },
                                {
                                    "KAT_NEV": "szemetes",
                                    "LISTAAR": "129",
                                    "MEGNEVEZES": "Szemetes zsák 60 literes",
                                    "Átlaghoz visszonyított ár": "Átlagon aluli ár"
                                },
                                {
                                    "KAT_NEV": "színes",
                                    "LISTAAR": "161",
                                    "MEGNEVEZES": "Színes ceruza 12 szín",
                                    "Átlaghoz visszonyított ár": "Átlagon felüli ár"
                                },
                                {
                                    "KAT_NEV": "színes",
                                    "LISTAAR": "99",
                                    "MEGNEVEZES": "Színes ceruza 6-os",
                                    "Átlaghoz visszonyított ár": "Átlagon aluli ár"
                                },
                                {
                                    "KAT_NEV": "szögmérő",
                                    "LISTAAR": "24",
                                    "MEGNEVEZES": "Szögmérő 180 fokos műa.",
                                    "Átlaghoz visszonyított ár": "Átlagon felüli ár"
                                },
                                {
                                    "KAT_NEV": "szögmérő",
                                    "LISTAAR": "11",
                                    "MEGNEVEZES": "Szögmérő papír",
                                    "Átlaghoz visszonyított ár": "Átlagon aluli ár"
                                },
                                {
                                    "KAT_NEV": "szögmérő",
                                    "LISTAAR": "8",
                                    "MEGNEVEZES": "Szögmérő színes",
                                    "Átlaghoz visszonyított ár": "Átlagon aluli ár"
                                },
                                {
                                    "KAT_NEV": "szövegkiemelő",
                                    "LISTAAR": "78",
                                    "MEGNEVEZES": "Szövegkiemelő",
                                    "Átlaghoz visszonyított ár": "Átlagon aluli ár"
                                },
                                {
                                    "KAT_NEV": "szövegkiemelő",
                                    "LISTAAR": "93",
                                    "MEGNEVEZES": "Szövegkiemelő ",
                                    "Átlaghoz visszonyított ár": "Átlagon aluli ár"
                                },
                                {
                                    "KAT_NEV": "szövegkiemelő",
                                    "LISTAAR": "140",
                                    "MEGNEVEZES": "Szövegkiemelő Staedtler",
                                    "Átlaghoz visszonyított ár": "Átlagon felüli ár"
                                },
                                {
                                    "KAT_NEV": "szövegkiemelő",
                                    "LISTAAR": "89",
                                    "MEGNEVEZES": "Szövegkiemelő vékony",
                                    "Átlaghoz visszonyított ár": "Átlagon aluli ár"
                                },
                                {
                                    "KAT_NEV": "szövegkiemelő",
                                    "LISTAAR": "103",
                                    "MEGNEVEZES": "Szövegkiemelő Videotip",
                                    "Átlaghoz visszonyított ár": "Átlagon felüli ár"
                                },
                                {
                                    "KAT_NEV": "táblafilc",
                                    "LISTAAR": "633",
                                    "MEGNEVEZES": "Táblafilc",
                                    "Átlaghoz visszonyított ár": "Átlagon aluli ár"
                                },
                                {
                                    "KAT_NEV": "tapétavágó",
                                    "LISTAAR": "40",
                                    "MEGNEVEZES": "Tapétavágó kés",
                                    "Átlaghoz visszonyított ár": "Átlagon aluli ár"
                                },
                                {
                                    "KAT_NEV": "tempera",
                                    "LISTAAR": "96",
                                    "MEGNEVEZES": "Tempera szóló ezüst",
                                    "Átlaghoz visszonyított ár": "Átlagon felüli ár"
                                },
                                {
                                    "KAT_NEV": "tempera",
                                    "LISTAAR": "48",
                                    "MEGNEVEZES": "Tempera szóló színes",
                                    "Átlaghoz visszonyított ár": "Átlagon aluli ár"
                                },
                                {
                                    "KAT_NEV": "térképtű",
                                    "LISTAAR": "103",
                                    "MEGNEVEZES": "Térképtű színes",
                                    "Átlaghoz visszonyított ár": "Átlagon aluli ár"
                                },
                                {
                                    "KAT_NEV": "tintapatron",
                                    "LISTAAR": "9",
                                    "MEGNEVEZES": "Tintapatron /kék/",
                                    "Átlaghoz visszonyított ár": "Átlagon aluli ár"
                                },
                                {
                                    "KAT_NEV": "tintapatron",
                                    "LISTAAR": "360",
                                    "MEGNEVEZES": "Tintapatron 30 db-os kék",
                                    "Átlaghoz visszonyított ár": "Átlagon felüli ár"
                                },
                                {
                                    "KAT_NEV": "tintapatron",
                                    "LISTAAR": "11",
                                    "MEGNEVEZES": "Tintapatron színes",
                                    "Átlaghoz visszonyított ár": "Átlagon aluli ár"
                                },
                                {
                                    "KAT_NEV": "toll",
                                    "LISTAAR": "74",
                                    "MEGNEVEZES": "Kerámiatoll",
                                    "Átlaghoz visszonyított ár": "Átlagon aluli ár"
                                },
                                {
                                    "KAT_NEV": "toll",
                                    "LISTAAR": "80",
                                    "MEGNEVEZES": "Toll Centropen roller",
                                    "Átlaghoz visszonyított ár": "Átlagon felüli ár"
                                },
                                {
                                    "KAT_NEV": "tollbetét",
                                    "LISTAAR": "30",
                                    "MEGNEVEZES": "G. toll betét mini",
                                    "Átlaghoz visszonyított ár": "Átlagon aluli ár"
                                },
                                {
                                    "KAT_NEV": "tollbetét",
                                    "LISTAAR": "55",
                                    "MEGNEVEZES": "G. toll betét mini fém",
                                    "Átlaghoz visszonyított ár": "Átlagon aluli ár"
                                },
                                {
                                    "KAT_NEV": "tollbetét",
                                    "LISTAAR": "30",
                                    "MEGNEVEZES": "G. toll betét réz",
                                    "Átlaghoz visszonyított ár": "Átlagon aluli ár"
                                },
                                {
                                    "KAT_NEV": "tollbetét",
                                    "LISTAAR": "80",
                                    "MEGNEVEZES": "G. toll betét S7S",
                                    "Átlaghoz visszonyított ár": "Átlagon aluli ár"
                                },
                                {
                                    "KAT_NEV": "tollbetét",
                                    "LISTAAR": "85",
                                    "MEGNEVEZES": "G. toll betét UNI lachnok Fine SA-7C",
                                    "Átlaghoz visszonyított ár": "Átlagon aluli ár"
                                },
                                {
                                    "KAT_NEV": "tollbetét",
                                    "LISTAAR": "55",
                                    "MEGNEVEZES": "G.toll betét csavaros",
                                    "Átlaghoz visszonyított ár": "Átlagon aluli ár"
                                },
                                {
                                    "KAT_NEV": "tollbetét",
                                    "LISTAAR": "39",
                                    "MEGNEVEZES": "G.toll betét görbe hegyű",
                                    "Átlaghoz visszonyított ár": "Átlagon aluli ár"
                                },
                                {
                                    "KAT_NEV": "tollbetét",
                                    "LISTAAR": "44",
                                    "MEGNEVEZES": "G.toll betét illatos",
                                    "Átlaghoz visszonyított ár": "Átlagon aluli ár"
                                },
                                {
                                    "KAT_NEV": "tollbetét",
                                    "LISTAAR": "33",
                                    "MEGNEVEZES": "G.toll betét jumbo",
                                    "Átlaghoz visszonyított ár": "Átlagon aluli ár"
                                },
                                {
                                    "KAT_NEV": "tollbetét",
                                    "LISTAAR": "684",
                                    "MEGNEVEZES": "G.toll betét Parker ",
                                    "Átlaghoz visszonyított ár": "Átlagon felüli ár"
                                },
                                {
                                    "KAT_NEV": "tollbetét",
                                    "LISTAAR": "123",
                                    "MEGNEVEZES": "G.toll betét PAX",
                                    "Átlaghoz visszonyított ár": "Átlagon felüli ár"
                                },
                                {
                                    "KAT_NEV": "tollbetét",
                                    "LISTAAR": "48",
                                    "MEGNEVEZES": "G.toll betét PAX tip.",
                                    "Átlaghoz visszonyított ár": "Átlagon aluli ár"
                                },
                                {
                                    "KAT_NEV": "tollbetét",
                                    "LISTAAR": "91",
                                    "MEGNEVEZES": "G.toll betét S7L ",
                                    "Átlaghoz visszonyított ár": "Átlagon aluli ár"
                                },
                                {
                                    "KAT_NEV": "tollbetét",
                                    "LISTAAR": "23",
                                    "MEGNEVEZES": "G.toll betét Stabilo",
                                    "Átlaghoz visszonyított ár": "Átlagon aluli ár"
                                },
                                {
                                    "KAT_NEV": "tollbetét",
                                    "LISTAAR": "15",
                                    "MEGNEVEZES": "G.toll betét X20",
                                    "Átlaghoz visszonyított ár": "Átlagon aluli ár"
                                },
                                {
                                    "KAT_NEV": "tollbetét",
                                    "LISTAAR": "228",
                                    "MEGNEVEZES": "G.toll betét Zebra F-0.7",
                                    "Átlaghoz visszonyított ár": "Átlagon felüli ár"
                                },
                                {
                                    "KAT_NEV": "tollbetét",
                                    "LISTAAR": "78",
                                    "MEGNEVEZES": "G.toll betét Zebra H-0,7",
                                    "Átlaghoz visszonyított ár": "Átlagon aluli ár"
                                },
                                {
                                    "KAT_NEV": "tollbetét",
                                    "LISTAAR": "89",
                                    "MEGNEVEZES": "G.toll betét Zebra K-0,7",
                                    "Átlaghoz visszonyított ár": "Átlagon aluli ár"
                                },
                                {
                                    "KAT_NEV": "tolltartó",
                                    "LISTAAR": "728",
                                    "MEGNEVEZES": "Tolltartó 1 zipzáros",
                                    "Átlaghoz visszonyított ár": "Átlagon felüli ár"
                                },
                                {
                                    "KAT_NEV": "tolltartó",
                                    "LISTAAR": "765",
                                    "MEGNEVEZES": "Tolltartó 2 részes NG.",
                                    "Átlaghoz visszonyított ár": "Átlagon felüli ár"
                                },
                                {
                                    "KAT_NEV": "tolltartó",
                                    "LISTAAR": "728",
                                    "MEGNEVEZES": "Tolltartó 2 zipzáros töltött",
                                    "Átlaghoz visszonyított ár": "Átlagon felüli ár"
                                },
                                {
                                    "KAT_NEV": "tolltartó",
                                    "LISTAAR": "655",
                                    "MEGNEVEZES": "Tolltartó asztali",
                                    "Átlaghoz visszonyított ár": "Átlagon felüli ár"
                                },
                                {
                                    "KAT_NEV": "tolltartó",
                                    "LISTAAR": "410",
                                    "MEGNEVEZES": "Tolltartó Garfield",
                                    "Átlaghoz visszonyított ár": "Átlagon aluli ár"
                                },
                                {
                                    "KAT_NEV": "tolltartó",
                                    "LISTAAR": "411",
                                    "MEGNEVEZES": "Tolltartó hengeres ",
                                    "Átlaghoz visszonyított ár": "Átlagon aluli ár"
                                },
                                {
                                    "KAT_NEV": "tolltartó",
                                    "LISTAAR": "324",
                                    "MEGNEVEZES": "Tolltartó zipzáras",
                                    "Átlaghoz visszonyított ár": "Átlagon aluli ár"
                                },
                                {
                                    "KAT_NEV": "toner",
                                    "LISTAAR": "14250",
                                    "MEGNEVEZES": "Oki toner C",
                                    "Átlaghoz visszonyított ár": "Átlagon aluli ár"
                                },
                                {
                                    "KAT_NEV": "töltőtoll",
                                    "LISTAAR": "493",
                                    "MEGNEVEZES": "Töltőtoll tinta ",
                                    "Átlaghoz visszonyított ár": "Átlagon aluli ár"
                                },
                                {
                                    "KAT_NEV": "tűzőgép",
                                    "LISTAAR": "2100",
                                    "MEGNEVEZES": "irodai tűzőgép",
                                    "Átlaghoz visszonyított ár": "Átlagon felüli ár"
                                },
                                {
                                    "KAT_NEV": "tűzőgép",
                                    "LISTAAR": "286",
                                    "MEGNEVEZES": "Tűzőgép Boxer ",
                                    "Átlaghoz visszonyított ár": "Átlagon aluli ár"
                                },
                                {
                                    "KAT_NEV": "tűzőgép",
                                    "LISTAAR": "339",
                                    "MEGNEVEZES": "Tűzőgép Boxer 10",
                                    "Átlaghoz visszonyított ár": "Átlagon aluli ár"
                                },
                                {
                                    "KAT_NEV": "tűzőgép",
                                    "LISTAAR": "405",
                                    "MEGNEVEZES": "Tűzőgép EAGLE",
                                    "Átlaghoz visszonyított ár": "Átlagon aluli ár"
                                },
                                {
                                    "KAT_NEV": "tűzőgép",
                                    "LISTAAR": "438",
                                    "MEGNEVEZES": "Tűzőgép mini",
                                    "Átlaghoz visszonyított ár": "Átlagon aluli ár"
                                },
                                {
                                    "KAT_NEV": "tűzőgép",
                                    "LISTAAR": "1351",
                                    "MEGNEVEZES": "Tűzőgép SAX 239",
                                    "Átlaghoz visszonyított ár": "Átlagon felüli ár"
                                },
                                {
                                    "KAT_NEV": "tűzőkapocs",
                                    "LISTAAR": "44",
                                    "MEGNEVEZES": "Tűzőkapocs 10-es",
                                    "Átlaghoz visszonyított ár": "Átlagon felüli ár"
                                },
                                {
                                    "KAT_NEV": "tűzőkapocs",
                                    "LISTAAR": "34",
                                    "MEGNEVEZES": "Tűzőkapocs 24/6",
                                    "Átlaghoz visszonyított ár": "Átlagon aluli ár"
                                },
                                {
                                    "KAT_NEV": "vízfesték",
                                    "LISTAAR": "249",
                                    "MEGNEVEZES": "Vízfesték  12 színű nagy",
                                    "Átlaghoz visszonyított ár": "Átlagon felüli ár"
                                },
                                {
                                    "KAT_NEV": "vízfesték",
                                    "LISTAAR": "210",
                                    "MEGNEVEZES": "Vízfesték 12 db-os ",
                                    "Átlaghoz visszonyított ár": "Átlagon felüli ár"
                                },
                                {
                                    "KAT_NEV": "vízfesték",
                                    "LISTAAR": "180",
                                    "MEGNEVEZES": "Vízfesték 12 színű kerek",
                                    "Átlaghoz visszonyított ár": "Átlagon aluli ár"
                                },
                                {
                                    "KAT_NEV": "vízfesték",
                                    "LISTAAR": "176",
                                    "MEGNEVEZES": "Vízfesték 12db-os kínai",
                                    "Átlaghoz visszonyított ár": "Átlagon aluli ár"
                                },
                                {
                                    "KAT_NEV": "vonalzó",
                                    "LISTAAR": "58",
                                    "MEGNEVEZES": "Vonalzó 15 cm-es ESSELTE",
                                    "Átlaghoz visszonyított ár": "Átlagon felüli ár"
                                },
                                {
                                    "KAT_NEV": "vonalzó",
                                    "LISTAAR": "30",
                                    "MEGNEVEZES": "Vonalzó 16 cm-es LIZZY",
                                    "Átlaghoz visszonyított ár": "Átlagon aluli ár"
                                },
                                {
                                    "KAT_NEV": "vonalzó",
                                    "LISTAAR": "30",
                                    "MEGNEVEZES": "Vonalzó 20 cm-es ",
                                    "Átlaghoz visszonyított ár": "Átlagon aluli ár"
                                },
                                {
                                    "KAT_NEV": "vonalzó",
                                    "LISTAAR": "30",
                                    "MEGNEVEZES": "Vonalzó 30 cm",
                                    "Átlaghoz visszonyított ár": "Átlagon aluli ár"
                                },
                                {
                                    "KAT_NEV": "vonalzó",
                                    "LISTAAR": "30",
                                    "MEGNEVEZES": "Vonalzó 45 fokos",
                                    "Átlaghoz visszonyított ár": "Átlagon aluli ár"
                                },
                                {
                                    "KAT_NEV": "vonalzó",
                                    "LISTAAR": "33",
                                    "MEGNEVEZES": "Vonalzó 60 fokos",
                                    "Átlaghoz visszonyított ár": "Átlagon aluli ár"
                                },
                                {
                                    "KAT_NEV": "zászló",
                                    "LISTAAR": "20",
                                    "MEGNEVEZES": "Zászló papír",
                                    "Átlaghoz visszonyított ár": "Átlagon aluli ár"
                                },
                                {
                                    "KAT_NEV": "zseléstoll",
                                    "LISTAAR": "95",
                                    "MEGNEVEZES": "Zselés toll ",
                                    "Átlaghoz visszonyított ár": "Átlagon aluli ár"
                                },
                                {
                                    "KAT_NEV": "zseléstoll",
                                    "LISTAAR": "66",
                                    "MEGNEVEZES": "Zselés toll MICRO",
                                    "Átlaghoz visszonyított ár": "Átlagon aluli ár"
                                },
                                {
                                    "KAT_NEV": "zseléstoll",
                                    "LISTAAR": "161",
                                    "MEGNEVEZES": "Zselés toll Muhnwa",
                                    "Átlaghoz visszonyított ár": "Átlagon felüli ár"
                                },
                                {
                                    "KAT_NEV": "zseléstoll",
                                    "LISTAAR": "228",
                                    "MEGNEVEZES": "Zseléstoll Lizzy Card",
                                    "Átlaghoz visszonyított ár": "Átlagon felüli ár"
                                },
                                {
                                    "KAT_NEV": "írásvetítő fólia",
                                    "LISTAAR": "81",
                                    "MEGNEVEZES": "Írásvetítő fólia",
                                    "Átlaghoz visszonyított ár": "Átlagon aluli ár"
                                }
                            ],
                            "schema": {
                                "fields": [
                                    {
                                        "name": "MEGNEVEZES"
                                    },
                                    {
                                        "name": "KAT_NEV"
                                    },
                                    {
                                        "name": "LISTAAR"
                                    },
                                    {
                                        "name": "Átlaghoz visszonyított ár"
                                    }
                                ]
                            }
                        },
                        "text/html": [
                            "<table>\n",
                            "<tr><th>MEGNEVEZES</th><th>KAT_NEV</th><th>LISTAAR</th><th>Átlaghoz visszonyított ár</th></tr>\n",
                            "<tr><td>A föld amelyen élünk - Európa földrajza</td><td>könyv</td><td>1089</td><td>Átlagon felüli ár</td></tr>\n",
                            "<tr><td>A föld amelyen élünk - Hazánk földrajza</td><td>könyv</td><td>1089</td><td>Átlagon felüli ár</td></tr>\n",
                            "<tr><td>A föld amelyen élünk - Távoli földrészek</td><td>könyv</td><td>1089</td><td>Átlagon felüli ár</td></tr>\n",
                            "<tr><td>Érettségi felv. fel. Biológia</td><td>könyv</td><td>440</td><td>Átlagon aluli ár</td></tr>\n",
                            "<tr><td>Érettségi felv. fel. Fizika</td><td>könyv</td><td>440</td><td>Átlagon aluli ár</td></tr>\n",
                            "<tr><td>Érettségi felv. fel. Matematika</td><td>könyv</td><td>720</td><td>Átlagon felüli ár</td></tr>\n",
                            "<tr><td>Fizika</td><td>könyv</td><td>674</td><td>Átlagon felüli ár</td></tr>\n",
                            "<tr><td>Fizika 13 éveseknek</td><td>könyv</td><td>308</td><td>Átlagon aluli ár</td></tr>\n",
                            "<tr><td>Fizikai feladatok és tévedések</td><td>könyv</td><td>324</td><td>Átlagon aluli ár</td></tr>\n",
                            "<tr><td>Fogalmazás lépésről lépésre</td><td>könyv</td><td>345</td><td>Átlagon aluli ár</td></tr>\n",
                            "<tr><td>Informatika</td><td>könyv</td><td>735</td><td>Átlagon felüli ár</td></tr>\n",
                            "<tr><td>Jól felkészültem-e - Fizika</td><td>könyv</td><td>291</td><td>Átlagon aluli ár</td></tr>\n",
                            "<tr><td>RAMba zárt világ</td><td>könyv</td><td>868</td><td>Átlagon felüli ár</td></tr>\n",
                            "<tr><td>Szám.tech. kicsiknek</td><td>könyv</td><td>214</td><td>Átlagon aluli ár</td></tr>\n",
                            "<tr><td>Szövegszerkesztés</td><td>könyv</td><td>691</td><td>Átlagon felüli ár</td></tr>\n",
                            "<tr><td>Bérlet tok</td><td>ajándék tárgy</td><td>24</td><td>Átlagon aluli ár</td></tr>\n",
                            "<tr><td>Lampion</td><td>ajándék tárgy</td><td>73</td><td>Átlagon aluli ár</td></tr>\n",
                            "<tr><td>Logikai készlet</td><td>ajándék tárgy</td><td>129</td><td>Átlagon felüli ár</td></tr>\n",
                            "<tr><td>Ajándék cs. 2×100×70</td><td>ajándék tasak</td><td>148</td><td>Átlagon felüli ár</td></tr>\n",
                            "<tr><td>Ajándék cs. tasak italos</td><td>ajándék tasak</td><td>185</td><td>Átlagon felüli ár</td></tr>\n",
                            "<tr><td>Ajándék cs. tasak italos, fólia</td><td>ajándék tasak</td><td>19</td><td>Átlagon aluli ár</td></tr>\n",
                            "<tr><td>Ajándék cs. tasak kicsi</td><td>ajándék tasak</td><td>26</td><td>Átlagon aluli ár</td></tr>\n",
                            "<tr><td>Ajándék cs. tasak kicsi</td><td>ajándék tasak</td><td>103</td><td>Átlagon aluli ár</td></tr>\n",
                            "<tr><td>Ajándék cs. tasak közepes</td><td>ajándék tasak</td><td>148</td><td>Átlagon felüli ár</td></tr>\n",
                            "<tr><td>Ajándék cs. tasak mintás kicsi</td><td>ajándék tasak</td><td>26</td><td>Átlagon aluli ár</td></tr>\n",
                            "<tr><td>Ajándék cs. tasak mintás nagy</td><td>ajándék tasak</td><td>206</td><td>Átlagon felüli ár</td></tr>\n",
                            "<tr><td>Ajándék cs. tasak virágos nagy</td><td>ajándék tasak</td><td>290</td><td>Átlagon felüli ár</td></tr>\n",
                            "<tr><td>Ajándék csom. 100x70 metál</td><td>ajándék tasak</td><td>148</td><td>Átlagon felüli ár</td></tr>\n",
                            "<tr><td>Ajándék csom. 150x70</td><td>ajándék tasak</td><td>206</td><td>Átlagon felüli ár</td></tr>\n",
                            "<tr><td>Ajándék csom. 200x70</td><td>ajándék tasak</td><td>125</td><td>Átlagon aluli ár</td></tr>\n",
                            "<tr><td>Ajándék csom. 50x70 húsvéti</td><td>ajándék tasak</td><td>64</td><td>Átlagon aluli ár</td></tr>\n",
                            "<tr><td>Ajándék csom. 70x50 metál</td><td>ajándék tasak</td><td>81</td><td>Átlagon aluli ár</td></tr>\n",
                            "<tr><td>Ajándék csom. gyűrt</td><td>ajándék tasak</td><td>169</td><td>Átlagon felüli ár</td></tr>\n",
                            "<tr><td>Ajándék csomagoló tasak</td><td>ajándék tasak</td><td>185</td><td>Átlagon felüli ár</td></tr>\n",
                            "<tr><td>Ajándék csomagoló tasak lézeres</td><td>ajándék tasak</td><td>214</td><td>Átlagon felüli ár</td></tr>\n",
                            "<tr><td>Italtartó doboz</td><td>ajándék tasak</td><td>114</td><td>Átlagon aluli ár</td></tr>\n",
                            "<tr><td>Mikulás zacskó</td><td>ajándék tasak</td><td>11</td><td>Átlagon aluli ár</td></tr>\n",
                            "<tr><td>Talpas tasak</td><td>ajándék tasak</td><td>40</td><td>Átlagon aluli ár</td></tr>\n",
                            "<tr><td>Álarc</td><td>álarc</td><td>89</td><td>Átlagon aluli ár</td></tr>\n",
                            "<tr><td>Álarc fejdísz</td><td>álarc</td><td>144</td><td>Átlagon felüli ár</td></tr>\n",
                            "<tr><td>Álarc szemüveg</td><td>álarc</td><td>144</td><td>Átlagon felüli ár</td></tr>\n",
                            "<tr><td>fiú ünneplős ruha</td><td>alkalmi</td><td>16900</td><td>Átlagon aluli ár</td></tr>\n",
                            "<tr><td>lány ünneplős ruha</td><td>alkalmi</td><td>16900</td><td>Átlagon aluli ár</td></tr>\n",
                            "<tr><td>női koktélruha</td><td>alkalmi</td><td>32000</td><td>Átlagon felüli ár</td></tr>\n",
                            "<tr><td>Alufólia 10 m-es</td><td>alufólia</td><td>118</td><td>Átlagon aluli ár</td></tr>\n",
                            "<tr><td>Alufólia 20 m-es</td><td>alufólia</td><td>214</td><td>Átlagon felüli ár</td></tr>\n",
                            "<tr><td>Árazószalag </td><td>árazószalag</td><td>106</td><td>Átlagon aluli ár</td></tr>\n",
                            "<tr><td>Átírótömb A/6</td><td>átírótömb</td><td>115</td><td>Átlagon aluli ár</td></tr>\n",
                            "<tr><td>Beíró A/5 kockás</td><td>beíró</td><td>228</td><td>Átlagon aluli ár</td></tr>\n",
                            "<tr><td>Beírókönyv A4</td><td>beírókönyv</td><td>328</td><td>Átlagon felüli ár</td></tr>\n",
                            "<tr><td>Beírókönyv A5 </td><td>beírókönyv</td><td>133</td><td>Átlagon aluli ár</td></tr>\n",
                            "<tr><td>Bélyegző IDEAL 50</td><td>bélyegző</td><td>780</td><td>Átlagon aluli ár</td></tr>\n",
                            "<tr><td>Bélyegző párna</td><td>bélyegző</td><td>650</td><td>Átlagon aluli ár</td></tr>\n",
                            "<tr><td>Bélyegző pocket</td><td>bélyegző</td><td>1377</td><td>Átlagon felüli ár</td></tr>\n",
                            "<tr><td>Bélyegző RP 18-47</td><td>bélyegző</td><td>1147</td><td>Átlagon felüli ár</td></tr>\n",
                            "<tr><td>Bélyegzőfesték </td><td>bélyegzőfesték</td><td>297</td><td>Átlagon aluli ár</td></tr>\n",
                            "<tr><td>Boríték B/4-es</td><td>boríték</td><td>18</td><td>Átlagon felüli ár</td></tr>\n",
                            "<tr><td>Boríték C/4-es</td><td>boríték</td><td>15</td><td>Átlagon felüli ár</td></tr>\n",
                            "<tr><td>Boríték LA 4 francia</td><td>boríték</td><td>6</td><td>Átlagon aluli ár</td></tr>\n",
                            "<tr><td>Boríték LC 5</td><td>boríték</td><td>6</td><td>Átlagon aluli ár</td></tr>\n",
                            "<tr><td>Boríték LC 6</td><td>boríték</td><td>3</td><td>Átlagon aluli ár</td></tr>\n",
                            "<tr><td>Boríték légp. kicsi</td><td>boríték</td><td>39</td><td>Átlagon felüli ár</td></tr>\n",
                            "<tr><td>Boríték mintás</td><td>boríték</td><td>15</td><td>Átlagon felüli ár</td></tr>\n",
                            "<tr><td>CD tartó tok</td><td>cd tok</td><td>30</td><td>Átlagon aluli ár</td></tr>\n",
                            "<tr><td>Celofán</td><td>celofán</td><td>46</td><td>Átlagon aluli ár</td></tr>\n",
                            "<tr><td>Celofán 50 db-os</td><td>celofán</td><td>73</td><td>Átlagon felüli ár</td></tr>\n",
                            "<tr><td>Ceruza 2H-3B Koh-i-nor</td><td>ceruza</td><td>53</td><td>Átlagon felüli ár</td></tr>\n",
                            "<tr><td>Ceruza 2H-4B</td><td>ceruza</td><td>39</td><td>Átlagon aluli ár</td></tr>\n",
                            "<tr><td>Ceruza arany, ezüst</td><td>ceruza</td><td>55</td><td>Átlagon felüli ár</td></tr>\n",
                            "<tr><td>Ceruza Conté zöld</td><td>ceruza</td><td>40</td><td>Átlagon aluli ár</td></tr>\n",
                            "<tr><td>Ceruza Cseh</td><td>ceruza</td><td>30</td><td>Átlagon aluli ár</td></tr>\n",
                            "<tr><td>Ceruza háromszög </td><td>ceruza</td><td>39</td><td>Átlagon aluli ár</td></tr>\n",
                            "<tr><td>Ceruza HB radiros</td><td>ceruza</td><td>23</td><td>Átlagon aluli ár</td></tr>\n",
                            "<tr><td>Ceruza kártyás</td><td>ceruza</td><td>55</td><td>Átlagon felüli ár</td></tr>\n",
                            "<tr><td>Ceruza kínai</td><td>ceruza</td><td>11</td><td>Átlagon aluli ár</td></tr>\n",
                            "<tr><td>Ceruza piros-kék</td><td>ceruza</td><td>59</td><td>Átlagon felüli ár</td></tr>\n",
                            "<tr><td>Ceruza piros-kék vékony</td><td>ceruza</td><td>40</td><td>Átlagon aluli ár</td></tr>\n",
                            "<tr><td>Ceruza Progresso</td><td>ceruza</td><td>106</td><td>Átlagon felüli ár</td></tr>\n",
                            "<tr><td>Ceruza radíros kínai</td><td>ceruza</td><td>11</td><td>Átlagon aluli ár</td></tr>\n",
                            "<tr><td>Ceruza smaragd</td><td>ceruza</td><td>58</td><td>Átlagon felüli ár</td></tr>\n",
                            "<tr><td>Ceruza stabilo opera</td><td>ceruza</td><td>44</td><td>Átlagon aluli ár</td></tr>\n",
                            "<tr><td>Ceruza stabilo swano</td><td>ceruza</td><td>36</td><td>Átlagon aluli ár</td></tr>\n",
                            "<tr><td>Ceruza szén</td><td>ceruza</td><td>146</td><td>Átlagon felüli ár</td></tr>\n",
                            "<tr><td>Ceruza szorzótáblás</td><td>ceruza</td><td>35</td><td>Átlagon aluli ár</td></tr>\n",
                            "<tr><td>Ceruza zöld színű</td><td>ceruza</td><td>40</td><td>Átlagon aluli ár</td></tr>\n",
                            "<tr><td>Címke 8 db-os</td><td>címke</td><td>26</td><td>Átlagon felüli ár</td></tr>\n",
                            "<tr><td>Címke egyszínű</td><td>címke</td><td>20</td><td>Átlagon aluli ár</td></tr>\n",
                            "<tr><td>Címke WD. állat</td><td>címke</td><td>31</td><td>Átlagon felüli ár</td></tr>\n",
                            "<tr><td>Color Copy 160 g-os </td><td>color copy</td><td>14</td><td>Átlagon aluli ár</td></tr>\n",
                            "<tr><td>Color Copy A/4 250 g</td><td>color copy</td><td>15</td><td>Átlagon aluli ár</td></tr>\n",
                            "<tr><td>Color Copy A4 120 g</td><td>color copy</td><td>10</td><td>Átlagon aluli ár</td></tr>\n",
                            "<tr><td>Color Copy A4 200 g</td><td>color copy</td><td>14</td><td>Átlagon aluli ár</td></tr>\n",
                            "<tr><td>Színes másoló a/4 80g</td><td>color copy</td><td>1500</td><td>Átlagon felüli ár</td></tr>\n",
                            "<tr><td>házt.csom.  5 ív</td><td>csomagoló</td><td>110</td><td>Átlagon felüli ár</td></tr>\n",
                            "<tr><td>Szilvia csomagoló</td><td>csomagoló</td><td>89</td><td>Átlagon aluli ár</td></tr>\n",
                            "<tr><td>Ajándék cs. húsvéti</td><td>csomagoló papír</td><td>106</td><td>Átlagon felüli ár</td></tr>\n",
                            "<tr><td>Ajándék cs. húsvéti 200x70</td><td>csomagoló papír</td><td>220</td><td>Átlagon felüli ár</td></tr>\n",
                            "<tr><td>Ajándék csom. gyűrt 50x70 </td><td>csomagoló papír</td><td>121</td><td>Átlagon felüli ár</td></tr>\n",
                            "<tr><td>Ajándék csom. Krepp</td><td>csomagoló papír</td><td>56</td><td>Átlagon aluli ár</td></tr>\n",
                            "<tr><td>Ajándék csom. nagy  </td><td>csomagoló papír</td><td>44</td><td>Átlagon aluli ár</td></tr>\n",
                            "<tr><td>Ajándék csom. vékony</td><td>csomagoló papír</td><td>23</td><td>Átlagon aluli ár</td></tr>\n",
                            "<tr><td>iskolai csomagoló papír</td><td>csomagoló papír</td><td>148</td><td>Átlagon felüli ár</td></tr>\n",
                            "<tr><td>Műanyag állatok</td><td>dekor</td><td>44</td><td>Átlagon felüli ár</td></tr>\n",
                            "<tr><td>Műanyag foszforeszkáló állat</td><td>dekor</td><td>23</td><td>Átlagon felüli ár</td></tr>\n",
                            "<tr><td>Műanyag pohár 1 dl-es</td><td>dekor</td><td>3</td><td>Átlagon aluli ár</td></tr>\n",
                            "<tr><td>Műanyag pohár 5 cl-es</td><td>dekor</td><td>15</td><td>Átlagon aluli ár</td></tr>\n",
                            "<tr><td>Dipa A/4 keretezett</td><td>dipa</td><td>9</td><td>Átlagon aluli ár</td></tr>\n",
                            "<tr><td>Díszdoboz kar.</td><td>díszdoboz</td><td>61</td><td>Átlagon felüli ár</td></tr>\n",
                            "<tr><td>Díszdoboz tollnak 2 db-os</td><td>díszdoboz</td><td>66</td><td>Átlagon felüli ár</td></tr>\n",
                            "<tr><td>Díszdoboz tollnak 2 db-os keskeny</td><td>díszdoboz</td><td>44</td><td>Átlagon aluli ár</td></tr>\n",
                            "<tr><td>Diszkötöző szalag arany</td><td>díszkötöző</td><td>44</td><td>Átlagon felüli ár</td></tr>\n",
                            "<tr><td>Díszkötöző szalag metál kicsi</td><td>díszkötöző</td><td>15</td><td>Átlagon aluli ár</td></tr>\n",
                            "<tr><td>Díszkötöző szalag metál nagy</td><td>díszkötöző</td><td>26</td><td>Átlagon aluli ár</td></tr>\n",
                            "<tr><td>Díszkötöző szalag vékony</td><td>díszkötöző</td><td>15</td><td>Átlagon aluli ár</td></tr>\n",
                            "<tr><td>Diszkötöző széles szalag</td><td>díszkötöző</td><td>81</td><td>Átlagon felüli ár</td></tr>\n",
                            "<tr><td>Dvd</td><td>dvd</td><td>133</td><td>Átlagon aluli ár</td></tr>\n",
                            "<tr><td>Ecset Centrum 10,11,12</td><td>ecset</td><td>40</td><td>Átlagon aluli ár</td></tr>\n",
                            "<tr><td>Ecset Centrum 7,8,9</td><td>ecset</td><td>33</td><td>Átlagon aluli ár</td></tr>\n",
                            "<tr><td>Ecset Deák 2-es</td><td>ecset</td><td>60</td><td>Átlagon aluli ár</td></tr>\n",
                            "<tr><td>Ecset Lizzy 10-es</td><td>ecset</td><td>65</td><td>Átlagon aluli ár</td></tr>\n",
                            "<tr><td>Ecset Nebuló 10-es</td><td>ecset</td><td>79</td><td>Átlagon felüli ár</td></tr>\n",
                            "<tr><td>Ecset Nebulo 4-es</td><td>ecset</td><td>36</td><td>Átlagon aluli ár</td></tr>\n",
                            "<tr><td>Ecsetkészlet</td><td>ecset</td><td>180</td><td>Átlagon felüli ár</td></tr>\n",
                            "<tr><td>Előlap spirálhoz</td><td>előlap</td><td>25</td><td>Átlagon aluli ár</td></tr>\n",
                            "<tr><td>Emlékkönyv</td><td>emlékkönyv</td><td>316</td><td>Átlagon aluli ár</td></tr>\n",
                            "<tr><td>Emlékkönyv</td><td>emlékkönyv</td><td>526</td><td>Átlagon felüli ár</td></tr>\n",
                            "<tr><td>Emlékkönyv lakatos</td><td>emlékkönyv</td><td>449</td><td>Átlagon felüli ár</td></tr>\n",
                            "<tr><td>Emléklap A/5</td><td>emléklap</td><td>26</td><td>Átlagon aluli ár</td></tr>\n",
                            "<tr><td>Fax papír 15 m</td><td>fax papír</td><td>161</td><td>Átlagon aluli ár</td></tr>\n",
                            "<tr><td>fiú alsó</td><td>fehérnemű</td><td>390</td><td>Átlagon aluli ár</td></tr>\n",
                            "<tr><td>fiú harisnya</td><td>fehérnemű</td><td>990</td><td>Átlagon felüli ár</td></tr>\n",
                            "<tr><td>fiú zokni</td><td>fehérnemű</td><td>240</td><td>Átlagon aluli ár</td></tr>\n",
                            "<tr><td>lány alsó</td><td>fehérnemű</td><td>390</td><td>Átlagon aluli ár</td></tr>\n",
                            "<tr><td>lány harisnya</td><td>fehérnemű</td><td>990</td><td>Átlagon felüli ár</td></tr>\n",
                            "<tr><td>lány zokni</td><td>fehérnemű</td><td>240</td><td>Átlagon aluli ár</td></tr>\n",
                            "<tr><td>női alsó</td><td>fehérnemű</td><td>690</td><td>Átlagon felüli ár</td></tr>\n",
                            "<tr><td>Fehér másoló A/3</td><td>fénymásoló papír</td><td>1488</td><td>Átlagon felüli ár</td></tr>\n",
                            "<tr><td>Fehér másoló A/4</td><td>fénymásoló papír</td><td>686</td><td>Átlagon aluli ár</td></tr>\n",
                            "<tr><td>Fénymásoló papír DataCopy</td><td>fénymásoló papír</td><td>845</td><td>Átlagon aluli ár</td></tr>\n",
                            "<tr><td>Fénymásoló papír GetCopy</td><td>fénymásoló papír</td><td>728</td><td>Átlagon aluli ár</td></tr>\n",
                            "<tr><td>Fénymásoló papír Qconnect</td><td>fénymásoló papír</td><td>728</td><td>Átlagon aluli ár</td></tr>\n",
                            "<tr><td>férfi ing</td><td>férfi ing</td><td>6490</td><td>Átlagon aluli ár</td></tr>\n",
                            "<tr><td>férfi szövet kabát</td><td>férfi kabát</td><td>22000</td><td>Átlagon aluli ár</td></tr>\n",
                            "<tr><td>férfi farmer nadrág</td><td>férfi nadrág</td><td>7890</td><td>Átlagon aluli ár</td></tr>\n",
                            "<tr><td>férfi szövet nadrág</td><td>férfi nadrág</td><td>11900</td><td>Átlagon felüli ár</td></tr>\n",
                            "<tr><td>Festékpatron BCI-3BK</td><td>festékpatron</td><td>625</td><td>Átlagon aluli ár</td></tr>\n",
                            "<tr><td>Filctoll </td><td>filctoll</td><td>26</td><td>Átlagon aluli ár</td></tr>\n",
                            "<tr><td>Filctoll CD író</td><td>filctoll</td><td>0</td><td>Átlagon aluli ár</td></tr>\n",
                            "<tr><td>Filctoll document pen</td><td>filctoll</td><td>278</td><td>Átlagon felüli ár</td></tr>\n",
                            "<tr><td>Filctoll Edding 750</td><td>filctoll</td><td>434</td><td>Átlagon felüli ár</td></tr>\n",
                            "<tr><td>Filctoll Marvy alkoholos</td><td>filctoll</td><td>390</td><td>Átlagon felüli ár</td></tr>\n",
                            "<tr><td>Filctoll permanent vastag</td><td>filctoll</td><td>140</td><td>Átlagon aluli ár</td></tr>\n",
                            "<tr><td>Filctoll supra fine</td><td>filctoll</td><td>46</td><td>Átlagon aluli ár</td></tr>\n",
                            "<tr><td>Filctoll TINTEN PEN</td><td>filctoll</td><td>53</td><td>Átlagon aluli ár</td></tr>\n",
                            "<tr><td>Filctoll vastag ARTIP</td><td>filctoll</td><td>76</td><td>Átlagon aluli ár</td></tr>\n",
                            "<tr><td>Filctoll, alkoholos Centropen</td><td>filctoll</td><td>114</td><td>Átlagon aluli ár</td></tr>\n",
                            "<tr><td>Filctoll, alkoholosOHP F-M-C</td><td>filctoll</td><td>103</td><td>Átlagon aluli ár</td></tr>\n",
                            "<tr><td>Filctoll, textil Edding 4500</td><td>filctoll</td><td>276</td><td>Átlagon felüli ár</td></tr>\n",
                            "<tr><td>Lakk filc Edding 750</td><td>filctoll</td><td>434</td><td>Átlagon felüli ár</td></tr>\n",
                            "<tr><td>Floppy lemez</td><td>floppy</td><td>51</td><td>Átlagon aluli ár</td></tr>\n",
                            "<tr><td>Fólia tasakos A4 125 mik.</td><td>fólia</td><td>44</td><td>Átlagon felüli ár</td></tr>\n",
                            "<tr><td>Fólia tasakos A4 80 mik.</td><td>fólia</td><td>40</td><td>Átlagon aluli ár</td></tr>\n",
                            "<tr><td>Fólia tasakos A4100 mik.</td><td>fólia</td><td>44</td><td>Átlagon felüli ár</td></tr>\n",
                            "<tr><td>Fotópapír A/4 fényes</td><td>fotópapír</td><td>30</td><td>Átlagon aluli ár</td></tr>\n",
                            "<tr><td>Füzet  A/4 </td><td>füzet</td><td>68</td><td>Átlagon aluli ár</td></tr>\n",
                            "<tr><td>Füzet  A4 mintás</td><td>füzet</td><td>78</td><td>Átlagon aluli ár</td></tr>\n",
                            "<tr><td>Füzet 31-32 szótár</td><td>füzet</td><td>34</td><td>Átlagon aluli ár</td></tr>\n",
                            "<tr><td>Füzet A/5 hangjegy 36/16</td><td>füzet</td><td>30</td><td>Átlagon aluli ár</td></tr>\n",
                            "<tr><td>Füzet A/5, mintás</td><td>füzet</td><td>48</td><td>Átlagon aluli ár</td></tr>\n",
                            "<tr><td>Füzet A5 1-8 osz.-ig</td><td>füzet</td><td>34</td><td>Átlagon aluli ár</td></tr>\n",
                            "<tr><td>Sp.Füzet A/4  70es</td><td>füzet</td><td>144</td><td>Átlagon felüli ár</td></tr>\n",
                            "<tr><td>Sp.Füzet A/4  perforált, lyuk.</td><td>füzet</td><td>206</td><td>Átlagon felüli ár</td></tr>\n",
                            "<tr><td>Sp.Füzet A/4 70-as</td><td>füzet</td><td>155</td><td>Átlagon felüli ár</td></tr>\n",
                            "<tr><td>Sp.Füzet A/5 70-es</td><td>füzet</td><td>89</td><td>Átlagon aluli ár</td></tr>\n",
                            "<tr><td>Szótárfüzet Lizzy</td><td>füzet</td><td>161</td><td>Átlagon felüli ár</td></tr>\n",
                            "<tr><td>Füzetborító A/4 átlátszó</td><td>füzetborító</td><td>10</td><td>Átlagon aluli ár</td></tr>\n",
                            "<tr><td>Füzetborító A/4 mintás</td><td>füzetborító</td><td>24</td><td>Átlagon aluli ár</td></tr>\n",
                            "<tr><td>Füzetborító átlátszó A5</td><td>füzetborító</td><td>8</td><td>Átlagon aluli ár</td></tr>\n",
                            "<tr><td>Füzetborító öntapadó kicsi</td><td>füzetborító</td><td>23</td><td>Átlagon aluli ár</td></tr>\n",
                            "<tr><td>Füzetborító öntapadó tekercses</td><td>füzetborító</td><td>195</td><td>Átlagon felüli ár</td></tr>\n",
                            "<tr><td>Füzetborító öntapadós nagy</td><td>füzetborító</td><td>19</td><td>Átlagon aluli ár</td></tr>\n",
                            "<tr><td>Füzettartó A/4 keménytáblás</td><td>füzettartó</td><td>508</td><td>Átlagon felüli ár</td></tr>\n",
                            "<tr><td>Füzettartó A/4 keménytáblás</td><td>füzettartó</td><td>551</td><td>Átlagon felüli ár</td></tr>\n",
                            "<tr><td>Füzettartó A/5  </td><td>füzettartó</td><td>203</td><td>Átlagon aluli ár</td></tr>\n",
                            "<tr><td>Füzettartó A/5 vastag</td><td>füzettartó</td><td>411</td><td>Átlagon aluli ár</td></tr>\n",
                            "<tr><td>Gemkapocs 28 mm</td><td>gemkapocs</td><td>30</td><td>Átlagon aluli ár</td></tr>\n",
                            "<tr><td>Gemkapocs ICO</td><td>gemkapocs</td><td>48</td><td>Átlagon felüli ár</td></tr>\n",
                            "<tr><td>Gémkapocs 28-as színes</td><td>gémkapocs</td><td>44</td><td>Átlagon aluli ár</td></tr>\n",
                            "<tr><td>Gémkapocs 50-es</td><td>gémkapocs</td><td>103</td><td>Átlagon felüli ár</td></tr>\n",
                            "<tr><td>Genoterm HERLITZ 10-es</td><td>genoterm</td><td>89</td><td>Átlagon aluli ár</td></tr>\n",
                            "<tr><td>Genotherm A4 10db-os</td><td>genotherm</td><td>110</td><td>Átlagon felüli ár</td></tr>\n",
                            "<tr><td>Genotherm lefűzhető A/5</td><td>genotherm</td><td>8</td><td>Átlagon aluli ár</td></tr>\n",
                            "<tr><td>Genotherm lefűzhető A4 10db-os</td><td>genotherm</td><td>63</td><td>Átlagon felüli ár</td></tr>\n",
                            "<tr><td>Golyóstoll</td><td>golyóstoll</td><td>33</td><td>Átlagon aluli ár</td></tr>\n",
                            "<tr><td>Golyóstoll</td><td>golyóstoll</td><td>51</td><td>Átlagon aluli ár</td></tr>\n",
                            "<tr><td>Golyóstoll + ceruza Twister 2in1</td><td>golyóstoll</td><td>390</td><td>Átlagon felüli ár</td></tr>\n",
                            "<tr><td>Golyóstoll 3 funkciós </td><td>golyóstoll</td><td>1019</td><td>Átlagon felüli ár</td></tr>\n",
                            "<tr><td>Golyóstoll háromfunkciós</td><td>golyóstoll</td><td>110</td><td>Átlagon aluli ár</td></tr>\n",
                            "<tr><td>Golyóstoll háromszög</td><td>golyóstoll</td><td>188</td><td>Átlagon aluli ár</td></tr>\n",
                            "<tr><td>Golyóstoll illatos ICO</td><td>golyóstoll</td><td>41</td><td>Átlagon aluli ár</td></tr>\n",
                            "<tr><td>Golyóstoll INOXCROM</td><td>golyóstoll</td><td>401</td><td>Átlagon felüli ár</td></tr>\n",
                            "<tr><td>Golyóstoll kétfunkciós ICO</td><td>golyóstoll</td><td>273</td><td>Átlagon felüli ár</td></tr>\n",
                            "<tr><td>Golyóstoll kétszínű</td><td>golyóstoll</td><td>44</td><td>Átlagon aluli ár</td></tr>\n",
                            "<tr><td>Golyóstoll kupakos piros</td><td>golyóstoll</td><td>23</td><td>Átlagon aluli ár</td></tr>\n",
                            "<tr><td>Golyóstoll levélbontós</td><td>golyóstoll</td><td>294</td><td>Átlagon felüli ár</td></tr>\n",
                            "<tr><td>Golyóstoll Montex Hytone</td><td>golyóstoll</td><td>93</td><td>Átlagon aluli ár</td></tr>\n",
                            "<tr><td>Golyóstoll Parker tokban</td><td>golyóstoll</td><td>773</td><td>Átlagon felüli ár</td></tr>\n",
                            "<tr><td>Golyóstoll Pax tip.</td><td>golyóstoll</td><td>63</td><td>Átlagon aluli ár</td></tr>\n",
                            "<tr><td>Golyóstoll penac</td><td>golyóstoll</td><td>239</td><td>Átlagon aluli ár</td></tr>\n",
                            "<tr><td>Golyóstoll Stabiló 308</td><td>golyóstoll</td><td>81</td><td>Átlagon aluli ár</td></tr>\n",
                            "<tr><td>Golyóstoll Stabilo piros</td><td>golyóstoll</td><td>101</td><td>Átlagon aluli ár</td></tr>\n",
                            "<tr><td>Golyóstoll UNI átlátszó</td><td>golyóstoll</td><td>230</td><td>Átlagon aluli ár</td></tr>\n",
                            "<tr><td>Golyóstoll UNI gumis</td><td>golyóstoll</td><td>231</td><td>Átlagon aluli ár</td></tr>\n",
                            "<tr><td>Golyóstoll UNI laknock</td><td>golyóstoll</td><td>218</td><td>Átlagon aluli ár</td></tr>\n",
                            "<tr><td>Golyóstoll UNIBALL 07</td><td>golyóstoll</td><td>364</td><td>Átlagon felüli ár</td></tr>\n",
                            "<tr><td>Golyóstoll Zebra 301</td><td>golyóstoll</td><td>455</td><td>Átlagon felüli ár</td></tr>\n",
                            "<tr><td>Golyóstoll Zebra mini</td><td>golyóstoll</td><td>655</td><td>Átlagon felüli ár</td></tr>\n",
                            "<tr><td>Golyóstoll Zebra new hard</td><td>golyóstoll</td><td>189</td><td>Átlagon aluli ár</td></tr>\n",
                            "<tr><td>Golyóstoll Zodiák</td><td>golyóstoll</td><td>94</td><td>Átlagon aluli ár</td></tr>\n",
                            "<tr><td>Gumigyűrű</td><td>gumigyűrű</td><td>19</td><td>Átlagon aluli ár</td></tr>\n",
                            "<tr><td>gyermek cipő (fiú)</td><td>gyermek cipő</td><td>7900</td><td>Átlagon felüli ár</td></tr>\n",
                            "<tr><td>gyermek cipő (lány)</td><td>gyermek cipő</td><td>7900</td><td>Átlagon felüli ár</td></tr>\n",
                            "<tr><td>gyermek csizma (fiú)</td><td>gyermek cipő</td><td>8000</td><td>Átlagon felüli ár</td></tr>\n",
                            "<tr><td>gyermek csizma (lány)</td><td>gyermek cipő</td><td>8000</td><td>Átlagon felüli ár</td></tr>\n",
                            "<tr><td>gyermek szandál (fiú)</td><td>gyermek cipő</td><td>6900</td><td>Átlagon aluli ár</td></tr>\n",
                            "<tr><td>gyermek szandál (lány)</td><td>gyermek cipő</td><td>6900</td><td>Átlagon aluli ár</td></tr>\n",
                            "<tr><td>gyermek kabát (fiú)</td><td>gyermek kabát</td><td>8900</td><td>Átlagon aluli ár</td></tr>\n",
                            "<tr><td>gyermek kabát (lány)</td><td>gyermek kabát</td><td>8900</td><td>Átlagon aluli ár</td></tr>\n",
                            "<tr><td>gyermek farmer nadrág (fiú)</td><td>gyermek nadrág</td><td>4990</td><td>Átlagon felüli ár</td></tr>\n",
                            "<tr><td>gyermek farmer nadrág (lány)</td><td>gyermek nadrág</td><td>4990</td><td>Átlagon felüli ár</td></tr>\n",
                            "<tr><td>gyermek pamut nadrág (fiú)</td><td>gyermek nadrág</td><td>1290</td><td>Átlagon aluli ár</td></tr>\n",
                            "<tr><td>gyermek pamut nadrág (lány)</td><td>gyermek nadrág</td><td>1290</td><td>Átlagon aluli ár</td></tr>\n",
                            "<tr><td>gyermek póló (fiú)</td><td>gyermek póló</td><td>3900</td><td>Átlagon aluli ár</td></tr>\n",
                            "<tr><td>gyermek póló (lány)</td><td>gyermek póló</td><td>3900</td><td>Átlagon aluli ár</td></tr>\n",
                            "<tr><td>Gyorsfűző dosszié fehér</td><td>gyorsfűző</td><td>18</td><td>Átlagon aluli ár</td></tr>\n",
                            "<tr><td>Gyorsfűző műa.</td><td>gyorsfűző</td><td>30</td><td>Átlagon felüli ár</td></tr>\n",
                            "<tr><td>Gyorsfűző műa.</td><td>gyorsfűző</td><td>35</td><td>Átlagon felüli ár</td></tr>\n",
                            "<tr><td>Gyurma 12 szinű</td><td>gyurma</td><td>161</td><td>Átlagon aluli ár</td></tr>\n",
                            "<tr><td>Gyurma színes 200 g-os</td><td>gyurma</td><td>180</td><td>Átlagon felüli ár</td></tr>\n",
                            "<tr><td>Gyurma színes natúr</td><td>gyurma</td><td>228</td><td>Átlagon felüli ár</td></tr>\n",
                            "<tr><td>Gyurmakés</td><td>gyurma</td><td>121</td><td>Átlagon aluli ár</td></tr>\n",
                            "<tr><td>Gyűrűskönyv</td><td>gyűrűskönyv</td><td>581</td><td>Átlagon felüli ár</td></tr>\n",
                            "<tr><td>Gyűrűskönyv bet. A/4</td><td>gyűrűskönyv</td><td>184</td><td>Átlagon aluli ár</td></tr>\n",
                            "<tr><td>Gyűrűskönyv bet. A/5</td><td>gyűrűskönyv</td><td>95</td><td>Átlagon aluli ár</td></tr>\n",
                            "<tr><td>Gyűrűskönyv betét A/5</td><td>gyűrűskönyv</td><td>218</td><td>Átlagon aluli ár</td></tr>\n",
                            "<tr><td>Gyűrűskönyv színes</td><td>gyűrűskönyv</td><td>699</td><td>Átlagon felüli ár</td></tr>\n",
                            "<tr><td>Hajgumi macis</td><td>hajgumi</td><td>66</td><td>Átlagon aluli ár</td></tr>\n",
                            "<tr><td>Határidő napló 2010-s</td><td>határidő napló</td><td>728</td><td>Átlagon felüli ár</td></tr>\n",
                            "<tr><td>Határidő napló A/6</td><td>határidő napló</td><td>464</td><td>Átlagon aluli ár</td></tr>\n",
                            "<tr><td>Hegyező gép</td><td>hegyező</td><td>875</td><td>Átlagon felüli ár</td></tr>\n",
                            "<tr><td>Hegyező műanyag dupla</td><td>hegyező</td><td>30</td><td>Átlagon aluli ár</td></tr>\n",
                            "<tr><td>Hegyező műanyag egyes</td><td>hegyező</td><td>23</td><td>Átlagon aluli ár</td></tr>\n",
                            "<tr><td>Hegyező tartályos egyes</td><td>hegyező</td><td>30</td><td>Átlagon aluli ár</td></tr>\n",
                            "<tr><td>Hegyző fém 1 lyukú</td><td>hegyző</td><td>70</td><td>Átlagon aluli ár</td></tr>\n",
                            "<tr><td>Hegyző fém 2 lyukú</td><td>hegyző</td><td>180</td><td>Átlagon felüli ár</td></tr>\n",
                            "<tr><td>Hibajav.roll.Pritt 4,2mm</td><td>hibajavító</td><td>794</td><td>Átlagon felüli ár</td></tr>\n",
                            "<tr><td>Hibajavító ecsetes Aqua</td><td>hibajavító</td><td>185</td><td>Átlagon aluli ár</td></tr>\n",
                            "<tr><td>Hibajavító készlet Blanco</td><td>hibajavító</td><td>273</td><td>Átlagon aluli ár</td></tr>\n",
                            "<tr><td>Hibajavító Kores mini pen</td><td>hibajavító</td><td>278</td><td>Átlagon aluli ár</td></tr>\n",
                            "<tr><td>Hibajavító lap </td><td>hibajavító</td><td>81</td><td>Átlagon aluli ár</td></tr>\n",
                            "<tr><td>Hibajavító roller 5 mm</td><td>hibajavító</td><td>133</td><td>Átlagon aluli ár</td></tr>\n",
                            "<tr><td>Hibajavító roller Pax</td><td>hibajavító</td><td>286</td><td>Átlagon aluli ár</td></tr>\n",
                            "<tr><td>Hűtőmágnes</td><td>hűtőmágnes</td><td>24</td><td>Átlagon aluli ár</td></tr>\n",
                            "<tr><td>Hűtőmágnes WD</td><td>hűtőmágnes</td><td>169</td><td>Átlagon felüli ár</td></tr>\n",
                            "<tr><td>Álló irattartó karton</td><td>iratgyűjtő</td><td>133</td><td>Átlagon felüli ár</td></tr>\n",
                            "<tr><td>Iratgyűjtő ESSELTE ablakos</td><td>iratgyűjtő</td><td>19</td><td>Átlagon aluli ár</td></tr>\n",
                            "<tr><td>Iratgyűjtő fehér</td><td>iratgyűjtő</td><td>19</td><td>Átlagon aluli ár</td></tr>\n",
                            "<tr><td>Iratrendező ESSELTE</td><td>iratrendező</td><td>243</td><td>Átlagon aluli ár</td></tr>\n",
                            "<tr><td>Tokos iratrendező</td><td>iratrendező</td><td>259</td><td>Átlagon felüli ár</td></tr>\n",
                            "<tr><td>Iratsín fehér</td><td>iratsín</td><td>44</td><td>Átlagon aluli ár</td></tr>\n",
                            "<tr><td>Iratsín kék</td><td>iratsín</td><td>89</td><td>Átlagon felüli ár</td></tr>\n",
                            "<tr><td>Álló irattartó</td><td>irattartó</td><td>214</td><td>Átlagon felüli ár</td></tr>\n",
                            "<tr><td>Irattartó müa. boríték A/4</td><td>irattartó</td><td>66</td><td>Átlagon aluli ár</td></tr>\n",
                            "<tr><td>Iromány fedél feles</td><td>irodaszer</td><td>59</td><td>Átlagon aluli ár</td></tr>\n",
                            "<tr><td>Írólap 10-50 ffam.</td><td>írólap</td><td>29</td><td>Átlagon aluli ár</td></tr>\n",
                            "<tr><td>Írólap 20-50 </td><td>írólap</td><td>34</td><td>Átlagon felüli ár</td></tr>\n",
                            "<tr><td>Ironbél  2B ICO</td><td>ironbél</td><td>74</td><td>Átlagon felüli ár</td></tr>\n",
                            "<tr><td>Ironbél B 0,5</td><td>ironbél</td><td>36</td><td>Átlagon aluli ár</td></tr>\n",
                            "<tr><td>Ironbél H 0,5</td><td>ironbél</td><td>59</td><td>Átlagon felüli ár</td></tr>\n",
                            "<tr><td>Ironbél HB 0,5</td><td>ironbél</td><td>23</td><td>Átlagon aluli ár</td></tr>\n",
                            "<tr><td>Ironbél HI-POLIMER HB 0,7</td><td>ironbél</td><td>78</td><td>Átlagon felüli ár</td></tr>\n",
                            "<tr><td>Ablakkréta</td><td>iskolaszer</td><td>161</td><td>Átlagon felüli ár</td></tr>\n",
                            "<tr><td>Betűtartó sin</td><td>iskolaszer</td><td>33</td><td>Átlagon aluli ár</td></tr>\n",
                            "<tr><td>Ceruzafogó</td><td>iskolaszer</td><td>36</td><td>Átlagon aluli ár</td></tr>\n",
                            "<tr><td>Egészségügyi könyv</td><td>iskolaszer</td><td>51</td><td>Átlagon aluli ár</td></tr>\n",
                            "<tr><td>Ellenőrzőborító</td><td>iskolaszer</td><td>5</td><td>Átlagon aluli ár</td></tr>\n",
                            "<tr><td>Füzettartó A/4</td><td>iskolaszer</td><td>324</td><td>Átlagon felüli ár</td></tr>\n",
                            "<tr><td>Gyűjtőlap A/4</td><td>iskolaszer</td><td>8</td><td>Átlagon aluli ár</td></tr>\n",
                            "<tr><td>Hőmérő, műa.</td><td>iskolaszer</td><td>36</td><td>Átlagon aluli ár</td></tr>\n",
                            "<tr><td>Hurkapálca 10 db-os</td><td>iskolaszer</td><td>23</td><td>Átlagon aluli ár</td></tr>\n",
                            "<tr><td>Krepp papír</td><td>iskolaszer</td><td>73</td><td>Átlagon aluli ár</td></tr>\n",
                            "<tr><td>Leckefüzet</td><td>iskolaszer</td><td>161</td><td>Átlagon felüli ár</td></tr>\n",
                            "<tr><td>Öntapadős betűk</td><td>iskolaszer</td><td>74</td><td>Átlagon aluli ár</td></tr>\n",
                            "<tr><td>Papírcenti 100 cm-es</td><td>iskolaszer</td><td>9</td><td>Átlagon aluli ár</td></tr>\n",
                            "<tr><td>Rovatolt papír 20 íves</td><td>iskolaszer</td><td>103</td><td>Átlagon felüli ár</td></tr>\n",
                            "<tr><td>Sorvezető</td><td>iskolaszer</td><td>8</td><td>Átlagon aluli ár</td></tr>\n",
                            "<tr><td>Számegyenes</td><td>iskolaszer</td><td>36</td><td>Átlagon aluli ár</td></tr>\n",
                            "<tr><td>Számolókorong</td><td>iskolaszer</td><td>35</td><td>Átlagon aluli ár</td></tr>\n",
                            "<tr><td>Számolópálca</td><td>iskolaszer</td><td>61</td><td>Átlagon aluli ár</td></tr>\n",
                            "<tr><td>Színes papír I.II-IV.V-VIII-ig</td><td>iskolaszer</td><td>43</td><td>Átlagon aluli ár</td></tr>\n",
                            "<tr><td>Szorzótábla műanyag</td><td>iskolaszer</td><td>45</td><td>Átlagon aluli ár</td></tr>\n",
                            "<tr><td>Taffet papír</td><td>iskolaszer</td><td>19</td><td>Átlagon aluli ár</td></tr>\n",
                            "<tr><td>Technika cs. I-II-III-IV</td><td>iskolaszer</td><td>58</td><td>Átlagon aluli ár</td></tr>\n",
                            "<tr><td>Tombola tömb</td><td>iskolaszer</td><td>125</td><td>Átlagon felüli ár</td></tr>\n",
                            "<tr><td>Tornazsák</td><td>iskolaszer</td><td>511</td><td>Átlagon felüli ár</td></tr>\n",
                            "<tr><td>Játék autó</td><td>játékautó</td><td>65</td><td>Átlagon aluli ár</td></tr>\n",
                            "<tr><td>Játékautó Blisteres</td><td>játékautó</td><td>133</td><td>Átlagon felüli ár</td></tr>\n",
                            "<tr><td>Játékautó elemes</td><td>játékautó</td><td>165</td><td>Átlagon felüli ár</td></tr>\n",
                            "<tr><td>Játékautó mini</td><td>játékautó</td><td>73</td><td>Átlagon aluli ár</td></tr>\n",
                            "<tr><td>Jelzőkréta</td><td>jelzőkréta</td><td>48</td><td>Átlagon aluli ár</td></tr>\n",
                            "<tr><td>Kapocskiszedő</td><td>kapocskiszedő</td><td>106</td><td>Átlagon aluli ár</td></tr>\n",
                            "<tr><td>Dekorációs karton</td><td>karton</td><td>73</td><td>Átlagon felüli ár</td></tr>\n",
                            "<tr><td>Dekorációs karton arany, ezüst</td><td>karton</td><td>89</td><td>Átlagon felüli ár</td></tr>\n",
                            "<tr><td>Márványos A/4</td><td>karton</td><td>40</td><td>Átlagon aluli ár</td></tr>\n",
                            "<tr><td>Selyemfényű karton A/4</td><td>karton</td><td>38</td><td>Átlagon aluli ár</td></tr>\n",
                            "<tr><td>Színes A/3 160 gr IQ</td><td>karton</td><td>11</td><td>Átlagon aluli ár</td></tr>\n",
                            "<tr><td>Színes karton A4</td><td>karton</td><td>25</td><td>Átlagon aluli ár</td></tr>\n",
                            "<tr><td>Kártya mini Magyar</td><td>kártya</td><td>131</td><td>Átlagon aluli ár</td></tr>\n",
                            "<tr><td>Képeslap  borítékos</td><td>képeslap</td><td>33</td><td>Átlagon aluli ár</td></tr>\n",
                            "<tr><td>Képeslap &quot;Nászajándék&quot;</td><td>képeslap</td><td>184</td><td>Átlagon felüli ár</td></tr>\n",
                            "<tr><td>Képeslap &quot;Részvét&quot;</td><td>képeslap</td><td>33</td><td>Átlagon aluli ár</td></tr>\n",
                            "<tr><td>Képeslap humoros </td><td>képeslap</td><td>55</td><td>Átlagon aluli ár</td></tr>\n",
                            "<tr><td>Képeslap humoros</td><td>képeslap</td><td>89</td><td>Átlagon felüli ár</td></tr>\n",
                            "<tr><td>Képeslap humoros borítékos</td><td>képeslap</td><td>81</td><td>Átlagon felüli ár</td></tr>\n",
                            "<tr><td>Képeslap humoros kaparós</td><td>képeslap</td><td>51</td><td>Átlagon aluli ár</td></tr>\n",
                            "<tr><td>Képeslap karácsonyi</td><td>képeslap</td><td>30</td><td>Átlagon aluli ár</td></tr>\n",
                            "<tr><td>Képeslap karácsonyi borítékos</td><td>képeslap</td><td>73</td><td>Átlagon felüli ár</td></tr>\n",
                            "<tr><td>Képeslap karácsonyi WD</td><td>képeslap</td><td>15</td><td>Átlagon aluli ár</td></tr>\n",
                            "<tr><td>Képeslap kerek</td><td>képeslap</td><td>36</td><td>Átlagon aluli ár</td></tr>\n",
                            "<tr><td>Képeslap stancolt</td><td>képeslap</td><td>59</td><td>Átlagon aluli ár</td></tr>\n",
                            "<tr><td>Képeslap stancolt szív</td><td>képeslap</td><td>48</td><td>Átlagon aluli ár</td></tr>\n",
                            "<tr><td>Képeslap virágos</td><td>képeslap</td><td>14</td><td>Átlagon aluli ár</td></tr>\n",
                            "<tr><td>Képeslap virágos +boríték</td><td>képeslap</td><td>44</td><td>Átlagon aluli ár</td></tr>\n",
                            "<tr><td>Képeslap WD +boríték</td><td>képeslap</td><td>118</td><td>Átlagon felüli ár</td></tr>\n",
                            "<tr><td>Képkirakó Dirib-darab</td><td>képkirakó</td><td>195</td><td>Átlagon aluli ár</td></tr>\n",
                            "<tr><td>kosztüm (hosszú)</td><td>kosztüm</td><td>46000</td><td>Átlagon felüli ár</td></tr>\n",
                            "<tr><td>kosztüm (rövid)</td><td>kosztüm</td><td>39000</td><td>Átlagon aluli ár</td></tr>\n",
                            "<tr><td>Körző</td><td>körző</td><td>161</td><td>Átlagon felüli ár</td></tr>\n",
                            "<tr><td>Körző maped</td><td>körző</td><td>243</td><td>Átlagon felüli ár</td></tr>\n",
                            "<tr><td>Körzőhegy grafit</td><td>körző</td><td>30</td><td>Átlagon aluli ár</td></tr>\n",
                            "<tr><td>Kreatív A/4 120g </td><td>kreatív</td><td>13</td><td>Átlagon felüli ár</td></tr>\n",
                            "<tr><td>Kreatív A/4 300g </td><td>kreatív</td><td>4</td><td>Átlagon aluli ár</td></tr>\n",
                            "<tr><td>Kulcstartó autós</td><td>kulcstartó</td><td>115</td><td>Átlagon aluli ár</td></tr>\n",
                            "<tr><td>Kulcstartó billiárd golyós</td><td>kulcstartó</td><td>148</td><td>Átlagon felüli ár</td></tr>\n",
                            "<tr><td>Kulcstartó Csőrikés</td><td>kulcstartó</td><td>124</td><td>Átlagon felüli ár</td></tr>\n",
                            "<tr><td>Kulcstartó figurás</td><td>kulcstartó</td><td>103</td><td>Átlagon aluli ár</td></tr>\n",
                            "<tr><td>Kulcstartó intarziás állatos</td><td>kulcstartó</td><td>155</td><td>Átlagon felüli ár</td></tr>\n",
                            "<tr><td>Kulcstartó mesefigurás</td><td>kulcstartó</td><td>36</td><td>Átlagon aluli ár</td></tr>\n",
                            "<tr><td>Kulcstartó nagyítós</td><td>kulcstartó</td><td>129</td><td>Átlagon felüli ár</td></tr>\n",
                            "<tr><td>Gumilabda közepes</td><td>labda</td><td>110</td><td>Átlagon felüli ár</td></tr>\n",
                            "<tr><td>Tenisz labda</td><td>labda</td><td>81</td><td>Átlagon aluli ár</td></tr>\n",
                            "<tr><td>Levélpapír A/4</td><td>levélpapír</td><td>15</td><td>Átlagon aluli ár</td></tr>\n",
                            "<tr><td>Levélpapír állatos</td><td>levélpapír</td><td>140</td><td>Átlagon felüli ár</td></tr>\n",
                            "<tr><td>Levélpapír sima</td><td>levélpapír</td><td>56</td><td>Átlagon aluli ár</td></tr>\n",
                            "<tr><td>Levélpapír szett </td><td>levélpapír</td><td>74</td><td>Átlagon aluli ár</td></tr>\n",
                            "<tr><td>Levélpapír szett</td><td>levélpapír</td><td>89</td><td>Átlagon aluli ár</td></tr>\n",
                            "<tr><td>Levélpapír szett natur, mintás</td><td>levélpapír</td><td>103</td><td>Átlagon felüli ár</td></tr>\n",
                            "<tr><td>Levélpapír szett virágos</td><td>levélpapír</td><td>169</td><td>Átlagon felüli ár</td></tr>\n",
                            "<tr><td>Lufi formázható</td><td>lufi</td><td>15</td><td>Átlagon felüli ár</td></tr>\n",
                            "<tr><td>Lufi hullámos</td><td>lufi</td><td>11</td><td>Átlagon aluli ár</td></tr>\n",
                            "<tr><td>Lyukasztó BOXER</td><td>lyukasztó</td><td>765</td><td>Átlagon felüli ár</td></tr>\n",
                            "<tr><td>Lyukasztó EAGLE</td><td>lyukasztó</td><td>526</td><td>Átlagon aluli ár</td></tr>\n",
                            "<tr><td>Gumis mappa </td><td>mappa</td><td>148</td><td>Átlagon aluli ár</td></tr>\n",
                            "<tr><td>Gumis mappa csomagolt</td><td>mappa</td><td>195</td><td>Átlagon aluli ár</td></tr>\n",
                            "<tr><td>Gumis mappa fóliázott állatos</td><td>mappa</td><td>211</td><td>Átlagon aluli ár</td></tr>\n",
                            "<tr><td>Gumis mappa Köbüki</td><td>mappa</td><td>191</td><td>Átlagon aluli ár</td></tr>\n",
                            "<tr><td>Mappa bemutató</td><td>mappa</td><td>184</td><td>Átlagon aluli ár</td></tr>\n",
                            "<tr><td>Mappa bőr A5</td><td>mappa</td><td>1765</td><td>Átlagon felüli ár</td></tr>\n",
                            "<tr><td>Mappa müa A/4</td><td>mappa</td><td>210</td><td>Átlagon aluli ár</td></tr>\n",
                            "<tr><td>Mappa PVC villámzáras</td><td>mappa</td><td>264</td><td>Átlagon aluli ár</td></tr>\n",
                            "<tr><td>Mappa PVC villámzáras  képes</td><td>mappa</td><td>360</td><td>Átlagon aluli ár</td></tr>\n",
                            "<tr><td>Matrica állatos</td><td>matrica</td><td>55</td><td>Átlagon aluli ár</td></tr>\n",
                            "<tr><td>Matrica autóra H</td><td>matrica</td><td>49</td><td>Átlagon aluli ár</td></tr>\n",
                            "<tr><td>Matrica motoros kicsi</td><td>matrica</td><td>49</td><td>Átlagon aluli ár</td></tr>\n",
                            "<tr><td>Matrica Stickers nagy állatos</td><td>matrica</td><td>109</td><td>Átlagon felüli ár</td></tr>\n",
                            "<tr><td>Matrica Stickers szíves</td><td>matrica</td><td>93</td><td>Átlagon aluli ár</td></tr>\n",
                            "<tr><td>Matrica Test ékszer tattoo</td><td>matrica</td><td>161</td><td>Átlagon felüli ár</td></tr>\n",
                            "<tr><td>Matrica tetoválás</td><td>matrica</td><td>168</td><td>Átlagon felüli ár</td></tr>\n",
                            "<tr><td>Matrica tetoválós kicsi</td><td>matrica</td><td>148</td><td>Átlagon felüli ár</td></tr>\n",
                            "<tr><td>Matrica világítós </td><td>matrica</td><td>175</td><td>Átlagon felüli ár</td></tr>\n",
                            "<tr><td>Matrica WD kicsi</td><td>matrica</td><td>56</td><td>Átlagon aluli ár</td></tr>\n",
                            "<tr><td>Esküvői meghívó</td><td>meghívó</td><td>59</td><td>Átlagon aluli ár</td></tr>\n",
                            "<tr><td>Meghívó állatos</td><td>meghívó</td><td>155</td><td>Átlagon felüli ár</td></tr>\n",
                            "<tr><td>Meghívó ballagási</td><td>meghívó</td><td>63</td><td>Átlagon aluli ár</td></tr>\n",
                            "<tr><td>Meghívó borítékos</td><td>meghívó</td><td>169</td><td>Átlagon felüli ár</td></tr>\n",
                            "<tr><td>Miliméterpapír</td><td>miliméterpapír</td><td>8</td><td>Átlagon aluli ár</td></tr>\n",
                            "<tr><td>A föld amelyen élünk - munkafüzet</td><td>munkafüzet</td><td>440</td><td>Átlagon felüli ár</td></tr>\n",
                            "<tr><td>Anyanyelvi gyakorló 2</td><td>munkafüzet</td><td>293</td><td>Átlagon aluli ár</td></tr>\n",
                            "<tr><td>Anyanyelvi gyakorló 3</td><td>munkafüzet</td><td>353</td><td>Átlagon aluli ár</td></tr>\n",
                            "<tr><td>Fizika munkafüzet 13 év.</td><td>munkafüzet</td><td>198</td><td>Átlagon aluli ár</td></tr>\n",
                            "<tr><td>Fizika munkafüzet 14 év.</td><td>munkafüzet</td><td>190</td><td>Átlagon aluli ár</td></tr>\n",
                            "<tr><td>Matematika gyakorló 2</td><td>munkafüzet</td><td>403</td><td>Átlagon felüli ár</td></tr>\n",
                            "<tr><td>Matematika gyakorló 3</td><td>munkafüzet</td><td>403</td><td>Átlagon felüli ár</td></tr>\n",
                            "<tr><td>Matematika gyakorló 4</td><td>munkafüzet</td><td>403</td><td>Átlagon felüli ár</td></tr>\n",
                            "<tr><td>Összefoglaló feladatgyüjtemény számtech.</td><td>munkafüzet</td><td>785</td><td>Átlagon felüli ár</td></tr>\n",
                            "<tr><td>Műnyomó 300g 17,5*20</td><td>műnyomó</td><td>3</td><td>Átlagon aluli ár</td></tr>\n",
                            "<tr><td>Naptár 24-es</td><td>naptár</td><td>89</td><td>Átlagon aluli ár</td></tr>\n",
                            "<tr><td>Naptárhát kicsi</td><td>naptárhát</td><td>15</td><td>Átlagon aluli ár</td></tr>\n",
                            "<tr><td>Naptárhát nagy</td><td>naptárhát</td><td>78</td><td>Átlagon felüli ár</td></tr>\n",
                            "<tr><td>Névjegytartó kicsi</td><td>névjegytartó</td><td>310</td><td>Átlagon aluli ár</td></tr>\n",
                            "<tr><td>Notesz A/5 sima</td><td>notesz</td><td>103</td><td>Átlagon felüli ár</td></tr>\n",
                            "<tr><td>Notesz A/5 sima spirál</td><td>notesz</td><td>89</td><td>Átlagon felüli ár</td></tr>\n",
                            "<tr><td>Notesz A/6 College</td><td>notesz</td><td>56</td><td>Átlagon aluli ár</td></tr>\n",
                            "<tr><td>Notesz mintás</td><td>notesz</td><td>44</td><td>Átlagon aluli ár</td></tr>\n",
                            "<tr><td>Notesz sima spirál College</td><td>notesz</td><td>103</td><td>Átlagon felüli ár</td></tr>\n",
                            "<tr><td>női szövet kabát</td><td>női kabát</td><td>24000</td><td>Átlagon aluli ár</td></tr>\n",
                            "<tr><td>női farmer nadrág</td><td>női nadrág</td><td>8290</td><td>Átlagon aluli ár</td></tr>\n",
                            "<tr><td>Színes ofszet B/4</td><td>ofszet</td><td>4</td><td>Átlagon aluli ár</td></tr>\n",
                            "<tr><td>Oklevél A/4 egyszínű</td><td>oklevél</td><td>48</td><td>Átlagon aluli ár</td></tr>\n",
                            "<tr><td>Oklevél A/4 színes</td><td>oklevél</td><td>55</td><td>Átlagon felüli ár</td></tr>\n",
                            "<tr><td>Olló gyerek </td><td>olló</td><td>133</td><td>Átlagon aluli ár</td></tr>\n",
                            "<tr><td>Olló Tagit 18 cm-es</td><td>olló</td><td>176</td><td>Átlagon felüli ár</td></tr>\n",
                            "<tr><td>Olló, iskolai</td><td>olló</td><td>161</td><td>Átlagon felüli ár</td></tr>\n",
                            "<tr><td>Öntapadó A/4</td><td>öntapadó</td><td>4575</td><td>Átlagon felüli ár</td></tr>\n",
                            "<tr><td>Öntapadós hologramos papír A/4</td><td>öntapadó</td><td>59</td><td>Átlagon aluli ár</td></tr>\n",
                            "<tr><td>Papízsebkendő,10db Szindy</td><td>papízsebkendő</td><td>20</td><td>Átlagon aluli ár</td></tr>\n",
                            "<tr><td>Pausz papír A/4</td><td>pausz</td><td>15</td><td>Átlagon aluli ár</td></tr>\n",
                            "<tr><td>Bevételi pénztárbizonylat 3×25</td><td>pénztárbizonylat</td><td>144</td><td>Átlagon felüli ár</td></tr>\n",
                            "<tr><td>Kiadási pénztárbizonylat 2×25</td><td>pénztárbizonylat</td><td>103</td><td>Átlagon aluli ár</td></tr>\n",
                            "<tr><td>Pénztárgépsz. 2 pl. nem öníró</td><td>pénztárgépszalag</td><td>81</td><td>Átlagon aluli ár</td></tr>\n",
                            "<tr><td>Pénztárgépszalag 2pl SC 57.5/60</td><td>pénztárgépszalag</td><td>93</td><td>Átlagon felüli ár</td></tr>\n",
                            "<tr><td>Pixiron  UNI</td><td>pixiron</td><td>276</td><td>Átlagon felüli ár</td></tr>\n",
                            "<tr><td>Pixiron 0,7 Handy</td><td>pixiron</td><td>125</td><td>Átlagon aluli ár</td></tr>\n",
                            "<tr><td>Pixiron Centrum</td><td>pixiron</td><td>59</td><td>Átlagon aluli ár</td></tr>\n",
                            "<tr><td>Pixiron Handy fém</td><td>pixiron</td><td>133</td><td>Átlagon aluli ár</td></tr>\n",
                            "<tr><td>Pixiron Handy műanyag</td><td>pixiron</td><td>94</td><td>Átlagon aluli ár</td></tr>\n",
                            "<tr><td>Pixiron KOH-I-NOOR</td><td>pixiron</td><td>468</td><td>Átlagon felüli ár</td></tr>\n",
                            "<tr><td>Pixiron mini </td><td>pixiron</td><td>59</td><td>Átlagon aluli ár</td></tr>\n",
                            "<tr><td>Pixiron Penac</td><td>pixiron</td><td>235</td><td>Átlagon felüli ár</td></tr>\n",
                            "<tr><td>Pixiron Pentel színes</td><td>pixiron</td><td>299</td><td>Átlagon felüli ár</td></tr>\n",
                            "<tr><td>Plüss  QX állatok</td><td>plüss</td><td>173</td><td>Átlagon aluli ár</td></tr>\n",
                            "<tr><td>Plüss kicsi</td><td>plüss</td><td>161</td><td>Átlagon aluli ár</td></tr>\n",
                            "<tr><td>Plüss sárkány</td><td>plüss</td><td>314</td><td>Átlagon felüli ár</td></tr>\n",
                            "<tr><td>Post-it 51×38 100 lapos</td><td>post-it</td><td>36</td><td>Átlagon aluli ár</td></tr>\n",
                            "<tr><td>Post-it 75×75 100 lapos</td><td>post-it</td><td>89</td><td>Átlagon felüli ár</td></tr>\n",
                            "<tr><td>Radír gyümölcsös</td><td>radír</td><td>40</td><td>Átlagon aluli ár</td></tr>\n",
                            "<tr><td>Radír Koh-i-nor 40</td><td>radír</td><td>36</td><td>Átlagon aluli ár</td></tr>\n",
                            "<tr><td>Radír KOH-I-NOR 80</td><td>radír</td><td>19</td><td>Átlagon aluli ár</td></tr>\n",
                            "<tr><td>Radír Maped</td><td>radír</td><td>44</td><td>Átlagon felüli ár</td></tr>\n",
                            "<tr><td>Radír stabilo</td><td>radír</td><td>44</td><td>Átlagon felüli ár</td></tr>\n",
                            "<tr><td>Radír Tikky 30 </td><td>radír</td><td>50</td><td>Átlagon felüli ár</td></tr>\n",
                            "<tr><td>Radír Tikky 40 </td><td>radír</td><td>49</td><td>Átlagon felüli ár</td></tr>\n",
                            "<tr><td>Radírtoll betét ER100</td><td>radírtoll</td><td>74</td><td>Átlagon aluli ár</td></tr>\n",
                            "<tr><td>Radírtoll betét vastag</td><td>radírtoll</td><td>119</td><td>Átlagon felüli ár</td></tr>\n",
                            "<tr><td>Pill.ragasztó</td><td>ragasztó</td><td>103</td><td>Átlagon aluli ár</td></tr>\n",
                            "<tr><td>Ragasztó 8 g Pritt</td><td>ragasztó</td><td>81</td><td>Átlagon aluli ár</td></tr>\n",
                            "<tr><td>Ragasztó 9 g Pax</td><td>ragasztó</td><td>110</td><td>Átlagon aluli ár</td></tr>\n",
                            "<tr><td>Ragasztó Gyurma</td><td>ragasztó</td><td>293</td><td>Átlagon felüli ár</td></tr>\n",
                            "<tr><td>Ragasztó kenőfejes Nebuló</td><td>ragasztó</td><td>101</td><td>Átlagon aluli ár</td></tr>\n",
                            "<tr><td>Ragasztó kores</td><td>ragasztó</td><td>89</td><td>Átlagon aluli ár</td></tr>\n",
                            "<tr><td>Ragasztó szalag KORES </td><td>ragasztó</td><td>133</td><td>Átlagon aluli ár</td></tr>\n",
                            "<tr><td>Ragasztó, Technokol 35g kék</td><td>ragasztó</td><td>144</td><td>Átlagon aluli ár</td></tr>\n",
                            "<tr><td>Ragasztó, Technokol 35g piros</td><td>ragasztó</td><td>144</td><td>Átlagon aluli ár</td></tr>\n",
                            "<tr><td>Ragasztószalag 19 mm-es SCOTCH+ tépő</td><td>ragasztó</td><td>426</td><td>Átlagon felüli ár</td></tr>\n",
                            "<tr><td>Ragasztószalag  TIXO</td><td>ragasztószalag</td><td>15</td><td>Átlagon aluli ár</td></tr>\n",
                            "<tr><td>Ragasztószalag 19 mm-es</td><td>ragasztószalag</td><td>55</td><td>Átlagon aluli ár</td></tr>\n",
                            "<tr><td>Ragasztószalag nagy 12 mm</td><td>ragasztószalag</td><td>63</td><td>Átlagon aluli ár</td></tr>\n",
                            "<tr><td>Ragasztószalag széles barna</td><td>ragasztószalag</td><td>166</td><td>Átlagon felüli ár</td></tr>\n",
                            "<tr><td>Rágógumi Orbit</td><td>rágógumi</td><td>89</td><td>Átlagon aluli ár</td></tr>\n",
                            "<tr><td>félfamentes rajzlap A4 (10 lap)</td><td>rajzlap</td><td>342</td><td>Átlagon felüli ár</td></tr>\n",
                            "<tr><td>Rajzlap A/4 10db ffam.</td><td>rajzlap</td><td>28</td><td>Átlagon aluli ár</td></tr>\n",
                            "<tr><td>Rajzszeg</td><td>rajzszeg</td><td>63</td><td>Átlagon aluli ár</td></tr>\n",
                            "<tr><td>Rajzszeg színes</td><td>rajzszeg</td><td>106</td><td>Átlagon felüli ár</td></tr>\n",
                            "<tr><td>Regiszteres füzet A4</td><td>regiszteres füzet</td><td>256</td><td>Átlagon felüli ár</td></tr>\n",
                            "<tr><td>Regiszteres füzet A5 Hightech</td><td>regiszteres füzet</td><td>203</td><td>Átlagon aluli ár</td></tr>\n",
                            "<tr><td>sál</td><td>sál</td><td>1990</td><td>Átlagon aluli ár</td></tr>\n",
                            "<tr><td>Spirál 1/4 </td><td>spirál</td><td>45</td><td>Átlagon aluli ár</td></tr>\n",
                            "<tr><td>Strandlabda </td><td>strandlabda</td><td>356</td><td>Átlagon aluli ár</td></tr>\n",
                            "<tr><td>Szalvéta </td><td>szalvéta</td><td>176</td><td>Átlagon felüli ár</td></tr>\n",
                            "<tr><td>Szalvéta dekor</td><td>szalvéta</td><td>133</td><td>Átlagon aluli ár</td></tr>\n",
                            "<tr><td>Szalvéta egyszínű</td><td>szalvéta</td><td>118</td><td>Átlagon aluli ár</td></tr>\n",
                            "<tr><td>Szalvéta Goma húsvéti</td><td>szalvéta</td><td>175</td><td>Átlagon felüli ár</td></tr>\n",
                            "<tr><td>Szalvéta gyűjtőknek</td><td>szalvéta</td><td>183</td><td>Átlagon felüli ár</td></tr>\n",
                            "<tr><td>Szalvéta kicsi virágos</td><td>szalvéta</td><td>161</td><td>Átlagon felüli ár</td></tr>\n",
                            "<tr><td>Számológép Roxin</td><td>számológép</td><td>508</td><td>Átlagon aluli ár</td></tr>\n",
                            "<tr><td>Számológép tudományos</td><td>számológép</td><td>1173</td><td>Átlagon felüli ár</td></tr>\n",
                            "<tr><td>Szemetes zsák 60 literes</td><td>szemetes</td><td>129</td><td>Átlagon aluli ár</td></tr>\n",
                            "<tr><td>Színes ceruza 12 szín</td><td>színes</td><td>161</td><td>Átlagon felüli ár</td></tr>\n",
                            "<tr><td>Színes ceruza 6-os</td><td>színes</td><td>99</td><td>Átlagon aluli ár</td></tr>\n",
                            "<tr><td>Szögmérő 180 fokos műa.</td><td>szögmérő</td><td>24</td><td>Átlagon felüli ár</td></tr>\n",
                            "<tr><td>Szögmérő papír</td><td>szögmérő</td><td>11</td><td>Átlagon aluli ár</td></tr>\n",
                            "<tr><td>Szögmérő színes</td><td>szögmérő</td><td>8</td><td>Átlagon aluli ár</td></tr>\n",
                            "<tr><td>Szövegkiemelő</td><td>szövegkiemelő</td><td>78</td><td>Átlagon aluli ár</td></tr>\n",
                            "<tr><td>Szövegkiemelő </td><td>szövegkiemelő</td><td>93</td><td>Átlagon aluli ár</td></tr>\n",
                            "<tr><td>Szövegkiemelő Staedtler</td><td>szövegkiemelő</td><td>140</td><td>Átlagon felüli ár</td></tr>\n",
                            "<tr><td>Szövegkiemelő vékony</td><td>szövegkiemelő</td><td>89</td><td>Átlagon aluli ár</td></tr>\n",
                            "<tr><td>Szövegkiemelő Videotip</td><td>szövegkiemelő</td><td>103</td><td>Átlagon felüli ár</td></tr>\n",
                            "<tr><td>Táblafilc</td><td>táblafilc</td><td>633</td><td>Átlagon aluli ár</td></tr>\n",
                            "<tr><td>Tapétavágó kés</td><td>tapétavágó</td><td>40</td><td>Átlagon aluli ár</td></tr>\n",
                            "<tr><td>Tempera szóló ezüst</td><td>tempera</td><td>96</td><td>Átlagon felüli ár</td></tr>\n",
                            "<tr><td>Tempera szóló színes</td><td>tempera</td><td>48</td><td>Átlagon aluli ár</td></tr>\n",
                            "<tr><td>Térképtű színes</td><td>térképtű</td><td>103</td><td>Átlagon aluli ár</td></tr>\n",
                            "<tr><td>Tintapatron /kék/</td><td>tintapatron</td><td>9</td><td>Átlagon aluli ár</td></tr>\n",
                            "<tr><td>Tintapatron 30 db-os kék</td><td>tintapatron</td><td>360</td><td>Átlagon felüli ár</td></tr>\n",
                            "<tr><td>Tintapatron színes</td><td>tintapatron</td><td>11</td><td>Átlagon aluli ár</td></tr>\n",
                            "<tr><td>Kerámiatoll</td><td>toll</td><td>74</td><td>Átlagon aluli ár</td></tr>\n",
                            "<tr><td>Toll Centropen roller</td><td>toll</td><td>80</td><td>Átlagon felüli ár</td></tr>\n",
                            "<tr><td>G. toll betét mini</td><td>tollbetét</td><td>30</td><td>Átlagon aluli ár</td></tr>\n",
                            "<tr><td>G. toll betét mini fém</td><td>tollbetét</td><td>55</td><td>Átlagon aluli ár</td></tr>\n",
                            "<tr><td>G. toll betét réz</td><td>tollbetét</td><td>30</td><td>Átlagon aluli ár</td></tr>\n",
                            "<tr><td>G. toll betét S7S</td><td>tollbetét</td><td>80</td><td>Átlagon aluli ár</td></tr>\n",
                            "<tr><td>G. toll betét UNI lachnok Fine SA-7C</td><td>tollbetét</td><td>85</td><td>Átlagon aluli ár</td></tr>\n",
                            "<tr><td>G.toll betét csavaros</td><td>tollbetét</td><td>55</td><td>Átlagon aluli ár</td></tr>\n",
                            "<tr><td>G.toll betét görbe hegyű</td><td>tollbetét</td><td>39</td><td>Átlagon aluli ár</td></tr>\n",
                            "<tr><td>G.toll betét illatos</td><td>tollbetét</td><td>44</td><td>Átlagon aluli ár</td></tr>\n",
                            "<tr><td>G.toll betét jumbo</td><td>tollbetét</td><td>33</td><td>Átlagon aluli ár</td></tr>\n",
                            "<tr><td>G.toll betét Parker </td><td>tollbetét</td><td>684</td><td>Átlagon felüli ár</td></tr>\n",
                            "<tr><td>G.toll betét PAX</td><td>tollbetét</td><td>123</td><td>Átlagon felüli ár</td></tr>\n",
                            "<tr><td>G.toll betét PAX tip.</td><td>tollbetét</td><td>48</td><td>Átlagon aluli ár</td></tr>\n",
                            "<tr><td>G.toll betét S7L </td><td>tollbetét</td><td>91</td><td>Átlagon aluli ár</td></tr>\n",
                            "<tr><td>G.toll betét Stabilo</td><td>tollbetét</td><td>23</td><td>Átlagon aluli ár</td></tr>\n",
                            "<tr><td>G.toll betét X20</td><td>tollbetét</td><td>15</td><td>Átlagon aluli ár</td></tr>\n",
                            "<tr><td>G.toll betét Zebra F-0.7</td><td>tollbetét</td><td>228</td><td>Átlagon felüli ár</td></tr>\n",
                            "<tr><td>G.toll betét Zebra H-0,7</td><td>tollbetét</td><td>78</td><td>Átlagon aluli ár</td></tr>\n",
                            "<tr><td>G.toll betét Zebra K-0,7</td><td>tollbetét</td><td>89</td><td>Átlagon aluli ár</td></tr>\n",
                            "<tr><td>Tolltartó 1 zipzáros</td><td>tolltartó</td><td>728</td><td>Átlagon felüli ár</td></tr>\n",
                            "<tr><td>Tolltartó 2 részes NG.</td><td>tolltartó</td><td>765</td><td>Átlagon felüli ár</td></tr>\n",
                            "<tr><td>Tolltartó 2 zipzáros töltött</td><td>tolltartó</td><td>728</td><td>Átlagon felüli ár</td></tr>\n",
                            "<tr><td>Tolltartó asztali</td><td>tolltartó</td><td>655</td><td>Átlagon felüli ár</td></tr>\n",
                            "<tr><td>Tolltartó Garfield</td><td>tolltartó</td><td>410</td><td>Átlagon aluli ár</td></tr>\n",
                            "<tr><td>Tolltartó hengeres </td><td>tolltartó</td><td>411</td><td>Átlagon aluli ár</td></tr>\n",
                            "<tr><td>Tolltartó zipzáras</td><td>tolltartó</td><td>324</td><td>Átlagon aluli ár</td></tr>\n",
                            "<tr><td>Oki toner C</td><td>toner</td><td>14250</td><td>Átlagon aluli ár</td></tr>\n",
                            "<tr><td>Töltőtoll tinta </td><td>töltőtoll</td><td>493</td><td>Átlagon aluli ár</td></tr>\n",
                            "<tr><td>irodai tűzőgép</td><td>tűzőgép</td><td>2100</td><td>Átlagon felüli ár</td></tr>\n",
                            "<tr><td>Tűzőgép Boxer </td><td>tűzőgép</td><td>286</td><td>Átlagon aluli ár</td></tr>\n",
                            "<tr><td>Tűzőgép Boxer 10</td><td>tűzőgép</td><td>339</td><td>Átlagon aluli ár</td></tr>\n",
                            "<tr><td>Tűzőgép EAGLE</td><td>tűzőgép</td><td>405</td><td>Átlagon aluli ár</td></tr>\n",
                            "<tr><td>Tűzőgép mini</td><td>tűzőgép</td><td>438</td><td>Átlagon aluli ár</td></tr>\n",
                            "<tr><td>Tűzőgép SAX 239</td><td>tűzőgép</td><td>1351</td><td>Átlagon felüli ár</td></tr>\n",
                            "<tr><td>Tűzőkapocs 10-es</td><td>tűzőkapocs</td><td>44</td><td>Átlagon felüli ár</td></tr>\n",
                            "<tr><td>Tűzőkapocs 24/6</td><td>tűzőkapocs</td><td>34</td><td>Átlagon aluli ár</td></tr>\n",
                            "<tr><td>Vízfesték  12 színű nagy</td><td>vízfesték</td><td>249</td><td>Átlagon felüli ár</td></tr>\n",
                            "<tr><td>Vízfesték 12 db-os </td><td>vízfesték</td><td>210</td><td>Átlagon felüli ár</td></tr>\n",
                            "<tr><td>Vízfesték 12 színű kerek</td><td>vízfesték</td><td>180</td><td>Átlagon aluli ár</td></tr>\n",
                            "<tr><td>Vízfesték 12db-os kínai</td><td>vízfesték</td><td>176</td><td>Átlagon aluli ár</td></tr>\n",
                            "<tr><td>Vonalzó 15 cm-es ESSELTE</td><td>vonalzó</td><td>58</td><td>Átlagon felüli ár</td></tr>\n",
                            "<tr><td>Vonalzó 16 cm-es LIZZY</td><td>vonalzó</td><td>30</td><td>Átlagon aluli ár</td></tr>\n",
                            "<tr><td>Vonalzó 20 cm-es </td><td>vonalzó</td><td>30</td><td>Átlagon aluli ár</td></tr>\n",
                            "<tr><td>Vonalzó 30 cm</td><td>vonalzó</td><td>30</td><td>Átlagon aluli ár</td></tr>\n",
                            "<tr><td>Vonalzó 45 fokos</td><td>vonalzó</td><td>30</td><td>Átlagon aluli ár</td></tr>\n",
                            "<tr><td>Vonalzó 60 fokos</td><td>vonalzó</td><td>33</td><td>Átlagon aluli ár</td></tr>\n",
                            "<tr><td>Zászló papír</td><td>zászló</td><td>20</td><td>Átlagon aluli ár</td></tr>\n",
                            "<tr><td>Zselés toll </td><td>zseléstoll</td><td>95</td><td>Átlagon aluli ár</td></tr>\n",
                            "<tr><td>Zselés toll MICRO</td><td>zseléstoll</td><td>66</td><td>Átlagon aluli ár</td></tr>\n",
                            "<tr><td>Zselés toll Muhnwa</td><td>zseléstoll</td><td>161</td><td>Átlagon felüli ár</td></tr>\n",
                            "<tr><td>Zseléstoll Lizzy Card</td><td>zseléstoll</td><td>228</td><td>Átlagon felüli ár</td></tr>\n",
                            "<tr><td>Írásvetítő fólia</td><td>írásvetítő fólia</td><td>81</td><td>Átlagon aluli ár</td></tr>\n",
                            "</table>"
                        ]
                    },
                    "execution_count": 51,
                    "metadata": {},
                    "output_type": "execute_result"
                }
            ],
            "source": [
                "SELECT\n",
                "    t.MEGNEVEZES,\n",
                "    (SELECT KAT_NEV FROM Termekkategoria WHERE KAT_ID = t.KAT_ID) AS KAT_NEV,\n",
                "    t.LISTAAR,\n",
                "    CASE \n",
                "        WHEN t.LISTAAR > (SELECT AVG(LISTAAR) FROM Termek WHERE KAT_ID = t.KAT_ID) THEN 'Átlagon felüli ár'\n",
                "        ELSE 'Átlagon aluli ár'\n",
                "    END AS 'Átlaghoz visszonyított ár'\n",
                "FROM\n",
                "    Termek t JOIN Rendeles_tetel rt ON t.TERMEKKOD = rt.TERMEKKOD\n",
                "GROUP BY\n",
                "    t.MEGNEVEZES, t.LISTAAR, t.KAT_ID;"
            ]
        },
        {
            "cell_type": "code",
            "execution_count": 83,
            "metadata": {
                "azdata_cell_guid": "930abfe0-eb4e-4ae7-a0ad-7cf0b18be6ff",
                "language": "sql",
                "vscode": {
                    "languageId": "sql"
                }
            },
            "outputs": [
                {
                    "data": {
                        "text/html": [
                            "(9 rows affected)"
                        ]
                    },
                    "metadata": {},
                    "output_type": "display_data"
                },
                {
                    "data": {
                        "text/html": [
                            "Total execution time: 00:00:00.026"
                        ]
                    },
                    "metadata": {},
                    "output_type": "display_data"
                },
                {
                    "data": {
                        "application/vnd.dataresource+json": {
                            "data": [
                                {
                                    "FELVITTE": "Béla",
                                    "Termék szám": "71",
                                    "Ár": "Átlagos"
                                },
                                {
                                    "FELVITTE": "Mari",
                                    "Termék szám": "78",
                                    "Ár": "Átlagos"
                                },
                                {
                                    "FELVITTE": "Sára",
                                    "Termék szám": "90",
                                    "Ár": "Átlagos"
                                },
                                {
                                    "FELVITTE": "Béla",
                                    "Termék szám": "7",
                                    "Ár": "Drága"
                                },
                                {
                                    "FELVITTE": "Mari",
                                    "Termék szám": "12",
                                    "Ár": "Drága"
                                },
                                {
                                    "FELVITTE": "Sára",
                                    "Termék szám": "21",
                                    "Ár": "Drága"
                                },
                                {
                                    "FELVITTE": "Béla",
                                    "Termék szám": "111",
                                    "Ár": "Olcsó"
                                },
                                {
                                    "FELVITTE": "Mari",
                                    "Termék szám": "84",
                                    "Ár": "Olcsó"
                                },
                                {
                                    "FELVITTE": "Sára",
                                    "Termék szám": "77",
                                    "Ár": "Olcsó"
                                }
                            ],
                            "schema": {
                                "fields": [
                                    {
                                        "name": "FELVITTE"
                                    },
                                    {
                                        "name": "Ár"
                                    },
                                    {
                                        "name": "Termék szám"
                                    }
                                ]
                            }
                        },
                        "text/html": [
                            "<table><tr><th>FELVITTE</th><th>Ár</th><th>Termék szám</th></tr><tr><td>Béla</td><td>Átlagos</td><td>71</td></tr><tr><td>Mari</td><td>Átlagos</td><td>78</td></tr><tr><td>Sára</td><td>Átlagos</td><td>90</td></tr><tr><td>Béla</td><td>Drága</td><td>7</td></tr><tr><td>Mari</td><td>Drága</td><td>12</td></tr><tr><td>Sára</td><td>Drága</td><td>21</td></tr><tr><td>Béla</td><td>Olcsó</td><td>111</td></tr><tr><td>Mari</td><td>Olcsó</td><td>84</td></tr><tr><td>Sára</td><td>Olcsó</td><td>77</td></tr></table>"
                        ]
                    },
                    "execution_count": 83,
                    "metadata": {},
                    "output_type": "execute_result"
                }
            ],
            "source": [
                "SELECT FELVITTE,\n",
                "    CASE \n",
                "        WHEN LISTAAR > 1000 THEN 'Drága'\n",
                "        WHEN LISTAAR < 100 THEN 'Olcsó'\n",
                "        ELSE 'Átlagos'\n",
                "    END AS 'Ár', COUNT(TERMEKKOD) 'Termék szám'\n",
                "FROM Termek\n",
                "GROUP BY FELVITTE, \n",
                "    CASE \n",
                "        WHEN LISTAAR > 1000 THEN 'Drága'\n",
                "        WHEN LISTAAR < 100 THEN 'Olcsó'\n",
                "        ELSE 'Átlagos'\n",
                "    END"
            ]
        }
    ],
    "metadata": {
        "kernelspec": {
            "display_name": "Python 3",
            "language": "python",
            "name": "python3"
        },
        "language_info": {
            "codemirror_mode": {
                "name": "ipython",
                "version": 3
            },
            "file_extension": ".py",
            "mimetype": "text/x-python",
            "name": "python",
            "nbconvert_exporter": "python",
            "pygments_lexer": "ipython3",
            "version": "3.11.9"
        }
    },
    "nbformat": 4,
    "nbformat_minor": 2
}
