{
    "metadata": {
        "kernelspec": {
            "name": "SQL",
            "display_name": "SQL",
            "language": "sql"
        },
        "language_info": {
            "name": "sql",
            "version": ""
        }
    },
    "nbformat_minor": 2,
    "nbformat": 4,
    "cells": [
        {
            "cell_type": "code",
            "source": [
                "SELECT k.KAT_NEV, MAX(rt.EGYSEGAR) AS 'Maximum ár', MIN(rt.EGYSEGAR) AS 'Minimum ár', ROUND(AVG(rt.EGYSEGAR), 2) AS 'Átlag ár'\r\n",
                "FROM Termek t JOIN Rendeles_tetel rt ON t.TERMEKKOD = rt.TERMEKKOD\r\n",
                "JOIN Termekkategoria k ON t.KAT_ID = k.KAT_ID\r\n",
                "GROUP BY k.KAT_NEV"
            ],
            "metadata": {
                "azdata_cell_guid": "e19da10c-a682-4dbb-8357-4fea70c8d0a0",
                "language": "sql"
            },
            "outputs": [
                {
                    "output_type": "display_data",
                    "data": {
                        "text/html": "Warning: Null value is eliminated by an aggregate or other SET operation."
                    },
                    "metadata": {}
                },
                {
                    "output_type": "display_data",
                    "data": {
                        "text/html": "(142 rows affected)"
                    },
                    "metadata": {}
                },
                {
                    "output_type": "display_data",
                    "data": {
                        "text/html": "Total execution time: 00:00:00.138"
                    },
                    "metadata": {}
                },
                {
                    "output_type": "execute_result",
                    "metadata": {},
                    "execution_count": 21,
                    "data": {
                        "application/vnd.dataresource+json": {
                            "schema": {
                                "fields": [
                                    {
                                        "name": "KAT_NEV"
                                    },
                                    {
                                        "name": "Maximum ár"
                                    },
                                    {
                                        "name": "Minimum ár"
                                    },
                                    {
                                        "name": "Átlag ár"
                                    }
                                ]
                            },
                            "data": [
                                {
                                    "KAT_NEV": "könyv",
                                    "Maximum ár": "1089",
                                    "Minimum ár": "194",
                                    "Átlag ár": "603,73"
                                },
                                {
                                    "KAT_NEV": "ajándék tárgy",
                                    "Maximum ár": "129",
                                    "Minimum ár": "21",
                                    "Átlag ár": "73,58"
                                },
                                {
                                    "KAT_NEV": "ajándék tasak",
                                    "Maximum ár": "290",
                                    "Minimum ár": "10",
                                    "Átlag ár": "120,7"
                                },
                                {
                                    "KAT_NEV": "álarc",
                                    "Maximum ár": "144",
                                    "Minimum ár": "80",
                                    "Átlag ár": "120,91"
                                },
                                {
                                    "KAT_NEV": "alkalmi",
                                    "Maximum ár": "32000",
                                    "Minimum ár": "245",
                                    "Átlag ár": "21366,01"
                                },
                                {
                                    "KAT_NEV": "alufólia",
                                    "Maximum ár": "214",
                                    "Minimum ár": "107",
                                    "Átlag ár": "160,2"
                                },
                                {
                                    "KAT_NEV": "árazószalag",
                                    "Maximum ár": "106",
                                    "Minimum ár": "96",
                                    "Átlag ár": "101,98"
                                },
                                {
                                    "KAT_NEV": "átírótömb",
                                    "Maximum ár": "115",
                                    "Minimum ár": "104",
                                    "Átlag ár": "111,56"
                                },
                                {
                                    "KAT_NEV": "beíró",
                                    "Maximum ár": "228",
                                    "Minimum ár": "207",
                                    "Átlag ár": "220,83"
                                },
                                {
                                    "KAT_NEV": "beírókönyv",
                                    "Maximum ár": "328",
                                    "Minimum ár": "120",
                                    "Átlag ár": "221,39"
                                },
                                {
                                    "KAT_NEV": "bélyegző",
                                    "Maximum ár": "1377",
                                    "Minimum ár": "590",
                                    "Átlag ár": "959,07"
                                },
                                {
                                    "KAT_NEV": "bélyegzőfesték",
                                    "Maximum ár": "297",
                                    "Minimum ár": "270",
                                    "Átlag ár": "287,01"
                                },
                                {
                                    "KAT_NEV": "boríték",
                                    "Maximum ár": "39",
                                    "Minimum ár": "2",
                                    "Átlag ár": "13,74"
                                },
                                {
                                    "KAT_NEV": "cd tok",
                                    "Maximum ár": "30",
                                    "Minimum ár": "27",
                                    "Átlag ár": "28,91"
                                },
                                {
                                    "KAT_NEV": "celofán",
                                    "Maximum ár": "73",
                                    "Minimum ár": "41",
                                    "Átlag ár": "57,45"
                                },
                                {
                                    "KAT_NEV": "ceruza",
                                    "Maximum ár": "146",
                                    "Minimum ár": "10",
                                    "Átlag ár": "46,3"
                                },
                                {
                                    "KAT_NEV": "címke",
                                    "Maximum ár": "31",
                                    "Minimum ár": "18",
                                    "Átlag ár": "24,97"
                                },
                                {
                                    "KAT_NEV": "color copy",
                                    "Maximum ár": "1500",
                                    "Minimum ár": "9",
                                    "Átlag ár": "289,76"
                                },
                                {
                                    "KAT_NEV": "csomagoló",
                                    "Maximum ár": "110",
                                    "Minimum ár": "80",
                                    "Átlag ár": "95,62"
                                },
                                {
                                    "KAT_NEV": "csomagoló papír",
                                    "Maximum ár": "220",
                                    "Minimum ár": "20",
                                    "Átlag ár": "99,27"
                                },
                                {
                                    "KAT_NEV": "dekor",
                                    "Maximum ár": "44",
                                    "Minimum ár": "2",
                                    "Átlag ár": "20,76"
                                },
                                {
                                    "KAT_NEV": "dipa",
                                    "Maximum ár": "9",
                                    "Minimum ár": "8",
                                    "Átlag ár": "8,68"
                                },
                                {
                                    "KAT_NEV": "díszdoboz",
                                    "Maximum ár": "66",
                                    "Minimum ár": "40",
                                    "Átlag ár": "55,2"
                                },
                                {
                                    "KAT_NEV": "díszkötöző",
                                    "Maximum ár": "81",
                                    "Minimum ár": "13",
                                    "Átlag ár": "36,78"
                                },
                                {
                                    "KAT_NEV": "dvd",
                                    "Maximum ár": "133",
                                    "Minimum ár": "120",
                                    "Átlag ár": "128,23"
                                },
                                {
                                    "KAT_NEV": "ecset",
                                    "Maximum ár": "180",
                                    "Minimum ár": "30",
                                    "Átlag ár": "67,55"
                                },
                                {
                                    "KAT_NEV": "előlap",
                                    "Maximum ár": "25",
                                    "Minimum ár": "22",
                                    "Átlag ár": "23,91"
                                },
                                {
                                    "KAT_NEV": "emlékkönyv",
                                    "Maximum ár": "526",
                                    "Minimum ár": "287",
                                    "Átlag ár": "417,61"
                                },
                                {
                                    "KAT_NEV": "emléklap",
                                    "Maximum ár": "26",
                                    "Minimum ár": "23",
                                    "Átlag ár": "24,84"
                                },
                                {
                                    "KAT_NEV": "fax papír",
                                    "Maximum ár": "161",
                                    "Minimum ár": "146",
                                    "Átlag ár": "155,62"
                                },
                                {
                                    "KAT_NEV": "fehérnemű",
                                    "Maximum ár": "990",
                                    "Minimum ár": "216",
                                    "Átlag ár": "540,92"
                                },
                                {
                                    "KAT_NEV": "fénymásoló papír",
                                    "Maximum ár": "1488",
                                    "Minimum ár": "623",
                                    "Átlag ár": "859,34"
                                },
                                {
                                    "KAT_NEV": "férfi ing",
                                    "Maximum ár": "6490",
                                    "Minimum ár": "245",
                                    "Átlag ár": "6287,78"
                                },
                                {
                                    "KAT_NEV": "férfi kabát",
                                    "Maximum ár": "22000",
                                    "Minimum ár": "20000",
                                    "Átlag ár": "21315,18"
                                },
                                {
                                    "KAT_NEV": "férfi nadrág",
                                    "Maximum ár": "11900",
                                    "Minimum ár": "245",
                                    "Átlag ár": "9538,64"
                                },
                                {
                                    "KAT_NEV": "festékpatron",
                                    "Maximum ár": "625",
                                    "Minimum ár": "568",
                                    "Átlag ár": "607,5"
                                },
                                {
                                    "KAT_NEV": "filctoll",
                                    "Maximum ár": "434",
                                    "Minimum ár": "0",
                                    "Átlag ár": "180,07"
                                },
                                {
                                    "KAT_NEV": "floppy",
                                    "Maximum ár": "51",
                                    "Minimum ár": "46",
                                    "Átlag ár": "49,05"
                                },
                                {
                                    "KAT_NEV": "fólia",
                                    "Maximum ár": "44",
                                    "Minimum ár": "36",
                                    "Átlag ár": "41,21"
                                },
                                {
                                    "KAT_NEV": "fotópapír",
                                    "Maximum ár": "30",
                                    "Minimum ár": "27",
                                    "Átlag ár": "28,96"
                                },
                                {
                                    "KAT_NEV": "füzet",
                                    "Maximum ár": "206",
                                    "Minimum ár": "27",
                                    "Átlag ár": "91,81"
                                },
                                {
                                    "KAT_NEV": "füzetborító",
                                    "Maximum ár": "195",
                                    "Minimum ár": "7",
                                    "Átlag ár": "45,3"
                                },
                                {
                                    "KAT_NEV": "füzettartó",
                                    "Maximum ár": "551",
                                    "Minimum ár": "184",
                                    "Átlag ár": "405,71"
                                },
                                {
                                    "KAT_NEV": "gemkapocs",
                                    "Maximum ár": "48",
                                    "Minimum ár": "27",
                                    "Átlag ár": "37,43"
                                },
                                {
                                    "KAT_NEV": "gémkapocs",
                                    "Maximum ár": "103",
                                    "Minimum ár": "40",
                                    "Átlag ár": "72,54"
                                },
                                {
                                    "KAT_NEV": "genoterm",
                                    "Maximum ár": "89",
                                    "Minimum ár": "80",
                                    "Átlag ár": "85,92"
                                },
                                {
                                    "KAT_NEV": "genotherm",
                                    "Maximum ár": "110",
                                    "Minimum ár": "7",
                                    "Átlag ár": "58,26"
                                },
                                {
                                    "KAT_NEV": "golyóstoll",
                                    "Maximum ár": "1019",
                                    "Minimum ár": "20",
                                    "Átlag ár": "252,91"
                                },
                                {
                                    "KAT_NEV": "gumigyűrű",
                                    "Maximum ár": "19",
                                    "Minimum ár": "17",
                                    "Átlag ár": "18,32"
                                },
                                {
                                    "KAT_NEV": "gyermek cipő",
                                    "Maximum ár": "8000",
                                    "Minimum ár": "245",
                                    "Átlag ár": "7356,85"
                                },
                                {
                                    "KAT_NEV": "gyermek kabát",
                                    "Maximum ár": "8900",
                                    "Minimum ár": "245",
                                    "Átlag ár": "8583,5"
                                },
                                {
                                    "KAT_NEV": "gyermek nadrág",
                                    "Maximum ár": "4990",
                                    "Minimum ár": "245",
                                    "Átlag ár": "3092,19"
                                },
                                {
                                    "KAT_NEV": "gyermek póló",
                                    "Maximum ár": "3900",
                                    "Minimum ár": "245",
                                    "Átlag ár": "3768,37"
                                },
                                {
                                    "KAT_NEV": "gyorsfűző",
                                    "Maximum ár": "35",
                                    "Minimum ár": "16",
                                    "Átlag ár": "26,57"
                                },
                                {
                                    "KAT_NEV": "gyurma",
                                    "Maximum ár": "228",
                                    "Minimum ár": "110",
                                    "Átlag ár": "166"
                                },
                                {
                                    "KAT_NEV": "gyűrűskönyv",
                                    "Maximum ár": "699",
                                    "Minimum ár": "86",
                                    "Átlag ár": "341,79"
                                },
                                {
                                    "KAT_NEV": "hajgumi",
                                    "Maximum ár": "66",
                                    "Minimum ár": "60",
                                    "Átlag ár": "64,29"
                                },
                                {
                                    "KAT_NEV": "határidő napló",
                                    "Maximum ár": "728",
                                    "Minimum ár": "421",
                                    "Átlag ár": "570,96"
                                },
                                {
                                    "KAT_NEV": "hegyező",
                                    "Maximum ár": "875",
                                    "Minimum ár": "20",
                                    "Átlag ár": "237,93"
                                },
                                {
                                    "KAT_NEV": "hegyző",
                                    "Maximum ár": "180",
                                    "Minimum ár": "63",
                                    "Átlag ár": "124,06"
                                },
                                {
                                    "KAT_NEV": "hibajavító",
                                    "Maximum ár": "794",
                                    "Minimum ár": "73",
                                    "Átlag ár": "275,62"
                                },
                                {
                                    "KAT_NEV": "hűtőmágnes",
                                    "Maximum ár": "169",
                                    "Minimum ár": "21",
                                    "Átlag ár": "91,9"
                                },
                                {
                                    "KAT_NEV": "iratgyűjtő",
                                    "Maximum ár": "133",
                                    "Minimum ár": "17",
                                    "Átlag ár": "55,99"
                                },
                                {
                                    "KAT_NEV": "iratrendező",
                                    "Maximum ár": "259",
                                    "Minimum ár": "220",
                                    "Átlag ár": "242,57"
                                },
                                {
                                    "KAT_NEV": "iratsín",
                                    "Maximum ár": "89",
                                    "Minimum ár": "40",
                                    "Átlag ár": "64,19"
                                },
                                {
                                    "KAT_NEV": "irattartó",
                                    "Maximum ár": "214",
                                    "Minimum ár": "60",
                                    "Átlag ár": "130,94"
                                },
                                {
                                    "KAT_NEV": "irodaszer",
                                    "Maximum ár": "59",
                                    "Minimum ár": "53",
                                    "Átlag ár": "57,08"
                                },
                                {
                                    "KAT_NEV": "írólap",
                                    "Maximum ár": "34",
                                    "Minimum ár": "26",
                                    "Átlag ár": "30,36"
                                },
                                {
                                    "KAT_NEV": "ironbél",
                                    "Maximum ár": "78",
                                    "Minimum ár": "20",
                                    "Átlag ár": "52,15"
                                },
                                {
                                    "KAT_NEV": "iskolaszer",
                                    "Maximum ár": "511",
                                    "Minimum ár": "4",
                                    "Átlag ár": "82,2"
                                },
                                {
                                    "KAT_NEV": "játékautó",
                                    "Maximum ár": "165",
                                    "Minimum ár": "59",
                                    "Átlag ár": "106,08"
                                },
                                {
                                    "KAT_NEV": "jelzőkréta",
                                    "Maximum ár": "48",
                                    "Minimum ár": "43",
                                    "Átlag ár": "46,29"
                                },
                                {
                                    "KAT_NEV": "kapocskiszedő",
                                    "Maximum ár": "106",
                                    "Minimum ár": "96",
                                    "Átlag ár": "102,26"
                                },
                                {
                                    "KAT_NEV": "karton",
                                    "Maximum ár": "89",
                                    "Minimum ár": "10",
                                    "Átlag ár": "44,38"
                                },
                                {
                                    "KAT_NEV": "kártya",
                                    "Maximum ár": "131",
                                    "Minimum ár": "119",
                                    "Átlag ár": "126,92"
                                },
                                {
                                    "KAT_NEV": "képeslap",
                                    "Maximum ár": "184",
                                    "Minimum ár": "12",
                                    "Átlag ár": "56,71"
                                },
                                {
                                    "KAT_NEV": "képkirakó",
                                    "Maximum ár": "195",
                                    "Minimum ár": "177",
                                    "Átlag ár": "188,19"
                                },
                                {
                                    "KAT_NEV": "kosztüm",
                                    "Maximum ár": "46000",
                                    "Minimum ár": "245",
                                    "Átlag ár": "41222,07"
                                },
                                {
                                    "KAT_NEV": "körző",
                                    "Maximum ár": "243",
                                    "Minimum ár": "27",
                                    "Átlag ár": "140,98"
                                },
                                {
                                    "KAT_NEV": "kreatív",
                                    "Maximum ár": "13",
                                    "Minimum ár": "3",
                                    "Átlag ár": "8,06"
                                },
                                {
                                    "KAT_NEV": "kulcstartó",
                                    "Maximum ár": "155",
                                    "Minimum ár": "32",
                                    "Átlag ár": "112,34"
                                },
                                {
                                    "KAT_NEV": "labda",
                                    "Maximum ár": "110",
                                    "Minimum ár": "73",
                                    "Átlag ár": "92,71"
                                },
                                {
                                    "KAT_NEV": "levélpapír",
                                    "Maximum ár": "169",
                                    "Minimum ár": "13",
                                    "Átlag ár": "89,86"
                                },
                                {
                                    "KAT_NEV": "lufi",
                                    "Maximum ár": "15",
                                    "Minimum ár": "10",
                                    "Átlag ár": "12,43"
                                },
                                {
                                    "KAT_NEV": "lyukasztó",
                                    "Maximum ár": "765",
                                    "Minimum ár": "478",
                                    "Átlag ár": "616,09"
                                },
                                {
                                    "KAT_NEV": "mappa",
                                    "Maximum ár": "1765",
                                    "Minimum ár": "134",
                                    "Átlag ár": "389,05"
                                },
                                {
                                    "KAT_NEV": "matrica",
                                    "Maximum ár": "175",
                                    "Minimum ár": "44",
                                    "Átlag ár": "103,76"
                                },
                                {
                                    "KAT_NEV": "meghívó",
                                    "Maximum ár": "169",
                                    "Minimum ár": "53",
                                    "Átlag ár": "107,05"
                                },
                                {
                                    "KAT_NEV": "miliméterpapír",
                                    "Maximum ár": "8",
                                    "Minimum ár": "7",
                                    "Átlag ár": "7,7"
                                },
                                {
                                    "KAT_NEV": "munkafüzet",
                                    "Maximum ár": "785",
                                    "Minimum ár": "172",
                                    "Átlag ár": "378,63"
                                },
                                {
                                    "KAT_NEV": "műnyomó",
                                    "Maximum ár": "3",
                                    "Minimum ár": "2",
                                    "Átlag ár": "2,68"
                                },
                                {
                                    "KAT_NEV": "naptár",
                                    "Maximum ár": "89",
                                    "Minimum ár": "80",
                                    "Átlag ár": "86,02"
                                },
                                {
                                    "KAT_NEV": "naptárhát",
                                    "Maximum ár": "78",
                                    "Minimum ár": "13",
                                    "Átlag ár": "44,79"
                                },
                                {
                                    "KAT_NEV": "névjegytartó",
                                    "Maximum ár": "310",
                                    "Minimum ár": "281",
                                    "Átlag ár": "299,64"
                                },
                                {
                                    "KAT_NEV": "notesz",
                                    "Maximum ár": "103",
                                    "Minimum ár": "40",
                                    "Átlag ár": "76,77"
                                },
                                {
                                    "KAT_NEV": "női kabát",
                                    "Maximum ár": "24000",
                                    "Minimum ár": "21600",
                                    "Átlag ár": "23248,89"
                                },
                                {
                                    "KAT_NEV": "női nadrág",
                                    "Maximum ár": "8290",
                                    "Minimum ár": "245",
                                    "Átlag ár": "8013,29"
                                },
                                {
                                    "KAT_NEV": "ofszet",
                                    "Maximum ár": "4",
                                    "Minimum ár": "3",
                                    "Átlag ár": "3,62"
                                },
                                {
                                    "KAT_NEV": "oklevél",
                                    "Maximum ár": "55",
                                    "Minimum ár": "43",
                                    "Átlag ár": "49,83"
                                },
                                {
                                    "KAT_NEV": "olló",
                                    "Maximum ár": "176",
                                    "Minimum ár": "120",
                                    "Átlag ár": "151,01"
                                },
                                {
                                    "KAT_NEV": "öntapadó",
                                    "Maximum ár": "4575",
                                    "Minimum ár": "53",
                                    "Átlag ár": "2328,19"
                                },
                                {
                                    "KAT_NEV": "papízsebkendő",
                                    "Maximum ár": "20",
                                    "Minimum ár": "18",
                                    "Átlag ár": "19,34"
                                },
                                {
                                    "KAT_NEV": "pausz",
                                    "Maximum ár": "15",
                                    "Minimum ár": "13",
                                    "Átlag ár": "14,36"
                                },
                                {
                                    "KAT_NEV": "pénztárbizonylat",
                                    "Maximum ár": "144",
                                    "Minimum ár": "93",
                                    "Átlag ár": "120,29"
                                },
                                {
                                    "KAT_NEV": "pénztárgépszalag",
                                    "Maximum ár": "93",
                                    "Minimum ár": "73",
                                    "Átlag ár": "83,68"
                                },
                                {
                                    "KAT_NEV": "pixiron",
                                    "Maximum ár": "468",
                                    "Minimum ár": "53",
                                    "Átlag ár": "190,71"
                                },
                                {
                                    "KAT_NEV": "plüss",
                                    "Maximum ár": "314",
                                    "Minimum ár": "146",
                                    "Átlag ár": "209,76"
                                },
                                {
                                    "KAT_NEV": "post-it",
                                    "Maximum ár": "89",
                                    "Minimum ár": "32",
                                    "Átlag ár": "56,76"
                                },
                                {
                                    "KAT_NEV": "radír",
                                    "Maximum ár": "50",
                                    "Minimum ár": "17",
                                    "Átlag ár": "38,75"
                                },
                                {
                                    "KAT_NEV": "radírtoll",
                                    "Maximum ár": "119",
                                    "Minimum ár": "67",
                                    "Átlag ár": "94,24"
                                },
                                {
                                    "KAT_NEV": "ragasztó",
                                    "Maximum ár": "426",
                                    "Minimum ár": "73",
                                    "Átlag ár": "159,85"
                                },
                                {
                                    "KAT_NEV": "ragasztószalag",
                                    "Maximum ár": "166",
                                    "Minimum ár": "13",
                                    "Átlag ár": "71,6"
                                },
                                {
                                    "KAT_NEV": "rágógumi",
                                    "Maximum ár": "89",
                                    "Minimum ár": "80",
                                    "Átlag ár": "86,25"
                                },
                                {
                                    "KAT_NEV": "rajzlap",
                                    "Maximum ár": "342",
                                    "Minimum ár": "25",
                                    "Átlag ár": "182,93"
                                },
                                {
                                    "KAT_NEV": "rajzszeg",
                                    "Maximum ár": "106",
                                    "Minimum ár": "57",
                                    "Átlag ár": "83,48"
                                },
                                {
                                    "KAT_NEV": "regiszteres füzet",
                                    "Maximum ár": "256",
                                    "Minimum ár": "184",
                                    "Átlag ár": "221,2"
                                },
                                {
                                    "KAT_NEV": "sál",
                                    "Maximum ár": "1990",
                                    "Minimum ár": "245",
                                    "Átlag ár": "1923,73"
                                },
                                {
                                    "KAT_NEV": "spirál",
                                    "Maximum ár": "45",
                                    "Minimum ár": "40",
                                    "Átlag ár": "43,27"
                                },
                                {
                                    "KAT_NEV": "strandlabda",
                                    "Maximum ár": "356",
                                    "Minimum ár": "323",
                                    "Átlag ár": "344,21"
                                },
                                {
                                    "KAT_NEV": "szalvéta",
                                    "Maximum ár": "183",
                                    "Minimum ár": "107",
                                    "Átlag ár": "152,28"
                                },
                                {
                                    "KAT_NEV": "számológép",
                                    "Maximum ár": "1173",
                                    "Minimum ár": "461",
                                    "Átlag ár": "795,74"
                                },
                                {
                                    "KAT_NEV": "szemetes",
                                    "Maximum ár": "129",
                                    "Minimum ár": "117",
                                    "Átlag ár": "124,85"
                                },
                                {
                                    "KAT_NEV": "színes",
                                    "Maximum ár": "161",
                                    "Minimum ár": "90",
                                    "Átlag ár": "125,57"
                                },
                                {
                                    "KAT_NEV": "szögmérő",
                                    "Maximum ár": "24",
                                    "Minimum ár": "7",
                                    "Átlag ár": "14,23"
                                },
                                {
                                    "KAT_NEV": "szövegkiemelő",
                                    "Maximum ár": "140",
                                    "Minimum ár": "70",
                                    "Átlag ár": "96,81"
                                },
                                {
                                    "KAT_NEV": "táblafilc",
                                    "Maximum ár": "633",
                                    "Minimum ár": "575",
                                    "Átlag ár": "613,28"
                                },
                                {
                                    "KAT_NEV": "tapétavágó",
                                    "Maximum ár": "40",
                                    "Minimum ár": "36",
                                    "Átlag ár": "38,35"
                                },
                                {
                                    "KAT_NEV": "tempera",
                                    "Maximum ár": "96",
                                    "Minimum ár": "43",
                                    "Átlag ár": "70,36"
                                },
                                {
                                    "KAT_NEV": "térképtű",
                                    "Maximum ár": "103",
                                    "Minimum ár": "93",
                                    "Átlag ár": "99,81"
                                },
                                {
                                    "KAT_NEV": "tintapatron",
                                    "Maximum ár": "360",
                                    "Minimum ár": "8",
                                    "Átlag ár": "115,24"
                                },
                                {
                                    "KAT_NEV": "toll",
                                    "Maximum ár": "80",
                                    "Minimum ár": "67",
                                    "Átlag ár": "74,61"
                                },
                                {
                                    "KAT_NEV": "tollbetét",
                                    "Maximum ár": "684",
                                    "Minimum ár": "13",
                                    "Átlag ár": "96,98"
                                },
                                {
                                    "KAT_NEV": "tolltartó",
                                    "Maximum ár": "765",
                                    "Minimum ár": "294",
                                    "Átlag ár": "552,5"
                                },
                                {
                                    "KAT_NEV": "toner",
                                    "Maximum ár": "14250",
                                    "Minimum ár": "12954",
                                    "Átlag ár": "13767,89"
                                },
                                {
                                    "KAT_NEV": "töltőtoll",
                                    "Maximum ár": "493",
                                    "Minimum ár": "448",
                                    "Átlag ár": "476,81"
                                },
                                {
                                    "KAT_NEV": "tűzőgép",
                                    "Maximum ár": "2100",
                                    "Minimum ár": "260",
                                    "Átlag ár": "798,19"
                                },
                                {
                                    "KAT_NEV": "tűzőkapocs",
                                    "Maximum ár": "44",
                                    "Minimum ár": "30",
                                    "Átlag ár": "37,14"
                                },
                                {
                                    "KAT_NEV": "vízfesték",
                                    "Maximum ár": "249",
                                    "Minimum ár": "160",
                                    "Átlag ár": "197,34"
                                },
                                {
                                    "KAT_NEV": "vonalzó",
                                    "Maximum ár": "58",
                                    "Minimum ár": "27",
                                    "Átlag ár": "34,08"
                                },
                                {
                                    "KAT_NEV": "zászló",
                                    "Maximum ár": "20",
                                    "Minimum ár": "18",
                                    "Átlag ár": "19,29"
                                },
                                {
                                    "KAT_NEV": "zseléstoll",
                                    "Maximum ár": "228",
                                    "Minimum ár": "60",
                                    "Átlag ár": "132,15"
                                },
                                {
                                    "KAT_NEV": "írásvetítő fólia",
                                    "Maximum ár": "81",
                                    "Minimum ár": "73",
                                    "Átlag ár": "77,98"
                                }
                            ]
                        },
                        "text/html": [
                            "<table>",
                            "<tr><th>KAT_NEV</th><th>Maximum ár</th><th>Minimum ár</th><th>Átlag ár</th></tr>",
                            "<tr><td>könyv</td><td>1089</td><td>194</td><td>603,73</td></tr>",
                            "<tr><td>ajándék tárgy</td><td>129</td><td>21</td><td>73,58</td></tr>",
                            "<tr><td>ajándék tasak</td><td>290</td><td>10</td><td>120,7</td></tr>",
                            "<tr><td>álarc</td><td>144</td><td>80</td><td>120,91</td></tr>",
                            "<tr><td>alkalmi</td><td>32000</td><td>245</td><td>21366,01</td></tr>",
                            "<tr><td>alufólia</td><td>214</td><td>107</td><td>160,2</td></tr>",
                            "<tr><td>árazószalag</td><td>106</td><td>96</td><td>101,98</td></tr>",
                            "<tr><td>átírótömb</td><td>115</td><td>104</td><td>111,56</td></tr>",
                            "<tr><td>beíró</td><td>228</td><td>207</td><td>220,83</td></tr>",
                            "<tr><td>beírókönyv</td><td>328</td><td>120</td><td>221,39</td></tr>",
                            "<tr><td>bélyegző</td><td>1377</td><td>590</td><td>959,07</td></tr>",
                            "<tr><td>bélyegzőfesték</td><td>297</td><td>270</td><td>287,01</td></tr>",
                            "<tr><td>boríték</td><td>39</td><td>2</td><td>13,74</td></tr>",
                            "<tr><td>cd tok</td><td>30</td><td>27</td><td>28,91</td></tr>",
                            "<tr><td>celofán</td><td>73</td><td>41</td><td>57,45</td></tr>",
                            "<tr><td>ceruza</td><td>146</td><td>10</td><td>46,3</td></tr>",
                            "<tr><td>címke</td><td>31</td><td>18</td><td>24,97</td></tr>",
                            "<tr><td>color copy</td><td>1500</td><td>9</td><td>289,76</td></tr>",
                            "<tr><td>csomagoló</td><td>110</td><td>80</td><td>95,62</td></tr>",
                            "<tr><td>csomagoló papír</td><td>220</td><td>20</td><td>99,27</td></tr>",
                            "<tr><td>dekor</td><td>44</td><td>2</td><td>20,76</td></tr>",
                            "<tr><td>dipa</td><td>9</td><td>8</td><td>8,68</td></tr>",
                            "<tr><td>díszdoboz</td><td>66</td><td>40</td><td>55,2</td></tr>",
                            "<tr><td>díszkötöző</td><td>81</td><td>13</td><td>36,78</td></tr>",
                            "<tr><td>dvd</td><td>133</td><td>120</td><td>128,23</td></tr>",
                            "<tr><td>ecset</td><td>180</td><td>30</td><td>67,55</td></tr>",
                            "<tr><td>előlap</td><td>25</td><td>22</td><td>23,91</td></tr>",
                            "<tr><td>emlékkönyv</td><td>526</td><td>287</td><td>417,61</td></tr>",
                            "<tr><td>emléklap</td><td>26</td><td>23</td><td>24,84</td></tr>",
                            "<tr><td>fax papír</td><td>161</td><td>146</td><td>155,62</td></tr>",
                            "<tr><td>fehérnemű</td><td>990</td><td>216</td><td>540,92</td></tr>",
                            "<tr><td>fénymásoló papír</td><td>1488</td><td>623</td><td>859,34</td></tr>",
                            "<tr><td>férfi ing</td><td>6490</td><td>245</td><td>6287,78</td></tr>",
                            "<tr><td>férfi kabát</td><td>22000</td><td>20000</td><td>21315,18</td></tr>",
                            "<tr><td>férfi nadrág</td><td>11900</td><td>245</td><td>9538,64</td></tr>",
                            "<tr><td>festékpatron</td><td>625</td><td>568</td><td>607,5</td></tr>",
                            "<tr><td>filctoll</td><td>434</td><td>0</td><td>180,07</td></tr>",
                            "<tr><td>floppy</td><td>51</td><td>46</td><td>49,05</td></tr>",
                            "<tr><td>fólia</td><td>44</td><td>36</td><td>41,21</td></tr>",
                            "<tr><td>fotópapír</td><td>30</td><td>27</td><td>28,96</td></tr>",
                            "<tr><td>füzet</td><td>206</td><td>27</td><td>91,81</td></tr>",
                            "<tr><td>füzetborító</td><td>195</td><td>7</td><td>45,3</td></tr>",
                            "<tr><td>füzettartó</td><td>551</td><td>184</td><td>405,71</td></tr>",
                            "<tr><td>gemkapocs</td><td>48</td><td>27</td><td>37,43</td></tr>",
                            "<tr><td>gémkapocs</td><td>103</td><td>40</td><td>72,54</td></tr>",
                            "<tr><td>genoterm</td><td>89</td><td>80</td><td>85,92</td></tr>",
                            "<tr><td>genotherm</td><td>110</td><td>7</td><td>58,26</td></tr>",
                            "<tr><td>golyóstoll</td><td>1019</td><td>20</td><td>252,91</td></tr>",
                            "<tr><td>gumigyűrű</td><td>19</td><td>17</td><td>18,32</td></tr>",
                            "<tr><td>gyermek cipő</td><td>8000</td><td>245</td><td>7356,85</td></tr>",
                            "<tr><td>gyermek kabát</td><td>8900</td><td>245</td><td>8583,5</td></tr>",
                            "<tr><td>gyermek nadrág</td><td>4990</td><td>245</td><td>3092,19</td></tr>",
                            "<tr><td>gyermek póló</td><td>3900</td><td>245</td><td>3768,37</td></tr>",
                            "<tr><td>gyorsfűző</td><td>35</td><td>16</td><td>26,57</td></tr>",
                            "<tr><td>gyurma</td><td>228</td><td>110</td><td>166</td></tr>",
                            "<tr><td>gyűrűskönyv</td><td>699</td><td>86</td><td>341,79</td></tr>",
                            "<tr><td>hajgumi</td><td>66</td><td>60</td><td>64,29</td></tr>",
                            "<tr><td>határidő napló</td><td>728</td><td>421</td><td>570,96</td></tr>",
                            "<tr><td>hegyező</td><td>875</td><td>20</td><td>237,93</td></tr>",
                            "<tr><td>hegyző</td><td>180</td><td>63</td><td>124,06</td></tr>",
                            "<tr><td>hibajavító</td><td>794</td><td>73</td><td>275,62</td></tr>",
                            "<tr><td>hűtőmágnes</td><td>169</td><td>21</td><td>91,9</td></tr>",
                            "<tr><td>iratgyűjtő</td><td>133</td><td>17</td><td>55,99</td></tr>",
                            "<tr><td>iratrendező</td><td>259</td><td>220</td><td>242,57</td></tr>",
                            "<tr><td>iratsín</td><td>89</td><td>40</td><td>64,19</td></tr>",
                            "<tr><td>irattartó</td><td>214</td><td>60</td><td>130,94</td></tr>",
                            "<tr><td>irodaszer</td><td>59</td><td>53</td><td>57,08</td></tr>",
                            "<tr><td>írólap</td><td>34</td><td>26</td><td>30,36</td></tr>",
                            "<tr><td>ironbél</td><td>78</td><td>20</td><td>52,15</td></tr>",
                            "<tr><td>iskolaszer</td><td>511</td><td>4</td><td>82,2</td></tr>",
                            "<tr><td>játékautó</td><td>165</td><td>59</td><td>106,08</td></tr>",
                            "<tr><td>jelzőkréta</td><td>48</td><td>43</td><td>46,29</td></tr>",
                            "<tr><td>kapocskiszedő</td><td>106</td><td>96</td><td>102,26</td></tr>",
                            "<tr><td>karton</td><td>89</td><td>10</td><td>44,38</td></tr>",
                            "<tr><td>kártya</td><td>131</td><td>119</td><td>126,92</td></tr>",
                            "<tr><td>képeslap</td><td>184</td><td>12</td><td>56,71</td></tr>",
                            "<tr><td>képkirakó</td><td>195</td><td>177</td><td>188,19</td></tr>",
                            "<tr><td>kosztüm</td><td>46000</td><td>245</td><td>41222,07</td></tr>",
                            "<tr><td>körző</td><td>243</td><td>27</td><td>140,98</td></tr>",
                            "<tr><td>kreatív</td><td>13</td><td>3</td><td>8,06</td></tr>",
                            "<tr><td>kulcstartó</td><td>155</td><td>32</td><td>112,34</td></tr>",
                            "<tr><td>labda</td><td>110</td><td>73</td><td>92,71</td></tr>",
                            "<tr><td>levélpapír</td><td>169</td><td>13</td><td>89,86</td></tr>",
                            "<tr><td>lufi</td><td>15</td><td>10</td><td>12,43</td></tr>",
                            "<tr><td>lyukasztó</td><td>765</td><td>478</td><td>616,09</td></tr>",
                            "<tr><td>mappa</td><td>1765</td><td>134</td><td>389,05</td></tr>",
                            "<tr><td>matrica</td><td>175</td><td>44</td><td>103,76</td></tr>",
                            "<tr><td>meghívó</td><td>169</td><td>53</td><td>107,05</td></tr>",
                            "<tr><td>miliméterpapír</td><td>8</td><td>7</td><td>7,7</td></tr>",
                            "<tr><td>munkafüzet</td><td>785</td><td>172</td><td>378,63</td></tr>",
                            "<tr><td>műnyomó</td><td>3</td><td>2</td><td>2,68</td></tr>",
                            "<tr><td>naptár</td><td>89</td><td>80</td><td>86,02</td></tr>",
                            "<tr><td>naptárhát</td><td>78</td><td>13</td><td>44,79</td></tr>",
                            "<tr><td>névjegytartó</td><td>310</td><td>281</td><td>299,64</td></tr>",
                            "<tr><td>notesz</td><td>103</td><td>40</td><td>76,77</td></tr>",
                            "<tr><td>női kabát</td><td>24000</td><td>21600</td><td>23248,89</td></tr>",
                            "<tr><td>női nadrág</td><td>8290</td><td>245</td><td>8013,29</td></tr>",
                            "<tr><td>ofszet</td><td>4</td><td>3</td><td>3,62</td></tr>",
                            "<tr><td>oklevél</td><td>55</td><td>43</td><td>49,83</td></tr>",
                            "<tr><td>olló</td><td>176</td><td>120</td><td>151,01</td></tr>",
                            "<tr><td>öntapadó</td><td>4575</td><td>53</td><td>2328,19</td></tr>",
                            "<tr><td>papízsebkendő</td><td>20</td><td>18</td><td>19,34</td></tr>",
                            "<tr><td>pausz</td><td>15</td><td>13</td><td>14,36</td></tr>",
                            "<tr><td>pénztárbizonylat</td><td>144</td><td>93</td><td>120,29</td></tr>",
                            "<tr><td>pénztárgépszalag</td><td>93</td><td>73</td><td>83,68</td></tr>",
                            "<tr><td>pixiron</td><td>468</td><td>53</td><td>190,71</td></tr>",
                            "<tr><td>plüss</td><td>314</td><td>146</td><td>209,76</td></tr>",
                            "<tr><td>post-it</td><td>89</td><td>32</td><td>56,76</td></tr>",
                            "<tr><td>radír</td><td>50</td><td>17</td><td>38,75</td></tr>",
                            "<tr><td>radírtoll</td><td>119</td><td>67</td><td>94,24</td></tr>",
                            "<tr><td>ragasztó</td><td>426</td><td>73</td><td>159,85</td></tr>",
                            "<tr><td>ragasztószalag</td><td>166</td><td>13</td><td>71,6</td></tr>",
                            "<tr><td>rágógumi</td><td>89</td><td>80</td><td>86,25</td></tr>",
                            "<tr><td>rajzlap</td><td>342</td><td>25</td><td>182,93</td></tr>",
                            "<tr><td>rajzszeg</td><td>106</td><td>57</td><td>83,48</td></tr>",
                            "<tr><td>regiszteres füzet</td><td>256</td><td>184</td><td>221,2</td></tr>",
                            "<tr><td>sál</td><td>1990</td><td>245</td><td>1923,73</td></tr>",
                            "<tr><td>spirál</td><td>45</td><td>40</td><td>43,27</td></tr>",
                            "<tr><td>strandlabda</td><td>356</td><td>323</td><td>344,21</td></tr>",
                            "<tr><td>szalvéta</td><td>183</td><td>107</td><td>152,28</td></tr>",
                            "<tr><td>számológép</td><td>1173</td><td>461</td><td>795,74</td></tr>",
                            "<tr><td>szemetes</td><td>129</td><td>117</td><td>124,85</td></tr>",
                            "<tr><td>színes</td><td>161</td><td>90</td><td>125,57</td></tr>",
                            "<tr><td>szögmérő</td><td>24</td><td>7</td><td>14,23</td></tr>",
                            "<tr><td>szövegkiemelő</td><td>140</td><td>70</td><td>96,81</td></tr>",
                            "<tr><td>táblafilc</td><td>633</td><td>575</td><td>613,28</td></tr>",
                            "<tr><td>tapétavágó</td><td>40</td><td>36</td><td>38,35</td></tr>",
                            "<tr><td>tempera</td><td>96</td><td>43</td><td>70,36</td></tr>",
                            "<tr><td>térképtű</td><td>103</td><td>93</td><td>99,81</td></tr>",
                            "<tr><td>tintapatron</td><td>360</td><td>8</td><td>115,24</td></tr>",
                            "<tr><td>toll</td><td>80</td><td>67</td><td>74,61</td></tr>",
                            "<tr><td>tollbetét</td><td>684</td><td>13</td><td>96,98</td></tr>",
                            "<tr><td>tolltartó</td><td>765</td><td>294</td><td>552,5</td></tr>",
                            "<tr><td>toner</td><td>14250</td><td>12954</td><td>13767,89</td></tr>",
                            "<tr><td>töltőtoll</td><td>493</td><td>448</td><td>476,81</td></tr>",
                            "<tr><td>tűzőgép</td><td>2100</td><td>260</td><td>798,19</td></tr>",
                            "<tr><td>tűzőkapocs</td><td>44</td><td>30</td><td>37,14</td></tr>",
                            "<tr><td>vízfesték</td><td>249</td><td>160</td><td>197,34</td></tr>",
                            "<tr><td>vonalzó</td><td>58</td><td>27</td><td>34,08</td></tr>",
                            "<tr><td>zászló</td><td>20</td><td>18</td><td>19,29</td></tr>",
                            "<tr><td>zseléstoll</td><td>228</td><td>60</td><td>132,15</td></tr>",
                            "<tr><td>írásvetítő fólia</td><td>81</td><td>73</td><td>77,98</td></tr>",
                            "</table>"
                        ]
                    }
                }
            ],
            "execution_count": 21
        },
        {
            "cell_type": "code",
            "source": [
                "SELECT \r\n",
                "    CASE\r\n",
                "        WHEN MONTH(FELVITEL) = 6 THEN 'Június'\r\n",
                "        WHEN MONTH(FELVITEL) = 7 THEN 'Július'\r\n",
                "        WHEN MONTH(FELVITEL) = 8 THEN 'Augusztus'\r\n",
                "        WHEN MONTH(FELVITEL) = 9 THEN 'Szeptember'\r\n",
                "        ELSE 'Nem egyetemi nyári szünet'\r\n",
                "    END AS 'Hónap', SUM(rt.EGYSEGAR * rt.MENNYISEG) AS 'Havi bevétel'\r\n",
                "FROM Termek t JOIN Rendeles_tetel rt ON t.TERMEKKOD = rt.TERMEKKOD\r\n",
                "GROUP BY MONTH(FELVITEL)"
            ],
            "metadata": {
                "azdata_cell_guid": "01f0a710-5546-4daa-9d30-1fa6b0dbe4f1",
                "language": "sql"
            },
            "outputs": [
                {
                    "output_type": "error",
                    "evalue": "Msg 208, Level 16, State 1, Line 1\r\nInvalid object name 'RENDELESI_TETEL'.",
                    "ename": "",
                    "traceback": []
                },
                {
                    "output_type": "display_data",
                    "data": {
                        "text/html": "Total execution time: 00:00:00.021"
                    },
                    "metadata": {}
                }
            ],
            "execution_count": 60
        },
        {
            "cell_type": "code",
            "source": [
                "SELECT\r\n",
                "    CASE\r\n",
                "        WHEN MONTH(t.FELVITEL) = 6 THEN 'Június'\r\n",
                "        WHEN MONTH(t.FELVITEL) = 7 THEN 'Július'\r\n",
                "        WHEN MONTH(t.FELVITEL) = 8 THEN 'Augusztus'\r\n",
                "        WHEN MONTH(t.FELVITEL) = 9 THEN 'Szeptember'\r\n",
                "        ELSE 'Nem egyetemi nyári szünet'\r\n",
                "    END AS 'Hónap',\r\n",
                "    SUM(rt.EGYSEGAR * rt.MENNYISEG) AS 'Havi bevétel',\r\n",
                "    ROUND((SUM(rt.EGYSEGAR * rt.MENNYISEG) * 100.0 / (SELECT SUM(EGYSEGAR * MENNYISEG) FROM Rendeles_tetel)), 2) AS 'Százalékos arány'\r\n",
                "FROM\r\n",
                "    Termek t\r\n",
                "JOIN\r\n",
                "    Rendeles_tetel rt ON t.TERMEKKOD = rt.TERMEKKOD\r\n",
                "GROUP BY\r\n",
                "    MONTH(t.FELVITEL);"
            ],
            "metadata": {
                "azdata_cell_guid": "a6a57b5a-04f0-4b46-8c5c-d5e83169b798",
                "language": "sql"
            },
            "outputs": [
                {
                    "output_type": "display_data",
                    "data": {
                        "text/html": "Warning: Null value is eliminated by an aggregate or other SET operation."
                    },
                    "metadata": {}
                },
                {
                    "output_type": "display_data",
                    "data": {
                        "text/html": "(3 rows affected)"
                    },
                    "metadata": {}
                },
                {
                    "output_type": "display_data",
                    "data": {
                        "text/html": "Total execution time: 00:00:00.159"
                    },
                    "metadata": {}
                },
                {
                    "output_type": "execute_result",
                    "metadata": {},
                    "execution_count": 67,
                    "data": {
                        "application/vnd.dataresource+json": {
                            "schema": {
                                "fields": [
                                    {
                                        "name": "Hónap"
                                    },
                                    {
                                        "name": "Havi bevétel"
                                    },
                                    {
                                        "name": "Százalékos arány"
                                    }
                                ]
                            },
                            "data": [
                                {
                                    "Hónap": "Július",
                                    "Havi bevétel": "1714547930",
                                    "Százalékos arány": "60,95"
                                },
                                {
                                    "Hónap": "Augusztus",
                                    "Havi bevétel": "1094036913",
                                    "Százalékos arány": "38,89"
                                },
                                {
                                    "Hónap": "Szeptember",
                                    "Havi bevétel": "4515330",
                                    "Százalékos arány": "0,16"
                                }
                            ]
                        },
                        "text/html": [
                            "<table>",
                            "<tr><th>Hónap</th><th>Havi bevétel</th><th>Százalékos arány</th></tr>",
                            "<tr><td>Július</td><td>1714547930</td><td>60,95</td></tr>",
                            "<tr><td>Augusztus</td><td>1094036913</td><td>38,89</td></tr>",
                            "<tr><td>Szeptember</td><td>4515330</td><td>0,16</td></tr>",
                            "</table>"
                        ]
                    }
                }
            ],
            "execution_count": 67
        },
        {
            "cell_type": "code",
            "source": [
                "SELECT\r\n",
                "    t.MEGNEVEZES,\r\n",
                "    (SELECT KAT_NEV FROM Termekkategoria WHERE KAT_ID = t.KAT_ID) AS KAT_NEV,\r\n",
                "    t.LISTAAR,\r\n",
                "    CASE \r\n",
                "        WHEN t.LISTAAR > (SELECT AVG(LISTAAR) FROM Termek WHERE KAT_ID = t.KAT_ID) THEN 'Átlagon felüli ár'\r\n",
                "        ELSE 'Átlagon aluli ár'\r\n",
                "    END AS 'Átlaghoz visszonyított ár'\r\n",
                "FROM\r\n",
                "    Termek t JOIN Rendeles_tetel rt ON t.TERMEKKOD = rt.TERMEKKOD\r\n",
                "GROUP BY\r\n",
                "    t.MEGNEVEZES, t.LISTAAR, t.KAT_ID;"
            ],
            "metadata": {
                "azdata_cell_guid": "09dfcdd1-f121-4243-a03b-5b8ebe93e6a4",
                "language": "sql"
            },
            "outputs": [
                {
                    "output_type": "display_data",
                    "data": {
                        "text/html": "(548 rows affected)"
                    },
                    "metadata": {}
                },
                {
                    "output_type": "display_data",
                    "data": {
                        "text/html": "Total execution time: 00:00:00.203"
                    },
                    "metadata": {}
                },
                {
                    "output_type": "execute_result",
                    "metadata": {},
                    "execution_count": 51,
                    "data": {
                        "application/vnd.dataresource+json": {
                            "schema": {
                                "fields": [
                                    {
                                        "name": "MEGNEVEZES"
                                    },
                                    {
                                        "name": "KAT_NEV"
                                    },
                                    {
                                        "name": "LISTAAR"
                                    },
                                    {
                                        "name": "Átlaghoz visszonyított ár"
                                    }
                                ]
                            },
                            "data": [
                                {
                                    "MEGNEVEZES": "A föld amelyen élünk - Európa földrajza",
                                    "KAT_NEV": "könyv",
                                    "LISTAAR": "1089",
                                    "Átlaghoz visszonyított ár": "Átlagon felüli ár"
                                },
                                {
                                    "MEGNEVEZES": "A föld amelyen élünk - Hazánk földrajza",
                                    "KAT_NEV": "könyv",
                                    "LISTAAR": "1089",
                                    "Átlaghoz visszonyított ár": "Átlagon felüli ár"
                                },
                                {
                                    "MEGNEVEZES": "A föld amelyen élünk - Távoli földrészek",
                                    "KAT_NEV": "könyv",
                                    "LISTAAR": "1089",
                                    "Átlaghoz visszonyított ár": "Átlagon felüli ár"
                                },
                                {
                                    "MEGNEVEZES": "Érettségi felv. fel. Biológia",
                                    "KAT_NEV": "könyv",
                                    "LISTAAR": "440",
                                    "Átlaghoz visszonyított ár": "Átlagon aluli ár"
                                },
                                {
                                    "MEGNEVEZES": "Érettségi felv. fel. Fizika",
                                    "KAT_NEV": "könyv",
                                    "LISTAAR": "440",
                                    "Átlaghoz visszonyított ár": "Átlagon aluli ár"
                                },
                                {
                                    "MEGNEVEZES": "Érettségi felv. fel. Matematika",
                                    "KAT_NEV": "könyv",
                                    "LISTAAR": "720",
                                    "Átlaghoz visszonyított ár": "Átlagon felüli ár"
                                },
                                {
                                    "MEGNEVEZES": "Fizika",
                                    "KAT_NEV": "könyv",
                                    "LISTAAR": "674",
                                    "Átlaghoz visszonyított ár": "Átlagon felüli ár"
                                },
                                {
                                    "MEGNEVEZES": "Fizika 13 éveseknek",
                                    "KAT_NEV": "könyv",
                                    "LISTAAR": "308",
                                    "Átlaghoz visszonyított ár": "Átlagon aluli ár"
                                },
                                {
                                    "MEGNEVEZES": "Fizikai feladatok és tévedések",
                                    "KAT_NEV": "könyv",
                                    "LISTAAR": "324",
                                    "Átlaghoz visszonyított ár": "Átlagon aluli ár"
                                },
                                {
                                    "MEGNEVEZES": "Fogalmazás lépésről lépésre",
                                    "KAT_NEV": "könyv",
                                    "LISTAAR": "345",
                                    "Átlaghoz visszonyított ár": "Átlagon aluli ár"
                                },
                                {
                                    "MEGNEVEZES": "Informatika",
                                    "KAT_NEV": "könyv",
                                    "LISTAAR": "735",
                                    "Átlaghoz visszonyított ár": "Átlagon felüli ár"
                                },
                                {
                                    "MEGNEVEZES": "Jól felkészültem-e - Fizika",
                                    "KAT_NEV": "könyv",
                                    "LISTAAR": "291",
                                    "Átlaghoz visszonyított ár": "Átlagon aluli ár"
                                },
                                {
                                    "MEGNEVEZES": "RAMba zárt világ",
                                    "KAT_NEV": "könyv",
                                    "LISTAAR": "868",
                                    "Átlaghoz visszonyított ár": "Átlagon felüli ár"
                                },
                                {
                                    "MEGNEVEZES": "Szám.tech. kicsiknek",
                                    "KAT_NEV": "könyv",
                                    "LISTAAR": "214",
                                    "Átlaghoz visszonyított ár": "Átlagon aluli ár"
                                },
                                {
                                    "MEGNEVEZES": "Szövegszerkesztés",
                                    "KAT_NEV": "könyv",
                                    "LISTAAR": "691",
                                    "Átlaghoz visszonyított ár": "Átlagon felüli ár"
                                },
                                {
                                    "MEGNEVEZES": "Bérlet tok",
                                    "KAT_NEV": "ajándék tárgy",
                                    "LISTAAR": "24",
                                    "Átlaghoz visszonyított ár": "Átlagon aluli ár"
                                },
                                {
                                    "MEGNEVEZES": "Lampion",
                                    "KAT_NEV": "ajándék tárgy",
                                    "LISTAAR": "73",
                                    "Átlaghoz visszonyított ár": "Átlagon aluli ár"
                                },
                                {
                                    "MEGNEVEZES": "Logikai készlet",
                                    "KAT_NEV": "ajándék tárgy",
                                    "LISTAAR": "129",
                                    "Átlaghoz visszonyított ár": "Átlagon felüli ár"
                                },
                                {
                                    "MEGNEVEZES": "Ajándék cs. 2×100×70",
                                    "KAT_NEV": "ajándék tasak",
                                    "LISTAAR": "148",
                                    "Átlaghoz visszonyított ár": "Átlagon felüli ár"
                                },
                                {
                                    "MEGNEVEZES": "Ajándék cs. tasak italos",
                                    "KAT_NEV": "ajándék tasak",
                                    "LISTAAR": "185",
                                    "Átlaghoz visszonyított ár": "Átlagon felüli ár"
                                },
                                {
                                    "MEGNEVEZES": "Ajándék cs. tasak italos, fólia",
                                    "KAT_NEV": "ajándék tasak",
                                    "LISTAAR": "19",
                                    "Átlaghoz visszonyított ár": "Átlagon aluli ár"
                                },
                                {
                                    "MEGNEVEZES": "Ajándék cs. tasak kicsi",
                                    "KAT_NEV": "ajándék tasak",
                                    "LISTAAR": "26",
                                    "Átlaghoz visszonyított ár": "Átlagon aluli ár"
                                },
                                {
                                    "MEGNEVEZES": "Ajándék cs. tasak kicsi",
                                    "KAT_NEV": "ajándék tasak",
                                    "LISTAAR": "103",
                                    "Átlaghoz visszonyított ár": "Átlagon aluli ár"
                                },
                                {
                                    "MEGNEVEZES": "Ajándék cs. tasak közepes",
                                    "KAT_NEV": "ajándék tasak",
                                    "LISTAAR": "148",
                                    "Átlaghoz visszonyított ár": "Átlagon felüli ár"
                                },
                                {
                                    "MEGNEVEZES": "Ajándék cs. tasak mintás kicsi",
                                    "KAT_NEV": "ajándék tasak",
                                    "LISTAAR": "26",
                                    "Átlaghoz visszonyított ár": "Átlagon aluli ár"
                                },
                                {
                                    "MEGNEVEZES": "Ajándék cs. tasak mintás nagy",
                                    "KAT_NEV": "ajándék tasak",
                                    "LISTAAR": "206",
                                    "Átlaghoz visszonyított ár": "Átlagon felüli ár"
                                },
                                {
                                    "MEGNEVEZES": "Ajándék cs. tasak virágos nagy",
                                    "KAT_NEV": "ajándék tasak",
                                    "LISTAAR": "290",
                                    "Átlaghoz visszonyított ár": "Átlagon felüli ár"
                                },
                                {
                                    "MEGNEVEZES": "Ajándék csom. 100x70 metál",
                                    "KAT_NEV": "ajándék tasak",
                                    "LISTAAR": "148",
                                    "Átlaghoz visszonyított ár": "Átlagon felüli ár"
                                },
                                {
                                    "MEGNEVEZES": "Ajándék csom. 150x70",
                                    "KAT_NEV": "ajándék tasak",
                                    "LISTAAR": "206",
                                    "Átlaghoz visszonyított ár": "Átlagon felüli ár"
                                },
                                {
                                    "MEGNEVEZES": "Ajándék csom. 200x70",
                                    "KAT_NEV": "ajándék tasak",
                                    "LISTAAR": "125",
                                    "Átlaghoz visszonyított ár": "Átlagon aluli ár"
                                },
                                {
                                    "MEGNEVEZES": "Ajándék csom. 50x70 húsvéti",
                                    "KAT_NEV": "ajándék tasak",
                                    "LISTAAR": "64",
                                    "Átlaghoz visszonyított ár": "Átlagon aluli ár"
                                },
                                {
                                    "MEGNEVEZES": "Ajándék csom. 70x50 metál",
                                    "KAT_NEV": "ajándék tasak",
                                    "LISTAAR": "81",
                                    "Átlaghoz visszonyított ár": "Átlagon aluli ár"
                                },
                                {
                                    "MEGNEVEZES": "Ajándék csom. gyűrt",
                                    "KAT_NEV": "ajándék tasak",
                                    "LISTAAR": "169",
                                    "Átlaghoz visszonyított ár": "Átlagon felüli ár"
                                },
                                {
                                    "MEGNEVEZES": "Ajándék csomagoló tasak",
                                    "KAT_NEV": "ajándék tasak",
                                    "LISTAAR": "185",
                                    "Átlaghoz visszonyított ár": "Átlagon felüli ár"
                                },
                                {
                                    "MEGNEVEZES": "Ajándék csomagoló tasak lézeres",
                                    "KAT_NEV": "ajándék tasak",
                                    "LISTAAR": "214",
                                    "Átlaghoz visszonyított ár": "Átlagon felüli ár"
                                },
                                {
                                    "MEGNEVEZES": "Italtartó doboz",
                                    "KAT_NEV": "ajándék tasak",
                                    "LISTAAR": "114",
                                    "Átlaghoz visszonyított ár": "Átlagon aluli ár"
                                },
                                {
                                    "MEGNEVEZES": "Mikulás zacskó",
                                    "KAT_NEV": "ajándék tasak",
                                    "LISTAAR": "11",
                                    "Átlaghoz visszonyított ár": "Átlagon aluli ár"
                                },
                                {
                                    "MEGNEVEZES": "Talpas tasak",
                                    "KAT_NEV": "ajándék tasak",
                                    "LISTAAR": "40",
                                    "Átlaghoz visszonyított ár": "Átlagon aluli ár"
                                },
                                {
                                    "MEGNEVEZES": "Álarc",
                                    "KAT_NEV": "álarc",
                                    "LISTAAR": "89",
                                    "Átlaghoz visszonyított ár": "Átlagon aluli ár"
                                },
                                {
                                    "MEGNEVEZES": "Álarc fejdísz",
                                    "KAT_NEV": "álarc",
                                    "LISTAAR": "144",
                                    "Átlaghoz visszonyított ár": "Átlagon felüli ár"
                                },
                                {
                                    "MEGNEVEZES": "Álarc szemüveg",
                                    "KAT_NEV": "álarc",
                                    "LISTAAR": "144",
                                    "Átlaghoz visszonyított ár": "Átlagon felüli ár"
                                },
                                {
                                    "MEGNEVEZES": "fiú ünneplős ruha",
                                    "KAT_NEV": "alkalmi",
                                    "LISTAAR": "16900",
                                    "Átlaghoz visszonyított ár": "Átlagon aluli ár"
                                },
                                {
                                    "MEGNEVEZES": "lány ünneplős ruha",
                                    "KAT_NEV": "alkalmi",
                                    "LISTAAR": "16900",
                                    "Átlaghoz visszonyított ár": "Átlagon aluli ár"
                                },
                                {
                                    "MEGNEVEZES": "női koktélruha",
                                    "KAT_NEV": "alkalmi",
                                    "LISTAAR": "32000",
                                    "Átlaghoz visszonyított ár": "Átlagon felüli ár"
                                },
                                {
                                    "MEGNEVEZES": "Alufólia 10 m-es",
                                    "KAT_NEV": "alufólia",
                                    "LISTAAR": "118",
                                    "Átlaghoz visszonyított ár": "Átlagon aluli ár"
                                },
                                {
                                    "MEGNEVEZES": "Alufólia 20 m-es",
                                    "KAT_NEV": "alufólia",
                                    "LISTAAR": "214",
                                    "Átlaghoz visszonyított ár": "Átlagon felüli ár"
                                },
                                {
                                    "MEGNEVEZES": "Árazószalag ",
                                    "KAT_NEV": "árazószalag",
                                    "LISTAAR": "106",
                                    "Átlaghoz visszonyított ár": "Átlagon aluli ár"
                                },
                                {
                                    "MEGNEVEZES": "Átírótömb A/6",
                                    "KAT_NEV": "átírótömb",
                                    "LISTAAR": "115",
                                    "Átlaghoz visszonyított ár": "Átlagon aluli ár"
                                },
                                {
                                    "MEGNEVEZES": "Beíró A/5 kockás",
                                    "KAT_NEV": "beíró",
                                    "LISTAAR": "228",
                                    "Átlaghoz visszonyított ár": "Átlagon aluli ár"
                                },
                                {
                                    "MEGNEVEZES": "Beírókönyv A4",
                                    "KAT_NEV": "beírókönyv",
                                    "LISTAAR": "328",
                                    "Átlaghoz visszonyított ár": "Átlagon felüli ár"
                                },
                                {
                                    "MEGNEVEZES": "Beírókönyv A5 ",
                                    "KAT_NEV": "beírókönyv",
                                    "LISTAAR": "133",
                                    "Átlaghoz visszonyított ár": "Átlagon aluli ár"
                                },
                                {
                                    "MEGNEVEZES": "Bélyegző IDEAL 50",
                                    "KAT_NEV": "bélyegző",
                                    "LISTAAR": "780",
                                    "Átlaghoz visszonyított ár": "Átlagon aluli ár"
                                },
                                {
                                    "MEGNEVEZES": "Bélyegző párna",
                                    "KAT_NEV": "bélyegző",
                                    "LISTAAR": "650",
                                    "Átlaghoz visszonyított ár": "Átlagon aluli ár"
                                },
                                {
                                    "MEGNEVEZES": "Bélyegző pocket",
                                    "KAT_NEV": "bélyegző",
                                    "LISTAAR": "1377",
                                    "Átlaghoz visszonyított ár": "Átlagon felüli ár"
                                },
                                {
                                    "MEGNEVEZES": "Bélyegző RP 18-47",
                                    "KAT_NEV": "bélyegző",
                                    "LISTAAR": "1147",
                                    "Átlaghoz visszonyított ár": "Átlagon felüli ár"
                                },
                                {
                                    "MEGNEVEZES": "Bélyegzőfesték ",
                                    "KAT_NEV": "bélyegzőfesték",
                                    "LISTAAR": "297",
                                    "Átlaghoz visszonyított ár": "Átlagon aluli ár"
                                },
                                {
                                    "MEGNEVEZES": "Boríték B/4-es",
                                    "KAT_NEV": "boríték",
                                    "LISTAAR": "18",
                                    "Átlaghoz visszonyított ár": "Átlagon felüli ár"
                                },
                                {
                                    "MEGNEVEZES": "Boríték C/4-es",
                                    "KAT_NEV": "boríték",
                                    "LISTAAR": "15",
                                    "Átlaghoz visszonyított ár": "Átlagon felüli ár"
                                },
                                {
                                    "MEGNEVEZES": "Boríték LA 4 francia",
                                    "KAT_NEV": "boríték",
                                    "LISTAAR": "6",
                                    "Átlaghoz visszonyított ár": "Átlagon aluli ár"
                                },
                                {
                                    "MEGNEVEZES": "Boríték LC 5",
                                    "KAT_NEV": "boríték",
                                    "LISTAAR": "6",
                                    "Átlaghoz visszonyított ár": "Átlagon aluli ár"
                                },
                                {
                                    "MEGNEVEZES": "Boríték LC 6",
                                    "KAT_NEV": "boríték",
                                    "LISTAAR": "3",
                                    "Átlaghoz visszonyított ár": "Átlagon aluli ár"
                                },
                                {
                                    "MEGNEVEZES": "Boríték légp. kicsi",
                                    "KAT_NEV": "boríték",
                                    "LISTAAR": "39",
                                    "Átlaghoz visszonyított ár": "Átlagon felüli ár"
                                },
                                {
                                    "MEGNEVEZES": "Boríték mintás",
                                    "KAT_NEV": "boríték",
                                    "LISTAAR": "15",
                                    "Átlaghoz visszonyított ár": "Átlagon felüli ár"
                                },
                                {
                                    "MEGNEVEZES": "CD tartó tok",
                                    "KAT_NEV": "cd tok",
                                    "LISTAAR": "30",
                                    "Átlaghoz visszonyított ár": "Átlagon aluli ár"
                                },
                                {
                                    "MEGNEVEZES": "Celofán",
                                    "KAT_NEV": "celofán",
                                    "LISTAAR": "46",
                                    "Átlaghoz visszonyított ár": "Átlagon aluli ár"
                                },
                                {
                                    "MEGNEVEZES": "Celofán 50 db-os",
                                    "KAT_NEV": "celofán",
                                    "LISTAAR": "73",
                                    "Átlaghoz visszonyított ár": "Átlagon felüli ár"
                                },
                                {
                                    "MEGNEVEZES": "Ceruza 2H-3B Koh-i-nor",
                                    "KAT_NEV": "ceruza",
                                    "LISTAAR": "53",
                                    "Átlaghoz visszonyított ár": "Átlagon felüli ár"
                                },
                                {
                                    "MEGNEVEZES": "Ceruza 2H-4B",
                                    "KAT_NEV": "ceruza",
                                    "LISTAAR": "39",
                                    "Átlaghoz visszonyított ár": "Átlagon aluli ár"
                                },
                                {
                                    "MEGNEVEZES": "Ceruza arany, ezüst",
                                    "KAT_NEV": "ceruza",
                                    "LISTAAR": "55",
                                    "Átlaghoz visszonyított ár": "Átlagon felüli ár"
                                },
                                {
                                    "MEGNEVEZES": "Ceruza Conté zöld",
                                    "KAT_NEV": "ceruza",
                                    "LISTAAR": "40",
                                    "Átlaghoz visszonyított ár": "Átlagon aluli ár"
                                },
                                {
                                    "MEGNEVEZES": "Ceruza Cseh",
                                    "KAT_NEV": "ceruza",
                                    "LISTAAR": "30",
                                    "Átlaghoz visszonyított ár": "Átlagon aluli ár"
                                },
                                {
                                    "MEGNEVEZES": "Ceruza háromszög ",
                                    "KAT_NEV": "ceruza",
                                    "LISTAAR": "39",
                                    "Átlaghoz visszonyított ár": "Átlagon aluli ár"
                                },
                                {
                                    "MEGNEVEZES": "Ceruza HB radiros",
                                    "KAT_NEV": "ceruza",
                                    "LISTAAR": "23",
                                    "Átlaghoz visszonyított ár": "Átlagon aluli ár"
                                },
                                {
                                    "MEGNEVEZES": "Ceruza kártyás",
                                    "KAT_NEV": "ceruza",
                                    "LISTAAR": "55",
                                    "Átlaghoz visszonyított ár": "Átlagon felüli ár"
                                },
                                {
                                    "MEGNEVEZES": "Ceruza kínai",
                                    "KAT_NEV": "ceruza",
                                    "LISTAAR": "11",
                                    "Átlaghoz visszonyított ár": "Átlagon aluli ár"
                                },
                                {
                                    "MEGNEVEZES": "Ceruza piros-kék",
                                    "KAT_NEV": "ceruza",
                                    "LISTAAR": "59",
                                    "Átlaghoz visszonyított ár": "Átlagon felüli ár"
                                },
                                {
                                    "MEGNEVEZES": "Ceruza piros-kék vékony",
                                    "KAT_NEV": "ceruza",
                                    "LISTAAR": "40",
                                    "Átlaghoz visszonyított ár": "Átlagon aluli ár"
                                },
                                {
                                    "MEGNEVEZES": "Ceruza Progresso",
                                    "KAT_NEV": "ceruza",
                                    "LISTAAR": "106",
                                    "Átlaghoz visszonyított ár": "Átlagon felüli ár"
                                },
                                {
                                    "MEGNEVEZES": "Ceruza radíros kínai",
                                    "KAT_NEV": "ceruza",
                                    "LISTAAR": "11",
                                    "Átlaghoz visszonyított ár": "Átlagon aluli ár"
                                },
                                {
                                    "MEGNEVEZES": "Ceruza smaragd",
                                    "KAT_NEV": "ceruza",
                                    "LISTAAR": "58",
                                    "Átlaghoz visszonyított ár": "Átlagon felüli ár"
                                },
                                {
                                    "MEGNEVEZES": "Ceruza stabilo opera",
                                    "KAT_NEV": "ceruza",
                                    "LISTAAR": "44",
                                    "Átlaghoz visszonyított ár": "Átlagon aluli ár"
                                },
                                {
                                    "MEGNEVEZES": "Ceruza stabilo swano",
                                    "KAT_NEV": "ceruza",
                                    "LISTAAR": "36",
                                    "Átlaghoz visszonyított ár": "Átlagon aluli ár"
                                },
                                {
                                    "MEGNEVEZES": "Ceruza szén",
                                    "KAT_NEV": "ceruza",
                                    "LISTAAR": "146",
                                    "Átlaghoz visszonyított ár": "Átlagon felüli ár"
                                },
                                {
                                    "MEGNEVEZES": "Ceruza szorzótáblás",
                                    "KAT_NEV": "ceruza",
                                    "LISTAAR": "35",
                                    "Átlaghoz visszonyított ár": "Átlagon aluli ár"
                                },
                                {
                                    "MEGNEVEZES": "Ceruza zöld színű",
                                    "KAT_NEV": "ceruza",
                                    "LISTAAR": "40",
                                    "Átlaghoz visszonyított ár": "Átlagon aluli ár"
                                },
                                {
                                    "MEGNEVEZES": "Címke 8 db-os",
                                    "KAT_NEV": "címke",
                                    "LISTAAR": "26",
                                    "Átlaghoz visszonyított ár": "Átlagon felüli ár"
                                },
                                {
                                    "MEGNEVEZES": "Címke egyszínű",
                                    "KAT_NEV": "címke",
                                    "LISTAAR": "20",
                                    "Átlaghoz visszonyított ár": "Átlagon aluli ár"
                                },
                                {
                                    "MEGNEVEZES": "Címke WD. állat",
                                    "KAT_NEV": "címke",
                                    "LISTAAR": "31",
                                    "Átlaghoz visszonyított ár": "Átlagon felüli ár"
                                },
                                {
                                    "MEGNEVEZES": "Color Copy 160 g-os ",
                                    "KAT_NEV": "color copy",
                                    "LISTAAR": "14",
                                    "Átlaghoz visszonyított ár": "Átlagon aluli ár"
                                },
                                {
                                    "MEGNEVEZES": "Color Copy A/4 250 g",
                                    "KAT_NEV": "color copy",
                                    "LISTAAR": "15",
                                    "Átlaghoz visszonyított ár": "Átlagon aluli ár"
                                },
                                {
                                    "MEGNEVEZES": "Color Copy A4 120 g",
                                    "KAT_NEV": "color copy",
                                    "LISTAAR": "10",
                                    "Átlaghoz visszonyított ár": "Átlagon aluli ár"
                                },
                                {
                                    "MEGNEVEZES": "Color Copy A4 200 g",
                                    "KAT_NEV": "color copy",
                                    "LISTAAR": "14",
                                    "Átlaghoz visszonyított ár": "Átlagon aluli ár"
                                },
                                {
                                    "MEGNEVEZES": "Színes másoló a/4 80g",
                                    "KAT_NEV": "color copy",
                                    "LISTAAR": "1500",
                                    "Átlaghoz visszonyított ár": "Átlagon felüli ár"
                                },
                                {
                                    "MEGNEVEZES": "házt.csom.  5 ív",
                                    "KAT_NEV": "csomagoló",
                                    "LISTAAR": "110",
                                    "Átlaghoz visszonyított ár": "Átlagon felüli ár"
                                },
                                {
                                    "MEGNEVEZES": "Szilvia csomagoló",
                                    "KAT_NEV": "csomagoló",
                                    "LISTAAR": "89",
                                    "Átlaghoz visszonyított ár": "Átlagon aluli ár"
                                },
                                {
                                    "MEGNEVEZES": "Ajándék cs. húsvéti",
                                    "KAT_NEV": "csomagoló papír",
                                    "LISTAAR": "106",
                                    "Átlaghoz visszonyított ár": "Átlagon felüli ár"
                                },
                                {
                                    "MEGNEVEZES": "Ajándék cs. húsvéti 200x70",
                                    "KAT_NEV": "csomagoló papír",
                                    "LISTAAR": "220",
                                    "Átlaghoz visszonyított ár": "Átlagon felüli ár"
                                },
                                {
                                    "MEGNEVEZES": "Ajándék csom. gyűrt 50x70 ",
                                    "KAT_NEV": "csomagoló papír",
                                    "LISTAAR": "121",
                                    "Átlaghoz visszonyított ár": "Átlagon felüli ár"
                                },
                                {
                                    "MEGNEVEZES": "Ajándék csom. Krepp",
                                    "KAT_NEV": "csomagoló papír",
                                    "LISTAAR": "56",
                                    "Átlaghoz visszonyított ár": "Átlagon aluli ár"
                                },
                                {
                                    "MEGNEVEZES": "Ajándék csom. nagy  ",
                                    "KAT_NEV": "csomagoló papír",
                                    "LISTAAR": "44",
                                    "Átlaghoz visszonyított ár": "Átlagon aluli ár"
                                },
                                {
                                    "MEGNEVEZES": "Ajándék csom. vékony",
                                    "KAT_NEV": "csomagoló papír",
                                    "LISTAAR": "23",
                                    "Átlaghoz visszonyított ár": "Átlagon aluli ár"
                                },
                                {
                                    "MEGNEVEZES": "iskolai csomagoló papír",
                                    "KAT_NEV": "csomagoló papír",
                                    "LISTAAR": "148",
                                    "Átlaghoz visszonyított ár": "Átlagon felüli ár"
                                },
                                {
                                    "MEGNEVEZES": "Műanyag állatok",
                                    "KAT_NEV": "dekor",
                                    "LISTAAR": "44",
                                    "Átlaghoz visszonyított ár": "Átlagon felüli ár"
                                },
                                {
                                    "MEGNEVEZES": "Műanyag foszforeszkáló állat",
                                    "KAT_NEV": "dekor",
                                    "LISTAAR": "23",
                                    "Átlaghoz visszonyított ár": "Átlagon felüli ár"
                                },
                                {
                                    "MEGNEVEZES": "Műanyag pohár 1 dl-es",
                                    "KAT_NEV": "dekor",
                                    "LISTAAR": "3",
                                    "Átlaghoz visszonyított ár": "Átlagon aluli ár"
                                },
                                {
                                    "MEGNEVEZES": "Műanyag pohár 5 cl-es",
                                    "KAT_NEV": "dekor",
                                    "LISTAAR": "15",
                                    "Átlaghoz visszonyított ár": "Átlagon aluli ár"
                                },
                                {
                                    "MEGNEVEZES": "Dipa A/4 keretezett",
                                    "KAT_NEV": "dipa",
                                    "LISTAAR": "9",
                                    "Átlaghoz visszonyított ár": "Átlagon aluli ár"
                                },
                                {
                                    "MEGNEVEZES": "Díszdoboz kar.",
                                    "KAT_NEV": "díszdoboz",
                                    "LISTAAR": "61",
                                    "Átlaghoz visszonyított ár": "Átlagon felüli ár"
                                },
                                {
                                    "MEGNEVEZES": "Díszdoboz tollnak 2 db-os",
                                    "KAT_NEV": "díszdoboz",
                                    "LISTAAR": "66",
                                    "Átlaghoz visszonyított ár": "Átlagon felüli ár"
                                },
                                {
                                    "MEGNEVEZES": "Díszdoboz tollnak 2 db-os keskeny",
                                    "KAT_NEV": "díszdoboz",
                                    "LISTAAR": "44",
                                    "Átlaghoz visszonyított ár": "Átlagon aluli ár"
                                },
                                {
                                    "MEGNEVEZES": "Diszkötöző szalag arany",
                                    "KAT_NEV": "díszkötöző",
                                    "LISTAAR": "44",
                                    "Átlaghoz visszonyított ár": "Átlagon felüli ár"
                                },
                                {
                                    "MEGNEVEZES": "Díszkötöző szalag metál kicsi",
                                    "KAT_NEV": "díszkötöző",
                                    "LISTAAR": "15",
                                    "Átlaghoz visszonyított ár": "Átlagon aluli ár"
                                },
                                {
                                    "MEGNEVEZES": "Díszkötöző szalag metál nagy",
                                    "KAT_NEV": "díszkötöző",
                                    "LISTAAR": "26",
                                    "Átlaghoz visszonyított ár": "Átlagon aluli ár"
                                },
                                {
                                    "MEGNEVEZES": "Díszkötöző szalag vékony",
                                    "KAT_NEV": "díszkötöző",
                                    "LISTAAR": "15",
                                    "Átlaghoz visszonyított ár": "Átlagon aluli ár"
                                },
                                {
                                    "MEGNEVEZES": "Diszkötöző széles szalag",
                                    "KAT_NEV": "díszkötöző",
                                    "LISTAAR": "81",
                                    "Átlaghoz visszonyított ár": "Átlagon felüli ár"
                                },
                                {
                                    "MEGNEVEZES": "Dvd",
                                    "KAT_NEV": "dvd",
                                    "LISTAAR": "133",
                                    "Átlaghoz visszonyított ár": "Átlagon aluli ár"
                                },
                                {
                                    "MEGNEVEZES": "Ecset Centrum 10,11,12",
                                    "KAT_NEV": "ecset",
                                    "LISTAAR": "40",
                                    "Átlaghoz visszonyított ár": "Átlagon aluli ár"
                                },
                                {
                                    "MEGNEVEZES": "Ecset Centrum 7,8,9",
                                    "KAT_NEV": "ecset",
                                    "LISTAAR": "33",
                                    "Átlaghoz visszonyított ár": "Átlagon aluli ár"
                                },
                                {
                                    "MEGNEVEZES": "Ecset Deák 2-es",
                                    "KAT_NEV": "ecset",
                                    "LISTAAR": "60",
                                    "Átlaghoz visszonyított ár": "Átlagon aluli ár"
                                },
                                {
                                    "MEGNEVEZES": "Ecset Lizzy 10-es",
                                    "KAT_NEV": "ecset",
                                    "LISTAAR": "65",
                                    "Átlaghoz visszonyított ár": "Átlagon aluli ár"
                                },
                                {
                                    "MEGNEVEZES": "Ecset Nebuló 10-es",
                                    "KAT_NEV": "ecset",
                                    "LISTAAR": "79",
                                    "Átlaghoz visszonyított ár": "Átlagon felüli ár"
                                },
                                {
                                    "MEGNEVEZES": "Ecset Nebulo 4-es",
                                    "KAT_NEV": "ecset",
                                    "LISTAAR": "36",
                                    "Átlaghoz visszonyított ár": "Átlagon aluli ár"
                                },
                                {
                                    "MEGNEVEZES": "Ecsetkészlet",
                                    "KAT_NEV": "ecset",
                                    "LISTAAR": "180",
                                    "Átlaghoz visszonyított ár": "Átlagon felüli ár"
                                },
                                {
                                    "MEGNEVEZES": "Előlap spirálhoz",
                                    "KAT_NEV": "előlap",
                                    "LISTAAR": "25",
                                    "Átlaghoz visszonyított ár": "Átlagon aluli ár"
                                },
                                {
                                    "MEGNEVEZES": "Emlékkönyv",
                                    "KAT_NEV": "emlékkönyv",
                                    "LISTAAR": "316",
                                    "Átlaghoz visszonyított ár": "Átlagon aluli ár"
                                },
                                {
                                    "MEGNEVEZES": "Emlékkönyv",
                                    "KAT_NEV": "emlékkönyv",
                                    "LISTAAR": "526",
                                    "Átlaghoz visszonyított ár": "Átlagon felüli ár"
                                },
                                {
                                    "MEGNEVEZES": "Emlékkönyv lakatos",
                                    "KAT_NEV": "emlékkönyv",
                                    "LISTAAR": "449",
                                    "Átlaghoz visszonyított ár": "Átlagon felüli ár"
                                },
                                {
                                    "MEGNEVEZES": "Emléklap A/5",
                                    "KAT_NEV": "emléklap",
                                    "LISTAAR": "26",
                                    "Átlaghoz visszonyított ár": "Átlagon aluli ár"
                                },
                                {
                                    "MEGNEVEZES": "Fax papír 15 m",
                                    "KAT_NEV": "fax papír",
                                    "LISTAAR": "161",
                                    "Átlaghoz visszonyított ár": "Átlagon aluli ár"
                                },
                                {
                                    "MEGNEVEZES": "fiú alsó",
                                    "KAT_NEV": "fehérnemű",
                                    "LISTAAR": "390",
                                    "Átlaghoz visszonyított ár": "Átlagon aluli ár"
                                },
                                {
                                    "MEGNEVEZES": "fiú harisnya",
                                    "KAT_NEV": "fehérnemű",
                                    "LISTAAR": "990",
                                    "Átlaghoz visszonyított ár": "Átlagon felüli ár"
                                },
                                {
                                    "MEGNEVEZES": "fiú zokni",
                                    "KAT_NEV": "fehérnemű",
                                    "LISTAAR": "240",
                                    "Átlaghoz visszonyított ár": "Átlagon aluli ár"
                                },
                                {
                                    "MEGNEVEZES": "lány alsó",
                                    "KAT_NEV": "fehérnemű",
                                    "LISTAAR": "390",
                                    "Átlaghoz visszonyított ár": "Átlagon aluli ár"
                                },
                                {
                                    "MEGNEVEZES": "lány harisnya",
                                    "KAT_NEV": "fehérnemű",
                                    "LISTAAR": "990",
                                    "Átlaghoz visszonyított ár": "Átlagon felüli ár"
                                },
                                {
                                    "MEGNEVEZES": "lány zokni",
                                    "KAT_NEV": "fehérnemű",
                                    "LISTAAR": "240",
                                    "Átlaghoz visszonyított ár": "Átlagon aluli ár"
                                },
                                {
                                    "MEGNEVEZES": "női alsó",
                                    "KAT_NEV": "fehérnemű",
                                    "LISTAAR": "690",
                                    "Átlaghoz visszonyított ár": "Átlagon felüli ár"
                                },
                                {
                                    "MEGNEVEZES": "Fehér másoló A/3",
                                    "KAT_NEV": "fénymásoló papír",
                                    "LISTAAR": "1488",
                                    "Átlaghoz visszonyított ár": "Átlagon felüli ár"
                                },
                                {
                                    "MEGNEVEZES": "Fehér másoló A/4",
                                    "KAT_NEV": "fénymásoló papír",
                                    "LISTAAR": "686",
                                    "Átlaghoz visszonyított ár": "Átlagon aluli ár"
                                },
                                {
                                    "MEGNEVEZES": "Fénymásoló papír DataCopy",
                                    "KAT_NEV": "fénymásoló papír",
                                    "LISTAAR": "845",
                                    "Átlaghoz visszonyított ár": "Átlagon aluli ár"
                                },
                                {
                                    "MEGNEVEZES": "Fénymásoló papír GetCopy",
                                    "KAT_NEV": "fénymásoló papír",
                                    "LISTAAR": "728",
                                    "Átlaghoz visszonyított ár": "Átlagon aluli ár"
                                },
                                {
                                    "MEGNEVEZES": "Fénymásoló papír Qconnect",
                                    "KAT_NEV": "fénymásoló papír",
                                    "LISTAAR": "728",
                                    "Átlaghoz visszonyított ár": "Átlagon aluli ár"
                                },
                                {
                                    "MEGNEVEZES": "férfi ing",
                                    "KAT_NEV": "férfi ing",
                                    "LISTAAR": "6490",
                                    "Átlaghoz visszonyított ár": "Átlagon aluli ár"
                                },
                                {
                                    "MEGNEVEZES": "férfi szövet kabát",
                                    "KAT_NEV": "férfi kabát",
                                    "LISTAAR": "22000",
                                    "Átlaghoz visszonyított ár": "Átlagon aluli ár"
                                },
                                {
                                    "MEGNEVEZES": "férfi farmer nadrág",
                                    "KAT_NEV": "férfi nadrág",
                                    "LISTAAR": "7890",
                                    "Átlaghoz visszonyított ár": "Átlagon aluli ár"
                                },
                                {
                                    "MEGNEVEZES": "férfi szövet nadrág",
                                    "KAT_NEV": "férfi nadrág",
                                    "LISTAAR": "11900",
                                    "Átlaghoz visszonyított ár": "Átlagon felüli ár"
                                },
                                {
                                    "MEGNEVEZES": "Festékpatron BCI-3BK",
                                    "KAT_NEV": "festékpatron",
                                    "LISTAAR": "625",
                                    "Átlaghoz visszonyított ár": "Átlagon aluli ár"
                                },
                                {
                                    "MEGNEVEZES": "Filctoll ",
                                    "KAT_NEV": "filctoll",
                                    "LISTAAR": "26",
                                    "Átlaghoz visszonyított ár": "Átlagon aluli ár"
                                },
                                {
                                    "MEGNEVEZES": "Filctoll CD író",
                                    "KAT_NEV": "filctoll",
                                    "LISTAAR": "0",
                                    "Átlaghoz visszonyított ár": "Átlagon aluli ár"
                                },
                                {
                                    "MEGNEVEZES": "Filctoll document pen",
                                    "KAT_NEV": "filctoll",
                                    "LISTAAR": "278",
                                    "Átlaghoz visszonyított ár": "Átlagon felüli ár"
                                },
                                {
                                    "MEGNEVEZES": "Filctoll Edding 750",
                                    "KAT_NEV": "filctoll",
                                    "LISTAAR": "434",
                                    "Átlaghoz visszonyított ár": "Átlagon felüli ár"
                                },
                                {
                                    "MEGNEVEZES": "Filctoll Marvy alkoholos",
                                    "KAT_NEV": "filctoll",
                                    "LISTAAR": "390",
                                    "Átlaghoz visszonyított ár": "Átlagon felüli ár"
                                },
                                {
                                    "MEGNEVEZES": "Filctoll permanent vastag",
                                    "KAT_NEV": "filctoll",
                                    "LISTAAR": "140",
                                    "Átlaghoz visszonyított ár": "Átlagon aluli ár"
                                },
                                {
                                    "MEGNEVEZES": "Filctoll supra fine",
                                    "KAT_NEV": "filctoll",
                                    "LISTAAR": "46",
                                    "Átlaghoz visszonyított ár": "Átlagon aluli ár"
                                },
                                {
                                    "MEGNEVEZES": "Filctoll TINTEN PEN",
                                    "KAT_NEV": "filctoll",
                                    "LISTAAR": "53",
                                    "Átlaghoz visszonyított ár": "Átlagon aluli ár"
                                },
                                {
                                    "MEGNEVEZES": "Filctoll vastag ARTIP",
                                    "KAT_NEV": "filctoll",
                                    "LISTAAR": "76",
                                    "Átlaghoz visszonyított ár": "Átlagon aluli ár"
                                },
                                {
                                    "MEGNEVEZES": "Filctoll, alkoholos Centropen",
                                    "KAT_NEV": "filctoll",
                                    "LISTAAR": "114",
                                    "Átlaghoz visszonyított ár": "Átlagon aluli ár"
                                },
                                {
                                    "MEGNEVEZES": "Filctoll, alkoholosOHP F-M-C",
                                    "KAT_NEV": "filctoll",
                                    "LISTAAR": "103",
                                    "Átlaghoz visszonyított ár": "Átlagon aluli ár"
                                },
                                {
                                    "MEGNEVEZES": "Filctoll, textil Edding 4500",
                                    "KAT_NEV": "filctoll",
                                    "LISTAAR": "276",
                                    "Átlaghoz visszonyított ár": "Átlagon felüli ár"
                                },
                                {
                                    "MEGNEVEZES": "Lakk filc Edding 750",
                                    "KAT_NEV": "filctoll",
                                    "LISTAAR": "434",
                                    "Átlaghoz visszonyított ár": "Átlagon felüli ár"
                                },
                                {
                                    "MEGNEVEZES": "Floppy lemez",
                                    "KAT_NEV": "floppy",
                                    "LISTAAR": "51",
                                    "Átlaghoz visszonyított ár": "Átlagon aluli ár"
                                },
                                {
                                    "MEGNEVEZES": "Fólia tasakos A4 125 mik.",
                                    "KAT_NEV": "fólia",
                                    "LISTAAR": "44",
                                    "Átlaghoz visszonyított ár": "Átlagon felüli ár"
                                },
                                {
                                    "MEGNEVEZES": "Fólia tasakos A4 80 mik.",
                                    "KAT_NEV": "fólia",
                                    "LISTAAR": "40",
                                    "Átlaghoz visszonyított ár": "Átlagon aluli ár"
                                },
                                {
                                    "MEGNEVEZES": "Fólia tasakos A4100 mik.",
                                    "KAT_NEV": "fólia",
                                    "LISTAAR": "44",
                                    "Átlaghoz visszonyított ár": "Átlagon felüli ár"
                                },
                                {
                                    "MEGNEVEZES": "Fotópapír A/4 fényes",
                                    "KAT_NEV": "fotópapír",
                                    "LISTAAR": "30",
                                    "Átlaghoz visszonyított ár": "Átlagon aluli ár"
                                },
                                {
                                    "MEGNEVEZES": "Füzet  A/4 ",
                                    "KAT_NEV": "füzet",
                                    "LISTAAR": "68",
                                    "Átlaghoz visszonyított ár": "Átlagon aluli ár"
                                },
                                {
                                    "MEGNEVEZES": "Füzet  A4 mintás",
                                    "KAT_NEV": "füzet",
                                    "LISTAAR": "78",
                                    "Átlaghoz visszonyított ár": "Átlagon aluli ár"
                                },
                                {
                                    "MEGNEVEZES": "Füzet 31-32 szótár",
                                    "KAT_NEV": "füzet",
                                    "LISTAAR": "34",
                                    "Átlaghoz visszonyított ár": "Átlagon aluli ár"
                                },
                                {
                                    "MEGNEVEZES": "Füzet A/5 hangjegy 36/16",
                                    "KAT_NEV": "füzet",
                                    "LISTAAR": "30",
                                    "Átlaghoz visszonyított ár": "Átlagon aluli ár"
                                },
                                {
                                    "MEGNEVEZES": "Füzet A/5, mintás",
                                    "KAT_NEV": "füzet",
                                    "LISTAAR": "48",
                                    "Átlaghoz visszonyított ár": "Átlagon aluli ár"
                                },
                                {
                                    "MEGNEVEZES": "Füzet A5 1-8 osz.-ig",
                                    "KAT_NEV": "füzet",
                                    "LISTAAR": "34",
                                    "Átlaghoz visszonyított ár": "Átlagon aluli ár"
                                },
                                {
                                    "MEGNEVEZES": "Sp.Füzet A/4  70es",
                                    "KAT_NEV": "füzet",
                                    "LISTAAR": "144",
                                    "Átlaghoz visszonyított ár": "Átlagon felüli ár"
                                },
                                {
                                    "MEGNEVEZES": "Sp.Füzet A/4  perforált, lyuk.",
                                    "KAT_NEV": "füzet",
                                    "LISTAAR": "206",
                                    "Átlaghoz visszonyított ár": "Átlagon felüli ár"
                                },
                                {
                                    "MEGNEVEZES": "Sp.Füzet A/4 70-as",
                                    "KAT_NEV": "füzet",
                                    "LISTAAR": "155",
                                    "Átlaghoz visszonyított ár": "Átlagon felüli ár"
                                },
                                {
                                    "MEGNEVEZES": "Sp.Füzet A/5 70-es",
                                    "KAT_NEV": "füzet",
                                    "LISTAAR": "89",
                                    "Átlaghoz visszonyított ár": "Átlagon aluli ár"
                                },
                                {
                                    "MEGNEVEZES": "Szótárfüzet Lizzy",
                                    "KAT_NEV": "füzet",
                                    "LISTAAR": "161",
                                    "Átlaghoz visszonyított ár": "Átlagon felüli ár"
                                },
                                {
                                    "MEGNEVEZES": "Füzetborító A/4 átlátszó",
                                    "KAT_NEV": "füzetborító",
                                    "LISTAAR": "10",
                                    "Átlaghoz visszonyított ár": "Átlagon aluli ár"
                                },
                                {
                                    "MEGNEVEZES": "Füzetborító A/4 mintás",
                                    "KAT_NEV": "füzetborító",
                                    "LISTAAR": "24",
                                    "Átlaghoz visszonyított ár": "Átlagon aluli ár"
                                },
                                {
                                    "MEGNEVEZES": "Füzetborító átlátszó A5",
                                    "KAT_NEV": "füzetborító",
                                    "LISTAAR": "8",
                                    "Átlaghoz visszonyított ár": "Átlagon aluli ár"
                                },
                                {
                                    "MEGNEVEZES": "Füzetborító öntapadó kicsi",
                                    "KAT_NEV": "füzetborító",
                                    "LISTAAR": "23",
                                    "Átlaghoz visszonyított ár": "Átlagon aluli ár"
                                },
                                {
                                    "MEGNEVEZES": "Füzetborító öntapadó tekercses",
                                    "KAT_NEV": "füzetborító",
                                    "LISTAAR": "195",
                                    "Átlaghoz visszonyított ár": "Átlagon felüli ár"
                                },
                                {
                                    "MEGNEVEZES": "Füzetborító öntapadós nagy",
                                    "KAT_NEV": "füzetborító",
                                    "LISTAAR": "19",
                                    "Átlaghoz visszonyított ár": "Átlagon aluli ár"
                                },
                                {
                                    "MEGNEVEZES": "Füzettartó A/4 keménytáblás",
                                    "KAT_NEV": "füzettartó",
                                    "LISTAAR": "508",
                                    "Átlaghoz visszonyított ár": "Átlagon felüli ár"
                                },
                                {
                                    "MEGNEVEZES": "Füzettartó A/4 keménytáblás",
                                    "KAT_NEV": "füzettartó",
                                    "LISTAAR": "551",
                                    "Átlaghoz visszonyított ár": "Átlagon felüli ár"
                                },
                                {
                                    "MEGNEVEZES": "Füzettartó A/5  ",
                                    "KAT_NEV": "füzettartó",
                                    "LISTAAR": "203",
                                    "Átlaghoz visszonyított ár": "Átlagon aluli ár"
                                },
                                {
                                    "MEGNEVEZES": "Füzettartó A/5 vastag",
                                    "KAT_NEV": "füzettartó",
                                    "LISTAAR": "411",
                                    "Átlaghoz visszonyított ár": "Átlagon aluli ár"
                                },
                                {
                                    "MEGNEVEZES": "Gemkapocs 28 mm",
                                    "KAT_NEV": "gemkapocs",
                                    "LISTAAR": "30",
                                    "Átlaghoz visszonyított ár": "Átlagon aluli ár"
                                },
                                {
                                    "MEGNEVEZES": "Gemkapocs ICO",
                                    "KAT_NEV": "gemkapocs",
                                    "LISTAAR": "48",
                                    "Átlaghoz visszonyított ár": "Átlagon felüli ár"
                                },
                                {
                                    "MEGNEVEZES": "Gémkapocs 28-as színes",
                                    "KAT_NEV": "gémkapocs",
                                    "LISTAAR": "44",
                                    "Átlaghoz visszonyított ár": "Átlagon aluli ár"
                                },
                                {
                                    "MEGNEVEZES": "Gémkapocs 50-es",
                                    "KAT_NEV": "gémkapocs",
                                    "LISTAAR": "103",
                                    "Átlaghoz visszonyított ár": "Átlagon felüli ár"
                                },
                                {
                                    "MEGNEVEZES": "Genoterm HERLITZ 10-es",
                                    "KAT_NEV": "genoterm",
                                    "LISTAAR": "89",
                                    "Átlaghoz visszonyított ár": "Átlagon aluli ár"
                                },
                                {
                                    "MEGNEVEZES": "Genotherm A4 10db-os",
                                    "KAT_NEV": "genotherm",
                                    "LISTAAR": "110",
                                    "Átlaghoz visszonyított ár": "Átlagon felüli ár"
                                },
                                {
                                    "MEGNEVEZES": "Genotherm lefűzhető A/5",
                                    "KAT_NEV": "genotherm",
                                    "LISTAAR": "8",
                                    "Átlaghoz visszonyított ár": "Átlagon aluli ár"
                                },
                                {
                                    "MEGNEVEZES": "Genotherm lefűzhető A4 10db-os",
                                    "KAT_NEV": "genotherm",
                                    "LISTAAR": "63",
                                    "Átlaghoz visszonyított ár": "Átlagon felüli ár"
                                },
                                {
                                    "MEGNEVEZES": "Golyóstoll",
                                    "KAT_NEV": "golyóstoll",
                                    "LISTAAR": "33",
                                    "Átlaghoz visszonyított ár": "Átlagon aluli ár"
                                },
                                {
                                    "MEGNEVEZES": "Golyóstoll",
                                    "KAT_NEV": "golyóstoll",
                                    "LISTAAR": "51",
                                    "Átlaghoz visszonyított ár": "Átlagon aluli ár"
                                },
                                {
                                    "MEGNEVEZES": "Golyóstoll + ceruza Twister 2in1",
                                    "KAT_NEV": "golyóstoll",
                                    "LISTAAR": "390",
                                    "Átlaghoz visszonyított ár": "Átlagon felüli ár"
                                },
                                {
                                    "MEGNEVEZES": "Golyóstoll 3 funkciós ",
                                    "KAT_NEV": "golyóstoll",
                                    "LISTAAR": "1019",
                                    "Átlaghoz visszonyított ár": "Átlagon felüli ár"
                                },
                                {
                                    "MEGNEVEZES": "Golyóstoll háromfunkciós",
                                    "KAT_NEV": "golyóstoll",
                                    "LISTAAR": "110",
                                    "Átlaghoz visszonyított ár": "Átlagon aluli ár"
                                },
                                {
                                    "MEGNEVEZES": "Golyóstoll háromszög",
                                    "KAT_NEV": "golyóstoll",
                                    "LISTAAR": "188",
                                    "Átlaghoz visszonyított ár": "Átlagon aluli ár"
                                },
                                {
                                    "MEGNEVEZES": "Golyóstoll illatos ICO",
                                    "KAT_NEV": "golyóstoll",
                                    "LISTAAR": "41",
                                    "Átlaghoz visszonyított ár": "Átlagon aluli ár"
                                },
                                {
                                    "MEGNEVEZES": "Golyóstoll INOXCROM",
                                    "KAT_NEV": "golyóstoll",
                                    "LISTAAR": "401",
                                    "Átlaghoz visszonyított ár": "Átlagon felüli ár"
                                },
                                {
                                    "MEGNEVEZES": "Golyóstoll kétfunkciós ICO",
                                    "KAT_NEV": "golyóstoll",
                                    "LISTAAR": "273",
                                    "Átlaghoz visszonyított ár": "Átlagon felüli ár"
                                },
                                {
                                    "MEGNEVEZES": "Golyóstoll kétszínű",
                                    "KAT_NEV": "golyóstoll",
                                    "LISTAAR": "44",
                                    "Átlaghoz visszonyított ár": "Átlagon aluli ár"
                                },
                                {
                                    "MEGNEVEZES": "Golyóstoll kupakos piros",
                                    "KAT_NEV": "golyóstoll",
                                    "LISTAAR": "23",
                                    "Átlaghoz visszonyított ár": "Átlagon aluli ár"
                                },
                                {
                                    "MEGNEVEZES": "Golyóstoll levélbontós",
                                    "KAT_NEV": "golyóstoll",
                                    "LISTAAR": "294",
                                    "Átlaghoz visszonyított ár": "Átlagon felüli ár"
                                },
                                {
                                    "MEGNEVEZES": "Golyóstoll Montex Hytone",
                                    "KAT_NEV": "golyóstoll",
                                    "LISTAAR": "93",
                                    "Átlaghoz visszonyított ár": "Átlagon aluli ár"
                                },
                                {
                                    "MEGNEVEZES": "Golyóstoll Parker tokban",
                                    "KAT_NEV": "golyóstoll",
                                    "LISTAAR": "773",
                                    "Átlaghoz visszonyított ár": "Átlagon felüli ár"
                                },
                                {
                                    "MEGNEVEZES": "Golyóstoll Pax tip.",
                                    "KAT_NEV": "golyóstoll",
                                    "LISTAAR": "63",
                                    "Átlaghoz visszonyított ár": "Átlagon aluli ár"
                                },
                                {
                                    "MEGNEVEZES": "Golyóstoll penac",
                                    "KAT_NEV": "golyóstoll",
                                    "LISTAAR": "239",
                                    "Átlaghoz visszonyított ár": "Átlagon aluli ár"
                                },
                                {
                                    "MEGNEVEZES": "Golyóstoll Stabiló 308",
                                    "KAT_NEV": "golyóstoll",
                                    "LISTAAR": "81",
                                    "Átlaghoz visszonyított ár": "Átlagon aluli ár"
                                },
                                {
                                    "MEGNEVEZES": "Golyóstoll Stabilo piros",
                                    "KAT_NEV": "golyóstoll",
                                    "LISTAAR": "101",
                                    "Átlaghoz visszonyított ár": "Átlagon aluli ár"
                                },
                                {
                                    "MEGNEVEZES": "Golyóstoll UNI átlátszó",
                                    "KAT_NEV": "golyóstoll",
                                    "LISTAAR": "230",
                                    "Átlaghoz visszonyított ár": "Átlagon aluli ár"
                                },
                                {
                                    "MEGNEVEZES": "Golyóstoll UNI gumis",
                                    "KAT_NEV": "golyóstoll",
                                    "LISTAAR": "231",
                                    "Átlaghoz visszonyított ár": "Átlagon aluli ár"
                                },
                                {
                                    "MEGNEVEZES": "Golyóstoll UNI laknock",
                                    "KAT_NEV": "golyóstoll",
                                    "LISTAAR": "218",
                                    "Átlaghoz visszonyított ár": "Átlagon aluli ár"
                                },
                                {
                                    "MEGNEVEZES": "Golyóstoll UNIBALL 07",
                                    "KAT_NEV": "golyóstoll",
                                    "LISTAAR": "364",
                                    "Átlaghoz visszonyított ár": "Átlagon felüli ár"
                                },
                                {
                                    "MEGNEVEZES": "Golyóstoll Zebra 301",
                                    "KAT_NEV": "golyóstoll",
                                    "LISTAAR": "455",
                                    "Átlaghoz visszonyított ár": "Átlagon felüli ár"
                                },
                                {
                                    "MEGNEVEZES": "Golyóstoll Zebra mini",
                                    "KAT_NEV": "golyóstoll",
                                    "LISTAAR": "655",
                                    "Átlaghoz visszonyított ár": "Átlagon felüli ár"
                                },
                                {
                                    "MEGNEVEZES": "Golyóstoll Zebra new hard",
                                    "KAT_NEV": "golyóstoll",
                                    "LISTAAR": "189",
                                    "Átlaghoz visszonyított ár": "Átlagon aluli ár"
                                },
                                {
                                    "MEGNEVEZES": "Golyóstoll Zodiák",
                                    "KAT_NEV": "golyóstoll",
                                    "LISTAAR": "94",
                                    "Átlaghoz visszonyított ár": "Átlagon aluli ár"
                                },
                                {
                                    "MEGNEVEZES": "Gumigyűrű",
                                    "KAT_NEV": "gumigyűrű",
                                    "LISTAAR": "19",
                                    "Átlaghoz visszonyított ár": "Átlagon aluli ár"
                                },
                                {
                                    "MEGNEVEZES": "gyermek cipő (fiú)",
                                    "KAT_NEV": "gyermek cipő",
                                    "LISTAAR": "7900",
                                    "Átlaghoz visszonyított ár": "Átlagon felüli ár"
                                },
                                {
                                    "MEGNEVEZES": "gyermek cipő (lány)",
                                    "KAT_NEV": "gyermek cipő",
                                    "LISTAAR": "7900",
                                    "Átlaghoz visszonyított ár": "Átlagon felüli ár"
                                },
                                {
                                    "MEGNEVEZES": "gyermek csizma (fiú)",
                                    "KAT_NEV": "gyermek cipő",
                                    "LISTAAR": "8000",
                                    "Átlaghoz visszonyított ár": "Átlagon felüli ár"
                                },
                                {
                                    "MEGNEVEZES": "gyermek csizma (lány)",
                                    "KAT_NEV": "gyermek cipő",
                                    "LISTAAR": "8000",
                                    "Átlaghoz visszonyított ár": "Átlagon felüli ár"
                                },
                                {
                                    "MEGNEVEZES": "gyermek szandál (fiú)",
                                    "KAT_NEV": "gyermek cipő",
                                    "LISTAAR": "6900",
                                    "Átlaghoz visszonyított ár": "Átlagon aluli ár"
                                },
                                {
                                    "MEGNEVEZES": "gyermek szandál (lány)",
                                    "KAT_NEV": "gyermek cipő",
                                    "LISTAAR": "6900",
                                    "Átlaghoz visszonyított ár": "Átlagon aluli ár"
                                },
                                {
                                    "MEGNEVEZES": "gyermek kabát (fiú)",
                                    "KAT_NEV": "gyermek kabát",
                                    "LISTAAR": "8900",
                                    "Átlaghoz visszonyított ár": "Átlagon aluli ár"
                                },
                                {
                                    "MEGNEVEZES": "gyermek kabát (lány)",
                                    "KAT_NEV": "gyermek kabát",
                                    "LISTAAR": "8900",
                                    "Átlaghoz visszonyított ár": "Átlagon aluli ár"
                                },
                                {
                                    "MEGNEVEZES": "gyermek farmer nadrág (fiú)",
                                    "KAT_NEV": "gyermek nadrág",
                                    "LISTAAR": "4990",
                                    "Átlaghoz visszonyított ár": "Átlagon felüli ár"
                                },
                                {
                                    "MEGNEVEZES": "gyermek farmer nadrág (lány)",
                                    "KAT_NEV": "gyermek nadrág",
                                    "LISTAAR": "4990",
                                    "Átlaghoz visszonyított ár": "Átlagon felüli ár"
                                },
                                {
                                    "MEGNEVEZES": "gyermek pamut nadrág (fiú)",
                                    "KAT_NEV": "gyermek nadrág",
                                    "LISTAAR": "1290",
                                    "Átlaghoz visszonyított ár": "Átlagon aluli ár"
                                },
                                {
                                    "MEGNEVEZES": "gyermek pamut nadrág (lány)",
                                    "KAT_NEV": "gyermek nadrág",
                                    "LISTAAR": "1290",
                                    "Átlaghoz visszonyított ár": "Átlagon aluli ár"
                                },
                                {
                                    "MEGNEVEZES": "gyermek póló (fiú)",
                                    "KAT_NEV": "gyermek póló",
                                    "LISTAAR": "3900",
                                    "Átlaghoz visszonyított ár": "Átlagon aluli ár"
                                },
                                {
                                    "MEGNEVEZES": "gyermek póló (lány)",
                                    "KAT_NEV": "gyermek póló",
                                    "LISTAAR": "3900",
                                    "Átlaghoz visszonyított ár": "Átlagon aluli ár"
                                },
                                {
                                    "MEGNEVEZES": "Gyorsfűző dosszié fehér",
                                    "KAT_NEV": "gyorsfűző",
                                    "LISTAAR": "18",
                                    "Átlaghoz visszonyított ár": "Átlagon aluli ár"
                                },
                                {
                                    "MEGNEVEZES": "Gyorsfűző műa.",
                                    "KAT_NEV": "gyorsfűző",
                                    "LISTAAR": "30",
                                    "Átlaghoz visszonyított ár": "Átlagon felüli ár"
                                },
                                {
                                    "MEGNEVEZES": "Gyorsfűző műa.",
                                    "KAT_NEV": "gyorsfűző",
                                    "LISTAAR": "35",
                                    "Átlaghoz visszonyított ár": "Átlagon felüli ár"
                                },
                                {
                                    "MEGNEVEZES": "Gyurma 12 szinű",
                                    "KAT_NEV": "gyurma",
                                    "LISTAAR": "161",
                                    "Átlaghoz visszonyított ár": "Átlagon aluli ár"
                                },
                                {
                                    "MEGNEVEZES": "Gyurma színes 200 g-os",
                                    "KAT_NEV": "gyurma",
                                    "LISTAAR": "180",
                                    "Átlaghoz visszonyított ár": "Átlagon felüli ár"
                                },
                                {
                                    "MEGNEVEZES": "Gyurma színes natúr",
                                    "KAT_NEV": "gyurma",
                                    "LISTAAR": "228",
                                    "Átlaghoz visszonyított ár": "Átlagon felüli ár"
                                },
                                {
                                    "MEGNEVEZES": "Gyurmakés",
                                    "KAT_NEV": "gyurma",
                                    "LISTAAR": "121",
                                    "Átlaghoz visszonyított ár": "Átlagon aluli ár"
                                },
                                {
                                    "MEGNEVEZES": "Gyűrűskönyv",
                                    "KAT_NEV": "gyűrűskönyv",
                                    "LISTAAR": "581",
                                    "Átlaghoz visszonyított ár": "Átlagon felüli ár"
                                },
                                {
                                    "MEGNEVEZES": "Gyűrűskönyv bet. A/4",
                                    "KAT_NEV": "gyűrűskönyv",
                                    "LISTAAR": "184",
                                    "Átlaghoz visszonyított ár": "Átlagon aluli ár"
                                },
                                {
                                    "MEGNEVEZES": "Gyűrűskönyv bet. A/5",
                                    "KAT_NEV": "gyűrűskönyv",
                                    "LISTAAR": "95",
                                    "Átlaghoz visszonyított ár": "Átlagon aluli ár"
                                },
                                {
                                    "MEGNEVEZES": "Gyűrűskönyv betét A/5",
                                    "KAT_NEV": "gyűrűskönyv",
                                    "LISTAAR": "218",
                                    "Átlaghoz visszonyított ár": "Átlagon aluli ár"
                                },
                                {
                                    "MEGNEVEZES": "Gyűrűskönyv színes",
                                    "KAT_NEV": "gyűrűskönyv",
                                    "LISTAAR": "699",
                                    "Átlaghoz visszonyított ár": "Átlagon felüli ár"
                                },
                                {
                                    "MEGNEVEZES": "Hajgumi macis",
                                    "KAT_NEV": "hajgumi",
                                    "LISTAAR": "66",
                                    "Átlaghoz visszonyított ár": "Átlagon aluli ár"
                                },
                                {
                                    "MEGNEVEZES": "Határidő napló 2010-s",
                                    "KAT_NEV": "határidő napló",
                                    "LISTAAR": "728",
                                    "Átlaghoz visszonyított ár": "Átlagon felüli ár"
                                },
                                {
                                    "MEGNEVEZES": "Határidő napló A/6",
                                    "KAT_NEV": "határidő napló",
                                    "LISTAAR": "464",
                                    "Átlaghoz visszonyított ár": "Átlagon aluli ár"
                                },
                                {
                                    "MEGNEVEZES": "Hegyező gép",
                                    "KAT_NEV": "hegyező",
                                    "LISTAAR": "875",
                                    "Átlaghoz visszonyított ár": "Átlagon felüli ár"
                                },
                                {
                                    "MEGNEVEZES": "Hegyező műanyag dupla",
                                    "KAT_NEV": "hegyező",
                                    "LISTAAR": "30",
                                    "Átlaghoz visszonyított ár": "Átlagon aluli ár"
                                },
                                {
                                    "MEGNEVEZES": "Hegyező műanyag egyes",
                                    "KAT_NEV": "hegyező",
                                    "LISTAAR": "23",
                                    "Átlaghoz visszonyított ár": "Átlagon aluli ár"
                                },
                                {
                                    "MEGNEVEZES": "Hegyező tartályos egyes",
                                    "KAT_NEV": "hegyező",
                                    "LISTAAR": "30",
                                    "Átlaghoz visszonyított ár": "Átlagon aluli ár"
                                },
                                {
                                    "MEGNEVEZES": "Hegyző fém 1 lyukú",
                                    "KAT_NEV": "hegyző",
                                    "LISTAAR": "70",
                                    "Átlaghoz visszonyított ár": "Átlagon aluli ár"
                                },
                                {
                                    "MEGNEVEZES": "Hegyző fém 2 lyukú",
                                    "KAT_NEV": "hegyző",
                                    "LISTAAR": "180",
                                    "Átlaghoz visszonyított ár": "Átlagon felüli ár"
                                },
                                {
                                    "MEGNEVEZES": "Hibajav.roll.Pritt 4,2mm",
                                    "KAT_NEV": "hibajavító",
                                    "LISTAAR": "794",
                                    "Átlaghoz visszonyított ár": "Átlagon felüli ár"
                                },
                                {
                                    "MEGNEVEZES": "Hibajavító ecsetes Aqua",
                                    "KAT_NEV": "hibajavító",
                                    "LISTAAR": "185",
                                    "Átlaghoz visszonyított ár": "Átlagon aluli ár"
                                },
                                {
                                    "MEGNEVEZES": "Hibajavító készlet Blanco",
                                    "KAT_NEV": "hibajavító",
                                    "LISTAAR": "273",
                                    "Átlaghoz visszonyított ár": "Átlagon aluli ár"
                                },
                                {
                                    "MEGNEVEZES": "Hibajavító Kores mini pen",
                                    "KAT_NEV": "hibajavító",
                                    "LISTAAR": "278",
                                    "Átlaghoz visszonyított ár": "Átlagon aluli ár"
                                },
                                {
                                    "MEGNEVEZES": "Hibajavító lap ",
                                    "KAT_NEV": "hibajavító",
                                    "LISTAAR": "81",
                                    "Átlaghoz visszonyított ár": "Átlagon aluli ár"
                                },
                                {
                                    "MEGNEVEZES": "Hibajavító roller 5 mm",
                                    "KAT_NEV": "hibajavító",
                                    "LISTAAR": "133",
                                    "Átlaghoz visszonyított ár": "Átlagon aluli ár"
                                },
                                {
                                    "MEGNEVEZES": "Hibajavító roller Pax",
                                    "KAT_NEV": "hibajavító",
                                    "LISTAAR": "286",
                                    "Átlaghoz visszonyított ár": "Átlagon aluli ár"
                                },
                                {
                                    "MEGNEVEZES": "Hűtőmágnes",
                                    "KAT_NEV": "hűtőmágnes",
                                    "LISTAAR": "24",
                                    "Átlaghoz visszonyított ár": "Átlagon aluli ár"
                                },
                                {
                                    "MEGNEVEZES": "Hűtőmágnes WD",
                                    "KAT_NEV": "hűtőmágnes",
                                    "LISTAAR": "169",
                                    "Átlaghoz visszonyított ár": "Átlagon felüli ár"
                                },
                                {
                                    "MEGNEVEZES": "Álló irattartó karton",
                                    "KAT_NEV": "iratgyűjtő",
                                    "LISTAAR": "133",
                                    "Átlaghoz visszonyított ár": "Átlagon felüli ár"
                                },
                                {
                                    "MEGNEVEZES": "Iratgyűjtő ESSELTE ablakos",
                                    "KAT_NEV": "iratgyűjtő",
                                    "LISTAAR": "19",
                                    "Átlaghoz visszonyított ár": "Átlagon aluli ár"
                                },
                                {
                                    "MEGNEVEZES": "Iratgyűjtő fehér",
                                    "KAT_NEV": "iratgyűjtő",
                                    "LISTAAR": "19",
                                    "Átlaghoz visszonyított ár": "Átlagon aluli ár"
                                },
                                {
                                    "MEGNEVEZES": "Iratrendező ESSELTE",
                                    "KAT_NEV": "iratrendező",
                                    "LISTAAR": "243",
                                    "Átlaghoz visszonyított ár": "Átlagon aluli ár"
                                },
                                {
                                    "MEGNEVEZES": "Tokos iratrendező",
                                    "KAT_NEV": "iratrendező",
                                    "LISTAAR": "259",
                                    "Átlaghoz visszonyított ár": "Átlagon felüli ár"
                                },
                                {
                                    "MEGNEVEZES": "Iratsín fehér",
                                    "KAT_NEV": "iratsín",
                                    "LISTAAR": "44",
                                    "Átlaghoz visszonyított ár": "Átlagon aluli ár"
                                },
                                {
                                    "MEGNEVEZES": "Iratsín kék",
                                    "KAT_NEV": "iratsín",
                                    "LISTAAR": "89",
                                    "Átlaghoz visszonyított ár": "Átlagon felüli ár"
                                },
                                {
                                    "MEGNEVEZES": "Álló irattartó",
                                    "KAT_NEV": "irattartó",
                                    "LISTAAR": "214",
                                    "Átlaghoz visszonyított ár": "Átlagon felüli ár"
                                },
                                {
                                    "MEGNEVEZES": "Irattartó müa. boríték A/4",
                                    "KAT_NEV": "irattartó",
                                    "LISTAAR": "66",
                                    "Átlaghoz visszonyított ár": "Átlagon aluli ár"
                                },
                                {
                                    "MEGNEVEZES": "Iromány fedél feles",
                                    "KAT_NEV": "irodaszer",
                                    "LISTAAR": "59",
                                    "Átlaghoz visszonyított ár": "Átlagon aluli ár"
                                },
                                {
                                    "MEGNEVEZES": "Írólap 10-50 ffam.",
                                    "KAT_NEV": "írólap",
                                    "LISTAAR": "29",
                                    "Átlaghoz visszonyított ár": "Átlagon aluli ár"
                                },
                                {
                                    "MEGNEVEZES": "Írólap 20-50 ",
                                    "KAT_NEV": "írólap",
                                    "LISTAAR": "34",
                                    "Átlaghoz visszonyított ár": "Átlagon felüli ár"
                                },
                                {
                                    "MEGNEVEZES": "Ironbél  2B ICO",
                                    "KAT_NEV": "ironbél",
                                    "LISTAAR": "74",
                                    "Átlaghoz visszonyított ár": "Átlagon felüli ár"
                                },
                                {
                                    "MEGNEVEZES": "Ironbél B 0,5",
                                    "KAT_NEV": "ironbél",
                                    "LISTAAR": "36",
                                    "Átlaghoz visszonyított ár": "Átlagon aluli ár"
                                },
                                {
                                    "MEGNEVEZES": "Ironbél H 0,5",
                                    "KAT_NEV": "ironbél",
                                    "LISTAAR": "59",
                                    "Átlaghoz visszonyított ár": "Átlagon felüli ár"
                                },
                                {
                                    "MEGNEVEZES": "Ironbél HB 0,5",
                                    "KAT_NEV": "ironbél",
                                    "LISTAAR": "23",
                                    "Átlaghoz visszonyított ár": "Átlagon aluli ár"
                                },
                                {
                                    "MEGNEVEZES": "Ironbél HI-POLIMER HB 0,7",
                                    "KAT_NEV": "ironbél",
                                    "LISTAAR": "78",
                                    "Átlaghoz visszonyított ár": "Átlagon felüli ár"
                                },
                                {
                                    "MEGNEVEZES": "Ablakkréta",
                                    "KAT_NEV": "iskolaszer",
                                    "LISTAAR": "161",
                                    "Átlaghoz visszonyított ár": "Átlagon felüli ár"
                                },
                                {
                                    "MEGNEVEZES": "Betűtartó sin",
                                    "KAT_NEV": "iskolaszer",
                                    "LISTAAR": "33",
                                    "Átlaghoz visszonyított ár": "Átlagon aluli ár"
                                },
                                {
                                    "MEGNEVEZES": "Ceruzafogó",
                                    "KAT_NEV": "iskolaszer",
                                    "LISTAAR": "36",
                                    "Átlaghoz visszonyított ár": "Átlagon aluli ár"
                                },
                                {
                                    "MEGNEVEZES": "Egészségügyi könyv",
                                    "KAT_NEV": "iskolaszer",
                                    "LISTAAR": "51",
                                    "Átlaghoz visszonyított ár": "Átlagon aluli ár"
                                },
                                {
                                    "MEGNEVEZES": "Ellenőrzőborító",
                                    "KAT_NEV": "iskolaszer",
                                    "LISTAAR": "5",
                                    "Átlaghoz visszonyított ár": "Átlagon aluli ár"
                                },
                                {
                                    "MEGNEVEZES": "Füzettartó A/4",
                                    "KAT_NEV": "iskolaszer",
                                    "LISTAAR": "324",
                                    "Átlaghoz visszonyított ár": "Átlagon felüli ár"
                                },
                                {
                                    "MEGNEVEZES": "Gyűjtőlap A/4",
                                    "KAT_NEV": "iskolaszer",
                                    "LISTAAR": "8",
                                    "Átlaghoz visszonyított ár": "Átlagon aluli ár"
                                },
                                {
                                    "MEGNEVEZES": "Hőmérő, műa.",
                                    "KAT_NEV": "iskolaszer",
                                    "LISTAAR": "36",
                                    "Átlaghoz visszonyított ár": "Átlagon aluli ár"
                                },
                                {
                                    "MEGNEVEZES": "Hurkapálca 10 db-os",
                                    "KAT_NEV": "iskolaszer",
                                    "LISTAAR": "23",
                                    "Átlaghoz visszonyított ár": "Átlagon aluli ár"
                                },
                                {
                                    "MEGNEVEZES": "Krepp papír",
                                    "KAT_NEV": "iskolaszer",
                                    "LISTAAR": "73",
                                    "Átlaghoz visszonyított ár": "Átlagon aluli ár"
                                },
                                {
                                    "MEGNEVEZES": "Leckefüzet",
                                    "KAT_NEV": "iskolaszer",
                                    "LISTAAR": "161",
                                    "Átlaghoz visszonyított ár": "Átlagon felüli ár"
                                },
                                {
                                    "MEGNEVEZES": "Öntapadős betűk",
                                    "KAT_NEV": "iskolaszer",
                                    "LISTAAR": "74",
                                    "Átlaghoz visszonyított ár": "Átlagon aluli ár"
                                },
                                {
                                    "MEGNEVEZES": "Papírcenti 100 cm-es",
                                    "KAT_NEV": "iskolaszer",
                                    "LISTAAR": "9",
                                    "Átlaghoz visszonyított ár": "Átlagon aluli ár"
                                },
                                {
                                    "MEGNEVEZES": "Rovatolt papír 20 íves",
                                    "KAT_NEV": "iskolaszer",
                                    "LISTAAR": "103",
                                    "Átlaghoz visszonyított ár": "Átlagon felüli ár"
                                },
                                {
                                    "MEGNEVEZES": "Sorvezető",
                                    "KAT_NEV": "iskolaszer",
                                    "LISTAAR": "8",
                                    "Átlaghoz visszonyított ár": "Átlagon aluli ár"
                                },
                                {
                                    "MEGNEVEZES": "Számegyenes",
                                    "KAT_NEV": "iskolaszer",
                                    "LISTAAR": "36",
                                    "Átlaghoz visszonyított ár": "Átlagon aluli ár"
                                },
                                {
                                    "MEGNEVEZES": "Számolókorong",
                                    "KAT_NEV": "iskolaszer",
                                    "LISTAAR": "35",
                                    "Átlaghoz visszonyított ár": "Átlagon aluli ár"
                                },
                                {
                                    "MEGNEVEZES": "Számolópálca",
                                    "KAT_NEV": "iskolaszer",
                                    "LISTAAR": "61",
                                    "Átlaghoz visszonyított ár": "Átlagon aluli ár"
                                },
                                {
                                    "MEGNEVEZES": "Színes papír I.II-IV.V-VIII-ig",
                                    "KAT_NEV": "iskolaszer",
                                    "LISTAAR": "43",
                                    "Átlaghoz visszonyított ár": "Átlagon aluli ár"
                                },
                                {
                                    "MEGNEVEZES": "Szorzótábla műanyag",
                                    "KAT_NEV": "iskolaszer",
                                    "LISTAAR": "45",
                                    "Átlaghoz visszonyított ár": "Átlagon aluli ár"
                                },
                                {
                                    "MEGNEVEZES": "Taffet papír",
                                    "KAT_NEV": "iskolaszer",
                                    "LISTAAR": "19",
                                    "Átlaghoz visszonyított ár": "Átlagon aluli ár"
                                },
                                {
                                    "MEGNEVEZES": "Technika cs. I-II-III-IV",
                                    "KAT_NEV": "iskolaszer",
                                    "LISTAAR": "58",
                                    "Átlaghoz visszonyított ár": "Átlagon aluli ár"
                                },
                                {
                                    "MEGNEVEZES": "Tombola tömb",
                                    "KAT_NEV": "iskolaszer",
                                    "LISTAAR": "125",
                                    "Átlaghoz visszonyított ár": "Átlagon felüli ár"
                                },
                                {
                                    "MEGNEVEZES": "Tornazsák",
                                    "KAT_NEV": "iskolaszer",
                                    "LISTAAR": "511",
                                    "Átlaghoz visszonyított ár": "Átlagon felüli ár"
                                },
                                {
                                    "MEGNEVEZES": "Játék autó",
                                    "KAT_NEV": "játékautó",
                                    "LISTAAR": "65",
                                    "Átlaghoz visszonyított ár": "Átlagon aluli ár"
                                },
                                {
                                    "MEGNEVEZES": "Játékautó Blisteres",
                                    "KAT_NEV": "játékautó",
                                    "LISTAAR": "133",
                                    "Átlaghoz visszonyított ár": "Átlagon felüli ár"
                                },
                                {
                                    "MEGNEVEZES": "Játékautó elemes",
                                    "KAT_NEV": "játékautó",
                                    "LISTAAR": "165",
                                    "Átlaghoz visszonyított ár": "Átlagon felüli ár"
                                },
                                {
                                    "MEGNEVEZES": "Játékautó mini",
                                    "KAT_NEV": "játékautó",
                                    "LISTAAR": "73",
                                    "Átlaghoz visszonyított ár": "Átlagon aluli ár"
                                },
                                {
                                    "MEGNEVEZES": "Jelzőkréta",
                                    "KAT_NEV": "jelzőkréta",
                                    "LISTAAR": "48",
                                    "Átlaghoz visszonyított ár": "Átlagon aluli ár"
                                },
                                {
                                    "MEGNEVEZES": "Kapocskiszedő",
                                    "KAT_NEV": "kapocskiszedő",
                                    "LISTAAR": "106",
                                    "Átlaghoz visszonyított ár": "Átlagon aluli ár"
                                },
                                {
                                    "MEGNEVEZES": "Dekorációs karton",
                                    "KAT_NEV": "karton",
                                    "LISTAAR": "73",
                                    "Átlaghoz visszonyított ár": "Átlagon felüli ár"
                                },
                                {
                                    "MEGNEVEZES": "Dekorációs karton arany, ezüst",
                                    "KAT_NEV": "karton",
                                    "LISTAAR": "89",
                                    "Átlaghoz visszonyított ár": "Átlagon felüli ár"
                                },
                                {
                                    "MEGNEVEZES": "Márványos A/4",
                                    "KAT_NEV": "karton",
                                    "LISTAAR": "40",
                                    "Átlaghoz visszonyított ár": "Átlagon aluli ár"
                                },
                                {
                                    "MEGNEVEZES": "Selyemfényű karton A/4",
                                    "KAT_NEV": "karton",
                                    "LISTAAR": "38",
                                    "Átlaghoz visszonyított ár": "Átlagon aluli ár"
                                },
                                {
                                    "MEGNEVEZES": "Színes A/3 160 gr IQ",
                                    "KAT_NEV": "karton",
                                    "LISTAAR": "11",
                                    "Átlaghoz visszonyított ár": "Átlagon aluli ár"
                                },
                                {
                                    "MEGNEVEZES": "Színes karton A4",
                                    "KAT_NEV": "karton",
                                    "LISTAAR": "25",
                                    "Átlaghoz visszonyított ár": "Átlagon aluli ár"
                                },
                                {
                                    "MEGNEVEZES": "Kártya mini Magyar",
                                    "KAT_NEV": "kártya",
                                    "LISTAAR": "131",
                                    "Átlaghoz visszonyított ár": "Átlagon aluli ár"
                                },
                                {
                                    "MEGNEVEZES": "Képeslap  borítékos",
                                    "KAT_NEV": "képeslap",
                                    "LISTAAR": "33",
                                    "Átlaghoz visszonyított ár": "Átlagon aluli ár"
                                },
                                {
                                    "MEGNEVEZES": "Képeslap \"Nászajándék\"",
                                    "KAT_NEV": "képeslap",
                                    "LISTAAR": "184",
                                    "Átlaghoz visszonyított ár": "Átlagon felüli ár"
                                },
                                {
                                    "MEGNEVEZES": "Képeslap \"Részvét\"",
                                    "KAT_NEV": "képeslap",
                                    "LISTAAR": "33",
                                    "Átlaghoz visszonyított ár": "Átlagon aluli ár"
                                },
                                {
                                    "MEGNEVEZES": "Képeslap humoros ",
                                    "KAT_NEV": "képeslap",
                                    "LISTAAR": "55",
                                    "Átlaghoz visszonyított ár": "Átlagon aluli ár"
                                },
                                {
                                    "MEGNEVEZES": "Képeslap humoros",
                                    "KAT_NEV": "képeslap",
                                    "LISTAAR": "89",
                                    "Átlaghoz visszonyított ár": "Átlagon felüli ár"
                                },
                                {
                                    "MEGNEVEZES": "Képeslap humoros borítékos",
                                    "KAT_NEV": "képeslap",
                                    "LISTAAR": "81",
                                    "Átlaghoz visszonyított ár": "Átlagon felüli ár"
                                },
                                {
                                    "MEGNEVEZES": "Képeslap humoros kaparós",
                                    "KAT_NEV": "képeslap",
                                    "LISTAAR": "51",
                                    "Átlaghoz visszonyított ár": "Átlagon aluli ár"
                                },
                                {
                                    "MEGNEVEZES": "Képeslap karácsonyi",
                                    "KAT_NEV": "képeslap",
                                    "LISTAAR": "30",
                                    "Átlaghoz visszonyított ár": "Átlagon aluli ár"
                                },
                                {
                                    "MEGNEVEZES": "Képeslap karácsonyi borítékos",
                                    "KAT_NEV": "képeslap",
                                    "LISTAAR": "73",
                                    "Átlaghoz visszonyított ár": "Átlagon felüli ár"
                                },
                                {
                                    "MEGNEVEZES": "Képeslap karácsonyi WD",
                                    "KAT_NEV": "képeslap",
                                    "LISTAAR": "15",
                                    "Átlaghoz visszonyított ár": "Átlagon aluli ár"
                                },
                                {
                                    "MEGNEVEZES": "Képeslap kerek",
                                    "KAT_NEV": "képeslap",
                                    "LISTAAR": "36",
                                    "Átlaghoz visszonyított ár": "Átlagon aluli ár"
                                },
                                {
                                    "MEGNEVEZES": "Képeslap stancolt",
                                    "KAT_NEV": "képeslap",
                                    "LISTAAR": "59",
                                    "Átlaghoz visszonyított ár": "Átlagon aluli ár"
                                },
                                {
                                    "MEGNEVEZES": "Képeslap stancolt szív",
                                    "KAT_NEV": "képeslap",
                                    "LISTAAR": "48",
                                    "Átlaghoz visszonyított ár": "Átlagon aluli ár"
                                },
                                {
                                    "MEGNEVEZES": "Képeslap virágos",
                                    "KAT_NEV": "képeslap",
                                    "LISTAAR": "14",
                                    "Átlaghoz visszonyított ár": "Átlagon aluli ár"
                                },
                                {
                                    "MEGNEVEZES": "Képeslap virágos +boríték",
                                    "KAT_NEV": "képeslap",
                                    "LISTAAR": "44",
                                    "Átlaghoz visszonyított ár": "Átlagon aluli ár"
                                },
                                {
                                    "MEGNEVEZES": "Képeslap WD +boríték",
                                    "KAT_NEV": "képeslap",
                                    "LISTAAR": "118",
                                    "Átlaghoz visszonyított ár": "Átlagon felüli ár"
                                },
                                {
                                    "MEGNEVEZES": "Képkirakó Dirib-darab",
                                    "KAT_NEV": "képkirakó",
                                    "LISTAAR": "195",
                                    "Átlaghoz visszonyított ár": "Átlagon aluli ár"
                                },
                                {
                                    "MEGNEVEZES": "kosztüm (hosszú)",
                                    "KAT_NEV": "kosztüm",
                                    "LISTAAR": "46000",
                                    "Átlaghoz visszonyított ár": "Átlagon felüli ár"
                                },
                                {
                                    "MEGNEVEZES": "kosztüm (rövid)",
                                    "KAT_NEV": "kosztüm",
                                    "LISTAAR": "39000",
                                    "Átlaghoz visszonyított ár": "Átlagon aluli ár"
                                },
                                {
                                    "MEGNEVEZES": "Körző",
                                    "KAT_NEV": "körző",
                                    "LISTAAR": "161",
                                    "Átlaghoz visszonyított ár": "Átlagon felüli ár"
                                },
                                {
                                    "MEGNEVEZES": "Körző maped",
                                    "KAT_NEV": "körző",
                                    "LISTAAR": "243",
                                    "Átlaghoz visszonyított ár": "Átlagon felüli ár"
                                },
                                {
                                    "MEGNEVEZES": "Körzőhegy grafit",
                                    "KAT_NEV": "körző",
                                    "LISTAAR": "30",
                                    "Átlaghoz visszonyított ár": "Átlagon aluli ár"
                                },
                                {
                                    "MEGNEVEZES": "Kreatív A/4 120g ",
                                    "KAT_NEV": "kreatív",
                                    "LISTAAR": "13",
                                    "Átlaghoz visszonyított ár": "Átlagon felüli ár"
                                },
                                {
                                    "MEGNEVEZES": "Kreatív A/4 300g ",
                                    "KAT_NEV": "kreatív",
                                    "LISTAAR": "4",
                                    "Átlaghoz visszonyított ár": "Átlagon aluli ár"
                                },
                                {
                                    "MEGNEVEZES": "Kulcstartó autós",
                                    "KAT_NEV": "kulcstartó",
                                    "LISTAAR": "115",
                                    "Átlaghoz visszonyított ár": "Átlagon aluli ár"
                                },
                                {
                                    "MEGNEVEZES": "Kulcstartó billiárd golyós",
                                    "KAT_NEV": "kulcstartó",
                                    "LISTAAR": "148",
                                    "Átlaghoz visszonyított ár": "Átlagon felüli ár"
                                },
                                {
                                    "MEGNEVEZES": "Kulcstartó Csőrikés",
                                    "KAT_NEV": "kulcstartó",
                                    "LISTAAR": "124",
                                    "Átlaghoz visszonyított ár": "Átlagon felüli ár"
                                },
                                {
                                    "MEGNEVEZES": "Kulcstartó figurás",
                                    "KAT_NEV": "kulcstartó",
                                    "LISTAAR": "103",
                                    "Átlaghoz visszonyított ár": "Átlagon aluli ár"
                                },
                                {
                                    "MEGNEVEZES": "Kulcstartó intarziás állatos",
                                    "KAT_NEV": "kulcstartó",
                                    "LISTAAR": "155",
                                    "Átlaghoz visszonyított ár": "Átlagon felüli ár"
                                },
                                {
                                    "MEGNEVEZES": "Kulcstartó mesefigurás",
                                    "KAT_NEV": "kulcstartó",
                                    "LISTAAR": "36",
                                    "Átlaghoz visszonyított ár": "Átlagon aluli ár"
                                },
                                {
                                    "MEGNEVEZES": "Kulcstartó nagyítós",
                                    "KAT_NEV": "kulcstartó",
                                    "LISTAAR": "129",
                                    "Átlaghoz visszonyított ár": "Átlagon felüli ár"
                                },
                                {
                                    "MEGNEVEZES": "Gumilabda közepes",
                                    "KAT_NEV": "labda",
                                    "LISTAAR": "110",
                                    "Átlaghoz visszonyított ár": "Átlagon felüli ár"
                                },
                                {
                                    "MEGNEVEZES": "Tenisz labda",
                                    "KAT_NEV": "labda",
                                    "LISTAAR": "81",
                                    "Átlaghoz visszonyított ár": "Átlagon aluli ár"
                                },
                                {
                                    "MEGNEVEZES": "Levélpapír A/4",
                                    "KAT_NEV": "levélpapír",
                                    "LISTAAR": "15",
                                    "Átlaghoz visszonyított ár": "Átlagon aluli ár"
                                },
                                {
                                    "MEGNEVEZES": "Levélpapír állatos",
                                    "KAT_NEV": "levélpapír",
                                    "LISTAAR": "140",
                                    "Átlaghoz visszonyított ár": "Átlagon felüli ár"
                                },
                                {
                                    "MEGNEVEZES": "Levélpapír sima",
                                    "KAT_NEV": "levélpapír",
                                    "LISTAAR": "56",
                                    "Átlaghoz visszonyított ár": "Átlagon aluli ár"
                                },
                                {
                                    "MEGNEVEZES": "Levélpapír szett ",
                                    "KAT_NEV": "levélpapír",
                                    "LISTAAR": "74",
                                    "Átlaghoz visszonyított ár": "Átlagon aluli ár"
                                },
                                {
                                    "MEGNEVEZES": "Levélpapír szett",
                                    "KAT_NEV": "levélpapír",
                                    "LISTAAR": "89",
                                    "Átlaghoz visszonyított ár": "Átlagon aluli ár"
                                },
                                {
                                    "MEGNEVEZES": "Levélpapír szett natur, mintás",
                                    "KAT_NEV": "levélpapír",
                                    "LISTAAR": "103",
                                    "Átlaghoz visszonyított ár": "Átlagon felüli ár"
                                },
                                {
                                    "MEGNEVEZES": "Levélpapír szett virágos",
                                    "KAT_NEV": "levélpapír",
                                    "LISTAAR": "169",
                                    "Átlaghoz visszonyított ár": "Átlagon felüli ár"
                                },
                                {
                                    "MEGNEVEZES": "Lufi formázható",
                                    "KAT_NEV": "lufi",
                                    "LISTAAR": "15",
                                    "Átlaghoz visszonyított ár": "Átlagon felüli ár"
                                },
                                {
                                    "MEGNEVEZES": "Lufi hullámos",
                                    "KAT_NEV": "lufi",
                                    "LISTAAR": "11",
                                    "Átlaghoz visszonyított ár": "Átlagon aluli ár"
                                },
                                {
                                    "MEGNEVEZES": "Lyukasztó BOXER",
                                    "KAT_NEV": "lyukasztó",
                                    "LISTAAR": "765",
                                    "Átlaghoz visszonyított ár": "Átlagon felüli ár"
                                },
                                {
                                    "MEGNEVEZES": "Lyukasztó EAGLE",
                                    "KAT_NEV": "lyukasztó",
                                    "LISTAAR": "526",
                                    "Átlaghoz visszonyított ár": "Átlagon aluli ár"
                                },
                                {
                                    "MEGNEVEZES": "Gumis mappa ",
                                    "KAT_NEV": "mappa",
                                    "LISTAAR": "148",
                                    "Átlaghoz visszonyított ár": "Átlagon aluli ár"
                                },
                                {
                                    "MEGNEVEZES": "Gumis mappa csomagolt",
                                    "KAT_NEV": "mappa",
                                    "LISTAAR": "195",
                                    "Átlaghoz visszonyított ár": "Átlagon aluli ár"
                                },
                                {
                                    "MEGNEVEZES": "Gumis mappa fóliázott állatos",
                                    "KAT_NEV": "mappa",
                                    "LISTAAR": "211",
                                    "Átlaghoz visszonyított ár": "Átlagon aluli ár"
                                },
                                {
                                    "MEGNEVEZES": "Gumis mappa Köbüki",
                                    "KAT_NEV": "mappa",
                                    "LISTAAR": "191",
                                    "Átlaghoz visszonyított ár": "Átlagon aluli ár"
                                },
                                {
                                    "MEGNEVEZES": "Mappa bemutató",
                                    "KAT_NEV": "mappa",
                                    "LISTAAR": "184",
                                    "Átlaghoz visszonyított ár": "Átlagon aluli ár"
                                },
                                {
                                    "MEGNEVEZES": "Mappa bőr A5",
                                    "KAT_NEV": "mappa",
                                    "LISTAAR": "1765",
                                    "Átlaghoz visszonyított ár": "Átlagon felüli ár"
                                },
                                {
                                    "MEGNEVEZES": "Mappa müa A/4",
                                    "KAT_NEV": "mappa",
                                    "LISTAAR": "210",
                                    "Átlaghoz visszonyított ár": "Átlagon aluli ár"
                                },
                                {
                                    "MEGNEVEZES": "Mappa PVC villámzáras",
                                    "KAT_NEV": "mappa",
                                    "LISTAAR": "264",
                                    "Átlaghoz visszonyított ár": "Átlagon aluli ár"
                                },
                                {
                                    "MEGNEVEZES": "Mappa PVC villámzáras  képes",
                                    "KAT_NEV": "mappa",
                                    "LISTAAR": "360",
                                    "Átlaghoz visszonyított ár": "Átlagon aluli ár"
                                },
                                {
                                    "MEGNEVEZES": "Matrica állatos",
                                    "KAT_NEV": "matrica",
                                    "LISTAAR": "55",
                                    "Átlaghoz visszonyított ár": "Átlagon aluli ár"
                                },
                                {
                                    "MEGNEVEZES": "Matrica autóra H",
                                    "KAT_NEV": "matrica",
                                    "LISTAAR": "49",
                                    "Átlaghoz visszonyított ár": "Átlagon aluli ár"
                                },
                                {
                                    "MEGNEVEZES": "Matrica motoros kicsi",
                                    "KAT_NEV": "matrica",
                                    "LISTAAR": "49",
                                    "Átlaghoz visszonyított ár": "Átlagon aluli ár"
                                },
                                {
                                    "MEGNEVEZES": "Matrica Stickers nagy állatos",
                                    "KAT_NEV": "matrica",
                                    "LISTAAR": "109",
                                    "Átlaghoz visszonyított ár": "Átlagon felüli ár"
                                },
                                {
                                    "MEGNEVEZES": "Matrica Stickers szíves",
                                    "KAT_NEV": "matrica",
                                    "LISTAAR": "93",
                                    "Átlaghoz visszonyított ár": "Átlagon aluli ár"
                                },
                                {
                                    "MEGNEVEZES": "Matrica Test ékszer tattoo",
                                    "KAT_NEV": "matrica",
                                    "LISTAAR": "161",
                                    "Átlaghoz visszonyított ár": "Átlagon felüli ár"
                                },
                                {
                                    "MEGNEVEZES": "Matrica tetoválás",
                                    "KAT_NEV": "matrica",
                                    "LISTAAR": "168",
                                    "Átlaghoz visszonyított ár": "Átlagon felüli ár"
                                },
                                {
                                    "MEGNEVEZES": "Matrica tetoválós kicsi",
                                    "KAT_NEV": "matrica",
                                    "LISTAAR": "148",
                                    "Átlaghoz visszonyított ár": "Átlagon felüli ár"
                                },
                                {
                                    "MEGNEVEZES": "Matrica világítós ",
                                    "KAT_NEV": "matrica",
                                    "LISTAAR": "175",
                                    "Átlaghoz visszonyított ár": "Átlagon felüli ár"
                                },
                                {
                                    "MEGNEVEZES": "Matrica WD kicsi",
                                    "KAT_NEV": "matrica",
                                    "LISTAAR": "56",
                                    "Átlaghoz visszonyított ár": "Átlagon aluli ár"
                                },
                                {
                                    "MEGNEVEZES": "Esküvői meghívó",
                                    "KAT_NEV": "meghívó",
                                    "LISTAAR": "59",
                                    "Átlaghoz visszonyított ár": "Átlagon aluli ár"
                                },
                                {
                                    "MEGNEVEZES": "Meghívó állatos",
                                    "KAT_NEV": "meghívó",
                                    "LISTAAR": "155",
                                    "Átlaghoz visszonyított ár": "Átlagon felüli ár"
                                },
                                {
                                    "MEGNEVEZES": "Meghívó ballagási",
                                    "KAT_NEV": "meghívó",
                                    "LISTAAR": "63",
                                    "Átlaghoz visszonyított ár": "Átlagon aluli ár"
                                },
                                {
                                    "MEGNEVEZES": "Meghívó borítékos",
                                    "KAT_NEV": "meghívó",
                                    "LISTAAR": "169",
                                    "Átlaghoz visszonyított ár": "Átlagon felüli ár"
                                },
                                {
                                    "MEGNEVEZES": "Miliméterpapír",
                                    "KAT_NEV": "miliméterpapír",
                                    "LISTAAR": "8",
                                    "Átlaghoz visszonyított ár": "Átlagon aluli ár"
                                },
                                {
                                    "MEGNEVEZES": "A föld amelyen élünk - munkafüzet",
                                    "KAT_NEV": "munkafüzet",
                                    "LISTAAR": "440",
                                    "Átlaghoz visszonyított ár": "Átlagon felüli ár"
                                },
                                {
                                    "MEGNEVEZES": "Anyanyelvi gyakorló 2",
                                    "KAT_NEV": "munkafüzet",
                                    "LISTAAR": "293",
                                    "Átlaghoz visszonyított ár": "Átlagon aluli ár"
                                },
                                {
                                    "MEGNEVEZES": "Anyanyelvi gyakorló 3",
                                    "KAT_NEV": "munkafüzet",
                                    "LISTAAR": "353",
                                    "Átlaghoz visszonyított ár": "Átlagon aluli ár"
                                },
                                {
                                    "MEGNEVEZES": "Fizika munkafüzet 13 év.",
                                    "KAT_NEV": "munkafüzet",
                                    "LISTAAR": "198",
                                    "Átlaghoz visszonyított ár": "Átlagon aluli ár"
                                },
                                {
                                    "MEGNEVEZES": "Fizika munkafüzet 14 év.",
                                    "KAT_NEV": "munkafüzet",
                                    "LISTAAR": "190",
                                    "Átlaghoz visszonyított ár": "Átlagon aluli ár"
                                },
                                {
                                    "MEGNEVEZES": "Matematika gyakorló 2",
                                    "KAT_NEV": "munkafüzet",
                                    "LISTAAR": "403",
                                    "Átlaghoz visszonyított ár": "Átlagon felüli ár"
                                },
                                {
                                    "MEGNEVEZES": "Matematika gyakorló 3",
                                    "KAT_NEV": "munkafüzet",
                                    "LISTAAR": "403",
                                    "Átlaghoz visszonyított ár": "Átlagon felüli ár"
                                },
                                {
                                    "MEGNEVEZES": "Matematika gyakorló 4",
                                    "KAT_NEV": "munkafüzet",
                                    "LISTAAR": "403",
                                    "Átlaghoz visszonyított ár": "Átlagon felüli ár"
                                },
                                {
                                    "MEGNEVEZES": "Összefoglaló feladatgyüjtemény számtech.",
                                    "KAT_NEV": "munkafüzet",
                                    "LISTAAR": "785",
                                    "Átlaghoz visszonyított ár": "Átlagon felüli ár"
                                },
                                {
                                    "MEGNEVEZES": "Műnyomó 300g 17,5*20",
                                    "KAT_NEV": "műnyomó",
                                    "LISTAAR": "3",
                                    "Átlaghoz visszonyított ár": "Átlagon aluli ár"
                                },
                                {
                                    "MEGNEVEZES": "Naptár 24-es",
                                    "KAT_NEV": "naptár",
                                    "LISTAAR": "89",
                                    "Átlaghoz visszonyított ár": "Átlagon aluli ár"
                                },
                                {
                                    "MEGNEVEZES": "Naptárhát kicsi",
                                    "KAT_NEV": "naptárhát",
                                    "LISTAAR": "15",
                                    "Átlaghoz visszonyított ár": "Átlagon aluli ár"
                                },
                                {
                                    "MEGNEVEZES": "Naptárhát nagy",
                                    "KAT_NEV": "naptárhát",
                                    "LISTAAR": "78",
                                    "Átlaghoz visszonyított ár": "Átlagon felüli ár"
                                },
                                {
                                    "MEGNEVEZES": "Névjegytartó kicsi",
                                    "KAT_NEV": "névjegytartó",
                                    "LISTAAR": "310",
                                    "Átlaghoz visszonyított ár": "Átlagon aluli ár"
                                },
                                {
                                    "MEGNEVEZES": "Notesz A/5 sima",
                                    "KAT_NEV": "notesz",
                                    "LISTAAR": "103",
                                    "Átlaghoz visszonyított ár": "Átlagon felüli ár"
                                },
                                {
                                    "MEGNEVEZES": "Notesz A/5 sima spirál",
                                    "KAT_NEV": "notesz",
                                    "LISTAAR": "89",
                                    "Átlaghoz visszonyított ár": "Átlagon felüli ár"
                                },
                                {
                                    "MEGNEVEZES": "Notesz A/6 College",
                                    "KAT_NEV": "notesz",
                                    "LISTAAR": "56",
                                    "Átlaghoz visszonyított ár": "Átlagon aluli ár"
                                },
                                {
                                    "MEGNEVEZES": "Notesz mintás",
                                    "KAT_NEV": "notesz",
                                    "LISTAAR": "44",
                                    "Átlaghoz visszonyított ár": "Átlagon aluli ár"
                                },
                                {
                                    "MEGNEVEZES": "Notesz sima spirál College",
                                    "KAT_NEV": "notesz",
                                    "LISTAAR": "103",
                                    "Átlaghoz visszonyított ár": "Átlagon felüli ár"
                                },
                                {
                                    "MEGNEVEZES": "női szövet kabát",
                                    "KAT_NEV": "női kabát",
                                    "LISTAAR": "24000",
                                    "Átlaghoz visszonyított ár": "Átlagon aluli ár"
                                },
                                {
                                    "MEGNEVEZES": "női farmer nadrág",
                                    "KAT_NEV": "női nadrág",
                                    "LISTAAR": "8290",
                                    "Átlaghoz visszonyított ár": "Átlagon aluli ár"
                                },
                                {
                                    "MEGNEVEZES": "Színes ofszet B/4",
                                    "KAT_NEV": "ofszet",
                                    "LISTAAR": "4",
                                    "Átlaghoz visszonyított ár": "Átlagon aluli ár"
                                },
                                {
                                    "MEGNEVEZES": "Oklevél A/4 egyszínű",
                                    "KAT_NEV": "oklevél",
                                    "LISTAAR": "48",
                                    "Átlaghoz visszonyított ár": "Átlagon aluli ár"
                                },
                                {
                                    "MEGNEVEZES": "Oklevél A/4 színes",
                                    "KAT_NEV": "oklevél",
                                    "LISTAAR": "55",
                                    "Átlaghoz visszonyított ár": "Átlagon felüli ár"
                                },
                                {
                                    "MEGNEVEZES": "Olló gyerek ",
                                    "KAT_NEV": "olló",
                                    "LISTAAR": "133",
                                    "Átlaghoz visszonyított ár": "Átlagon aluli ár"
                                },
                                {
                                    "MEGNEVEZES": "Olló Tagit 18 cm-es",
                                    "KAT_NEV": "olló",
                                    "LISTAAR": "176",
                                    "Átlaghoz visszonyított ár": "Átlagon felüli ár"
                                },
                                {
                                    "MEGNEVEZES": "Olló, iskolai",
                                    "KAT_NEV": "olló",
                                    "LISTAAR": "161",
                                    "Átlaghoz visszonyított ár": "Átlagon felüli ár"
                                },
                                {
                                    "MEGNEVEZES": "Öntapadó A/4",
                                    "KAT_NEV": "öntapadó",
                                    "LISTAAR": "4575",
                                    "Átlaghoz visszonyított ár": "Átlagon felüli ár"
                                },
                                {
                                    "MEGNEVEZES": "Öntapadós hologramos papír A/4",
                                    "KAT_NEV": "öntapadó",
                                    "LISTAAR": "59",
                                    "Átlaghoz visszonyított ár": "Átlagon aluli ár"
                                },
                                {
                                    "MEGNEVEZES": "Papízsebkendő,10db Szindy",
                                    "KAT_NEV": "papízsebkendő",
                                    "LISTAAR": "20",
                                    "Átlaghoz visszonyított ár": "Átlagon aluli ár"
                                },
                                {
                                    "MEGNEVEZES": "Pausz papír A/4",
                                    "KAT_NEV": "pausz",
                                    "LISTAAR": "15",
                                    "Átlaghoz visszonyított ár": "Átlagon aluli ár"
                                },
                                {
                                    "MEGNEVEZES": "Bevételi pénztárbizonylat 3×25",
                                    "KAT_NEV": "pénztárbizonylat",
                                    "LISTAAR": "144",
                                    "Átlaghoz visszonyított ár": "Átlagon felüli ár"
                                },
                                {
                                    "MEGNEVEZES": "Kiadási pénztárbizonylat 2×25",
                                    "KAT_NEV": "pénztárbizonylat",
                                    "LISTAAR": "103",
                                    "Átlaghoz visszonyított ár": "Átlagon aluli ár"
                                },
                                {
                                    "MEGNEVEZES": "Pénztárgépsz. 2 pl. nem öníró",
                                    "KAT_NEV": "pénztárgépszalag",
                                    "LISTAAR": "81",
                                    "Átlaghoz visszonyított ár": "Átlagon aluli ár"
                                },
                                {
                                    "MEGNEVEZES": "Pénztárgépszalag 2pl SC 57.5/60",
                                    "KAT_NEV": "pénztárgépszalag",
                                    "LISTAAR": "93",
                                    "Átlaghoz visszonyított ár": "Átlagon felüli ár"
                                },
                                {
                                    "MEGNEVEZES": "Pixiron  UNI",
                                    "KAT_NEV": "pixiron",
                                    "LISTAAR": "276",
                                    "Átlaghoz visszonyított ár": "Átlagon felüli ár"
                                },
                                {
                                    "MEGNEVEZES": "Pixiron 0,7 Handy",
                                    "KAT_NEV": "pixiron",
                                    "LISTAAR": "125",
                                    "Átlaghoz visszonyított ár": "Átlagon aluli ár"
                                },
                                {
                                    "MEGNEVEZES": "Pixiron Centrum",
                                    "KAT_NEV": "pixiron",
                                    "LISTAAR": "59",
                                    "Átlaghoz visszonyított ár": "Átlagon aluli ár"
                                },
                                {
                                    "MEGNEVEZES": "Pixiron Handy fém",
                                    "KAT_NEV": "pixiron",
                                    "LISTAAR": "133",
                                    "Átlaghoz visszonyított ár": "Átlagon aluli ár"
                                },
                                {
                                    "MEGNEVEZES": "Pixiron Handy műanyag",
                                    "KAT_NEV": "pixiron",
                                    "LISTAAR": "94",
                                    "Átlaghoz visszonyított ár": "Átlagon aluli ár"
                                },
                                {
                                    "MEGNEVEZES": "Pixiron KOH-I-NOOR",
                                    "KAT_NEV": "pixiron",
                                    "LISTAAR": "468",
                                    "Átlaghoz visszonyított ár": "Átlagon felüli ár"
                                },
                                {
                                    "MEGNEVEZES": "Pixiron mini ",
                                    "KAT_NEV": "pixiron",
                                    "LISTAAR": "59",
                                    "Átlaghoz visszonyított ár": "Átlagon aluli ár"
                                },
                                {
                                    "MEGNEVEZES": "Pixiron Penac",
                                    "KAT_NEV": "pixiron",
                                    "LISTAAR": "235",
                                    "Átlaghoz visszonyított ár": "Átlagon felüli ár"
                                },
                                {
                                    "MEGNEVEZES": "Pixiron Pentel színes",
                                    "KAT_NEV": "pixiron",
                                    "LISTAAR": "299",
                                    "Átlaghoz visszonyított ár": "Átlagon felüli ár"
                                },
                                {
                                    "MEGNEVEZES": "Plüss  QX állatok",
                                    "KAT_NEV": "plüss",
                                    "LISTAAR": "173",
                                    "Átlaghoz visszonyított ár": "Átlagon aluli ár"
                                },
                                {
                                    "MEGNEVEZES": "Plüss kicsi",
                                    "KAT_NEV": "plüss",
                                    "LISTAAR": "161",
                                    "Átlaghoz visszonyított ár": "Átlagon aluli ár"
                                },
                                {
                                    "MEGNEVEZES": "Plüss sárkány",
                                    "KAT_NEV": "plüss",
                                    "LISTAAR": "314",
                                    "Átlaghoz visszonyított ár": "Átlagon felüli ár"
                                },
                                {
                                    "MEGNEVEZES": "Post-it 51×38 100 lapos",
                                    "KAT_NEV": "post-it",
                                    "LISTAAR": "36",
                                    "Átlaghoz visszonyított ár": "Átlagon aluli ár"
                                },
                                {
                                    "MEGNEVEZES": "Post-it 75×75 100 lapos",
                                    "KAT_NEV": "post-it",
                                    "LISTAAR": "89",
                                    "Átlaghoz visszonyított ár": "Átlagon felüli ár"
                                },
                                {
                                    "MEGNEVEZES": "Radír gyümölcsös",
                                    "KAT_NEV": "radír",
                                    "LISTAAR": "40",
                                    "Átlaghoz visszonyított ár": "Átlagon aluli ár"
                                },
                                {
                                    "MEGNEVEZES": "Radír Koh-i-nor 40",
                                    "KAT_NEV": "radír",
                                    "LISTAAR": "36",
                                    "Átlaghoz visszonyított ár": "Átlagon aluli ár"
                                },
                                {
                                    "MEGNEVEZES": "Radír KOH-I-NOR 80",
                                    "KAT_NEV": "radír",
                                    "LISTAAR": "19",
                                    "Átlaghoz visszonyított ár": "Átlagon aluli ár"
                                },
                                {
                                    "MEGNEVEZES": "Radír Maped",
                                    "KAT_NEV": "radír",
                                    "LISTAAR": "44",
                                    "Átlaghoz visszonyított ár": "Átlagon felüli ár"
                                },
                                {
                                    "MEGNEVEZES": "Radír stabilo",
                                    "KAT_NEV": "radír",
                                    "LISTAAR": "44",
                                    "Átlaghoz visszonyított ár": "Átlagon felüli ár"
                                },
                                {
                                    "MEGNEVEZES": "Radír Tikky 30 ",
                                    "KAT_NEV": "radír",
                                    "LISTAAR": "50",
                                    "Átlaghoz visszonyított ár": "Átlagon felüli ár"
                                },
                                {
                                    "MEGNEVEZES": "Radír Tikky 40 ",
                                    "KAT_NEV": "radír",
                                    "LISTAAR": "49",
                                    "Átlaghoz visszonyított ár": "Átlagon felüli ár"
                                },
                                {
                                    "MEGNEVEZES": "Radírtoll betét ER100",
                                    "KAT_NEV": "radírtoll",
                                    "LISTAAR": "74",
                                    "Átlaghoz visszonyított ár": "Átlagon aluli ár"
                                },
                                {
                                    "MEGNEVEZES": "Radírtoll betét vastag",
                                    "KAT_NEV": "radírtoll",
                                    "LISTAAR": "119",
                                    "Átlaghoz visszonyított ár": "Átlagon felüli ár"
                                },
                                {
                                    "MEGNEVEZES": "Pill.ragasztó",
                                    "KAT_NEV": "ragasztó",
                                    "LISTAAR": "103",
                                    "Átlaghoz visszonyított ár": "Átlagon aluli ár"
                                },
                                {
                                    "MEGNEVEZES": "Ragasztó 8 g Pritt",
                                    "KAT_NEV": "ragasztó",
                                    "LISTAAR": "81",
                                    "Átlaghoz visszonyított ár": "Átlagon aluli ár"
                                },
                                {
                                    "MEGNEVEZES": "Ragasztó 9 g Pax",
                                    "KAT_NEV": "ragasztó",
                                    "LISTAAR": "110",
                                    "Átlaghoz visszonyított ár": "Átlagon aluli ár"
                                },
                                {
                                    "MEGNEVEZES": "Ragasztó Gyurma",
                                    "KAT_NEV": "ragasztó",
                                    "LISTAAR": "293",
                                    "Átlaghoz visszonyított ár": "Átlagon felüli ár"
                                },
                                {
                                    "MEGNEVEZES": "Ragasztó kenőfejes Nebuló",
                                    "KAT_NEV": "ragasztó",
                                    "LISTAAR": "101",
                                    "Átlaghoz visszonyított ár": "Átlagon aluli ár"
                                },
                                {
                                    "MEGNEVEZES": "Ragasztó kores",
                                    "KAT_NEV": "ragasztó",
                                    "LISTAAR": "89",
                                    "Átlaghoz visszonyított ár": "Átlagon aluli ár"
                                },
                                {
                                    "MEGNEVEZES": "Ragasztó szalag KORES ",
                                    "KAT_NEV": "ragasztó",
                                    "LISTAAR": "133",
                                    "Átlaghoz visszonyított ár": "Átlagon aluli ár"
                                },
                                {
                                    "MEGNEVEZES": "Ragasztó, Technokol 35g kék",
                                    "KAT_NEV": "ragasztó",
                                    "LISTAAR": "144",
                                    "Átlaghoz visszonyított ár": "Átlagon aluli ár"
                                },
                                {
                                    "MEGNEVEZES": "Ragasztó, Technokol 35g piros",
                                    "KAT_NEV": "ragasztó",
                                    "LISTAAR": "144",
                                    "Átlaghoz visszonyított ár": "Átlagon aluli ár"
                                },
                                {
                                    "MEGNEVEZES": "Ragasztószalag 19 mm-es SCOTCH+ tépő",
                                    "KAT_NEV": "ragasztó",
                                    "LISTAAR": "426",
                                    "Átlaghoz visszonyított ár": "Átlagon felüli ár"
                                },
                                {
                                    "MEGNEVEZES": "Ragasztószalag  TIXO",
                                    "KAT_NEV": "ragasztószalag",
                                    "LISTAAR": "15",
                                    "Átlaghoz visszonyított ár": "Átlagon aluli ár"
                                },
                                {
                                    "MEGNEVEZES": "Ragasztószalag 19 mm-es",
                                    "KAT_NEV": "ragasztószalag",
                                    "LISTAAR": "55",
                                    "Átlaghoz visszonyított ár": "Átlagon aluli ár"
                                },
                                {
                                    "MEGNEVEZES": "Ragasztószalag nagy 12 mm",
                                    "KAT_NEV": "ragasztószalag",
                                    "LISTAAR": "63",
                                    "Átlaghoz visszonyított ár": "Átlagon aluli ár"
                                },
                                {
                                    "MEGNEVEZES": "Ragasztószalag széles barna",
                                    "KAT_NEV": "ragasztószalag",
                                    "LISTAAR": "166",
                                    "Átlaghoz visszonyított ár": "Átlagon felüli ár"
                                },
                                {
                                    "MEGNEVEZES": "Rágógumi Orbit",
                                    "KAT_NEV": "rágógumi",
                                    "LISTAAR": "89",
                                    "Átlaghoz visszonyított ár": "Átlagon aluli ár"
                                },
                                {
                                    "MEGNEVEZES": "félfamentes rajzlap A4 (10 lap)",
                                    "KAT_NEV": "rajzlap",
                                    "LISTAAR": "342",
                                    "Átlaghoz visszonyított ár": "Átlagon felüli ár"
                                },
                                {
                                    "MEGNEVEZES": "Rajzlap A/4 10db ffam.",
                                    "KAT_NEV": "rajzlap",
                                    "LISTAAR": "28",
                                    "Átlaghoz visszonyított ár": "Átlagon aluli ár"
                                },
                                {
                                    "MEGNEVEZES": "Rajzszeg",
                                    "KAT_NEV": "rajzszeg",
                                    "LISTAAR": "63",
                                    "Átlaghoz visszonyított ár": "Átlagon aluli ár"
                                },
                                {
                                    "MEGNEVEZES": "Rajzszeg színes",
                                    "KAT_NEV": "rajzszeg",
                                    "LISTAAR": "106",
                                    "Átlaghoz visszonyított ár": "Átlagon felüli ár"
                                },
                                {
                                    "MEGNEVEZES": "Regiszteres füzet A4",
                                    "KAT_NEV": "regiszteres füzet",
                                    "LISTAAR": "256",
                                    "Átlaghoz visszonyított ár": "Átlagon felüli ár"
                                },
                                {
                                    "MEGNEVEZES": "Regiszteres füzet A5 Hightech",
                                    "KAT_NEV": "regiszteres füzet",
                                    "LISTAAR": "203",
                                    "Átlaghoz visszonyított ár": "Átlagon aluli ár"
                                },
                                {
                                    "MEGNEVEZES": "sál",
                                    "KAT_NEV": "sál",
                                    "LISTAAR": "1990",
                                    "Átlaghoz visszonyított ár": "Átlagon aluli ár"
                                },
                                {
                                    "MEGNEVEZES": "Spirál 1/4 ",
                                    "KAT_NEV": "spirál",
                                    "LISTAAR": "45",
                                    "Átlaghoz visszonyított ár": "Átlagon aluli ár"
                                },
                                {
                                    "MEGNEVEZES": "Strandlabda ",
                                    "KAT_NEV": "strandlabda",
                                    "LISTAAR": "356",
                                    "Átlaghoz visszonyított ár": "Átlagon aluli ár"
                                },
                                {
                                    "MEGNEVEZES": "Szalvéta ",
                                    "KAT_NEV": "szalvéta",
                                    "LISTAAR": "176",
                                    "Átlaghoz visszonyított ár": "Átlagon felüli ár"
                                },
                                {
                                    "MEGNEVEZES": "Szalvéta dekor",
                                    "KAT_NEV": "szalvéta",
                                    "LISTAAR": "133",
                                    "Átlaghoz visszonyított ár": "Átlagon aluli ár"
                                },
                                {
                                    "MEGNEVEZES": "Szalvéta egyszínű",
                                    "KAT_NEV": "szalvéta",
                                    "LISTAAR": "118",
                                    "Átlaghoz visszonyított ár": "Átlagon aluli ár"
                                },
                                {
                                    "MEGNEVEZES": "Szalvéta Goma húsvéti",
                                    "KAT_NEV": "szalvéta",
                                    "LISTAAR": "175",
                                    "Átlaghoz visszonyított ár": "Átlagon felüli ár"
                                },
                                {
                                    "MEGNEVEZES": "Szalvéta gyűjtőknek",
                                    "KAT_NEV": "szalvéta",
                                    "LISTAAR": "183",
                                    "Átlaghoz visszonyított ár": "Átlagon felüli ár"
                                },
                                {
                                    "MEGNEVEZES": "Szalvéta kicsi virágos",
                                    "KAT_NEV": "szalvéta",
                                    "LISTAAR": "161",
                                    "Átlaghoz visszonyított ár": "Átlagon felüli ár"
                                },
                                {
                                    "MEGNEVEZES": "Számológép Roxin",
                                    "KAT_NEV": "számológép",
                                    "LISTAAR": "508",
                                    "Átlaghoz visszonyított ár": "Átlagon aluli ár"
                                },
                                {
                                    "MEGNEVEZES": "Számológép tudományos",
                                    "KAT_NEV": "számológép",
                                    "LISTAAR": "1173",
                                    "Átlaghoz visszonyított ár": "Átlagon felüli ár"
                                },
                                {
                                    "MEGNEVEZES": "Szemetes zsák 60 literes",
                                    "KAT_NEV": "szemetes",
                                    "LISTAAR": "129",
                                    "Átlaghoz visszonyított ár": "Átlagon aluli ár"
                                },
                                {
                                    "MEGNEVEZES": "Színes ceruza 12 szín",
                                    "KAT_NEV": "színes",
                                    "LISTAAR": "161",
                                    "Átlaghoz visszonyított ár": "Átlagon felüli ár"
                                },
                                {
                                    "MEGNEVEZES": "Színes ceruza 6-os",
                                    "KAT_NEV": "színes",
                                    "LISTAAR": "99",
                                    "Átlaghoz visszonyított ár": "Átlagon aluli ár"
                                },
                                {
                                    "MEGNEVEZES": "Szögmérő 180 fokos műa.",
                                    "KAT_NEV": "szögmérő",
                                    "LISTAAR": "24",
                                    "Átlaghoz visszonyított ár": "Átlagon felüli ár"
                                },
                                {
                                    "MEGNEVEZES": "Szögmérő papír",
                                    "KAT_NEV": "szögmérő",
                                    "LISTAAR": "11",
                                    "Átlaghoz visszonyított ár": "Átlagon aluli ár"
                                },
                                {
                                    "MEGNEVEZES": "Szögmérő színes",
                                    "KAT_NEV": "szögmérő",
                                    "LISTAAR": "8",
                                    "Átlaghoz visszonyított ár": "Átlagon aluli ár"
                                },
                                {
                                    "MEGNEVEZES": "Szövegkiemelő",
                                    "KAT_NEV": "szövegkiemelő",
                                    "LISTAAR": "78",
                                    "Átlaghoz visszonyított ár": "Átlagon aluli ár"
                                },
                                {
                                    "MEGNEVEZES": "Szövegkiemelő ",
                                    "KAT_NEV": "szövegkiemelő",
                                    "LISTAAR": "93",
                                    "Átlaghoz visszonyított ár": "Átlagon aluli ár"
                                },
                                {
                                    "MEGNEVEZES": "Szövegkiemelő Staedtler",
                                    "KAT_NEV": "szövegkiemelő",
                                    "LISTAAR": "140",
                                    "Átlaghoz visszonyított ár": "Átlagon felüli ár"
                                },
                                {
                                    "MEGNEVEZES": "Szövegkiemelő vékony",
                                    "KAT_NEV": "szövegkiemelő",
                                    "LISTAAR": "89",
                                    "Átlaghoz visszonyított ár": "Átlagon aluli ár"
                                },
                                {
                                    "MEGNEVEZES": "Szövegkiemelő Videotip",
                                    "KAT_NEV": "szövegkiemelő",
                                    "LISTAAR": "103",
                                    "Átlaghoz visszonyított ár": "Átlagon felüli ár"
                                },
                                {
                                    "MEGNEVEZES": "Táblafilc",
                                    "KAT_NEV": "táblafilc",
                                    "LISTAAR": "633",
                                    "Átlaghoz visszonyított ár": "Átlagon aluli ár"
                                },
                                {
                                    "MEGNEVEZES": "Tapétavágó kés",
                                    "KAT_NEV": "tapétavágó",
                                    "LISTAAR": "40",
                                    "Átlaghoz visszonyított ár": "Átlagon aluli ár"
                                },
                                {
                                    "MEGNEVEZES": "Tempera szóló ezüst",
                                    "KAT_NEV": "tempera",
                                    "LISTAAR": "96",
                                    "Átlaghoz visszonyított ár": "Átlagon felüli ár"
                                },
                                {
                                    "MEGNEVEZES": "Tempera szóló színes",
                                    "KAT_NEV": "tempera",
                                    "LISTAAR": "48",
                                    "Átlaghoz visszonyított ár": "Átlagon aluli ár"
                                },
                                {
                                    "MEGNEVEZES": "Térképtű színes",
                                    "KAT_NEV": "térképtű",
                                    "LISTAAR": "103",
                                    "Átlaghoz visszonyított ár": "Átlagon aluli ár"
                                },
                                {
                                    "MEGNEVEZES": "Tintapatron /kék/",
                                    "KAT_NEV": "tintapatron",
                                    "LISTAAR": "9",
                                    "Átlaghoz visszonyított ár": "Átlagon aluli ár"
                                },
                                {
                                    "MEGNEVEZES": "Tintapatron 30 db-os kék",
                                    "KAT_NEV": "tintapatron",
                                    "LISTAAR": "360",
                                    "Átlaghoz visszonyított ár": "Átlagon felüli ár"
                                },
                                {
                                    "MEGNEVEZES": "Tintapatron színes",
                                    "KAT_NEV": "tintapatron",
                                    "LISTAAR": "11",
                                    "Átlaghoz visszonyított ár": "Átlagon aluli ár"
                                },
                                {
                                    "MEGNEVEZES": "Kerámiatoll",
                                    "KAT_NEV": "toll",
                                    "LISTAAR": "74",
                                    "Átlaghoz visszonyított ár": "Átlagon aluli ár"
                                },
                                {
                                    "MEGNEVEZES": "Toll Centropen roller",
                                    "KAT_NEV": "toll",
                                    "LISTAAR": "80",
                                    "Átlaghoz visszonyított ár": "Átlagon felüli ár"
                                },
                                {
                                    "MEGNEVEZES": "G. toll betét mini",
                                    "KAT_NEV": "tollbetét",
                                    "LISTAAR": "30",
                                    "Átlaghoz visszonyított ár": "Átlagon aluli ár"
                                },
                                {
                                    "MEGNEVEZES": "G. toll betét mini fém",
                                    "KAT_NEV": "tollbetét",
                                    "LISTAAR": "55",
                                    "Átlaghoz visszonyított ár": "Átlagon aluli ár"
                                },
                                {
                                    "MEGNEVEZES": "G. toll betét réz",
                                    "KAT_NEV": "tollbetét",
                                    "LISTAAR": "30",
                                    "Átlaghoz visszonyított ár": "Átlagon aluli ár"
                                },
                                {
                                    "MEGNEVEZES": "G. toll betét S7S",
                                    "KAT_NEV": "tollbetét",
                                    "LISTAAR": "80",
                                    "Átlaghoz visszonyított ár": "Átlagon aluli ár"
                                },
                                {
                                    "MEGNEVEZES": "G. toll betét UNI lachnok Fine SA-7C",
                                    "KAT_NEV": "tollbetét",
                                    "LISTAAR": "85",
                                    "Átlaghoz visszonyított ár": "Átlagon aluli ár"
                                },
                                {
                                    "MEGNEVEZES": "G.toll betét csavaros",
                                    "KAT_NEV": "tollbetét",
                                    "LISTAAR": "55",
                                    "Átlaghoz visszonyított ár": "Átlagon aluli ár"
                                },
                                {
                                    "MEGNEVEZES": "G.toll betét görbe hegyű",
                                    "KAT_NEV": "tollbetét",
                                    "LISTAAR": "39",
                                    "Átlaghoz visszonyított ár": "Átlagon aluli ár"
                                },
                                {
                                    "MEGNEVEZES": "G.toll betét illatos",
                                    "KAT_NEV": "tollbetét",
                                    "LISTAAR": "44",
                                    "Átlaghoz visszonyított ár": "Átlagon aluli ár"
                                },
                                {
                                    "MEGNEVEZES": "G.toll betét jumbo",
                                    "KAT_NEV": "tollbetét",
                                    "LISTAAR": "33",
                                    "Átlaghoz visszonyított ár": "Átlagon aluli ár"
                                },
                                {
                                    "MEGNEVEZES": "G.toll betét Parker ",
                                    "KAT_NEV": "tollbetét",
                                    "LISTAAR": "684",
                                    "Átlaghoz visszonyított ár": "Átlagon felüli ár"
                                },
                                {
                                    "MEGNEVEZES": "G.toll betét PAX",
                                    "KAT_NEV": "tollbetét",
                                    "LISTAAR": "123",
                                    "Átlaghoz visszonyított ár": "Átlagon felüli ár"
                                },
                                {
                                    "MEGNEVEZES": "G.toll betét PAX tip.",
                                    "KAT_NEV": "tollbetét",
                                    "LISTAAR": "48",
                                    "Átlaghoz visszonyított ár": "Átlagon aluli ár"
                                },
                                {
                                    "MEGNEVEZES": "G.toll betét S7L ",
                                    "KAT_NEV": "tollbetét",
                                    "LISTAAR": "91",
                                    "Átlaghoz visszonyított ár": "Átlagon aluli ár"
                                },
                                {
                                    "MEGNEVEZES": "G.toll betét Stabilo",
                                    "KAT_NEV": "tollbetét",
                                    "LISTAAR": "23",
                                    "Átlaghoz visszonyított ár": "Átlagon aluli ár"
                                },
                                {
                                    "MEGNEVEZES": "G.toll betét X20",
                                    "KAT_NEV": "tollbetét",
                                    "LISTAAR": "15",
                                    "Átlaghoz visszonyított ár": "Átlagon aluli ár"
                                },
                                {
                                    "MEGNEVEZES": "G.toll betét Zebra F-0.7",
                                    "KAT_NEV": "tollbetét",
                                    "LISTAAR": "228",
                                    "Átlaghoz visszonyított ár": "Átlagon felüli ár"
                                },
                                {
                                    "MEGNEVEZES": "G.toll betét Zebra H-0,7",
                                    "KAT_NEV": "tollbetét",
                                    "LISTAAR": "78",
                                    "Átlaghoz visszonyított ár": "Átlagon aluli ár"
                                },
                                {
                                    "MEGNEVEZES": "G.toll betét Zebra K-0,7",
                                    "KAT_NEV": "tollbetét",
                                    "LISTAAR": "89",
                                    "Átlaghoz visszonyított ár": "Átlagon aluli ár"
                                },
                                {
                                    "MEGNEVEZES": "Tolltartó 1 zipzáros",
                                    "KAT_NEV": "tolltartó",
                                    "LISTAAR": "728",
                                    "Átlaghoz visszonyított ár": "Átlagon felüli ár"
                                },
                                {
                                    "MEGNEVEZES": "Tolltartó 2 részes NG.",
                                    "KAT_NEV": "tolltartó",
                                    "LISTAAR": "765",
                                    "Átlaghoz visszonyított ár": "Átlagon felüli ár"
                                },
                                {
                                    "MEGNEVEZES": "Tolltartó 2 zipzáros töltött",
                                    "KAT_NEV": "tolltartó",
                                    "LISTAAR": "728",
                                    "Átlaghoz visszonyított ár": "Átlagon felüli ár"
                                },
                                {
                                    "MEGNEVEZES": "Tolltartó asztali",
                                    "KAT_NEV": "tolltartó",
                                    "LISTAAR": "655",
                                    "Átlaghoz visszonyított ár": "Átlagon felüli ár"
                                },
                                {
                                    "MEGNEVEZES": "Tolltartó Garfield",
                                    "KAT_NEV": "tolltartó",
                                    "LISTAAR": "410",
                                    "Átlaghoz visszonyított ár": "Átlagon aluli ár"
                                },
                                {
                                    "MEGNEVEZES": "Tolltartó hengeres ",
                                    "KAT_NEV": "tolltartó",
                                    "LISTAAR": "411",
                                    "Átlaghoz visszonyított ár": "Átlagon aluli ár"
                                },
                                {
                                    "MEGNEVEZES": "Tolltartó zipzáras",
                                    "KAT_NEV": "tolltartó",
                                    "LISTAAR": "324",
                                    "Átlaghoz visszonyított ár": "Átlagon aluli ár"
                                },
                                {
                                    "MEGNEVEZES": "Oki toner C",
                                    "KAT_NEV": "toner",
                                    "LISTAAR": "14250",
                                    "Átlaghoz visszonyított ár": "Átlagon aluli ár"
                                },
                                {
                                    "MEGNEVEZES": "Töltőtoll tinta ",
                                    "KAT_NEV": "töltőtoll",
                                    "LISTAAR": "493",
                                    "Átlaghoz visszonyított ár": "Átlagon aluli ár"
                                },
                                {
                                    "MEGNEVEZES": "irodai tűzőgép",
                                    "KAT_NEV": "tűzőgép",
                                    "LISTAAR": "2100",
                                    "Átlaghoz visszonyított ár": "Átlagon felüli ár"
                                },
                                {
                                    "MEGNEVEZES": "Tűzőgép Boxer ",
                                    "KAT_NEV": "tűzőgép",
                                    "LISTAAR": "286",
                                    "Átlaghoz visszonyított ár": "Átlagon aluli ár"
                                },
                                {
                                    "MEGNEVEZES": "Tűzőgép Boxer 10",
                                    "KAT_NEV": "tűzőgép",
                                    "LISTAAR": "339",
                                    "Átlaghoz visszonyított ár": "Átlagon aluli ár"
                                },
                                {
                                    "MEGNEVEZES": "Tűzőgép EAGLE",
                                    "KAT_NEV": "tűzőgép",
                                    "LISTAAR": "405",
                                    "Átlaghoz visszonyított ár": "Átlagon aluli ár"
                                },
                                {
                                    "MEGNEVEZES": "Tűzőgép mini",
                                    "KAT_NEV": "tűzőgép",
                                    "LISTAAR": "438",
                                    "Átlaghoz visszonyított ár": "Átlagon aluli ár"
                                },
                                {
                                    "MEGNEVEZES": "Tűzőgép SAX 239",
                                    "KAT_NEV": "tűzőgép",
                                    "LISTAAR": "1351",
                                    "Átlaghoz visszonyított ár": "Átlagon felüli ár"
                                },
                                {
                                    "MEGNEVEZES": "Tűzőkapocs 10-es",
                                    "KAT_NEV": "tűzőkapocs",
                                    "LISTAAR": "44",
                                    "Átlaghoz visszonyított ár": "Átlagon felüli ár"
                                },
                                {
                                    "MEGNEVEZES": "Tűzőkapocs 24/6",
                                    "KAT_NEV": "tűzőkapocs",
                                    "LISTAAR": "34",
                                    "Átlaghoz visszonyított ár": "Átlagon aluli ár"
                                },
                                {
                                    "MEGNEVEZES": "Vízfesték  12 színű nagy",
                                    "KAT_NEV": "vízfesték",
                                    "LISTAAR": "249",
                                    "Átlaghoz visszonyított ár": "Átlagon felüli ár"
                                },
                                {
                                    "MEGNEVEZES": "Vízfesték 12 db-os ",
                                    "KAT_NEV": "vízfesték",
                                    "LISTAAR": "210",
                                    "Átlaghoz visszonyított ár": "Átlagon felüli ár"
                                },
                                {
                                    "MEGNEVEZES": "Vízfesték 12 színű kerek",
                                    "KAT_NEV": "vízfesték",
                                    "LISTAAR": "180",
                                    "Átlaghoz visszonyított ár": "Átlagon aluli ár"
                                },
                                {
                                    "MEGNEVEZES": "Vízfesték 12db-os kínai",
                                    "KAT_NEV": "vízfesték",
                                    "LISTAAR": "176",
                                    "Átlaghoz visszonyított ár": "Átlagon aluli ár"
                                },
                                {
                                    "MEGNEVEZES": "Vonalzó 15 cm-es ESSELTE",
                                    "KAT_NEV": "vonalzó",
                                    "LISTAAR": "58",
                                    "Átlaghoz visszonyított ár": "Átlagon felüli ár"
                                },
                                {
                                    "MEGNEVEZES": "Vonalzó 16 cm-es LIZZY",
                                    "KAT_NEV": "vonalzó",
                                    "LISTAAR": "30",
                                    "Átlaghoz visszonyított ár": "Átlagon aluli ár"
                                },
                                {
                                    "MEGNEVEZES": "Vonalzó 20 cm-es ",
                                    "KAT_NEV": "vonalzó",
                                    "LISTAAR": "30",
                                    "Átlaghoz visszonyított ár": "Átlagon aluli ár"
                                },
                                {
                                    "MEGNEVEZES": "Vonalzó 30 cm",
                                    "KAT_NEV": "vonalzó",
                                    "LISTAAR": "30",
                                    "Átlaghoz visszonyított ár": "Átlagon aluli ár"
                                },
                                {
                                    "MEGNEVEZES": "Vonalzó 45 fokos",
                                    "KAT_NEV": "vonalzó",
                                    "LISTAAR": "30",
                                    "Átlaghoz visszonyított ár": "Átlagon aluli ár"
                                },
                                {
                                    "MEGNEVEZES": "Vonalzó 60 fokos",
                                    "KAT_NEV": "vonalzó",
                                    "LISTAAR": "33",
                                    "Átlaghoz visszonyított ár": "Átlagon aluli ár"
                                },
                                {
                                    "MEGNEVEZES": "Zászló papír",
                                    "KAT_NEV": "zászló",
                                    "LISTAAR": "20",
                                    "Átlaghoz visszonyított ár": "Átlagon aluli ár"
                                },
                                {
                                    "MEGNEVEZES": "Zselés toll ",
                                    "KAT_NEV": "zseléstoll",
                                    "LISTAAR": "95",
                                    "Átlaghoz visszonyított ár": "Átlagon aluli ár"
                                },
                                {
                                    "MEGNEVEZES": "Zselés toll MICRO",
                                    "KAT_NEV": "zseléstoll",
                                    "LISTAAR": "66",
                                    "Átlaghoz visszonyított ár": "Átlagon aluli ár"
                                },
                                {
                                    "MEGNEVEZES": "Zselés toll Muhnwa",
                                    "KAT_NEV": "zseléstoll",
                                    "LISTAAR": "161",
                                    "Átlaghoz visszonyított ár": "Átlagon felüli ár"
                                },
                                {
                                    "MEGNEVEZES": "Zseléstoll Lizzy Card",
                                    "KAT_NEV": "zseléstoll",
                                    "LISTAAR": "228",
                                    "Átlaghoz visszonyított ár": "Átlagon felüli ár"
                                },
                                {
                                    "MEGNEVEZES": "Írásvetítő fólia",
                                    "KAT_NEV": "írásvetítő fólia",
                                    "LISTAAR": "81",
                                    "Átlaghoz visszonyított ár": "Átlagon aluli ár"
                                }
                            ]
                        },
                        "text/html": [
                            "<table>",
                            "<tr><th>MEGNEVEZES</th><th>KAT_NEV</th><th>LISTAAR</th><th>Átlaghoz visszonyított ár</th></tr>",
                            "<tr><td>A föld amelyen élünk - Európa földrajza</td><td>könyv</td><td>1089</td><td>Átlagon felüli ár</td></tr>",
                            "<tr><td>A föld amelyen élünk - Hazánk földrajza</td><td>könyv</td><td>1089</td><td>Átlagon felüli ár</td></tr>",
                            "<tr><td>A föld amelyen élünk - Távoli földrészek</td><td>könyv</td><td>1089</td><td>Átlagon felüli ár</td></tr>",
                            "<tr><td>Érettségi felv. fel. Biológia</td><td>könyv</td><td>440</td><td>Átlagon aluli ár</td></tr>",
                            "<tr><td>Érettségi felv. fel. Fizika</td><td>könyv</td><td>440</td><td>Átlagon aluli ár</td></tr>",
                            "<tr><td>Érettségi felv. fel. Matematika</td><td>könyv</td><td>720</td><td>Átlagon felüli ár</td></tr>",
                            "<tr><td>Fizika</td><td>könyv</td><td>674</td><td>Átlagon felüli ár</td></tr>",
                            "<tr><td>Fizika 13 éveseknek</td><td>könyv</td><td>308</td><td>Átlagon aluli ár</td></tr>",
                            "<tr><td>Fizikai feladatok és tévedések</td><td>könyv</td><td>324</td><td>Átlagon aluli ár</td></tr>",
                            "<tr><td>Fogalmazás lépésről lépésre</td><td>könyv</td><td>345</td><td>Átlagon aluli ár</td></tr>",
                            "<tr><td>Informatika</td><td>könyv</td><td>735</td><td>Átlagon felüli ár</td></tr>",
                            "<tr><td>Jól felkészültem-e - Fizika</td><td>könyv</td><td>291</td><td>Átlagon aluli ár</td></tr>",
                            "<tr><td>RAMba zárt világ</td><td>könyv</td><td>868</td><td>Átlagon felüli ár</td></tr>",
                            "<tr><td>Szám.tech. kicsiknek</td><td>könyv</td><td>214</td><td>Átlagon aluli ár</td></tr>",
                            "<tr><td>Szövegszerkesztés</td><td>könyv</td><td>691</td><td>Átlagon felüli ár</td></tr>",
                            "<tr><td>Bérlet tok</td><td>ajándék tárgy</td><td>24</td><td>Átlagon aluli ár</td></tr>",
                            "<tr><td>Lampion</td><td>ajándék tárgy</td><td>73</td><td>Átlagon aluli ár</td></tr>",
                            "<tr><td>Logikai készlet</td><td>ajándék tárgy</td><td>129</td><td>Átlagon felüli ár</td></tr>",
                            "<tr><td>Ajándék cs. 2×100×70</td><td>ajándék tasak</td><td>148</td><td>Átlagon felüli ár</td></tr>",
                            "<tr><td>Ajándék cs. tasak italos</td><td>ajándék tasak</td><td>185</td><td>Átlagon felüli ár</td></tr>",
                            "<tr><td>Ajándék cs. tasak italos, fólia</td><td>ajándék tasak</td><td>19</td><td>Átlagon aluli ár</td></tr>",
                            "<tr><td>Ajándék cs. tasak kicsi</td><td>ajándék tasak</td><td>26</td><td>Átlagon aluli ár</td></tr>",
                            "<tr><td>Ajándék cs. tasak kicsi</td><td>ajándék tasak</td><td>103</td><td>Átlagon aluli ár</td></tr>",
                            "<tr><td>Ajándék cs. tasak közepes</td><td>ajándék tasak</td><td>148</td><td>Átlagon felüli ár</td></tr>",
                            "<tr><td>Ajándék cs. tasak mintás kicsi</td><td>ajándék tasak</td><td>26</td><td>Átlagon aluli ár</td></tr>",
                            "<tr><td>Ajándék cs. tasak mintás nagy</td><td>ajándék tasak</td><td>206</td><td>Átlagon felüli ár</td></tr>",
                            "<tr><td>Ajándék cs. tasak virágos nagy</td><td>ajándék tasak</td><td>290</td><td>Átlagon felüli ár</td></tr>",
                            "<tr><td>Ajándék csom. 100x70 metál</td><td>ajándék tasak</td><td>148</td><td>Átlagon felüli ár</td></tr>",
                            "<tr><td>Ajándék csom. 150x70</td><td>ajándék tasak</td><td>206</td><td>Átlagon felüli ár</td></tr>",
                            "<tr><td>Ajándék csom. 200x70</td><td>ajándék tasak</td><td>125</td><td>Átlagon aluli ár</td></tr>",
                            "<tr><td>Ajándék csom. 50x70 húsvéti</td><td>ajándék tasak</td><td>64</td><td>Átlagon aluli ár</td></tr>",
                            "<tr><td>Ajándék csom. 70x50 metál</td><td>ajándék tasak</td><td>81</td><td>Átlagon aluli ár</td></tr>",
                            "<tr><td>Ajándék csom. gyűrt</td><td>ajándék tasak</td><td>169</td><td>Átlagon felüli ár</td></tr>",
                            "<tr><td>Ajándék csomagoló tasak</td><td>ajándék tasak</td><td>185</td><td>Átlagon felüli ár</td></tr>",
                            "<tr><td>Ajándék csomagoló tasak lézeres</td><td>ajándék tasak</td><td>214</td><td>Átlagon felüli ár</td></tr>",
                            "<tr><td>Italtartó doboz</td><td>ajándék tasak</td><td>114</td><td>Átlagon aluli ár</td></tr>",
                            "<tr><td>Mikulás zacskó</td><td>ajándék tasak</td><td>11</td><td>Átlagon aluli ár</td></tr>",
                            "<tr><td>Talpas tasak</td><td>ajándék tasak</td><td>40</td><td>Átlagon aluli ár</td></tr>",
                            "<tr><td>Álarc</td><td>álarc</td><td>89</td><td>Átlagon aluli ár</td></tr>",
                            "<tr><td>Álarc fejdísz</td><td>álarc</td><td>144</td><td>Átlagon felüli ár</td></tr>",
                            "<tr><td>Álarc szemüveg</td><td>álarc</td><td>144</td><td>Átlagon felüli ár</td></tr>",
                            "<tr><td>fiú ünneplős ruha</td><td>alkalmi</td><td>16900</td><td>Átlagon aluli ár</td></tr>",
                            "<tr><td>lány ünneplős ruha</td><td>alkalmi</td><td>16900</td><td>Átlagon aluli ár</td></tr>",
                            "<tr><td>női koktélruha</td><td>alkalmi</td><td>32000</td><td>Átlagon felüli ár</td></tr>",
                            "<tr><td>Alufólia 10 m-es</td><td>alufólia</td><td>118</td><td>Átlagon aluli ár</td></tr>",
                            "<tr><td>Alufólia 20 m-es</td><td>alufólia</td><td>214</td><td>Átlagon felüli ár</td></tr>",
                            "<tr><td>Árazószalag </td><td>árazószalag</td><td>106</td><td>Átlagon aluli ár</td></tr>",
                            "<tr><td>Átírótömb A/6</td><td>átírótömb</td><td>115</td><td>Átlagon aluli ár</td></tr>",
                            "<tr><td>Beíró A/5 kockás</td><td>beíró</td><td>228</td><td>Átlagon aluli ár</td></tr>",
                            "<tr><td>Beírókönyv A4</td><td>beírókönyv</td><td>328</td><td>Átlagon felüli ár</td></tr>",
                            "<tr><td>Beírókönyv A5 </td><td>beírókönyv</td><td>133</td><td>Átlagon aluli ár</td></tr>",
                            "<tr><td>Bélyegző IDEAL 50</td><td>bélyegző</td><td>780</td><td>Átlagon aluli ár</td></tr>",
                            "<tr><td>Bélyegző párna</td><td>bélyegző</td><td>650</td><td>Átlagon aluli ár</td></tr>",
                            "<tr><td>Bélyegző pocket</td><td>bélyegző</td><td>1377</td><td>Átlagon felüli ár</td></tr>",
                            "<tr><td>Bélyegző RP 18-47</td><td>bélyegző</td><td>1147</td><td>Átlagon felüli ár</td></tr>",
                            "<tr><td>Bélyegzőfesték </td><td>bélyegzőfesték</td><td>297</td><td>Átlagon aluli ár</td></tr>",
                            "<tr><td>Boríték B/4-es</td><td>boríték</td><td>18</td><td>Átlagon felüli ár</td></tr>",
                            "<tr><td>Boríték C/4-es</td><td>boríték</td><td>15</td><td>Átlagon felüli ár</td></tr>",
                            "<tr><td>Boríték LA 4 francia</td><td>boríték</td><td>6</td><td>Átlagon aluli ár</td></tr>",
                            "<tr><td>Boríték LC 5</td><td>boríték</td><td>6</td><td>Átlagon aluli ár</td></tr>",
                            "<tr><td>Boríték LC 6</td><td>boríték</td><td>3</td><td>Átlagon aluli ár</td></tr>",
                            "<tr><td>Boríték légp. kicsi</td><td>boríték</td><td>39</td><td>Átlagon felüli ár</td></tr>",
                            "<tr><td>Boríték mintás</td><td>boríték</td><td>15</td><td>Átlagon felüli ár</td></tr>",
                            "<tr><td>CD tartó tok</td><td>cd tok</td><td>30</td><td>Átlagon aluli ár</td></tr>",
                            "<tr><td>Celofán</td><td>celofán</td><td>46</td><td>Átlagon aluli ár</td></tr>",
                            "<tr><td>Celofán 50 db-os</td><td>celofán</td><td>73</td><td>Átlagon felüli ár</td></tr>",
                            "<tr><td>Ceruza 2H-3B Koh-i-nor</td><td>ceruza</td><td>53</td><td>Átlagon felüli ár</td></tr>",
                            "<tr><td>Ceruza 2H-4B</td><td>ceruza</td><td>39</td><td>Átlagon aluli ár</td></tr>",
                            "<tr><td>Ceruza arany, ezüst</td><td>ceruza</td><td>55</td><td>Átlagon felüli ár</td></tr>",
                            "<tr><td>Ceruza Conté zöld</td><td>ceruza</td><td>40</td><td>Átlagon aluli ár</td></tr>",
                            "<tr><td>Ceruza Cseh</td><td>ceruza</td><td>30</td><td>Átlagon aluli ár</td></tr>",
                            "<tr><td>Ceruza háromszög </td><td>ceruza</td><td>39</td><td>Átlagon aluli ár</td></tr>",
                            "<tr><td>Ceruza HB radiros</td><td>ceruza</td><td>23</td><td>Átlagon aluli ár</td></tr>",
                            "<tr><td>Ceruza kártyás</td><td>ceruza</td><td>55</td><td>Átlagon felüli ár</td></tr>",
                            "<tr><td>Ceruza kínai</td><td>ceruza</td><td>11</td><td>Átlagon aluli ár</td></tr>",
                            "<tr><td>Ceruza piros-kék</td><td>ceruza</td><td>59</td><td>Átlagon felüli ár</td></tr>",
                            "<tr><td>Ceruza piros-kék vékony</td><td>ceruza</td><td>40</td><td>Átlagon aluli ár</td></tr>",
                            "<tr><td>Ceruza Progresso</td><td>ceruza</td><td>106</td><td>Átlagon felüli ár</td></tr>",
                            "<tr><td>Ceruza radíros kínai</td><td>ceruza</td><td>11</td><td>Átlagon aluli ár</td></tr>",
                            "<tr><td>Ceruza smaragd</td><td>ceruza</td><td>58</td><td>Átlagon felüli ár</td></tr>",
                            "<tr><td>Ceruza stabilo opera</td><td>ceruza</td><td>44</td><td>Átlagon aluli ár</td></tr>",
                            "<tr><td>Ceruza stabilo swano</td><td>ceruza</td><td>36</td><td>Átlagon aluli ár</td></tr>",
                            "<tr><td>Ceruza szén</td><td>ceruza</td><td>146</td><td>Átlagon felüli ár</td></tr>",
                            "<tr><td>Ceruza szorzótáblás</td><td>ceruza</td><td>35</td><td>Átlagon aluli ár</td></tr>",
                            "<tr><td>Ceruza zöld színű</td><td>ceruza</td><td>40</td><td>Átlagon aluli ár</td></tr>",
                            "<tr><td>Címke 8 db-os</td><td>címke</td><td>26</td><td>Átlagon felüli ár</td></tr>",
                            "<tr><td>Címke egyszínű</td><td>címke</td><td>20</td><td>Átlagon aluli ár</td></tr>",
                            "<tr><td>Címke WD. állat</td><td>címke</td><td>31</td><td>Átlagon felüli ár</td></tr>",
                            "<tr><td>Color Copy 160 g-os </td><td>color copy</td><td>14</td><td>Átlagon aluli ár</td></tr>",
                            "<tr><td>Color Copy A/4 250 g</td><td>color copy</td><td>15</td><td>Átlagon aluli ár</td></tr>",
                            "<tr><td>Color Copy A4 120 g</td><td>color copy</td><td>10</td><td>Átlagon aluli ár</td></tr>",
                            "<tr><td>Color Copy A4 200 g</td><td>color copy</td><td>14</td><td>Átlagon aluli ár</td></tr>",
                            "<tr><td>Színes másoló a/4 80g</td><td>color copy</td><td>1500</td><td>Átlagon felüli ár</td></tr>",
                            "<tr><td>házt.csom.  5 ív</td><td>csomagoló</td><td>110</td><td>Átlagon felüli ár</td></tr>",
                            "<tr><td>Szilvia csomagoló</td><td>csomagoló</td><td>89</td><td>Átlagon aluli ár</td></tr>",
                            "<tr><td>Ajándék cs. húsvéti</td><td>csomagoló papír</td><td>106</td><td>Átlagon felüli ár</td></tr>",
                            "<tr><td>Ajándék cs. húsvéti 200x70</td><td>csomagoló papír</td><td>220</td><td>Átlagon felüli ár</td></tr>",
                            "<tr><td>Ajándék csom. gyűrt 50x70 </td><td>csomagoló papír</td><td>121</td><td>Átlagon felüli ár</td></tr>",
                            "<tr><td>Ajándék csom. Krepp</td><td>csomagoló papír</td><td>56</td><td>Átlagon aluli ár</td></tr>",
                            "<tr><td>Ajándék csom. nagy  </td><td>csomagoló papír</td><td>44</td><td>Átlagon aluli ár</td></tr>",
                            "<tr><td>Ajándék csom. vékony</td><td>csomagoló papír</td><td>23</td><td>Átlagon aluli ár</td></tr>",
                            "<tr><td>iskolai csomagoló papír</td><td>csomagoló papír</td><td>148</td><td>Átlagon felüli ár</td></tr>",
                            "<tr><td>Műanyag állatok</td><td>dekor</td><td>44</td><td>Átlagon felüli ár</td></tr>",
                            "<tr><td>Műanyag foszforeszkáló állat</td><td>dekor</td><td>23</td><td>Átlagon felüli ár</td></tr>",
                            "<tr><td>Műanyag pohár 1 dl-es</td><td>dekor</td><td>3</td><td>Átlagon aluli ár</td></tr>",
                            "<tr><td>Műanyag pohár 5 cl-es</td><td>dekor</td><td>15</td><td>Átlagon aluli ár</td></tr>",
                            "<tr><td>Dipa A/4 keretezett</td><td>dipa</td><td>9</td><td>Átlagon aluli ár</td></tr>",
                            "<tr><td>Díszdoboz kar.</td><td>díszdoboz</td><td>61</td><td>Átlagon felüli ár</td></tr>",
                            "<tr><td>Díszdoboz tollnak 2 db-os</td><td>díszdoboz</td><td>66</td><td>Átlagon felüli ár</td></tr>",
                            "<tr><td>Díszdoboz tollnak 2 db-os keskeny</td><td>díszdoboz</td><td>44</td><td>Átlagon aluli ár</td></tr>",
                            "<tr><td>Diszkötöző szalag arany</td><td>díszkötöző</td><td>44</td><td>Átlagon felüli ár</td></tr>",
                            "<tr><td>Díszkötöző szalag metál kicsi</td><td>díszkötöző</td><td>15</td><td>Átlagon aluli ár</td></tr>",
                            "<tr><td>Díszkötöző szalag metál nagy</td><td>díszkötöző</td><td>26</td><td>Átlagon aluli ár</td></tr>",
                            "<tr><td>Díszkötöző szalag vékony</td><td>díszkötöző</td><td>15</td><td>Átlagon aluli ár</td></tr>",
                            "<tr><td>Diszkötöző széles szalag</td><td>díszkötöző</td><td>81</td><td>Átlagon felüli ár</td></tr>",
                            "<tr><td>Dvd</td><td>dvd</td><td>133</td><td>Átlagon aluli ár</td></tr>",
                            "<tr><td>Ecset Centrum 10,11,12</td><td>ecset</td><td>40</td><td>Átlagon aluli ár</td></tr>",
                            "<tr><td>Ecset Centrum 7,8,9</td><td>ecset</td><td>33</td><td>Átlagon aluli ár</td></tr>",
                            "<tr><td>Ecset Deák 2-es</td><td>ecset</td><td>60</td><td>Átlagon aluli ár</td></tr>",
                            "<tr><td>Ecset Lizzy 10-es</td><td>ecset</td><td>65</td><td>Átlagon aluli ár</td></tr>",
                            "<tr><td>Ecset Nebuló 10-es</td><td>ecset</td><td>79</td><td>Átlagon felüli ár</td></tr>",
                            "<tr><td>Ecset Nebulo 4-es</td><td>ecset</td><td>36</td><td>Átlagon aluli ár</td></tr>",
                            "<tr><td>Ecsetkészlet</td><td>ecset</td><td>180</td><td>Átlagon felüli ár</td></tr>",
                            "<tr><td>Előlap spirálhoz</td><td>előlap</td><td>25</td><td>Átlagon aluli ár</td></tr>",
                            "<tr><td>Emlékkönyv</td><td>emlékkönyv</td><td>316</td><td>Átlagon aluli ár</td></tr>",
                            "<tr><td>Emlékkönyv</td><td>emlékkönyv</td><td>526</td><td>Átlagon felüli ár</td></tr>",
                            "<tr><td>Emlékkönyv lakatos</td><td>emlékkönyv</td><td>449</td><td>Átlagon felüli ár</td></tr>",
                            "<tr><td>Emléklap A/5</td><td>emléklap</td><td>26</td><td>Átlagon aluli ár</td></tr>",
                            "<tr><td>Fax papír 15 m</td><td>fax papír</td><td>161</td><td>Átlagon aluli ár</td></tr>",
                            "<tr><td>fiú alsó</td><td>fehérnemű</td><td>390</td><td>Átlagon aluli ár</td></tr>",
                            "<tr><td>fiú harisnya</td><td>fehérnemű</td><td>990</td><td>Átlagon felüli ár</td></tr>",
                            "<tr><td>fiú zokni</td><td>fehérnemű</td><td>240</td><td>Átlagon aluli ár</td></tr>",
                            "<tr><td>lány alsó</td><td>fehérnemű</td><td>390</td><td>Átlagon aluli ár</td></tr>",
                            "<tr><td>lány harisnya</td><td>fehérnemű</td><td>990</td><td>Átlagon felüli ár</td></tr>",
                            "<tr><td>lány zokni</td><td>fehérnemű</td><td>240</td><td>Átlagon aluli ár</td></tr>",
                            "<tr><td>női alsó</td><td>fehérnemű</td><td>690</td><td>Átlagon felüli ár</td></tr>",
                            "<tr><td>Fehér másoló A/3</td><td>fénymásoló papír</td><td>1488</td><td>Átlagon felüli ár</td></tr>",
                            "<tr><td>Fehér másoló A/4</td><td>fénymásoló papír</td><td>686</td><td>Átlagon aluli ár</td></tr>",
                            "<tr><td>Fénymásoló papír DataCopy</td><td>fénymásoló papír</td><td>845</td><td>Átlagon aluli ár</td></tr>",
                            "<tr><td>Fénymásoló papír GetCopy</td><td>fénymásoló papír</td><td>728</td><td>Átlagon aluli ár</td></tr>",
                            "<tr><td>Fénymásoló papír Qconnect</td><td>fénymásoló papír</td><td>728</td><td>Átlagon aluli ár</td></tr>",
                            "<tr><td>férfi ing</td><td>férfi ing</td><td>6490</td><td>Átlagon aluli ár</td></tr>",
                            "<tr><td>férfi szövet kabát</td><td>férfi kabát</td><td>22000</td><td>Átlagon aluli ár</td></tr>",
                            "<tr><td>férfi farmer nadrág</td><td>férfi nadrág</td><td>7890</td><td>Átlagon aluli ár</td></tr>",
                            "<tr><td>férfi szövet nadrág</td><td>férfi nadrág</td><td>11900</td><td>Átlagon felüli ár</td></tr>",
                            "<tr><td>Festékpatron BCI-3BK</td><td>festékpatron</td><td>625</td><td>Átlagon aluli ár</td></tr>",
                            "<tr><td>Filctoll </td><td>filctoll</td><td>26</td><td>Átlagon aluli ár</td></tr>",
                            "<tr><td>Filctoll CD író</td><td>filctoll</td><td>0</td><td>Átlagon aluli ár</td></tr>",
                            "<tr><td>Filctoll document pen</td><td>filctoll</td><td>278</td><td>Átlagon felüli ár</td></tr>",
                            "<tr><td>Filctoll Edding 750</td><td>filctoll</td><td>434</td><td>Átlagon felüli ár</td></tr>",
                            "<tr><td>Filctoll Marvy alkoholos</td><td>filctoll</td><td>390</td><td>Átlagon felüli ár</td></tr>",
                            "<tr><td>Filctoll permanent vastag</td><td>filctoll</td><td>140</td><td>Átlagon aluli ár</td></tr>",
                            "<tr><td>Filctoll supra fine</td><td>filctoll</td><td>46</td><td>Átlagon aluli ár</td></tr>",
                            "<tr><td>Filctoll TINTEN PEN</td><td>filctoll</td><td>53</td><td>Átlagon aluli ár</td></tr>",
                            "<tr><td>Filctoll vastag ARTIP</td><td>filctoll</td><td>76</td><td>Átlagon aluli ár</td></tr>",
                            "<tr><td>Filctoll, alkoholos Centropen</td><td>filctoll</td><td>114</td><td>Átlagon aluli ár</td></tr>",
                            "<tr><td>Filctoll, alkoholosOHP F-M-C</td><td>filctoll</td><td>103</td><td>Átlagon aluli ár</td></tr>",
                            "<tr><td>Filctoll, textil Edding 4500</td><td>filctoll</td><td>276</td><td>Átlagon felüli ár</td></tr>",
                            "<tr><td>Lakk filc Edding 750</td><td>filctoll</td><td>434</td><td>Átlagon felüli ár</td></tr>",
                            "<tr><td>Floppy lemez</td><td>floppy</td><td>51</td><td>Átlagon aluli ár</td></tr>",
                            "<tr><td>Fólia tasakos A4 125 mik.</td><td>fólia</td><td>44</td><td>Átlagon felüli ár</td></tr>",
                            "<tr><td>Fólia tasakos A4 80 mik.</td><td>fólia</td><td>40</td><td>Átlagon aluli ár</td></tr>",
                            "<tr><td>Fólia tasakos A4100 mik.</td><td>fólia</td><td>44</td><td>Átlagon felüli ár</td></tr>",
                            "<tr><td>Fotópapír A/4 fényes</td><td>fotópapír</td><td>30</td><td>Átlagon aluli ár</td></tr>",
                            "<tr><td>Füzet  A/4 </td><td>füzet</td><td>68</td><td>Átlagon aluli ár</td></tr>",
                            "<tr><td>Füzet  A4 mintás</td><td>füzet</td><td>78</td><td>Átlagon aluli ár</td></tr>",
                            "<tr><td>Füzet 31-32 szótár</td><td>füzet</td><td>34</td><td>Átlagon aluli ár</td></tr>",
                            "<tr><td>Füzet A/5 hangjegy 36/16</td><td>füzet</td><td>30</td><td>Átlagon aluli ár</td></tr>",
                            "<tr><td>Füzet A/5, mintás</td><td>füzet</td><td>48</td><td>Átlagon aluli ár</td></tr>",
                            "<tr><td>Füzet A5 1-8 osz.-ig</td><td>füzet</td><td>34</td><td>Átlagon aluli ár</td></tr>",
                            "<tr><td>Sp.Füzet A/4  70es</td><td>füzet</td><td>144</td><td>Átlagon felüli ár</td></tr>",
                            "<tr><td>Sp.Füzet A/4  perforált, lyuk.</td><td>füzet</td><td>206</td><td>Átlagon felüli ár</td></tr>",
                            "<tr><td>Sp.Füzet A/4 70-as</td><td>füzet</td><td>155</td><td>Átlagon felüli ár</td></tr>",
                            "<tr><td>Sp.Füzet A/5 70-es</td><td>füzet</td><td>89</td><td>Átlagon aluli ár</td></tr>",
                            "<tr><td>Szótárfüzet Lizzy</td><td>füzet</td><td>161</td><td>Átlagon felüli ár</td></tr>",
                            "<tr><td>Füzetborító A/4 átlátszó</td><td>füzetborító</td><td>10</td><td>Átlagon aluli ár</td></tr>",
                            "<tr><td>Füzetborító A/4 mintás</td><td>füzetborító</td><td>24</td><td>Átlagon aluli ár</td></tr>",
                            "<tr><td>Füzetborító átlátszó A5</td><td>füzetborító</td><td>8</td><td>Átlagon aluli ár</td></tr>",
                            "<tr><td>Füzetborító öntapadó kicsi</td><td>füzetborító</td><td>23</td><td>Átlagon aluli ár</td></tr>",
                            "<tr><td>Füzetborító öntapadó tekercses</td><td>füzetborító</td><td>195</td><td>Átlagon felüli ár</td></tr>",
                            "<tr><td>Füzetborító öntapadós nagy</td><td>füzetborító</td><td>19</td><td>Átlagon aluli ár</td></tr>",
                            "<tr><td>Füzettartó A/4 keménytáblás</td><td>füzettartó</td><td>508</td><td>Átlagon felüli ár</td></tr>",
                            "<tr><td>Füzettartó A/4 keménytáblás</td><td>füzettartó</td><td>551</td><td>Átlagon felüli ár</td></tr>",
                            "<tr><td>Füzettartó A/5  </td><td>füzettartó</td><td>203</td><td>Átlagon aluli ár</td></tr>",
                            "<tr><td>Füzettartó A/5 vastag</td><td>füzettartó</td><td>411</td><td>Átlagon aluli ár</td></tr>",
                            "<tr><td>Gemkapocs 28 mm</td><td>gemkapocs</td><td>30</td><td>Átlagon aluli ár</td></tr>",
                            "<tr><td>Gemkapocs ICO</td><td>gemkapocs</td><td>48</td><td>Átlagon felüli ár</td></tr>",
                            "<tr><td>Gémkapocs 28-as színes</td><td>gémkapocs</td><td>44</td><td>Átlagon aluli ár</td></tr>",
                            "<tr><td>Gémkapocs 50-es</td><td>gémkapocs</td><td>103</td><td>Átlagon felüli ár</td></tr>",
                            "<tr><td>Genoterm HERLITZ 10-es</td><td>genoterm</td><td>89</td><td>Átlagon aluli ár</td></tr>",
                            "<tr><td>Genotherm A4 10db-os</td><td>genotherm</td><td>110</td><td>Átlagon felüli ár</td></tr>",
                            "<tr><td>Genotherm lefűzhető A/5</td><td>genotherm</td><td>8</td><td>Átlagon aluli ár</td></tr>",
                            "<tr><td>Genotherm lefűzhető A4 10db-os</td><td>genotherm</td><td>63</td><td>Átlagon felüli ár</td></tr>",
                            "<tr><td>Golyóstoll</td><td>golyóstoll</td><td>33</td><td>Átlagon aluli ár</td></tr>",
                            "<tr><td>Golyóstoll</td><td>golyóstoll</td><td>51</td><td>Átlagon aluli ár</td></tr>",
                            "<tr><td>Golyóstoll + ceruza Twister 2in1</td><td>golyóstoll</td><td>390</td><td>Átlagon felüli ár</td></tr>",
                            "<tr><td>Golyóstoll 3 funkciós </td><td>golyóstoll</td><td>1019</td><td>Átlagon felüli ár</td></tr>",
                            "<tr><td>Golyóstoll háromfunkciós</td><td>golyóstoll</td><td>110</td><td>Átlagon aluli ár</td></tr>",
                            "<tr><td>Golyóstoll háromszög</td><td>golyóstoll</td><td>188</td><td>Átlagon aluli ár</td></tr>",
                            "<tr><td>Golyóstoll illatos ICO</td><td>golyóstoll</td><td>41</td><td>Átlagon aluli ár</td></tr>",
                            "<tr><td>Golyóstoll INOXCROM</td><td>golyóstoll</td><td>401</td><td>Átlagon felüli ár</td></tr>",
                            "<tr><td>Golyóstoll kétfunkciós ICO</td><td>golyóstoll</td><td>273</td><td>Átlagon felüli ár</td></tr>",
                            "<tr><td>Golyóstoll kétszínű</td><td>golyóstoll</td><td>44</td><td>Átlagon aluli ár</td></tr>",
                            "<tr><td>Golyóstoll kupakos piros</td><td>golyóstoll</td><td>23</td><td>Átlagon aluli ár</td></tr>",
                            "<tr><td>Golyóstoll levélbontós</td><td>golyóstoll</td><td>294</td><td>Átlagon felüli ár</td></tr>",
                            "<tr><td>Golyóstoll Montex Hytone</td><td>golyóstoll</td><td>93</td><td>Átlagon aluli ár</td></tr>",
                            "<tr><td>Golyóstoll Parker tokban</td><td>golyóstoll</td><td>773</td><td>Átlagon felüli ár</td></tr>",
                            "<tr><td>Golyóstoll Pax tip.</td><td>golyóstoll</td><td>63</td><td>Átlagon aluli ár</td></tr>",
                            "<tr><td>Golyóstoll penac</td><td>golyóstoll</td><td>239</td><td>Átlagon aluli ár</td></tr>",
                            "<tr><td>Golyóstoll Stabiló 308</td><td>golyóstoll</td><td>81</td><td>Átlagon aluli ár</td></tr>",
                            "<tr><td>Golyóstoll Stabilo piros</td><td>golyóstoll</td><td>101</td><td>Átlagon aluli ár</td></tr>",
                            "<tr><td>Golyóstoll UNI átlátszó</td><td>golyóstoll</td><td>230</td><td>Átlagon aluli ár</td></tr>",
                            "<tr><td>Golyóstoll UNI gumis</td><td>golyóstoll</td><td>231</td><td>Átlagon aluli ár</td></tr>",
                            "<tr><td>Golyóstoll UNI laknock</td><td>golyóstoll</td><td>218</td><td>Átlagon aluli ár</td></tr>",
                            "<tr><td>Golyóstoll UNIBALL 07</td><td>golyóstoll</td><td>364</td><td>Átlagon felüli ár</td></tr>",
                            "<tr><td>Golyóstoll Zebra 301</td><td>golyóstoll</td><td>455</td><td>Átlagon felüli ár</td></tr>",
                            "<tr><td>Golyóstoll Zebra mini</td><td>golyóstoll</td><td>655</td><td>Átlagon felüli ár</td></tr>",
                            "<tr><td>Golyóstoll Zebra new hard</td><td>golyóstoll</td><td>189</td><td>Átlagon aluli ár</td></tr>",
                            "<tr><td>Golyóstoll Zodiák</td><td>golyóstoll</td><td>94</td><td>Átlagon aluli ár</td></tr>",
                            "<tr><td>Gumigyűrű</td><td>gumigyűrű</td><td>19</td><td>Átlagon aluli ár</td></tr>",
                            "<tr><td>gyermek cipő (fiú)</td><td>gyermek cipő</td><td>7900</td><td>Átlagon felüli ár</td></tr>",
                            "<tr><td>gyermek cipő (lány)</td><td>gyermek cipő</td><td>7900</td><td>Átlagon felüli ár</td></tr>",
                            "<tr><td>gyermek csizma (fiú)</td><td>gyermek cipő</td><td>8000</td><td>Átlagon felüli ár</td></tr>",
                            "<tr><td>gyermek csizma (lány)</td><td>gyermek cipő</td><td>8000</td><td>Átlagon felüli ár</td></tr>",
                            "<tr><td>gyermek szandál (fiú)</td><td>gyermek cipő</td><td>6900</td><td>Átlagon aluli ár</td></tr>",
                            "<tr><td>gyermek szandál (lány)</td><td>gyermek cipő</td><td>6900</td><td>Átlagon aluli ár</td></tr>",
                            "<tr><td>gyermek kabát (fiú)</td><td>gyermek kabát</td><td>8900</td><td>Átlagon aluli ár</td></tr>",
                            "<tr><td>gyermek kabát (lány)</td><td>gyermek kabát</td><td>8900</td><td>Átlagon aluli ár</td></tr>",
                            "<tr><td>gyermek farmer nadrág (fiú)</td><td>gyermek nadrág</td><td>4990</td><td>Átlagon felüli ár</td></tr>",
                            "<tr><td>gyermek farmer nadrág (lány)</td><td>gyermek nadrág</td><td>4990</td><td>Átlagon felüli ár</td></tr>",
                            "<tr><td>gyermek pamut nadrág (fiú)</td><td>gyermek nadrág</td><td>1290</td><td>Átlagon aluli ár</td></tr>",
                            "<tr><td>gyermek pamut nadrág (lány)</td><td>gyermek nadrág</td><td>1290</td><td>Átlagon aluli ár</td></tr>",
                            "<tr><td>gyermek póló (fiú)</td><td>gyermek póló</td><td>3900</td><td>Átlagon aluli ár</td></tr>",
                            "<tr><td>gyermek póló (lány)</td><td>gyermek póló</td><td>3900</td><td>Átlagon aluli ár</td></tr>",
                            "<tr><td>Gyorsfűző dosszié fehér</td><td>gyorsfűző</td><td>18</td><td>Átlagon aluli ár</td></tr>",
                            "<tr><td>Gyorsfűző műa.</td><td>gyorsfűző</td><td>30</td><td>Átlagon felüli ár</td></tr>",
                            "<tr><td>Gyorsfűző műa.</td><td>gyorsfűző</td><td>35</td><td>Átlagon felüli ár</td></tr>",
                            "<tr><td>Gyurma 12 szinű</td><td>gyurma</td><td>161</td><td>Átlagon aluli ár</td></tr>",
                            "<tr><td>Gyurma színes 200 g-os</td><td>gyurma</td><td>180</td><td>Átlagon felüli ár</td></tr>",
                            "<tr><td>Gyurma színes natúr</td><td>gyurma</td><td>228</td><td>Átlagon felüli ár</td></tr>",
                            "<tr><td>Gyurmakés</td><td>gyurma</td><td>121</td><td>Átlagon aluli ár</td></tr>",
                            "<tr><td>Gyűrűskönyv</td><td>gyűrűskönyv</td><td>581</td><td>Átlagon felüli ár</td></tr>",
                            "<tr><td>Gyűrűskönyv bet. A/4</td><td>gyűrűskönyv</td><td>184</td><td>Átlagon aluli ár</td></tr>",
                            "<tr><td>Gyűrűskönyv bet. A/5</td><td>gyűrűskönyv</td><td>95</td><td>Átlagon aluli ár</td></tr>",
                            "<tr><td>Gyűrűskönyv betét A/5</td><td>gyűrűskönyv</td><td>218</td><td>Átlagon aluli ár</td></tr>",
                            "<tr><td>Gyűrűskönyv színes</td><td>gyűrűskönyv</td><td>699</td><td>Átlagon felüli ár</td></tr>",
                            "<tr><td>Hajgumi macis</td><td>hajgumi</td><td>66</td><td>Átlagon aluli ár</td></tr>",
                            "<tr><td>Határidő napló 2010-s</td><td>határidő napló</td><td>728</td><td>Átlagon felüli ár</td></tr>",
                            "<tr><td>Határidő napló A/6</td><td>határidő napló</td><td>464</td><td>Átlagon aluli ár</td></tr>",
                            "<tr><td>Hegyező gép</td><td>hegyező</td><td>875</td><td>Átlagon felüli ár</td></tr>",
                            "<tr><td>Hegyező műanyag dupla</td><td>hegyező</td><td>30</td><td>Átlagon aluli ár</td></tr>",
                            "<tr><td>Hegyező műanyag egyes</td><td>hegyező</td><td>23</td><td>Átlagon aluli ár</td></tr>",
                            "<tr><td>Hegyező tartályos egyes</td><td>hegyező</td><td>30</td><td>Átlagon aluli ár</td></tr>",
                            "<tr><td>Hegyző fém 1 lyukú</td><td>hegyző</td><td>70</td><td>Átlagon aluli ár</td></tr>",
                            "<tr><td>Hegyző fém 2 lyukú</td><td>hegyző</td><td>180</td><td>Átlagon felüli ár</td></tr>",
                            "<tr><td>Hibajav.roll.Pritt 4,2mm</td><td>hibajavító</td><td>794</td><td>Átlagon felüli ár</td></tr>",
                            "<tr><td>Hibajavító ecsetes Aqua</td><td>hibajavító</td><td>185</td><td>Átlagon aluli ár</td></tr>",
                            "<tr><td>Hibajavító készlet Blanco</td><td>hibajavító</td><td>273</td><td>Átlagon aluli ár</td></tr>",
                            "<tr><td>Hibajavító Kores mini pen</td><td>hibajavító</td><td>278</td><td>Átlagon aluli ár</td></tr>",
                            "<tr><td>Hibajavító lap </td><td>hibajavító</td><td>81</td><td>Átlagon aluli ár</td></tr>",
                            "<tr><td>Hibajavító roller 5 mm</td><td>hibajavító</td><td>133</td><td>Átlagon aluli ár</td></tr>",
                            "<tr><td>Hibajavító roller Pax</td><td>hibajavító</td><td>286</td><td>Átlagon aluli ár</td></tr>",
                            "<tr><td>Hűtőmágnes</td><td>hűtőmágnes</td><td>24</td><td>Átlagon aluli ár</td></tr>",
                            "<tr><td>Hűtőmágnes WD</td><td>hűtőmágnes</td><td>169</td><td>Átlagon felüli ár</td></tr>",
                            "<tr><td>Álló irattartó karton</td><td>iratgyűjtő</td><td>133</td><td>Átlagon felüli ár</td></tr>",
                            "<tr><td>Iratgyűjtő ESSELTE ablakos</td><td>iratgyűjtő</td><td>19</td><td>Átlagon aluli ár</td></tr>",
                            "<tr><td>Iratgyűjtő fehér</td><td>iratgyűjtő</td><td>19</td><td>Átlagon aluli ár</td></tr>",
                            "<tr><td>Iratrendező ESSELTE</td><td>iratrendező</td><td>243</td><td>Átlagon aluli ár</td></tr>",
                            "<tr><td>Tokos iratrendező</td><td>iratrendező</td><td>259</td><td>Átlagon felüli ár</td></tr>",
                            "<tr><td>Iratsín fehér</td><td>iratsín</td><td>44</td><td>Átlagon aluli ár</td></tr>",
                            "<tr><td>Iratsín kék</td><td>iratsín</td><td>89</td><td>Átlagon felüli ár</td></tr>",
                            "<tr><td>Álló irattartó</td><td>irattartó</td><td>214</td><td>Átlagon felüli ár</td></tr>",
                            "<tr><td>Irattartó müa. boríték A/4</td><td>irattartó</td><td>66</td><td>Átlagon aluli ár</td></tr>",
                            "<tr><td>Iromány fedél feles</td><td>irodaszer</td><td>59</td><td>Átlagon aluli ár</td></tr>",
                            "<tr><td>Írólap 10-50 ffam.</td><td>írólap</td><td>29</td><td>Átlagon aluli ár</td></tr>",
                            "<tr><td>Írólap 20-50 </td><td>írólap</td><td>34</td><td>Átlagon felüli ár</td></tr>",
                            "<tr><td>Ironbél  2B ICO</td><td>ironbél</td><td>74</td><td>Átlagon felüli ár</td></tr>",
                            "<tr><td>Ironbél B 0,5</td><td>ironbél</td><td>36</td><td>Átlagon aluli ár</td></tr>",
                            "<tr><td>Ironbél H 0,5</td><td>ironbél</td><td>59</td><td>Átlagon felüli ár</td></tr>",
                            "<tr><td>Ironbél HB 0,5</td><td>ironbél</td><td>23</td><td>Átlagon aluli ár</td></tr>",
                            "<tr><td>Ironbél HI-POLIMER HB 0,7</td><td>ironbél</td><td>78</td><td>Átlagon felüli ár</td></tr>",
                            "<tr><td>Ablakkréta</td><td>iskolaszer</td><td>161</td><td>Átlagon felüli ár</td></tr>",
                            "<tr><td>Betűtartó sin</td><td>iskolaszer</td><td>33</td><td>Átlagon aluli ár</td></tr>",
                            "<tr><td>Ceruzafogó</td><td>iskolaszer</td><td>36</td><td>Átlagon aluli ár</td></tr>",
                            "<tr><td>Egészségügyi könyv</td><td>iskolaszer</td><td>51</td><td>Átlagon aluli ár</td></tr>",
                            "<tr><td>Ellenőrzőborító</td><td>iskolaszer</td><td>5</td><td>Átlagon aluli ár</td></tr>",
                            "<tr><td>Füzettartó A/4</td><td>iskolaszer</td><td>324</td><td>Átlagon felüli ár</td></tr>",
                            "<tr><td>Gyűjtőlap A/4</td><td>iskolaszer</td><td>8</td><td>Átlagon aluli ár</td></tr>",
                            "<tr><td>Hőmérő, műa.</td><td>iskolaszer</td><td>36</td><td>Átlagon aluli ár</td></tr>",
                            "<tr><td>Hurkapálca 10 db-os</td><td>iskolaszer</td><td>23</td><td>Átlagon aluli ár</td></tr>",
                            "<tr><td>Krepp papír</td><td>iskolaszer</td><td>73</td><td>Átlagon aluli ár</td></tr>",
                            "<tr><td>Leckefüzet</td><td>iskolaszer</td><td>161</td><td>Átlagon felüli ár</td></tr>",
                            "<tr><td>Öntapadős betűk</td><td>iskolaszer</td><td>74</td><td>Átlagon aluli ár</td></tr>",
                            "<tr><td>Papírcenti 100 cm-es</td><td>iskolaszer</td><td>9</td><td>Átlagon aluli ár</td></tr>",
                            "<tr><td>Rovatolt papír 20 íves</td><td>iskolaszer</td><td>103</td><td>Átlagon felüli ár</td></tr>",
                            "<tr><td>Sorvezető</td><td>iskolaszer</td><td>8</td><td>Átlagon aluli ár</td></tr>",
                            "<tr><td>Számegyenes</td><td>iskolaszer</td><td>36</td><td>Átlagon aluli ár</td></tr>",
                            "<tr><td>Számolókorong</td><td>iskolaszer</td><td>35</td><td>Átlagon aluli ár</td></tr>",
                            "<tr><td>Számolópálca</td><td>iskolaszer</td><td>61</td><td>Átlagon aluli ár</td></tr>",
                            "<tr><td>Színes papír I.II-IV.V-VIII-ig</td><td>iskolaszer</td><td>43</td><td>Átlagon aluli ár</td></tr>",
                            "<tr><td>Szorzótábla műanyag</td><td>iskolaszer</td><td>45</td><td>Átlagon aluli ár</td></tr>",
                            "<tr><td>Taffet papír</td><td>iskolaszer</td><td>19</td><td>Átlagon aluli ár</td></tr>",
                            "<tr><td>Technika cs. I-II-III-IV</td><td>iskolaszer</td><td>58</td><td>Átlagon aluli ár</td></tr>",
                            "<tr><td>Tombola tömb</td><td>iskolaszer</td><td>125</td><td>Átlagon felüli ár</td></tr>",
                            "<tr><td>Tornazsák</td><td>iskolaszer</td><td>511</td><td>Átlagon felüli ár</td></tr>",
                            "<tr><td>Játék autó</td><td>játékautó</td><td>65</td><td>Átlagon aluli ár</td></tr>",
                            "<tr><td>Játékautó Blisteres</td><td>játékautó</td><td>133</td><td>Átlagon felüli ár</td></tr>",
                            "<tr><td>Játékautó elemes</td><td>játékautó</td><td>165</td><td>Átlagon felüli ár</td></tr>",
                            "<tr><td>Játékautó mini</td><td>játékautó</td><td>73</td><td>Átlagon aluli ár</td></tr>",
                            "<tr><td>Jelzőkréta</td><td>jelzőkréta</td><td>48</td><td>Átlagon aluli ár</td></tr>",
                            "<tr><td>Kapocskiszedő</td><td>kapocskiszedő</td><td>106</td><td>Átlagon aluli ár</td></tr>",
                            "<tr><td>Dekorációs karton</td><td>karton</td><td>73</td><td>Átlagon felüli ár</td></tr>",
                            "<tr><td>Dekorációs karton arany, ezüst</td><td>karton</td><td>89</td><td>Átlagon felüli ár</td></tr>",
                            "<tr><td>Márványos A/4</td><td>karton</td><td>40</td><td>Átlagon aluli ár</td></tr>",
                            "<tr><td>Selyemfényű karton A/4</td><td>karton</td><td>38</td><td>Átlagon aluli ár</td></tr>",
                            "<tr><td>Színes A/3 160 gr IQ</td><td>karton</td><td>11</td><td>Átlagon aluli ár</td></tr>",
                            "<tr><td>Színes karton A4</td><td>karton</td><td>25</td><td>Átlagon aluli ár</td></tr>",
                            "<tr><td>Kártya mini Magyar</td><td>kártya</td><td>131</td><td>Átlagon aluli ár</td></tr>",
                            "<tr><td>Képeslap  borítékos</td><td>képeslap</td><td>33</td><td>Átlagon aluli ár</td></tr>",
                            "<tr><td>Képeslap &quot;Nászajándék&quot;</td><td>képeslap</td><td>184</td><td>Átlagon felüli ár</td></tr>",
                            "<tr><td>Képeslap &quot;Részvét&quot;</td><td>képeslap</td><td>33</td><td>Átlagon aluli ár</td></tr>",
                            "<tr><td>Képeslap humoros </td><td>képeslap</td><td>55</td><td>Átlagon aluli ár</td></tr>",
                            "<tr><td>Képeslap humoros</td><td>képeslap</td><td>89</td><td>Átlagon felüli ár</td></tr>",
                            "<tr><td>Képeslap humoros borítékos</td><td>képeslap</td><td>81</td><td>Átlagon felüli ár</td></tr>",
                            "<tr><td>Képeslap humoros kaparós</td><td>képeslap</td><td>51</td><td>Átlagon aluli ár</td></tr>",
                            "<tr><td>Képeslap karácsonyi</td><td>képeslap</td><td>30</td><td>Átlagon aluli ár</td></tr>",
                            "<tr><td>Képeslap karácsonyi borítékos</td><td>képeslap</td><td>73</td><td>Átlagon felüli ár</td></tr>",
                            "<tr><td>Képeslap karácsonyi WD</td><td>képeslap</td><td>15</td><td>Átlagon aluli ár</td></tr>",
                            "<tr><td>Képeslap kerek</td><td>képeslap</td><td>36</td><td>Átlagon aluli ár</td></tr>",
                            "<tr><td>Képeslap stancolt</td><td>képeslap</td><td>59</td><td>Átlagon aluli ár</td></tr>",
                            "<tr><td>Képeslap stancolt szív</td><td>képeslap</td><td>48</td><td>Átlagon aluli ár</td></tr>",
                            "<tr><td>Képeslap virágos</td><td>képeslap</td><td>14</td><td>Átlagon aluli ár</td></tr>",
                            "<tr><td>Képeslap virágos +boríték</td><td>képeslap</td><td>44</td><td>Átlagon aluli ár</td></tr>",
                            "<tr><td>Képeslap WD +boríték</td><td>képeslap</td><td>118</td><td>Átlagon felüli ár</td></tr>",
                            "<tr><td>Képkirakó Dirib-darab</td><td>képkirakó</td><td>195</td><td>Átlagon aluli ár</td></tr>",
                            "<tr><td>kosztüm (hosszú)</td><td>kosztüm</td><td>46000</td><td>Átlagon felüli ár</td></tr>",
                            "<tr><td>kosztüm (rövid)</td><td>kosztüm</td><td>39000</td><td>Átlagon aluli ár</td></tr>",
                            "<tr><td>Körző</td><td>körző</td><td>161</td><td>Átlagon felüli ár</td></tr>",
                            "<tr><td>Körző maped</td><td>körző</td><td>243</td><td>Átlagon felüli ár</td></tr>",
                            "<tr><td>Körzőhegy grafit</td><td>körző</td><td>30</td><td>Átlagon aluli ár</td></tr>",
                            "<tr><td>Kreatív A/4 120g </td><td>kreatív</td><td>13</td><td>Átlagon felüli ár</td></tr>",
                            "<tr><td>Kreatív A/4 300g </td><td>kreatív</td><td>4</td><td>Átlagon aluli ár</td></tr>",
                            "<tr><td>Kulcstartó autós</td><td>kulcstartó</td><td>115</td><td>Átlagon aluli ár</td></tr>",
                            "<tr><td>Kulcstartó billiárd golyós</td><td>kulcstartó</td><td>148</td><td>Átlagon felüli ár</td></tr>",
                            "<tr><td>Kulcstartó Csőrikés</td><td>kulcstartó</td><td>124</td><td>Átlagon felüli ár</td></tr>",
                            "<tr><td>Kulcstartó figurás</td><td>kulcstartó</td><td>103</td><td>Átlagon aluli ár</td></tr>",
                            "<tr><td>Kulcstartó intarziás állatos</td><td>kulcstartó</td><td>155</td><td>Átlagon felüli ár</td></tr>",
                            "<tr><td>Kulcstartó mesefigurás</td><td>kulcstartó</td><td>36</td><td>Átlagon aluli ár</td></tr>",
                            "<tr><td>Kulcstartó nagyítós</td><td>kulcstartó</td><td>129</td><td>Átlagon felüli ár</td></tr>",
                            "<tr><td>Gumilabda közepes</td><td>labda</td><td>110</td><td>Átlagon felüli ár</td></tr>",
                            "<tr><td>Tenisz labda</td><td>labda</td><td>81</td><td>Átlagon aluli ár</td></tr>",
                            "<tr><td>Levélpapír A/4</td><td>levélpapír</td><td>15</td><td>Átlagon aluli ár</td></tr>",
                            "<tr><td>Levélpapír állatos</td><td>levélpapír</td><td>140</td><td>Átlagon felüli ár</td></tr>",
                            "<tr><td>Levélpapír sima</td><td>levélpapír</td><td>56</td><td>Átlagon aluli ár</td></tr>",
                            "<tr><td>Levélpapír szett </td><td>levélpapír</td><td>74</td><td>Átlagon aluli ár</td></tr>",
                            "<tr><td>Levélpapír szett</td><td>levélpapír</td><td>89</td><td>Átlagon aluli ár</td></tr>",
                            "<tr><td>Levélpapír szett natur, mintás</td><td>levélpapír</td><td>103</td><td>Átlagon felüli ár</td></tr>",
                            "<tr><td>Levélpapír szett virágos</td><td>levélpapír</td><td>169</td><td>Átlagon felüli ár</td></tr>",
                            "<tr><td>Lufi formázható</td><td>lufi</td><td>15</td><td>Átlagon felüli ár</td></tr>",
                            "<tr><td>Lufi hullámos</td><td>lufi</td><td>11</td><td>Átlagon aluli ár</td></tr>",
                            "<tr><td>Lyukasztó BOXER</td><td>lyukasztó</td><td>765</td><td>Átlagon felüli ár</td></tr>",
                            "<tr><td>Lyukasztó EAGLE</td><td>lyukasztó</td><td>526</td><td>Átlagon aluli ár</td></tr>",
                            "<tr><td>Gumis mappa </td><td>mappa</td><td>148</td><td>Átlagon aluli ár</td></tr>",
                            "<tr><td>Gumis mappa csomagolt</td><td>mappa</td><td>195</td><td>Átlagon aluli ár</td></tr>",
                            "<tr><td>Gumis mappa fóliázott állatos</td><td>mappa</td><td>211</td><td>Átlagon aluli ár</td></tr>",
                            "<tr><td>Gumis mappa Köbüki</td><td>mappa</td><td>191</td><td>Átlagon aluli ár</td></tr>",
                            "<tr><td>Mappa bemutató</td><td>mappa</td><td>184</td><td>Átlagon aluli ár</td></tr>",
                            "<tr><td>Mappa bőr A5</td><td>mappa</td><td>1765</td><td>Átlagon felüli ár</td></tr>",
                            "<tr><td>Mappa müa A/4</td><td>mappa</td><td>210</td><td>Átlagon aluli ár</td></tr>",
                            "<tr><td>Mappa PVC villámzáras</td><td>mappa</td><td>264</td><td>Átlagon aluli ár</td></tr>",
                            "<tr><td>Mappa PVC villámzáras  képes</td><td>mappa</td><td>360</td><td>Átlagon aluli ár</td></tr>",
                            "<tr><td>Matrica állatos</td><td>matrica</td><td>55</td><td>Átlagon aluli ár</td></tr>",
                            "<tr><td>Matrica autóra H</td><td>matrica</td><td>49</td><td>Átlagon aluli ár</td></tr>",
                            "<tr><td>Matrica motoros kicsi</td><td>matrica</td><td>49</td><td>Átlagon aluli ár</td></tr>",
                            "<tr><td>Matrica Stickers nagy állatos</td><td>matrica</td><td>109</td><td>Átlagon felüli ár</td></tr>",
                            "<tr><td>Matrica Stickers szíves</td><td>matrica</td><td>93</td><td>Átlagon aluli ár</td></tr>",
                            "<tr><td>Matrica Test ékszer tattoo</td><td>matrica</td><td>161</td><td>Átlagon felüli ár</td></tr>",
                            "<tr><td>Matrica tetoválás</td><td>matrica</td><td>168</td><td>Átlagon felüli ár</td></tr>",
                            "<tr><td>Matrica tetoválós kicsi</td><td>matrica</td><td>148</td><td>Átlagon felüli ár</td></tr>",
                            "<tr><td>Matrica világítós </td><td>matrica</td><td>175</td><td>Átlagon felüli ár</td></tr>",
                            "<tr><td>Matrica WD kicsi</td><td>matrica</td><td>56</td><td>Átlagon aluli ár</td></tr>",
                            "<tr><td>Esküvői meghívó</td><td>meghívó</td><td>59</td><td>Átlagon aluli ár</td></tr>",
                            "<tr><td>Meghívó állatos</td><td>meghívó</td><td>155</td><td>Átlagon felüli ár</td></tr>",
                            "<tr><td>Meghívó ballagási</td><td>meghívó</td><td>63</td><td>Átlagon aluli ár</td></tr>",
                            "<tr><td>Meghívó borítékos</td><td>meghívó</td><td>169</td><td>Átlagon felüli ár</td></tr>",
                            "<tr><td>Miliméterpapír</td><td>miliméterpapír</td><td>8</td><td>Átlagon aluli ár</td></tr>",
                            "<tr><td>A föld amelyen élünk - munkafüzet</td><td>munkafüzet</td><td>440</td><td>Átlagon felüli ár</td></tr>",
                            "<tr><td>Anyanyelvi gyakorló 2</td><td>munkafüzet</td><td>293</td><td>Átlagon aluli ár</td></tr>",
                            "<tr><td>Anyanyelvi gyakorló 3</td><td>munkafüzet</td><td>353</td><td>Átlagon aluli ár</td></tr>",
                            "<tr><td>Fizika munkafüzet 13 év.</td><td>munkafüzet</td><td>198</td><td>Átlagon aluli ár</td></tr>",
                            "<tr><td>Fizika munkafüzet 14 év.</td><td>munkafüzet</td><td>190</td><td>Átlagon aluli ár</td></tr>",
                            "<tr><td>Matematika gyakorló 2</td><td>munkafüzet</td><td>403</td><td>Átlagon felüli ár</td></tr>",
                            "<tr><td>Matematika gyakorló 3</td><td>munkafüzet</td><td>403</td><td>Átlagon felüli ár</td></tr>",
                            "<tr><td>Matematika gyakorló 4</td><td>munkafüzet</td><td>403</td><td>Átlagon felüli ár</td></tr>",
                            "<tr><td>Összefoglaló feladatgyüjtemény számtech.</td><td>munkafüzet</td><td>785</td><td>Átlagon felüli ár</td></tr>",
                            "<tr><td>Műnyomó 300g 17,5*20</td><td>műnyomó</td><td>3</td><td>Átlagon aluli ár</td></tr>",
                            "<tr><td>Naptár 24-es</td><td>naptár</td><td>89</td><td>Átlagon aluli ár</td></tr>",
                            "<tr><td>Naptárhát kicsi</td><td>naptárhát</td><td>15</td><td>Átlagon aluli ár</td></tr>",
                            "<tr><td>Naptárhát nagy</td><td>naptárhát</td><td>78</td><td>Átlagon felüli ár</td></tr>",
                            "<tr><td>Névjegytartó kicsi</td><td>névjegytartó</td><td>310</td><td>Átlagon aluli ár</td></tr>",
                            "<tr><td>Notesz A/5 sima</td><td>notesz</td><td>103</td><td>Átlagon felüli ár</td></tr>",
                            "<tr><td>Notesz A/5 sima spirál</td><td>notesz</td><td>89</td><td>Átlagon felüli ár</td></tr>",
                            "<tr><td>Notesz A/6 College</td><td>notesz</td><td>56</td><td>Átlagon aluli ár</td></tr>",
                            "<tr><td>Notesz mintás</td><td>notesz</td><td>44</td><td>Átlagon aluli ár</td></tr>",
                            "<tr><td>Notesz sima spirál College</td><td>notesz</td><td>103</td><td>Átlagon felüli ár</td></tr>",
                            "<tr><td>női szövet kabát</td><td>női kabát</td><td>24000</td><td>Átlagon aluli ár</td></tr>",
                            "<tr><td>női farmer nadrág</td><td>női nadrág</td><td>8290</td><td>Átlagon aluli ár</td></tr>",
                            "<tr><td>Színes ofszet B/4</td><td>ofszet</td><td>4</td><td>Átlagon aluli ár</td></tr>",
                            "<tr><td>Oklevél A/4 egyszínű</td><td>oklevél</td><td>48</td><td>Átlagon aluli ár</td></tr>",
                            "<tr><td>Oklevél A/4 színes</td><td>oklevél</td><td>55</td><td>Átlagon felüli ár</td></tr>",
                            "<tr><td>Olló gyerek </td><td>olló</td><td>133</td><td>Átlagon aluli ár</td></tr>",
                            "<tr><td>Olló Tagit 18 cm-es</td><td>olló</td><td>176</td><td>Átlagon felüli ár</td></tr>",
                            "<tr><td>Olló, iskolai</td><td>olló</td><td>161</td><td>Átlagon felüli ár</td></tr>",
                            "<tr><td>Öntapadó A/4</td><td>öntapadó</td><td>4575</td><td>Átlagon felüli ár</td></tr>",
                            "<tr><td>Öntapadós hologramos papír A/4</td><td>öntapadó</td><td>59</td><td>Átlagon aluli ár</td></tr>",
                            "<tr><td>Papízsebkendő,10db Szindy</td><td>papízsebkendő</td><td>20</td><td>Átlagon aluli ár</td></tr>",
                            "<tr><td>Pausz papír A/4</td><td>pausz</td><td>15</td><td>Átlagon aluli ár</td></tr>",
                            "<tr><td>Bevételi pénztárbizonylat 3×25</td><td>pénztárbizonylat</td><td>144</td><td>Átlagon felüli ár</td></tr>",
                            "<tr><td>Kiadási pénztárbizonylat 2×25</td><td>pénztárbizonylat</td><td>103</td><td>Átlagon aluli ár</td></tr>",
                            "<tr><td>Pénztárgépsz. 2 pl. nem öníró</td><td>pénztárgépszalag</td><td>81</td><td>Átlagon aluli ár</td></tr>",
                            "<tr><td>Pénztárgépszalag 2pl SC 57.5/60</td><td>pénztárgépszalag</td><td>93</td><td>Átlagon felüli ár</td></tr>",
                            "<tr><td>Pixiron  UNI</td><td>pixiron</td><td>276</td><td>Átlagon felüli ár</td></tr>",
                            "<tr><td>Pixiron 0,7 Handy</td><td>pixiron</td><td>125</td><td>Átlagon aluli ár</td></tr>",
                            "<tr><td>Pixiron Centrum</td><td>pixiron</td><td>59</td><td>Átlagon aluli ár</td></tr>",
                            "<tr><td>Pixiron Handy fém</td><td>pixiron</td><td>133</td><td>Átlagon aluli ár</td></tr>",
                            "<tr><td>Pixiron Handy műanyag</td><td>pixiron</td><td>94</td><td>Átlagon aluli ár</td></tr>",
                            "<tr><td>Pixiron KOH-I-NOOR</td><td>pixiron</td><td>468</td><td>Átlagon felüli ár</td></tr>",
                            "<tr><td>Pixiron mini </td><td>pixiron</td><td>59</td><td>Átlagon aluli ár</td></tr>",
                            "<tr><td>Pixiron Penac</td><td>pixiron</td><td>235</td><td>Átlagon felüli ár</td></tr>",
                            "<tr><td>Pixiron Pentel színes</td><td>pixiron</td><td>299</td><td>Átlagon felüli ár</td></tr>",
                            "<tr><td>Plüss  QX állatok</td><td>plüss</td><td>173</td><td>Átlagon aluli ár</td></tr>",
                            "<tr><td>Plüss kicsi</td><td>plüss</td><td>161</td><td>Átlagon aluli ár</td></tr>",
                            "<tr><td>Plüss sárkány</td><td>plüss</td><td>314</td><td>Átlagon felüli ár</td></tr>",
                            "<tr><td>Post-it 51×38 100 lapos</td><td>post-it</td><td>36</td><td>Átlagon aluli ár</td></tr>",
                            "<tr><td>Post-it 75×75 100 lapos</td><td>post-it</td><td>89</td><td>Átlagon felüli ár</td></tr>",
                            "<tr><td>Radír gyümölcsös</td><td>radír</td><td>40</td><td>Átlagon aluli ár</td></tr>",
                            "<tr><td>Radír Koh-i-nor 40</td><td>radír</td><td>36</td><td>Átlagon aluli ár</td></tr>",
                            "<tr><td>Radír KOH-I-NOR 80</td><td>radír</td><td>19</td><td>Átlagon aluli ár</td></tr>",
                            "<tr><td>Radír Maped</td><td>radír</td><td>44</td><td>Átlagon felüli ár</td></tr>",
                            "<tr><td>Radír stabilo</td><td>radír</td><td>44</td><td>Átlagon felüli ár</td></tr>",
                            "<tr><td>Radír Tikky 30 </td><td>radír</td><td>50</td><td>Átlagon felüli ár</td></tr>",
                            "<tr><td>Radír Tikky 40 </td><td>radír</td><td>49</td><td>Átlagon felüli ár</td></tr>",
                            "<tr><td>Radírtoll betét ER100</td><td>radírtoll</td><td>74</td><td>Átlagon aluli ár</td></tr>",
                            "<tr><td>Radírtoll betét vastag</td><td>radírtoll</td><td>119</td><td>Átlagon felüli ár</td></tr>",
                            "<tr><td>Pill.ragasztó</td><td>ragasztó</td><td>103</td><td>Átlagon aluli ár</td></tr>",
                            "<tr><td>Ragasztó 8 g Pritt</td><td>ragasztó</td><td>81</td><td>Átlagon aluli ár</td></tr>",
                            "<tr><td>Ragasztó 9 g Pax</td><td>ragasztó</td><td>110</td><td>Átlagon aluli ár</td></tr>",
                            "<tr><td>Ragasztó Gyurma</td><td>ragasztó</td><td>293</td><td>Átlagon felüli ár</td></tr>",
                            "<tr><td>Ragasztó kenőfejes Nebuló</td><td>ragasztó</td><td>101</td><td>Átlagon aluli ár</td></tr>",
                            "<tr><td>Ragasztó kores</td><td>ragasztó</td><td>89</td><td>Átlagon aluli ár</td></tr>",
                            "<tr><td>Ragasztó szalag KORES </td><td>ragasztó</td><td>133</td><td>Átlagon aluli ár</td></tr>",
                            "<tr><td>Ragasztó, Technokol 35g kék</td><td>ragasztó</td><td>144</td><td>Átlagon aluli ár</td></tr>",
                            "<tr><td>Ragasztó, Technokol 35g piros</td><td>ragasztó</td><td>144</td><td>Átlagon aluli ár</td></tr>",
                            "<tr><td>Ragasztószalag 19 mm-es SCOTCH+ tépő</td><td>ragasztó</td><td>426</td><td>Átlagon felüli ár</td></tr>",
                            "<tr><td>Ragasztószalag  TIXO</td><td>ragasztószalag</td><td>15</td><td>Átlagon aluli ár</td></tr>",
                            "<tr><td>Ragasztószalag 19 mm-es</td><td>ragasztószalag</td><td>55</td><td>Átlagon aluli ár</td></tr>",
                            "<tr><td>Ragasztószalag nagy 12 mm</td><td>ragasztószalag</td><td>63</td><td>Átlagon aluli ár</td></tr>",
                            "<tr><td>Ragasztószalag széles barna</td><td>ragasztószalag</td><td>166</td><td>Átlagon felüli ár</td></tr>",
                            "<tr><td>Rágógumi Orbit</td><td>rágógumi</td><td>89</td><td>Átlagon aluli ár</td></tr>",
                            "<tr><td>félfamentes rajzlap A4 (10 lap)</td><td>rajzlap</td><td>342</td><td>Átlagon felüli ár</td></tr>",
                            "<tr><td>Rajzlap A/4 10db ffam.</td><td>rajzlap</td><td>28</td><td>Átlagon aluli ár</td></tr>",
                            "<tr><td>Rajzszeg</td><td>rajzszeg</td><td>63</td><td>Átlagon aluli ár</td></tr>",
                            "<tr><td>Rajzszeg színes</td><td>rajzszeg</td><td>106</td><td>Átlagon felüli ár</td></tr>",
                            "<tr><td>Regiszteres füzet A4</td><td>regiszteres füzet</td><td>256</td><td>Átlagon felüli ár</td></tr>",
                            "<tr><td>Regiszteres füzet A5 Hightech</td><td>regiszteres füzet</td><td>203</td><td>Átlagon aluli ár</td></tr>",
                            "<tr><td>sál</td><td>sál</td><td>1990</td><td>Átlagon aluli ár</td></tr>",
                            "<tr><td>Spirál 1/4 </td><td>spirál</td><td>45</td><td>Átlagon aluli ár</td></tr>",
                            "<tr><td>Strandlabda </td><td>strandlabda</td><td>356</td><td>Átlagon aluli ár</td></tr>",
                            "<tr><td>Szalvéta </td><td>szalvéta</td><td>176</td><td>Átlagon felüli ár</td></tr>",
                            "<tr><td>Szalvéta dekor</td><td>szalvéta</td><td>133</td><td>Átlagon aluli ár</td></tr>",
                            "<tr><td>Szalvéta egyszínű</td><td>szalvéta</td><td>118</td><td>Átlagon aluli ár</td></tr>",
                            "<tr><td>Szalvéta Goma húsvéti</td><td>szalvéta</td><td>175</td><td>Átlagon felüli ár</td></tr>",
                            "<tr><td>Szalvéta gyűjtőknek</td><td>szalvéta</td><td>183</td><td>Átlagon felüli ár</td></tr>",
                            "<tr><td>Szalvéta kicsi virágos</td><td>szalvéta</td><td>161</td><td>Átlagon felüli ár</td></tr>",
                            "<tr><td>Számológép Roxin</td><td>számológép</td><td>508</td><td>Átlagon aluli ár</td></tr>",
                            "<tr><td>Számológép tudományos</td><td>számológép</td><td>1173</td><td>Átlagon felüli ár</td></tr>",
                            "<tr><td>Szemetes zsák 60 literes</td><td>szemetes</td><td>129</td><td>Átlagon aluli ár</td></tr>",
                            "<tr><td>Színes ceruza 12 szín</td><td>színes</td><td>161</td><td>Átlagon felüli ár</td></tr>",
                            "<tr><td>Színes ceruza 6-os</td><td>színes</td><td>99</td><td>Átlagon aluli ár</td></tr>",
                            "<tr><td>Szögmérő 180 fokos műa.</td><td>szögmérő</td><td>24</td><td>Átlagon felüli ár</td></tr>",
                            "<tr><td>Szögmérő papír</td><td>szögmérő</td><td>11</td><td>Átlagon aluli ár</td></tr>",
                            "<tr><td>Szögmérő színes</td><td>szögmérő</td><td>8</td><td>Átlagon aluli ár</td></tr>",
                            "<tr><td>Szövegkiemelő</td><td>szövegkiemelő</td><td>78</td><td>Átlagon aluli ár</td></tr>",
                            "<tr><td>Szövegkiemelő </td><td>szövegkiemelő</td><td>93</td><td>Átlagon aluli ár</td></tr>",
                            "<tr><td>Szövegkiemelő Staedtler</td><td>szövegkiemelő</td><td>140</td><td>Átlagon felüli ár</td></tr>",
                            "<tr><td>Szövegkiemelő vékony</td><td>szövegkiemelő</td><td>89</td><td>Átlagon aluli ár</td></tr>",
                            "<tr><td>Szövegkiemelő Videotip</td><td>szövegkiemelő</td><td>103</td><td>Átlagon felüli ár</td></tr>",
                            "<tr><td>Táblafilc</td><td>táblafilc</td><td>633</td><td>Átlagon aluli ár</td></tr>",
                            "<tr><td>Tapétavágó kés</td><td>tapétavágó</td><td>40</td><td>Átlagon aluli ár</td></tr>",
                            "<tr><td>Tempera szóló ezüst</td><td>tempera</td><td>96</td><td>Átlagon felüli ár</td></tr>",
                            "<tr><td>Tempera szóló színes</td><td>tempera</td><td>48</td><td>Átlagon aluli ár</td></tr>",
                            "<tr><td>Térképtű színes</td><td>térképtű</td><td>103</td><td>Átlagon aluli ár</td></tr>",
                            "<tr><td>Tintapatron /kék/</td><td>tintapatron</td><td>9</td><td>Átlagon aluli ár</td></tr>",
                            "<tr><td>Tintapatron 30 db-os kék</td><td>tintapatron</td><td>360</td><td>Átlagon felüli ár</td></tr>",
                            "<tr><td>Tintapatron színes</td><td>tintapatron</td><td>11</td><td>Átlagon aluli ár</td></tr>",
                            "<tr><td>Kerámiatoll</td><td>toll</td><td>74</td><td>Átlagon aluli ár</td></tr>",
                            "<tr><td>Toll Centropen roller</td><td>toll</td><td>80</td><td>Átlagon felüli ár</td></tr>",
                            "<tr><td>G. toll betét mini</td><td>tollbetét</td><td>30</td><td>Átlagon aluli ár</td></tr>",
                            "<tr><td>G. toll betét mini fém</td><td>tollbetét</td><td>55</td><td>Átlagon aluli ár</td></tr>",
                            "<tr><td>G. toll betét réz</td><td>tollbetét</td><td>30</td><td>Átlagon aluli ár</td></tr>",
                            "<tr><td>G. toll betét S7S</td><td>tollbetét</td><td>80</td><td>Átlagon aluli ár</td></tr>",
                            "<tr><td>G. toll betét UNI lachnok Fine SA-7C</td><td>tollbetét</td><td>85</td><td>Átlagon aluli ár</td></tr>",
                            "<tr><td>G.toll betét csavaros</td><td>tollbetét</td><td>55</td><td>Átlagon aluli ár</td></tr>",
                            "<tr><td>G.toll betét görbe hegyű</td><td>tollbetét</td><td>39</td><td>Átlagon aluli ár</td></tr>",
                            "<tr><td>G.toll betét illatos</td><td>tollbetét</td><td>44</td><td>Átlagon aluli ár</td></tr>",
                            "<tr><td>G.toll betét jumbo</td><td>tollbetét</td><td>33</td><td>Átlagon aluli ár</td></tr>",
                            "<tr><td>G.toll betét Parker </td><td>tollbetét</td><td>684</td><td>Átlagon felüli ár</td></tr>",
                            "<tr><td>G.toll betét PAX</td><td>tollbetét</td><td>123</td><td>Átlagon felüli ár</td></tr>",
                            "<tr><td>G.toll betét PAX tip.</td><td>tollbetét</td><td>48</td><td>Átlagon aluli ár</td></tr>",
                            "<tr><td>G.toll betét S7L </td><td>tollbetét</td><td>91</td><td>Átlagon aluli ár</td></tr>",
                            "<tr><td>G.toll betét Stabilo</td><td>tollbetét</td><td>23</td><td>Átlagon aluli ár</td></tr>",
                            "<tr><td>G.toll betét X20</td><td>tollbetét</td><td>15</td><td>Átlagon aluli ár</td></tr>",
                            "<tr><td>G.toll betét Zebra F-0.7</td><td>tollbetét</td><td>228</td><td>Átlagon felüli ár</td></tr>",
                            "<tr><td>G.toll betét Zebra H-0,7</td><td>tollbetét</td><td>78</td><td>Átlagon aluli ár</td></tr>",
                            "<tr><td>G.toll betét Zebra K-0,7</td><td>tollbetét</td><td>89</td><td>Átlagon aluli ár</td></tr>",
                            "<tr><td>Tolltartó 1 zipzáros</td><td>tolltartó</td><td>728</td><td>Átlagon felüli ár</td></tr>",
                            "<tr><td>Tolltartó 2 részes NG.</td><td>tolltartó</td><td>765</td><td>Átlagon felüli ár</td></tr>",
                            "<tr><td>Tolltartó 2 zipzáros töltött</td><td>tolltartó</td><td>728</td><td>Átlagon felüli ár</td></tr>",
                            "<tr><td>Tolltartó asztali</td><td>tolltartó</td><td>655</td><td>Átlagon felüli ár</td></tr>",
                            "<tr><td>Tolltartó Garfield</td><td>tolltartó</td><td>410</td><td>Átlagon aluli ár</td></tr>",
                            "<tr><td>Tolltartó hengeres </td><td>tolltartó</td><td>411</td><td>Átlagon aluli ár</td></tr>",
                            "<tr><td>Tolltartó zipzáras</td><td>tolltartó</td><td>324</td><td>Átlagon aluli ár</td></tr>",
                            "<tr><td>Oki toner C</td><td>toner</td><td>14250</td><td>Átlagon aluli ár</td></tr>",
                            "<tr><td>Töltőtoll tinta </td><td>töltőtoll</td><td>493</td><td>Átlagon aluli ár</td></tr>",
                            "<tr><td>irodai tűzőgép</td><td>tűzőgép</td><td>2100</td><td>Átlagon felüli ár</td></tr>",
                            "<tr><td>Tűzőgép Boxer </td><td>tűzőgép</td><td>286</td><td>Átlagon aluli ár</td></tr>",
                            "<tr><td>Tűzőgép Boxer 10</td><td>tűzőgép</td><td>339</td><td>Átlagon aluli ár</td></tr>",
                            "<tr><td>Tűzőgép EAGLE</td><td>tűzőgép</td><td>405</td><td>Átlagon aluli ár</td></tr>",
                            "<tr><td>Tűzőgép mini</td><td>tűzőgép</td><td>438</td><td>Átlagon aluli ár</td></tr>",
                            "<tr><td>Tűzőgép SAX 239</td><td>tűzőgép</td><td>1351</td><td>Átlagon felüli ár</td></tr>",
                            "<tr><td>Tűzőkapocs 10-es</td><td>tűzőkapocs</td><td>44</td><td>Átlagon felüli ár</td></tr>",
                            "<tr><td>Tűzőkapocs 24/6</td><td>tűzőkapocs</td><td>34</td><td>Átlagon aluli ár</td></tr>",
                            "<tr><td>Vízfesték  12 színű nagy</td><td>vízfesték</td><td>249</td><td>Átlagon felüli ár</td></tr>",
                            "<tr><td>Vízfesték 12 db-os </td><td>vízfesték</td><td>210</td><td>Átlagon felüli ár</td></tr>",
                            "<tr><td>Vízfesték 12 színű kerek</td><td>vízfesték</td><td>180</td><td>Átlagon aluli ár</td></tr>",
                            "<tr><td>Vízfesték 12db-os kínai</td><td>vízfesték</td><td>176</td><td>Átlagon aluli ár</td></tr>",
                            "<tr><td>Vonalzó 15 cm-es ESSELTE</td><td>vonalzó</td><td>58</td><td>Átlagon felüli ár</td></tr>",
                            "<tr><td>Vonalzó 16 cm-es LIZZY</td><td>vonalzó</td><td>30</td><td>Átlagon aluli ár</td></tr>",
                            "<tr><td>Vonalzó 20 cm-es </td><td>vonalzó</td><td>30</td><td>Átlagon aluli ár</td></tr>",
                            "<tr><td>Vonalzó 30 cm</td><td>vonalzó</td><td>30</td><td>Átlagon aluli ár</td></tr>",
                            "<tr><td>Vonalzó 45 fokos</td><td>vonalzó</td><td>30</td><td>Átlagon aluli ár</td></tr>",
                            "<tr><td>Vonalzó 60 fokos</td><td>vonalzó</td><td>33</td><td>Átlagon aluli ár</td></tr>",
                            "<tr><td>Zászló papír</td><td>zászló</td><td>20</td><td>Átlagon aluli ár</td></tr>",
                            "<tr><td>Zselés toll </td><td>zseléstoll</td><td>95</td><td>Átlagon aluli ár</td></tr>",
                            "<tr><td>Zselés toll MICRO</td><td>zseléstoll</td><td>66</td><td>Átlagon aluli ár</td></tr>",
                            "<tr><td>Zselés toll Muhnwa</td><td>zseléstoll</td><td>161</td><td>Átlagon felüli ár</td></tr>",
                            "<tr><td>Zseléstoll Lizzy Card</td><td>zseléstoll</td><td>228</td><td>Átlagon felüli ár</td></tr>",
                            "<tr><td>Írásvetítő fólia</td><td>írásvetítő fólia</td><td>81</td><td>Átlagon aluli ár</td></tr>",
                            "</table>"
                        ]
                    }
                }
            ],
            "execution_count": 51
        },
        {
            "cell_type": "code",
            "source": [
                "SELECT FELVITTE,\r\n",
                "    CASE \r\n",
                "        WHEN LISTAAR > 1000 THEN 'Drága'\r\n",
                "        WHEN LISTAAR < 100 THEN 'Olcsó'\r\n",
                "        ELSE 'Átlagos'\r\n",
                "    END AS 'Ár', COUNT(TERMEKKOD) 'Termék szám'\r\n",
                "FROM Termek\r\n",
                "GROUP BY FELVITTE, \r\n",
                "    CASE \r\n",
                "        WHEN LISTAAR > 1000 THEN 'Drága'\r\n",
                "        WHEN LISTAAR < 100 THEN 'Olcsó'\r\n",
                "        ELSE 'Átlagos'\r\n",
                "    END"
            ],
            "metadata": {
                "azdata_cell_guid": "930abfe0-eb4e-4ae7-a0ad-7cf0b18be6ff",
                "language": "sql"
            },
            "outputs": [
                {
                    "output_type": "display_data",
                    "data": {
                        "text/html": "(9 rows affected)"
                    },
                    "metadata": {}
                },
                {
                    "output_type": "display_data",
                    "data": {
                        "text/html": "Total execution time: 00:00:00.026"
                    },
                    "metadata": {}
                },
                {
                    "output_type": "execute_result",
                    "execution_count": 83,
                    "data": {
                        "application/vnd.dataresource+json": {
                            "schema": {
                                "fields": [
                                    {
                                        "name": "FELVITTE"
                                    },
                                    {
                                        "name": "Ár"
                                    },
                                    {
                                        "name": "Termék szám"
                                    }
                                ]
                            },
                            "data": [
                                {
                                    "FELVITTE": "Béla",
                                    "Ár": "Átlagos",
                                    "Termék szám": "71"
                                },
                                {
                                    "FELVITTE": "Mari",
                                    "Ár": "Átlagos",
                                    "Termék szám": "78"
                                },
                                {
                                    "FELVITTE": "Sára",
                                    "Ár": "Átlagos",
                                    "Termék szám": "90"
                                },
                                {
                                    "FELVITTE": "Béla",
                                    "Ár": "Drága",
                                    "Termék szám": "7"
                                },
                                {
                                    "FELVITTE": "Mari",
                                    "Ár": "Drága",
                                    "Termék szám": "12"
                                },
                                {
                                    "FELVITTE": "Sára",
                                    "Ár": "Drága",
                                    "Termék szám": "21"
                                },
                                {
                                    "FELVITTE": "Béla",
                                    "Ár": "Olcsó",
                                    "Termék szám": "111"
                                },
                                {
                                    "FELVITTE": "Mari",
                                    "Ár": "Olcsó",
                                    "Termék szám": "84"
                                },
                                {
                                    "FELVITTE": "Sára",
                                    "Ár": "Olcsó",
                                    "Termék szám": "77"
                                }
                            ]
                        },
                        "text/html": "<table><tr><th>FELVITTE</th><th>Ár</th><th>Termék szám</th></tr><tr><td>Béla</td><td>Átlagos</td><td>71</td></tr><tr><td>Mari</td><td>Átlagos</td><td>78</td></tr><tr><td>Sára</td><td>Átlagos</td><td>90</td></tr><tr><td>Béla</td><td>Drága</td><td>7</td></tr><tr><td>Mari</td><td>Drága</td><td>12</td></tr><tr><td>Sára</td><td>Drága</td><td>21</td></tr><tr><td>Béla</td><td>Olcsó</td><td>111</td></tr><tr><td>Mari</td><td>Olcsó</td><td>84</td></tr><tr><td>Sára</td><td>Olcsó</td><td>77</td></tr></table>"
                    },
                    "metadata": {}
                }
            ],
            "execution_count": 83
        }
    ]
}