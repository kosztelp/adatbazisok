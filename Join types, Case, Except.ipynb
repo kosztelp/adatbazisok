{
    "metadata": {
        "kernelspec": {
            "name": "SQL",
            "display_name": "SQL",
            "language": "sql"
        },
        "language_info": {
            "name": "sql",
            "version": ""
        }
    },
    "nbformat_minor": 2,
    "nbformat": 4,
    "cells": [
        {
            "cell_type": "code",
            "source": [
                "SELECT n.nap, COUNT(o.ora_id) as \"Órák Száma\"\r\n",
                "FROM orak o INNER JOIN Napok n ON o.nap = n.nap_id\r\n",
                "GROUP BY n.nap\r\n",
                "ORDER BY COUNT(o.ora_id)"
            ],
            "metadata": {
                "azdata_cell_guid": "9e1b8561-7736-4ecb-994e-2ef4481c96f9",
                "language": "sql",
                "tags": []
            },
            "outputs": [
                {
                    "output_type": "display_data",
                    "data": {
                        "text/html": "(5 rows affected)"
                    },
                    "metadata": {}
                },
                {
                    "output_type": "display_data",
                    "data": {
                        "text/html": "Total execution time: 00:00:00.009"
                    },
                    "metadata": {}
                },
                {
                    "output_type": "execute_result",
                    "metadata": {},
                    "execution_count": 28,
                    "data": {
                        "application/vnd.dataresource+json": {
                            "schema": {
                                "fields": [
                                    {
                                        "name": "nap"
                                    },
                                    {
                                        "name": "Órák Száma"
                                    }
                                ]
                            },
                            "data": [
                                {
                                    "nap": "Péntek",
                                    "Órák Száma": "150"
                                },
                                {
                                    "nap": "Szerda",
                                    "Órák Száma": "150"
                                },
                                {
                                    "nap": "Kedd",
                                    "Órák Száma": "325"
                                },
                                {
                                    "nap": "Csütörtök",
                                    "Órák Száma": "475"
                                },
                                {
                                    "nap": "Hétfő",
                                    "Órák Száma": "575"
                                }
                            ]
                        },
                        "text/html": [
                            "<table>",
                            "<tr><th>nap</th><th>Órák Száma</th></tr>",
                            "<tr><td>Péntek</td><td>150</td></tr>",
                            "<tr><td>Szerda</td><td>150</td></tr>",
                            "<tr><td>Kedd</td><td>325</td></tr>",
                            "<tr><td>Csütörtök</td><td>475</td></tr>",
                            "<tr><td>Hétfő</td><td>575</td></tr>",
                            "</table>"
                        ]
                    }
                }
            ],
            "execution_count": 28
        },
        {
            "cell_type": "code",
            "source": [
                "SELECT t.Tantárgynév, okt.nev\n",
                "-- tantárgyfelelős --\r\n",
                "FROM Tantárgyak t LEFT JOIN Orak o ON t.Tkód = o.targy\n",
                "                        JOIN Oktatok okt ON okt.oktato_id = t.Targyfelelős\n",
                "-- akkor is megjeleníti a left join a dolgokat ha nincs párja ellentétben az inner joinnal -- \n",
                "WHERE o.targy IS NULL"
            ],
            "metadata": {
                "azdata_cell_guid": "fd2c6573-c030-493d-9451-0c23c31046a1",
                "language": "sql"
            },
            "outputs": [
                {
                    "output_type": "error",
                    "evalue": "Msg 207, Level 16, State 1, Line 4\r\nInvalid column name 'Targyfelelős'.",
                    "ename": "",
                    "traceback": []
                },
                {
                    "output_type": "display_data",
                    "data": {
                        "text/html": "Total execution time: 00:00:00.002"
                    },
                    "metadata": {}
                }
            ],
            "execution_count": 29
        },
        {
            "cell_type": "code",
            "source": [
                "SELECT okt.oktato_id, okt.nev\r\n",
                "FROM Orak o JOIN Oktatok okt ON o.tanar = okt.oktato_id\r\n",
                "            JOIN Napok n ON o.nap = n.nap_id\r\n",
                "WHERE n.nap = \"hétfő\"\r\n",
                "\r\n",
                "UNION\r\n",
                "\r\n",
                "SELECT okt.oktato_id, okt.nev\r\n",
                "FROM Orak o JOIN Oktatok okt ON o.tanar = okt.oktato_id\r\n",
                "            JOIN Napok n ON o.nap = n.nap_id\r\n",
                "WHERE n.nap = \"kedd\""
            ],
            "metadata": {
                "azdata_cell_guid": "0a0b96a4-0225-4197-b08d-81bdf2d3d915",
                "language": "sql"
            },
            "outputs": [
                {
                    "output_type": "error",
                    "evalue": "Msg 207, Level 16, State 1, Line 4\r\nInvalid column name 'hétfő'.",
                    "ename": "",
                    "traceback": []
                },
                {
                    "output_type": "error",
                    "evalue": "Msg 207, Level 16, State 1, Line 11\r\nInvalid column name 'kedd'.",
                    "ename": "",
                    "traceback": []
                },
                {
                    "output_type": "display_data",
                    "data": {
                        "text/html": "Total execution time: 00:00:00.001"
                    },
                    "metadata": {}
                }
            ],
            "execution_count": 27
        },
        {
            "cell_type": "markdown",
            "source": [
                "Melyik nap nincsen órája Pelikán Józsefnek?"
            ],
            "metadata": {
                "azdata_cell_guid": "b89d42ab-6251-4ffc-a7c2-8326b9fe0a66"
            },
            "attachments": {}
        },
        {
            "cell_type": "code",
            "source": [
                "SELECT nap\r\n",
                "FROM Napok n \r\n",
                "\r\n",
                "EXCEPT\r\n",
                "\r\n",
                "SELECT n.nap\r\n",
                "FROM Orak o JOIN Napok n ON o.nap = n.nap_id\r\n",
                "        JOIN Oktatok okt ON o.tanar=okt.oktato_id\r\n",
                "WHERE okt.nev = 'Pelikán József'"
            ],
            "metadata": {
                "azdata_cell_guid": "7e8e4705-7d4b-480e-a9e1-115c0a1e085d",
                "language": "sql",
                "tags": []
            },
            "outputs": [
                {
                    "output_type": "error",
                    "evalue": "Msg 102, Level 15, State 1, Line 2\r\nIncorrect syntax near 'JOIN'.",
                    "ename": "",
                    "traceback": []
                },
                {
                    "output_type": "display_data",
                    "data": {
                        "text/html": "Total execution time: 00:00:00.002"
                    },
                    "metadata": {}
                }
            ],
            "execution_count": 30
        },
        {
            "cell_type": "code",
            "source": [
                "SELECT Kredit, COUNT(Tkód) as 'Darab tárgy'\r\n",
                "FROM Tantárgyak\r\n",
                "GROUP BY Kredit\r\n",
                "\r\n",
                "EXCEPT\r\n",
                "\r\n",
                "SELECT Kredit, COUNT(Tkód) as 'Darab tárgy'\r\n",
                "FROM Tantárgyak\r\n",
                "WHERE Tantárgynév = 'Folyami gáttan'\r\n",
                "GROUP BY Kredit\r\n",
                "HAVING COUNT(Tkód) = 1"
            ],
            "metadata": {
                "azdata_cell_guid": "38bc9ad1-8f7d-463e-a4ff-5011319a840e",
                "language": "sql",
                "tags": []
            },
            "outputs": [
                {
                    "output_type": "display_data",
                    "data": {
                        "text/html": "(6 rows affected)"
                    },
                    "metadata": {}
                },
                {
                    "output_type": "display_data",
                    "data": {
                        "text/html": "Total execution time: 00:00:00.074"
                    },
                    "metadata": {}
                },
                {
                    "output_type": "execute_result",
                    "metadata": {},
                    "execution_count": 33,
                    "data": {
                        "application/vnd.dataresource+json": {
                            "schema": {
                                "fields": [
                                    {
                                        "name": "Kredit"
                                    },
                                    {
                                        "name": "Darab tárgy"
                                    }
                                ]
                            },
                            "data": [
                                {
                                    "Kredit": "1",
                                    "Darab tárgy": "10"
                                },
                                {
                                    "Kredit": "2",
                                    "Darab tárgy": "20"
                                },
                                {
                                    "Kredit": "3",
                                    "Darab tárgy": "15"
                                },
                                {
                                    "Kredit": "4",
                                    "Darab tárgy": "10"
                                },
                                {
                                    "Kredit": "5",
                                    "Darab tárgy": "5"
                                },
                                {
                                    "Kredit": "6",
                                    "Darab tárgy": "5"
                                }
                            ]
                        },
                        "text/html": [
                            "<table>",
                            "<tr><th>Kredit</th><th>Darab tárgy</th></tr>",
                            "<tr><td>1</td><td>10</td></tr>",
                            "<tr><td>2</td><td>20</td></tr>",
                            "<tr><td>3</td><td>15</td></tr>",
                            "<tr><td>4</td><td>10</td></tr>",
                            "<tr><td>5</td><td>5</td></tr>",
                            "<tr><td>6</td><td>5</td></tr>",
                            "</table>"
                        ]
                    }
                }
            ],
            "execution_count": 33
        },
        {
            "cell_type": "markdown",
            "source": [
                "13.feladat"
            ],
            "metadata": {
                "azdata_cell_guid": "f80c1380-624b-4007-8111-42409b3d5aee"
            },
            "attachments": {}
        },
        {
            "cell_type": "code",
            "source": [
                "SELECT okt.nev AS 'Oktató neve'\r\n",
                "        b.elvart AS 'Elvárt Óraszám'\r\n",
                "        -- tényleges óraszám --\r\n",
                "        COUNT(*) AS 'Tényleges óraszám'\r\n",
                "FROM Orak o JOIN Oktatok okt ON o.tanar = okt.oktato_id\r\n",
                "            JOIN Beosztasok b ON okt.beosztás = b.beosztas_id\r\n",
                "GROUP BY okt.nev, b.elvart\r\n",
                "HAVING COUNT(*) = b.elvart"
            ],
            "metadata": {
                "azdata_cell_guid": "fcefd6aa-0f47-41e5-99a7-f13c3fec55a1",
                "language": "sql"
            },
            "outputs": [],
            "execution_count": null
        },
        {
            "cell_type": "markdown",
            "source": [
                "11.Feladat"
            ],
            "metadata": {
                "azdata_cell_guid": "dba208c9-e5f2-4529-b71e-8aaabf143c7b"
            },
            "attachments": {}
        },
        {
            "cell_type": "code",
            "source": [
                "SELECT oktato_id, beosztás, [status], \r\n",
                "        CASE\r\n",
                "            WHEN titulus IS NULL THEN nev\r\n",
                "            ELSE titulus + ' ' + nev\r\n",
                "        END AS 'titulos és név'\r\n",
                "FROM Oktatok\r\n",
                "ORDER BY beosztás, [status]"
            ],
            "metadata": {
                "azdata_cell_guid": "33747879-dc35-4d5a-81ef-724e328b532a",
                "language": "sql"
            },
            "outputs": [
                {
                    "output_type": "error",
                    "evalue": "Msg 207, Level 16, State 1, Line 1\r\nInvalid column name 'titulos'.",
                    "ename": "",
                    "traceback": []
                },
                {
                    "output_type": "error",
                    "evalue": "Msg 207, Level 16, State 1, Line 3\r\nInvalid column name 'beosztas'.",
                    "ename": "",
                    "traceback": []
                },
                {
                    "output_type": "display_data",
                    "data": {
                        "text/html": "Total execution time: 00:00:00.002"
                    },
                    "metadata": {}
                }
            ],
            "execution_count": 34
        }
    ]
}