{
    "metadata": {
        "kernelspec": {
            "name": "SQL",
            "display_name": "SQL",
            "language": "sql"
        },
        "language_info": {
            "name": "sql",
            "version": ""
        }
    },
    "nbformat_minor": 2,
    "nbformat": 4,
    "cells": [
        {
            "cell_type": "code",
            "source": [
                "SELECT USERNEV, NEV, UPPER(LEFT(Nev, 1) + RIGHT(Nev, 1))\r\n",
                "FROM Vendeg\r\n",
                "WHERE RIGHT(EMAIL, 3) = '.hu'\r\n",
                "    -- LIKE '%.hu'"
            ],
            "metadata": {
                "azdata_cell_guid": "f91dd9e2-11e4-447e-843c-7cc6ff97031e",
                "language": "sql"
            },
            "outputs": [
                {
                    "output_type": "display_data",
                    "data": {
                        "text/html": "(107 rows affected)"
                    },
                    "metadata": {}
                },
                {
                    "output_type": "display_data",
                    "data": {
                        "text/html": "Total execution time: 00:00:00.048"
                    },
                    "metadata": {}
                },
                {
                    "output_type": "execute_result",
                    "execution_count": 6,
                    "data": {
                        "application/vnd.dataresource+json": {
                            "schema": {
                                "fields": [
                                    {
                                        "name": "USERNEV"
                                    },
                                    {
                                        "name": "NEV"
                                    },
                                    {
                                        "name": "(No column name)"
                                    }
                                ]
                            },
                            "data": [
                                {
                                    "USERNEV": "adam1",
                                    "NEV": "Kiss Ádám",
                                    "(No column name)": "KM"
                                },
                                {
                                    "USERNEV": "adam4",
                                    "NEV": "Bieniek Ádám",
                                    "(No column name)": "BM"
                                },
                                {
                                    "USERNEV": "akos",
                                    "NEV": "Bíró Ákos",
                                    "(No column name)": "BS"
                                },
                                {
                                    "USERNEV": "aladar",
                                    "NEV": "Dunai Aladár",
                                    "(No column name)": "DR"
                                },
                                {
                                    "USERNEV": "alexandra",
                                    "NEV": "Bagóczki Alexandra",
                                    "(No column name)": "BA"
                                },
                                {
                                    "USERNEV": "andi",
                                    "NEV": "Maródi Andrea",
                                    "(No column name)": "MA"
                                },
                                {
                                    "USERNEV": "andras2",
                                    "NEV": "Tóth András",
                                    "(No column name)": "TS"
                                },
                                {
                                    "USERNEV": "andras21",
                                    "NEV": "Molnár András",
                                    "(No column name)": "MS"
                                },
                                {
                                    "USERNEV": "andras3",
                                    "NEV": "Vígh András",
                                    "(No column name)": "VS"
                                },
                                {
                                    "USERNEV": "ANDRASN",
                                    "NEV": "Nagy András",
                                    "(No column name)": "NS"
                                },
                                {
                                    "USERNEV": "andrea",
                                    "NEV": "Kiss Andrea",
                                    "(No column name)": "KA"
                                },
                                {
                                    "USERNEV": "anett3",
                                    "NEV": "Pivarcsi Anett",
                                    "(No column name)": "PT"
                                },
                                {
                                    "USERNEV": "anita",
                                    "NEV": "Hamvay-Kovács Anita",
                                    "(No column name)": "HA"
                                },
                                {
                                    "USERNEV": "annamaria1",
                                    "NEV": "Szűcs Annamária",
                                    "(No column name)": "SA"
                                },
                                {
                                    "USERNEV": "ARONK",
                                    "NEV": "Kelemen Áron",
                                    "(No column name)": "KN"
                                },
                                {
                                    "USERNEV": "arpad2",
                                    "NEV": "Ötvös Árpád",
                                    "(No column name)": "ÖD"
                                },
                                {
                                    "USERNEV": "ARPADH",
                                    "NEV": "Horváth Árpád",
                                    "(No column name)": "HD"
                                },
                                {
                                    "USERNEV": "ARPADM",
                                    "NEV": "Móricz Árpád",
                                    "(No column name)": "MD"
                                },
                                {
                                    "USERNEV": "attila1",
                                    "NEV": "Gulyás Attila",
                                    "(No column name)": "GA"
                                },
                                {
                                    "USERNEV": "attila4",
                                    "NEV": "Baróti Attila",
                                    "(No column name)": "BA"
                                },
                                {
                                    "USERNEV": "balazs1",
                                    "NEV": "Bozsik Balázs",
                                    "(No column name)": "BS"
                                },
                                {
                                    "USERNEV": "balazs2",
                                    "NEV": "Szűcs Balázs",
                                    "(No column name)": "SS"
                                },
                                {
                                    "USERNEV": "balu",
                                    "NEV": "Endresz Bálint",
                                    "(No column name)": "ET"
                                },
                                {
                                    "USERNEV": "beata4",
                                    "NEV": "Bagi Beáta",
                                    "(No column name)": "BA"
                                },
                                {
                                    "USERNEV": "BEATRIXK",
                                    "NEV": "Kerényi Beatrix",
                                    "(No column name)": "KX"
                                },
                                {
                                    "USERNEV": "BEATRIXS",
                                    "NEV": "Szekendi Beatrix",
                                    "(No column name)": "SX"
                                },
                                {
                                    "USERNEV": "BENCEB",
                                    "NEV": "Bajusz Bence",
                                    "(No column name)": "BE"
                                },
                                {
                                    "USERNEV": "bernadett2",
                                    "NEV": "Kovács Bernadett",
                                    "(No column name)": "KT"
                                },
                                {
                                    "USERNEV": "BERNADETTO",
                                    "NEV": "Orbán Bernadett",
                                    "(No column name)": "OT"
                                },
                                {
                                    "USERNEV": "brigitta",
                                    "NEV": "Székely Brigitta",
                                    "(No column name)": "SA"
                                },
                                {
                                    "USERNEV": "brigitta3",
                                    "NEV": "Pataki Brigitta",
                                    "(No column name)": "PA"
                                },
                                {
                                    "USERNEV": "csongor3",
                                    "NEV": "Nagymihály Csongor",
                                    "(No column name)": "NR"
                                },
                                {
                                    "USERNEV": "daniel",
                                    "NEV": "Rácz Dániel",
                                    "(No column name)": "RL"
                                },
                                {
                                    "USERNEV": "daniel1",
                                    "NEV": "Keszler Dániel",
                                    "(No column name)": "KL"
                                },
                                {
                                    "USERNEV": "debora",
                                    "NEV": "Barna Debóra",
                                    "(No column name)": "BA"
                                },
                                {
                                    "USERNEV": "dora3",
                                    "NEV": "Sarodi Dóra",
                                    "(No column name)": "SA"
                                },
                                {
                                    "USERNEV": "edit",
                                    "NEV": "Bittmann Edit",
                                    "(No column name)": "BT"
                                },
                                {
                                    "USERNEV": "emese",
                                    "NEV": "Kuruc Emese",
                                    "(No column name)": "KE"
                                },
                                {
                                    "USERNEV": "eszter",
                                    "NEV": "Molnár Eszter",
                                    "(No column name)": "MR"
                                },
                                {
                                    "USERNEV": "eszter2",
                                    "NEV": "Balogh Eszter",
                                    "(No column name)": "BR"
                                },
                                {
                                    "USERNEV": "eszter4",
                                    "NEV": "Fülöp Eszter",
                                    "(No column name)": "FR"
                                },
                                {
                                    "USERNEV": "ESZTERE",
                                    "NEV": "Érsek Eszter",
                                    "(No column name)": "ÉR"
                                },
                                {
                                    "USERNEV": "ferenc1",
                                    "NEV": "Orosz Ferenc",
                                    "(No column name)": "OC"
                                },
                                {
                                    "USERNEV": "gabor4",
                                    "NEV": "Telek Gábor",
                                    "(No column name)": "TR"
                                },
                                {
                                    "USERNEV": "georgij",
                                    "NEV": "Nyíri Georgij",
                                    "(No column name)": "NJ"
                                },
                                {
                                    "USERNEV": "GYONGYIK",
                                    "NEV": "Kornseé Gyöngyi",
                                    "(No column name)": "KI"
                                },
                                {
                                    "USERNEV": "henrik3",
                                    "NEV": "Nádudvari Henrik",
                                    "(No column name)": "NK"
                                },
                                {
                                    "USERNEV": "IBOLYAA",
                                    "NEV": "Andor Ibolya",
                                    "(No column name)": "AA"
                                },
                                {
                                    "USERNEV": "imre",
                                    "NEV": "Búza Imre",
                                    "(No column name)": "BE"
                                },
                                {
                                    "USERNEV": "imre1",
                                    "NEV": "Papp Imre",
                                    "(No column name)": "PE"
                                },
                                {
                                    "USERNEV": "istvan1",
                                    "NEV": "Vizi István",
                                    "(No column name)": "VN"
                                },
                                {
                                    "USERNEV": "jozsef2",
                                    "NEV": "Vajda József",
                                    "(No column name)": "VF"
                                },
                                {
                                    "USERNEV": "JOZSEFG",
                                    "NEV": "Gyuris József",
                                    "(No column name)": "GF"
                                },
                                {
                                    "USERNEV": "kata",
                                    "NEV": "Gondos Katalin",
                                    "(No column name)": "GN"
                                },
                                {
                                    "USERNEV": "katalin",
                                    "NEV": "Horváth Katalin",
                                    "(No column name)": "HN"
                                },
                                {
                                    "USERNEV": "kati",
                                    "NEV": "Zatykó Katalin",
                                    "(No column name)": "ZN"
                                },
                                {
                                    "USERNEV": "katka",
                                    "NEV": "Kovács Katalin",
                                    "(No column name)": "KN"
                                },
                                {
                                    "USERNEV": "klaudia2",
                                    "NEV": "Bakó Klaudia",
                                    "(No column name)": "BA"
                                },
                                {
                                    "USERNEV": "kornel4",
                                    "NEV": "Lukács Kornél",
                                    "(No column name)": "LL"
                                },
                                {
                                    "USERNEV": "krisztian4",
                                    "NEV": "Czérna Krisztián",
                                    "(No column name)": "CN"
                                },
                                {
                                    "USERNEV": "krisztina1",
                                    "NEV": "Bori Krisztina",
                                    "(No column name)": "BA"
                                },
                                {
                                    "USERNEV": "lajos",
                                    "NEV": "Kiss Lajos",
                                    "(No column name)": "KS"
                                },
                                {
                                    "USERNEV": "lala",
                                    "NEV": "Nagymihály Lajos",
                                    "(No column name)": "NS"
                                },
                                {
                                    "USERNEV": "laszlo1",
                                    "NEV": "Farkas László",
                                    "(No column name)": "FÓ"
                                },
                                {
                                    "USERNEV": "laszlo2",
                                    "NEV": "Móra László",
                                    "(No column name)": "MÓ"
                                },
                                {
                                    "USERNEV": "LASZLOA",
                                    "NEV": "Antal László",
                                    "(No column name)": "AÓ"
                                },
                                {
                                    "USERNEV": "LASZLON",
                                    "NEV": "Nagy László",
                                    "(No column name)": "NÓ"
                                },
                                {
                                    "USERNEV": "maria1",
                                    "NEV": "Baráth Mária",
                                    "(No column name)": "BA"
                                },
                                {
                                    "USERNEV": "mark",
                                    "NEV": "Kispál Márk",
                                    "(No column name)": "KK"
                                },
                                {
                                    "USERNEV": "MARKH",
                                    "NEV": "Horváth Márk",
                                    "(No column name)": "HK"
                                },
                                {
                                    "USERNEV": "MATEK",
                                    "NEV": "Koza Máté",
                                    "(No column name)": "KÉ"
                                },
                                {
                                    "USERNEV": "MATYASS",
                                    "NEV": "Szilágyi Mátyás",
                                    "(No column name)": "SS"
                                },
                                {
                                    "USERNEV": "MIHALYJ",
                                    "NEV": "Juhász Mihály",
                                    "(No column name)": "JY"
                                },
                                {
                                    "USERNEV": "MIKLOSB",
                                    "NEV": "Balla Miklós",
                                    "(No column name)": "BS"
                                },
                                {
                                    "USERNEV": "MONIKAM",
                                    "NEV": "Mohos Mónika",
                                    "(No column name)": "MA"
                                },
                                {
                                    "USERNEV": "NANDORF",
                                    "NEV": "Fő Nándor",
                                    "(No column name)": "FR"
                                },
                                {
                                    "USERNEV": "NIKOLETTAT",
                                    "NEV": "Tatár Nikoletta",
                                    "(No column name)": "TA"
                                },
                                {
                                    "USERNEV": "norbert2",
                                    "NEV": "Hegedűs Norbert",
                                    "(No column name)": "HT"
                                },
                                {
                                    "USERNEV": "pal",
                                    "NEV": "Barabás Pál",
                                    "(No column name)": "BL"
                                },
                                {
                                    "USERNEV": "peter4",
                                    "NEV": "Bíró Péter",
                                    "(No column name)": "BR"
                                },
                                {
                                    "USERNEV": "PETERB",
                                    "NEV": "Berendi Péter",
                                    "(No column name)": "BR"
                                },
                                {
                                    "USERNEV": "rajmond4",
                                    "NEV": "Rácz Rajmond",
                                    "(No column name)": "RD"
                                },
                                {
                                    "USERNEV": "reka4",
                                    "NEV": "Szikszai Réka",
                                    "(No column name)": "SA"
                                },
                                {
                                    "USERNEV": "RENATAK",
                                    "NEV": "Kardos Renáta",
                                    "(No column name)": "KA"
                                },
                                {
                                    "USERNEV": "ROBERTI",
                                    "NEV": "Iván Róbert",
                                    "(No column name)": "IT"
                                },
                                {
                                    "USERNEV": "roland1",
                                    "NEV": "Ferencz Roland",
                                    "(No column name)": "FD"
                                },
                                {
                                    "USERNEV": "sandor3",
                                    "NEV": "Farkas Sándor",
                                    "(No column name)": "FR"
                                },
                                {
                                    "USERNEV": "sara",
                                    "NEV": "Farkas Sára",
                                    "(No column name)": "FA"
                                },
                                {
                                    "USERNEV": "szabolcs",
                                    "NEV": "Bodor Szabolcs",
                                    "(No column name)": "BS"
                                },
                                {
                                    "USERNEV": "SZABOLCSM",
                                    "NEV": "Miklós Szabolcs",
                                    "(No column name)": "MS"
                                },
                                {
                                    "USERNEV": "SZILARDS",
                                    "NEV": "Szalai Szilárd",
                                    "(No column name)": "SD"
                                },
                                {
                                    "USERNEV": "szilvia1",
                                    "NEV": "Tari Szilvia",
                                    "(No column name)": "TA"
                                },
                                {
                                    "USERNEV": "tamara2",
                                    "NEV": "Miklós Tamara",
                                    "(No column name)": "MA"
                                },
                                {
                                    "USERNEV": "tamas",
                                    "NEV": "Antal Tamás",
                                    "(No column name)": "AS"
                                },
                                {
                                    "USERNEV": "tibor",
                                    "NEV": "Gombos Tibor",
                                    "(No column name)": "GR"
                                },
                                {
                                    "USERNEV": "tihamer",
                                    "NEV": "Kazy Tihamér",
                                    "(No column name)": "KR"
                                },
                                {
                                    "USERNEV": "timea2",
                                    "NEV": "Dusha Tímea",
                                    "(No column name)": "DA"
                                },
                                {
                                    "USERNEV": "valentin",
                                    "NEV": "Feró Valentin",
                                    "(No column name)": "FN"
                                },
                                {
                                    "USERNEV": "VIKTORIAU",
                                    "NEV": "Urbán Viktoria",
                                    "(No column name)": "UA"
                                },
                                {
                                    "USERNEV": "VIKTORK",
                                    "NEV": "Keresztúri Viktor",
                                    "(No column name)": "KR"
                                },
                                {
                                    "USERNEV": "zoltan",
                                    "NEV": "Fodor Zoltán",
                                    "(No column name)": "FN"
                                },
                                {
                                    "USERNEV": "ZOLTANP",
                                    "NEV": "Pintér Zoltán",
                                    "(No column name)": "PN"
                                },
                                {
                                    "USERNEV": "ZOLTANT",
                                    "NEV": "Tóth Zoltán",
                                    "(No column name)": "TN"
                                },
                                {
                                    "USERNEV": "zsolt1",
                                    "NEV": "Pulai Zsolt",
                                    "(No column name)": "PT"
                                },
                                {
                                    "USERNEV": "zsuzsa3",
                                    "NEV": "Varsányi Zsuzsa",
                                    "(No column name)": "VA"
                                },
                                {
                                    "USERNEV": "zsuzsanna",
                                    "NEV": "Barta Zsuzsanna",
                                    "(No column name)": "BA"
                                },
                                {
                                    "USERNEV": "ZSUZSAV",
                                    "NEV": "Vajda Zsuzsa",
                                    "(No column name)": "VA"
                                }
                            ]
                        },
                        "text/html": "<table><tr><th>USERNEV</th><th>NEV</th><th>(No column name)</th></tr><tr><td>adam1</td><td>Kiss Ádám</td><td>KM</td></tr><tr><td>adam4</td><td>Bieniek Ádám</td><td>BM</td></tr><tr><td>akos</td><td>Bíró Ákos</td><td>BS</td></tr><tr><td>aladar</td><td>Dunai Aladár</td><td>DR</td></tr><tr><td>alexandra</td><td>Bagóczki Alexandra</td><td>BA</td></tr><tr><td>andi</td><td>Maródi Andrea</td><td>MA</td></tr><tr><td>andras2</td><td>Tóth András</td><td>TS</td></tr><tr><td>andras21</td><td>Molnár András</td><td>MS</td></tr><tr><td>andras3</td><td>Vígh András</td><td>VS</td></tr><tr><td>ANDRASN</td><td>Nagy András</td><td>NS</td></tr><tr><td>andrea</td><td>Kiss Andrea</td><td>KA</td></tr><tr><td>anett3</td><td>Pivarcsi Anett</td><td>PT</td></tr><tr><td>anita</td><td>Hamvay-Kovács Anita</td><td>HA</td></tr><tr><td>annamaria1</td><td>Szűcs Annamária</td><td>SA</td></tr><tr><td>ARONK</td><td>Kelemen Áron</td><td>KN</td></tr><tr><td>arpad2</td><td>Ötvös Árpád</td><td>ÖD</td></tr><tr><td>ARPADH</td><td>Horváth Árpád</td><td>HD</td></tr><tr><td>ARPADM</td><td>Móricz Árpád</td><td>MD</td></tr><tr><td>attila1</td><td>Gulyás Attila</td><td>GA</td></tr><tr><td>attila4</td><td>Baróti Attila</td><td>BA</td></tr><tr><td>balazs1</td><td>Bozsik Balázs</td><td>BS</td></tr><tr><td>balazs2</td><td>Szűcs Balázs</td><td>SS</td></tr><tr><td>balu</td><td>Endresz Bálint</td><td>ET</td></tr><tr><td>beata4</td><td>Bagi Beáta</td><td>BA</td></tr><tr><td>BEATRIXK</td><td>Kerényi Beatrix</td><td>KX</td></tr><tr><td>BEATRIXS</td><td>Szekendi Beatrix</td><td>SX</td></tr><tr><td>BENCEB</td><td>Bajusz Bence</td><td>BE</td></tr><tr><td>bernadett2</td><td>Kovács Bernadett</td><td>KT</td></tr><tr><td>BERNADETTO</td><td>Orbán Bernadett</td><td>OT</td></tr><tr><td>brigitta</td><td>Székely Brigitta</td><td>SA</td></tr><tr><td>brigitta3</td><td>Pataki Brigitta</td><td>PA</td></tr><tr><td>csongor3</td><td>Nagymihály Csongor</td><td>NR</td></tr><tr><td>daniel</td><td>Rácz Dániel</td><td>RL</td></tr><tr><td>daniel1</td><td>Keszler Dániel</td><td>KL</td></tr><tr><td>debora</td><td>Barna Debóra</td><td>BA</td></tr><tr><td>dora3</td><td>Sarodi Dóra</td><td>SA</td></tr><tr><td>edit</td><td>Bittmann Edit</td><td>BT</td></tr><tr><td>emese</td><td>Kuruc Emese</td><td>KE</td></tr><tr><td>eszter</td><td>Molnár Eszter</td><td>MR</td></tr><tr><td>eszter2</td><td>Balogh Eszter</td><td>BR</td></tr><tr><td>eszter4</td><td>Fülöp Eszter</td><td>FR</td></tr><tr><td>ESZTERE</td><td>Érsek Eszter</td><td>ÉR</td></tr><tr><td>ferenc1</td><td>Orosz Ferenc</td><td>OC</td></tr><tr><td>gabor4</td><td>Telek Gábor</td><td>TR</td></tr><tr><td>georgij</td><td>Nyíri Georgij</td><td>NJ</td></tr><tr><td>GYONGYIK</td><td>Kornseé Gyöngyi</td><td>KI</td></tr><tr><td>henrik3</td><td>Nádudvari Henrik</td><td>NK</td></tr><tr><td>IBOLYAA</td><td>Andor Ibolya</td><td>AA</td></tr><tr><td>imre</td><td>Búza Imre</td><td>BE</td></tr><tr><td>imre1</td><td>Papp Imre</td><td>PE</td></tr><tr><td>istvan1</td><td>Vizi István</td><td>VN</td></tr><tr><td>jozsef2</td><td>Vajda József</td><td>VF</td></tr><tr><td>JOZSEFG</td><td>Gyuris József</td><td>GF</td></tr><tr><td>kata</td><td>Gondos Katalin</td><td>GN</td></tr><tr><td>katalin</td><td>Horváth Katalin</td><td>HN</td></tr><tr><td>kati</td><td>Zatykó Katalin</td><td>ZN</td></tr><tr><td>katka</td><td>Kovács Katalin</td><td>KN</td></tr><tr><td>klaudia2</td><td>Bakó Klaudia</td><td>BA</td></tr><tr><td>kornel4</td><td>Lukács Kornél</td><td>LL</td></tr><tr><td>krisztian4</td><td>Czérna Krisztián</td><td>CN</td></tr><tr><td>krisztina1</td><td>Bori Krisztina</td><td>BA</td></tr><tr><td>lajos</td><td>Kiss Lajos</td><td>KS</td></tr><tr><td>lala</td><td>Nagymihály Lajos</td><td>NS</td></tr><tr><td>laszlo1</td><td>Farkas László</td><td>FÓ</td></tr><tr><td>laszlo2</td><td>Móra László</td><td>MÓ</td></tr><tr><td>LASZLOA</td><td>Antal László</td><td>AÓ</td></tr><tr><td>LASZLON</td><td>Nagy László</td><td>NÓ</td></tr><tr><td>maria1</td><td>Baráth Mária</td><td>BA</td></tr><tr><td>mark</td><td>Kispál Márk</td><td>KK</td></tr><tr><td>MARKH</td><td>Horváth Márk</td><td>HK</td></tr><tr><td>MATEK</td><td>Koza Máté</td><td>KÉ</td></tr><tr><td>MATYASS</td><td>Szilágyi Mátyás</td><td>SS</td></tr><tr><td>MIHALYJ</td><td>Juhász Mihály</td><td>JY</td></tr><tr><td>MIKLOSB</td><td>Balla Miklós</td><td>BS</td></tr><tr><td>MONIKAM</td><td>Mohos Mónika</td><td>MA</td></tr><tr><td>NANDORF</td><td>Fő Nándor</td><td>FR</td></tr><tr><td>NIKOLETTAT</td><td>Tatár Nikoletta</td><td>TA</td></tr><tr><td>norbert2</td><td>Hegedűs Norbert</td><td>HT</td></tr><tr><td>pal</td><td>Barabás Pál</td><td>BL</td></tr><tr><td>peter4</td><td>Bíró Péter</td><td>BR</td></tr><tr><td>PETERB</td><td>Berendi Péter</td><td>BR</td></tr><tr><td>rajmond4</td><td>Rácz Rajmond</td><td>RD</td></tr><tr><td>reka4</td><td>Szikszai Réka</td><td>SA</td></tr><tr><td>RENATAK</td><td>Kardos Renáta</td><td>KA</td></tr><tr><td>ROBERTI</td><td>Iván Róbert</td><td>IT</td></tr><tr><td>roland1</td><td>Ferencz Roland</td><td>FD</td></tr><tr><td>sandor3</td><td>Farkas Sándor</td><td>FR</td></tr><tr><td>sara</td><td>Farkas Sára</td><td>FA</td></tr><tr><td>szabolcs</td><td>Bodor Szabolcs</td><td>BS</td></tr><tr><td>SZABOLCSM</td><td>Miklós Szabolcs</td><td>MS</td></tr><tr><td>SZILARDS</td><td>Szalai Szilárd</td><td>SD</td></tr><tr><td>szilvia1</td><td>Tari Szilvia</td><td>TA</td></tr><tr><td>tamara2</td><td>Miklós Tamara</td><td>MA</td></tr><tr><td>tamas</td><td>Antal Tamás</td><td>AS</td></tr><tr><td>tibor</td><td>Gombos Tibor</td><td>GR</td></tr><tr><td>tihamer</td><td>Kazy Tihamér</td><td>KR</td></tr><tr><td>timea2</td><td>Dusha Tímea</td><td>DA</td></tr><tr><td>valentin</td><td>Feró Valentin</td><td>FN</td></tr><tr><td>VIKTORIAU</td><td>Urbán Viktoria</td><td>UA</td></tr><tr><td>VIKTORK</td><td>Keresztúri Viktor</td><td>KR</td></tr><tr><td>zoltan</td><td>Fodor Zoltán</td><td>FN</td></tr><tr><td>ZOLTANP</td><td>Pintér Zoltán</td><td>PN</td></tr><tr><td>ZOLTANT</td><td>Tóth Zoltán</td><td>TN</td></tr><tr><td>zsolt1</td><td>Pulai Zsolt</td><td>PT</td></tr><tr><td>zsuzsa3</td><td>Varsányi Zsuzsa</td><td>VA</td></tr><tr><td>zsuzsanna</td><td>Barta Zsuzsanna</td><td>BA</td></tr><tr><td>ZSUZSAV</td><td>Vajda Zsuzsa</td><td>VA</td></tr></table>"
                    },
                    "metadata": {}
                }
            ],
            "execution_count": 6
        },
        {
            "cell_type": "code",
            "source": [
                "SELECT SZALLAS_ID, SZALLAS_NEV, HELY, DATEDIFF(DAY, ROGZ_IDO, GETDATE())\r\n",
                "FROM szallashely\r\n",
                "WHERE TIPUS NOT LIKE 'panzió' OR TIPUS NOT LIKE 'vendégház'\r\n",
                "-- TIPUS NOT IN ('panzio', 'vendegház')"
            ],
            "metadata": {
                "azdata_cell_guid": "40c5090b-a438-4d50-99f5-737a6592321e",
                "language": "sql",
                "tags": []
            },
            "outputs": [
                {
                    "output_type": "display_data",
                    "data": {
                        "text/html": "(21 rows affected)"
                    },
                    "metadata": {}
                },
                {
                    "output_type": "display_data",
                    "data": {
                        "text/html": "Total execution time: 00:00:00.019"
                    },
                    "metadata": {}
                },
                {
                    "output_type": "execute_result",
                    "metadata": {},
                    "execution_count": 3,
                    "data": {
                        "application/vnd.dataresource+json": {
                            "schema": {
                                "fields": [
                                    {
                                        "name": "SZALLAS_ID"
                                    },
                                    {
                                        "name": "SZALLAS_NEV"
                                    },
                                    {
                                        "name": "HELY"
                                    },
                                    {
                                        "name": "(No column name)"
                                    }
                                ]
                            },
                            "data": [
                                {
                                    "SZALLAS_ID": "1",
                                    "SZALLAS_NEV": "Sába-Ház",
                                    "HELY": "Balaton-dél",
                                    "(No column name)": "3285"
                                },
                                {
                                    "SZALLAS_ID": "2",
                                    "SZALLAS_NEV": "Családi Ház",
                                    "HELY": "Balaton-dél",
                                    "(No column name)": "3282"
                                },
                                {
                                    "SZALLAS_ID": "3",
                                    "SZALLAS_NEV": "Fortuna Apartman",
                                    "HELY": "Hajdúbihar megye",
                                    "(No column name)": "3278"
                                },
                                {
                                    "SZALLAS_ID": "4",
                                    "SZALLAS_NEV": "Fortuna panzió",
                                    "HELY": "Budapest",
                                    "(No column name)": "3277"
                                },
                                {
                                    "SZALLAS_ID": "5",
                                    "SZALLAS_NEV": "Fortuna Panzió",
                                    "HELY": "Békés megye",
                                    "(No column name)": "3276"
                                },
                                {
                                    "SZALLAS_ID": "6",
                                    "SZALLAS_NEV": "Kentaur Hotel",
                                    "HELY": "Balaton-dél",
                                    "(No column name)": "3276"
                                },
                                {
                                    "SZALLAS_ID": "7",
                                    "SZALLAS_NEV": "Szieszta Apartmanház",
                                    "HELY": "Balaton-dél",
                                    "(No column name)": "3273"
                                },
                                {
                                    "SZALLAS_ID": "8",
                                    "SZALLAS_NEV": "Hotel Három Hattyú",
                                    "HELY": "Balaton-dél",
                                    "(No column name)": "3271"
                                },
                                {
                                    "SZALLAS_ID": "9",
                                    "SZALLAS_NEV": "Jáde panzió",
                                    "HELY": "Balaton-dél",
                                    "(No column name)": "3268"
                                },
                                {
                                    "SZALLAS_ID": "10",
                                    "SZALLAS_NEV": "Lagúna Hotel",
                                    "HELY": "Budapest",
                                    "(No column name)": "3264"
                                },
                                {
                                    "SZALLAS_ID": "11",
                                    "SZALLAS_NEV": "Partiszél Vendégház",
                                    "HELY": "Balaton-észak",
                                    "(No column name)": "3262"
                                },
                                {
                                    "SZALLAS_ID": "12",
                                    "SZALLAS_NEV": "Gold Hotel",
                                    "HELY": "Budapest",
                                    "(No column name)": "3260"
                                },
                                {
                                    "SZALLAS_ID": "13",
                                    "SZALLAS_NEV": "Riviéra Panzió",
                                    "HELY": "Csongrád megye",
                                    "(No column name)": "3257"
                                },
                                {
                                    "SZALLAS_ID": "14",
                                    "SZALLAS_NEV": "Nyárfás Vendégház",
                                    "HELY": "Csongrád megye",
                                    "(No column name)": "3257"
                                },
                                {
                                    "SZALLAS_ID": "15",
                                    "SZALLAS_NEV": "Tímárház Panzió",
                                    "HELY": "Balaton-dél",
                                    "(No column name)": "3255"
                                },
                                {
                                    "SZALLAS_ID": "16",
                                    "SZALLAS_NEV": "Bagoly Hotel",
                                    "HELY": "Pest megye",
                                    "(No column name)": "3252"
                                },
                                {
                                    "SZALLAS_ID": "17",
                                    "SZALLAS_NEV": "Szarvas Hotel",
                                    "HELY": "Tolna megye",
                                    "(No column name)": "3249"
                                },
                                {
                                    "SZALLAS_ID": "18",
                                    "SZALLAS_NEV": "Fortuna Apartman",
                                    "HELY": "Dél-Somogy",
                                    "(No column name)": "3246"
                                },
                                {
                                    "SZALLAS_ID": "19",
                                    "SZALLAS_NEV": "Nyárfás Vendégház",
                                    "HELY": "Dél-Somogy",
                                    "(No column name)": "3246"
                                },
                                {
                                    "SZALLAS_ID": "20",
                                    "SZALLAS_NEV": "Kollégium",
                                    "HELY": "Budapest",
                                    "(No column name)": "3246"
                                },
                                {
                                    "SZALLAS_ID": "21",
                                    "SZALLAS_NEV": "Müller Vendégház",
                                    "HELY": "Dél-Somogy",
                                    "(No column name)": "3246"
                                }
                            ]
                        },
                        "text/html": [
                            "<table>",
                            "<tr><th>SZALLAS_ID</th><th>SZALLAS_NEV</th><th>HELY</th><th>(No column name)</th></tr>",
                            "<tr><td>1</td><td>Sába-Ház</td><td>Balaton-dél</td><td>3285</td></tr>",
                            "<tr><td>2</td><td>Családi Ház</td><td>Balaton-dél</td><td>3282</td></tr>",
                            "<tr><td>3</td><td>Fortuna Apartman</td><td>Hajdúbihar megye</td><td>3278</td></tr>",
                            "<tr><td>4</td><td>Fortuna panzió</td><td>Budapest</td><td>3277</td></tr>",
                            "<tr><td>5</td><td>Fortuna Panzió</td><td>Békés megye</td><td>3276</td></tr>",
                            "<tr><td>6</td><td>Kentaur Hotel</td><td>Balaton-dél</td><td>3276</td></tr>",
                            "<tr><td>7</td><td>Szieszta Apartmanház</td><td>Balaton-dél</td><td>3273</td></tr>",
                            "<tr><td>8</td><td>Hotel Három Hattyú</td><td>Balaton-dél</td><td>3271</td></tr>",
                            "<tr><td>9</td><td>Jáde panzió</td><td>Balaton-dél</td><td>3268</td></tr>",
                            "<tr><td>10</td><td>Lagúna Hotel</td><td>Budapest</td><td>3264</td></tr>",
                            "<tr><td>11</td><td>Partiszél Vendégház</td><td>Balaton-észak</td><td>3262</td></tr>",
                            "<tr><td>12</td><td>Gold Hotel</td><td>Budapest</td><td>3260</td></tr>",
                            "<tr><td>13</td><td>Riviéra Panzió</td><td>Csongrád megye</td><td>3257</td></tr>",
                            "<tr><td>14</td><td>Nyárfás Vendégház</td><td>Csongrád megye</td><td>3257</td></tr>",
                            "<tr><td>15</td><td>Tímárház Panzió</td><td>Balaton-dél</td><td>3255</td></tr>",
                            "<tr><td>16</td><td>Bagoly Hotel</td><td>Pest megye</td><td>3252</td></tr>",
                            "<tr><td>17</td><td>Szarvas Hotel</td><td>Tolna megye</td><td>3249</td></tr>",
                            "<tr><td>18</td><td>Fortuna Apartman</td><td>Dél-Somogy</td><td>3246</td></tr>",
                            "<tr><td>19</td><td>Nyárfás Vendégház</td><td>Dél-Somogy</td><td>3246</td></tr>",
                            "<tr><td>20</td><td>Kollégium</td><td>Budapest</td><td>3246</td></tr>",
                            "<tr><td>21</td><td>Müller Vendégház</td><td>Dél-Somogy</td><td>3246</td></tr>",
                            "</table>"
                        ]
                    }
                }
            ],
            "execution_count": 3
        }
    ]
}