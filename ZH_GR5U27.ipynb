{
    "metadata": {
        "kernelspec": {
            "name": "SQL",
            "display_name": "SQL",
            "language": "sql"
        },
        "language_info": {
            "name": "sql",
            "version": ""
        }
    },
    "nbformat_minor": 2,
    "nbformat": 4,
    "cells": [
        {
            "cell_type": "code",
            "source": [
                "-- 1. feladat\r\n",
                "SELECT szh.SZALLAS_ID, szh.SZALLAS_NEV,\r\n",
                "        SUM(CAST(sz.SZOBA_SZAMA AS numeric)) AS 'Klímás szobák száma'\r\n",
                "FROM Szallashely szh JOIN Szoba sz ON szh.SZALLAS_ID = sz.SZALLAS_FK\r\n",
                "WHERE KLIMAS = 'i'\r\n",
                "GROUP BY szh.SZALLAS_ID, szh.SZALLAS_NEV"
            ],
            "metadata": {
                "azdata_cell_guid": "5e4043ef-bd7b-468d-9a12-2894ad2661c2",
                "language": "sql",
                "tags": []
            },
            "outputs": [
                {
                    "output_type": "display_data",
                    "data": {
                        "text/html": "(20 rows affected)"
                    },
                    "metadata": {}
                },
                {
                    "output_type": "display_data",
                    "data": {
                        "text/html": "Total execution time: 00:00:00.010"
                    },
                    "metadata": {}
                },
                {
                    "output_type": "execute_result",
                    "metadata": {},
                    "execution_count": 62,
                    "data": {
                        "application/vnd.dataresource+json": {
                            "schema": {
                                "fields": [
                                    {
                                        "name": "SZALLAS_ID"
                                    },
                                    {
                                        "name": "SZALLAS_NEV"
                                    },
                                    {
                                        "name": "Klímás szobák száma"
                                    }
                                ]
                            },
                            "data": [
                                {
                                    "SZALLAS_ID": "1",
                                    "SZALLAS_NEV": "Sába-Ház",
                                    "Klímás szobák száma": "69"
                                },
                                {
                                    "SZALLAS_ID": "2",
                                    "SZALLAS_NEV": "Családi Ház",
                                    "Klímás szobák száma": "10"
                                },
                                {
                                    "SZALLAS_ID": "3",
                                    "SZALLAS_NEV": "Fortuna Apartman",
                                    "Klímás szobák száma": "21"
                                },
                                {
                                    "SZALLAS_ID": "4",
                                    "SZALLAS_NEV": "Fortuna panzió",
                                    "Klímás szobák száma": "111"
                                },
                                {
                                    "SZALLAS_ID": "5",
                                    "SZALLAS_NEV": "Fortuna Panzió",
                                    "Klímás szobák száma": "47"
                                },
                                {
                                    "SZALLAS_ID": "6",
                                    "SZALLAS_NEV": "Kentaur Hotel",
                                    "Klímás szobák száma": "423"
                                },
                                {
                                    "SZALLAS_ID": "7",
                                    "SZALLAS_NEV": "Szieszta Apartmanház",
                                    "Klímás szobák száma": "16"
                                },
                                {
                                    "SZALLAS_ID": "8",
                                    "SZALLAS_NEV": "Hotel Három Hattyú",
                                    "Klímás szobák száma": "601"
                                },
                                {
                                    "SZALLAS_ID": "9",
                                    "SZALLAS_NEV": "Jáde panzió",
                                    "Klímás szobák száma": "8"
                                },
                                {
                                    "SZALLAS_ID": "10",
                                    "SZALLAS_NEV": "Lagúna Hotel",
                                    "Klímás szobák száma": "169"
                                },
                                {
                                    "SZALLAS_ID": "11",
                                    "SZALLAS_NEV": "Partiszél Vendégház",
                                    "Klímás szobák száma": "12"
                                },
                                {
                                    "SZALLAS_ID": "12",
                                    "SZALLAS_NEV": "Gold Hotel",
                                    "Klímás szobák száma": "1069"
                                },
                                {
                                    "SZALLAS_ID": "13",
                                    "SZALLAS_NEV": "Riviéra Panzió",
                                    "Klímás szobák száma": "50"
                                },
                                {
                                    "SZALLAS_ID": "14",
                                    "SZALLAS_NEV": "Nyárfás Vendégház",
                                    "Klímás szobák száma": "10"
                                },
                                {
                                    "SZALLAS_ID": "15",
                                    "SZALLAS_NEV": "Tímárház Panzió",
                                    "Klímás szobák száma": "62"
                                },
                                {
                                    "SZALLAS_ID": "16",
                                    "SZALLAS_NEV": "Bagoly Hotel",
                                    "Klímás szobák száma": "134"
                                },
                                {
                                    "SZALLAS_ID": "17",
                                    "SZALLAS_NEV": "Szarvas Hotel",
                                    "Klímás szobák száma": "88"
                                },
                                {
                                    "SZALLAS_ID": "18",
                                    "SZALLAS_NEV": "Fortuna Apartman",
                                    "Klímás szobák száma": "3"
                                },
                                {
                                    "SZALLAS_ID": "19",
                                    "SZALLAS_NEV": "Nyárfás Vendégház",
                                    "Klímás szobák száma": "6"
                                },
                                {
                                    "SZALLAS_ID": "20",
                                    "SZALLAS_NEV": "Kollégium",
                                    "Klímás szobák száma": "52"
                                }
                            ]
                        },
                        "text/html": [
                            "<table>",
                            "<tr><th>SZALLAS_ID</th><th>SZALLAS_NEV</th><th>Klímás szobák száma</th></tr>",
                            "<tr><td>1</td><td>Sába-Ház</td><td>69</td></tr>",
                            "<tr><td>2</td><td>Családi Ház</td><td>10</td></tr>",
                            "<tr><td>3</td><td>Fortuna Apartman</td><td>21</td></tr>",
                            "<tr><td>4</td><td>Fortuna panzió</td><td>111</td></tr>",
                            "<tr><td>5</td><td>Fortuna Panzió</td><td>47</td></tr>",
                            "<tr><td>6</td><td>Kentaur Hotel</td><td>423</td></tr>",
                            "<tr><td>7</td><td>Szieszta Apartmanház</td><td>16</td></tr>",
                            "<tr><td>8</td><td>Hotel Három Hattyú</td><td>601</td></tr>",
                            "<tr><td>9</td><td>Jáde panzió</td><td>8</td></tr>",
                            "<tr><td>10</td><td>Lagúna Hotel</td><td>169</td></tr>",
                            "<tr><td>11</td><td>Partiszél Vendégház</td><td>12</td></tr>",
                            "<tr><td>12</td><td>Gold Hotel</td><td>1069</td></tr>",
                            "<tr><td>13</td><td>Riviéra Panzió</td><td>50</td></tr>",
                            "<tr><td>14</td><td>Nyárfás Vendégház</td><td>10</td></tr>",
                            "<tr><td>15</td><td>Tímárház Panzió</td><td>62</td></tr>",
                            "<tr><td>16</td><td>Bagoly Hotel</td><td>134</td></tr>",
                            "<tr><td>17</td><td>Szarvas Hotel</td><td>88</td></tr>",
                            "<tr><td>18</td><td>Fortuna Apartman</td><td>3</td></tr>",
                            "<tr><td>19</td><td>Nyárfás Vendégház</td><td>6</td></tr>",
                            "<tr><td>20</td><td>Kollégium</td><td>52</td></tr>",
                            "</table>"
                        ]
                    }
                }
            ],
            "execution_count": 62
        },
        {
            "cell_type": "code",
            "source": [
                "-- 2. feladat\r\n",
                "SELECT szh.SZALLAS_NEV, COUNT(f.FOGLALAS_PK) AS 'Foglalások száma'\r\n",
                "FROM Szallashely szh\r\n",
                "LEFT JOIN Foglalas f ON szh.SZALLAS_ID = f.SZOBA_FK\r\n",
                "GROUP BY szh.SZALLAS_ID, szh.SZALLAS_NEV\r\n",
                ""
            ],
            "metadata": {
                "azdata_cell_guid": "ea7309d4-44e5-40f2-b3c5-94a29bb1c2ad",
                "language": "sql",
                "tags": []
            },
            "outputs": [
                {
                    "output_type": "display_data",
                    "data": {
                        "text/html": "(21 rows affected)"
                    },
                    "metadata": {}
                },
                {
                    "output_type": "display_data",
                    "data": {
                        "text/html": "Total execution time: 00:00:00.015"
                    },
                    "metadata": {}
                },
                {
                    "output_type": "execute_result",
                    "metadata": {},
                    "execution_count": 67,
                    "data": {
                        "application/vnd.dataresource+json": {
                            "schema": {
                                "fields": [
                                    {
                                        "name": "SZALLAS_NEV"
                                    },
                                    {
                                        "name": "Foglalások száma"
                                    }
                                ]
                            },
                            "data": [
                                {
                                    "SZALLAS_NEV": "Sába-Ház",
                                    "Foglalások száma": "8"
                                },
                                {
                                    "SZALLAS_NEV": "Családi Ház",
                                    "Foglalások száma": "4"
                                },
                                {
                                    "SZALLAS_NEV": "Fortuna Apartman",
                                    "Foglalások száma": "8"
                                },
                                {
                                    "SZALLAS_NEV": "Fortuna panzió",
                                    "Foglalások száma": "6"
                                },
                                {
                                    "SZALLAS_NEV": "Fortuna Panzió",
                                    "Foglalások száma": "4"
                                },
                                {
                                    "SZALLAS_NEV": "Kentaur Hotel",
                                    "Foglalások száma": "6"
                                },
                                {
                                    "SZALLAS_NEV": "Szieszta Apartmanház",
                                    "Foglalások száma": "6"
                                },
                                {
                                    "SZALLAS_NEV": "Hotel Három Hattyú",
                                    "Foglalások száma": "5"
                                },
                                {
                                    "SZALLAS_NEV": "Jáde panzió",
                                    "Foglalások száma": "6"
                                },
                                {
                                    "SZALLAS_NEV": "Lagúna Hotel",
                                    "Foglalások száma": "4"
                                },
                                {
                                    "SZALLAS_NEV": "Partiszél Vendégház",
                                    "Foglalások száma": "4"
                                },
                                {
                                    "SZALLAS_NEV": "Gold Hotel",
                                    "Foglalások száma": "9"
                                },
                                {
                                    "SZALLAS_NEV": "Riviéra Panzió",
                                    "Foglalások száma": "4"
                                },
                                {
                                    "SZALLAS_NEV": "Nyárfás Vendégház",
                                    "Foglalások száma": "3"
                                },
                                {
                                    "SZALLAS_NEV": "Tímárház Panzió",
                                    "Foglalások száma": "6"
                                },
                                {
                                    "SZALLAS_NEV": "Bagoly Hotel",
                                    "Foglalások száma": "5"
                                },
                                {
                                    "SZALLAS_NEV": "Szarvas Hotel",
                                    "Foglalások száma": "6"
                                },
                                {
                                    "SZALLAS_NEV": "Fortuna Apartman",
                                    "Foglalások száma": "6"
                                },
                                {
                                    "SZALLAS_NEV": "Nyárfás Vendégház",
                                    "Foglalások száma": "6"
                                },
                                {
                                    "SZALLAS_NEV": "Kollégium",
                                    "Foglalások száma": "5"
                                },
                                {
                                    "SZALLAS_NEV": "Müller Vendégház",
                                    "Foglalások száma": "4"
                                }
                            ]
                        },
                        "text/html": [
                            "<table>",
                            "<tr><th>SZALLAS_NEV</th><th>Foglalások száma</th></tr>",
                            "<tr><td>Sába-Ház</td><td>8</td></tr>",
                            "<tr><td>Családi Ház</td><td>4</td></tr>",
                            "<tr><td>Fortuna Apartman</td><td>8</td></tr>",
                            "<tr><td>Fortuna panzió</td><td>6</td></tr>",
                            "<tr><td>Fortuna Panzió</td><td>4</td></tr>",
                            "<tr><td>Kentaur Hotel</td><td>6</td></tr>",
                            "<tr><td>Szieszta Apartmanház</td><td>6</td></tr>",
                            "<tr><td>Hotel Három Hattyú</td><td>5</td></tr>",
                            "<tr><td>Jáde panzió</td><td>6</td></tr>",
                            "<tr><td>Lagúna Hotel</td><td>4</td></tr>",
                            "<tr><td>Partiszél Vendégház</td><td>4</td></tr>",
                            "<tr><td>Gold Hotel</td><td>9</td></tr>",
                            "<tr><td>Riviéra Panzió</td><td>4</td></tr>",
                            "<tr><td>Nyárfás Vendégház</td><td>3</td></tr>",
                            "<tr><td>Tímárház Panzió</td><td>6</td></tr>",
                            "<tr><td>Bagoly Hotel</td><td>5</td></tr>",
                            "<tr><td>Szarvas Hotel</td><td>6</td></tr>",
                            "<tr><td>Fortuna Apartman</td><td>6</td></tr>",
                            "<tr><td>Nyárfás Vendégház</td><td>6</td></tr>",
                            "<tr><td>Kollégium</td><td>5</td></tr>",
                            "<tr><td>Müller Vendégház</td><td>4</td></tr>",
                            "</table>"
                        ]
                    }
                }
            ],
            "execution_count": 67
        }
    ]
}